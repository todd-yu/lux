{
 "cells": [
  {
   "cell_type": "code",
   "execution_count": 1,
   "id": "591d2638",
   "metadata": {},
   "outputs": [],
   "source": [
    "import lux #Comment and uncomment this line\n",
    "import pandas as pd\n",
    "\n",
    "# basic workflow:\n",
    "# import and ingest df; compute stats if applicable\n",
    "# inspect df/visualize\n",
    "# clean df: drop rows/columns\n",
    "# inspect df/visualize\n",
    "# add a new column, derived on previous columns\n",
    "# inspect df/visualize\n",
    "# clean df: drop columns\n",
    "# inspect df/visualize\n",
    "\n",
    "# OUT OF SCOPE FOR SIMPLE\n",
    "# run a transformation: groupby\n",
    "# inspect df/visualize"
   ]
  },
  {
   "cell_type": "code",
   "execution_count": 2,
   "id": "69a2ab52",
   "metadata": {},
   "outputs": [],
   "source": [
    "df = pd.read_csv(\"../lux/data/600k.csv\")"
   ]
  },
  {
   "cell_type": "code",
   "execution_count": 3,
   "id": "18b332f1",
   "metadata": {},
   "outputs": [
    {
     "name": "stdout",
     "output_type": "stream",
     "text": [
      "histograms computed!              id                                               name   host_id  \\\n",
      "0          2539                 Clean & quiet apt home by the park      2787   \n",
      "1          2595                              Skylit Midtown Castle      2845   \n",
      "2          3647                THE VILLAGE OF HARLEM....NEW YORK !      4632   \n",
      "3          3831                    Cozy Entire Floor of Brownstone      4869   \n",
      "4          5022   Entire Apt: Spacious Studio/Loft by central park      7192   \n",
      "...         ...                                                ...       ...   \n",
      "48890  36484665    Charming one bedroom - newly renovated rowhouse   8232441   \n",
      "48891  36485057      Affordable room in Bushwick/East Williamsburg   6570630   \n",
      "48892  36485431            Sunny Studio at Historical Neighborhood  23492952   \n",
      "48893  36485609               43rd St. Time Square-cozy single bed  30985759   \n",
      "48894  36487245  Trendy duplex in the very heart of Hell's Kitchen  68119814   \n",
      "\n",
      "           host_name neighbourhood_group       neighbourhood  latitude  \\\n",
      "0               John            Brooklyn          Kensington  40.64749   \n",
      "1           Jennifer           Manhattan             Midtown  40.75362   \n",
      "2          Elisabeth           Manhattan              Harlem  40.80902   \n",
      "3        LisaRoxanne            Brooklyn        Clinton Hill  40.68514   \n",
      "4              Laura           Manhattan         East Harlem  40.79851   \n",
      "...              ...                 ...                 ...       ...   \n",
      "48890        Sabrina            Brooklyn  Bedford-Stuyvesant  40.67853   \n",
      "48891        Marisol            Brooklyn            Bushwick  40.70184   \n",
      "48892  Ilgar & Aysel           Manhattan              Harlem  40.81475   \n",
      "48893            Taz           Manhattan      Hell's Kitchen  40.75751   \n",
      "48894     Christophe           Manhattan      Hell's Kitchen  40.76404   \n",
      "\n",
      "       longitude        room_type  price  minimum_nights  number_of_reviews  \\\n",
      "0      -73.97237     Private room    149               1                  9   \n",
      "1      -73.98377  Entire home/apt    225               1                 45   \n",
      "2      -73.94190     Private room    150               3                  0   \n",
      "3      -73.95976  Entire home/apt     89               1                270   \n",
      "4      -73.94399  Entire home/apt     80              10                  9   \n",
      "...          ...              ...    ...             ...                ...   \n",
      "48890  -73.94995     Private room     70               2                  0   \n",
      "48891  -73.93317     Private room     40               4                  0   \n",
      "48892  -73.94867  Entire home/apt    115              10                  0   \n",
      "48893  -73.99112      Shared room     55               1                  0   \n",
      "48894  -73.98933     Private room     90               7                  0   \n",
      "\n",
      "      last_review  reviews_per_month  calculated_host_listings_count  \\\n",
      "0      2018-10-19               0.21                               6   \n",
      "1      2019-05-21               0.38                               2   \n",
      "2             NaN                NaN                               1   \n",
      "3      2019-07-05               4.64                               1   \n",
      "4      2018-11-19               0.10                               1   \n",
      "...           ...                ...                             ...   \n",
      "48890         NaN                NaN                               2   \n",
      "48891         NaN                NaN                               2   \n",
      "48892         NaN                NaN                               1   \n",
      "48893         NaN                NaN                               6   \n",
      "48894         NaN                NaN                               1   \n",
      "\n",
      "       availability_365  \n",
      "0                   365  \n",
      "1                   355  \n",
      "2                   365  \n",
      "3                   194  \n",
      "4                     0  \n",
      "...                 ...  \n",
      "48890                 9  \n",
      "48891                36  \n",
      "48892                27  \n",
      "48893                 2  \n",
      "48894                23  \n",
      "\n",
      "[48895 rows x 16 columns]\n"
     ]
    },
    {
     "name": "stderr",
     "output_type": "stream",
     "text": [
      "/Users/toddyu/BerkeleyCS/research/lux/lux/executor/PandasExecutor.py:448: UserWarning:\n",
      "Lux detects that the attribute 'last_review' may be temporal.\n",
      "To display visualizations for these attributes accurately, please convert temporal attributes to Datetime objects.\n",
      "For example, you can convert a Year attribute (e.g., 1998, 1971, 1982) using pd.to_datetime by specifying the `format` as '%Y'.\n",
      "\n",
      "Here is a starter template that you can use for converting the temporal fields:\n",
      "\tdf['last_review'] = pd.to_datetime(df['last_review'], format='<replace-with-datetime-format>')\n",
      "\n",
      "See more at: https://pandas.pydata.org/pandas-docs/stable/reference/api/pandas.to_datetime.html\n",
      "If last_review is not a temporal attribute, please use override Lux's automatically detected type:\n",
      "\tdf.set_data_type({'last_review':'quantitative'})\n"
     ]
    },
    {
     "name": "stdout",
     "output_type": "stream",
     "text": [
      "histograms computed!       last_review (year)\n",
      "0             2018-01-01\n",
      "1             2019-01-01\n",
      "2                    NaT\n",
      "3             2019-01-01\n",
      "4             2018-01-01\n",
      "...                  ...\n",
      "48890                NaT\n",
      "48891                NaT\n",
      "48892                NaT\n",
      "48893                NaT\n",
      "48894                NaT\n",
      "\n",
      "[48895 rows x 1 columns]\n",
      "histograms computed!        last_review (month)\n",
      "0                     10.0\n",
      "1                      5.0\n",
      "2                      NaN\n",
      "3                      7.0\n",
      "4                     11.0\n",
      "...                    ...\n",
      "48890                  NaN\n",
      "48891                  NaN\n",
      "48892                  NaN\n",
      "48893                  NaN\n",
      "48894                  NaN\n",
      "\n",
      "[48895 rows x 1 columns]\n",
      "histograms computed!        last_review (day)\n",
      "0                   19.0\n",
      "1                   21.0\n",
      "2                    NaN\n",
      "3                    5.0\n",
      "4                   19.0\n",
      "...                  ...\n",
      "48890                NaN\n",
      "48891                NaN\n",
      "48892                NaN\n",
      "48893                NaN\n",
      "48894                NaN\n",
      "\n",
      "[48895 rows x 1 columns]\n",
      "histograms computed!        last_review (day of week)\n",
      "0                            4.0\n",
      "1                            1.0\n",
      "2                            NaN\n",
      "3                            4.0\n",
      "4                            0.0\n",
      "...                          ...\n",
      "48890                        NaN\n",
      "48891                        NaN\n",
      "48892                        NaN\n",
      "48893                        NaN\n",
      "48894                        NaN\n",
      "\n",
      "[48895 rows x 1 columns]\n"
     ]
    },
    {
     "name": "stderr",
     "output_type": "stream",
     "text": [
      "/Users/toddyu/BerkeleyCS/research/lux/.venv/lib/python3.10/site-packages/altair/utils/core.py:317: FutureWarning:iteritems is deprecated and will be removed in a future version. Use .items instead.\n",
      "/Users/toddyu/BerkeleyCS/research/lux/.venv/lib/python3.10/site-packages/altair/utils/core.py:317: FutureWarning:iteritems is deprecated and will be removed in a future version. Use .items instead.\n",
      "/Users/toddyu/BerkeleyCS/research/lux/.venv/lib/python3.10/site-packages/altair/utils/core.py:317: FutureWarning:iteritems is deprecated and will be removed in a future version. Use .items instead.\n",
      "/Users/toddyu/BerkeleyCS/research/lux/.venv/lib/python3.10/site-packages/altair/utils/core.py:317: FutureWarning:iteritems is deprecated and will be removed in a future version. Use .items instead.\n",
      "/Users/toddyu/BerkeleyCS/research/lux/.venv/lib/python3.10/site-packages/altair/utils/core.py:317: FutureWarning:iteritems is deprecated and will be removed in a future version. Use .items instead.\n",
      "/Users/toddyu/BerkeleyCS/research/lux/.venv/lib/python3.10/site-packages/altair/utils/core.py:317: FutureWarning:iteritems is deprecated and will be removed in a future version. Use .items instead.\n",
      "/Users/toddyu/BerkeleyCS/research/lux/.venv/lib/python3.10/site-packages/altair/utils/core.py:317: FutureWarning:iteritems is deprecated and will be removed in a future version. Use .items instead.\n",
      "/Users/toddyu/BerkeleyCS/research/lux/.venv/lib/python3.10/site-packages/altair/utils/core.py:317: FutureWarning:iteritems is deprecated and will be removed in a future version. Use .items instead.\n",
      "/Users/toddyu/BerkeleyCS/research/lux/.venv/lib/python3.10/site-packages/altair/utils/core.py:317: FutureWarning:iteritems is deprecated and will be removed in a future version. Use .items instead.\n",
      "/Users/toddyu/BerkeleyCS/research/lux/.venv/lib/python3.10/site-packages/altair/utils/core.py:317: FutureWarning:iteritems is deprecated and will be removed in a future version. Use .items instead.\n",
      "/Users/toddyu/BerkeleyCS/research/lux/.venv/lib/python3.10/site-packages/altair/utils/core.py:317: FutureWarning:iteritems is deprecated and will be removed in a future version. Use .items instead.\n",
      "/Users/toddyu/BerkeleyCS/research/lux/.venv/lib/python3.10/site-packages/altair/utils/core.py:317: FutureWarning:iteritems is deprecated and will be removed in a future version. Use .items instead.\n",
      "/Users/toddyu/BerkeleyCS/research/lux/.venv/lib/python3.10/site-packages/altair/utils/core.py:317: FutureWarning:iteritems is deprecated and will be removed in a future version. Use .items instead.\n",
      "/Users/toddyu/BerkeleyCS/research/lux/.venv/lib/python3.10/site-packages/altair/utils/core.py:317: FutureWarning:iteritems is deprecated and will be removed in a future version. Use .items instead.\n",
      "/Users/toddyu/BerkeleyCS/research/lux/.venv/lib/python3.10/site-packages/altair/utils/core.py:317: FutureWarning:iteritems is deprecated and will be removed in a future version. Use .items instead.\n",
      "/Users/toddyu/BerkeleyCS/research/lux/.venv/lib/python3.10/site-packages/altair/utils/core.py:317: FutureWarning:iteritems is deprecated and will be removed in a future version. Use .items instead.\n",
      "/Users/toddyu/BerkeleyCS/research/lux/.venv/lib/python3.10/site-packages/altair/utils/core.py:317: FutureWarning:iteritems is deprecated and will be removed in a future version. Use .items instead.\n",
      "/Users/toddyu/BerkeleyCS/research/lux/.venv/lib/python3.10/site-packages/altair/utils/core.py:317: FutureWarning:iteritems is deprecated and will be removed in a future version. Use .items instead.\n",
      "/Users/toddyu/BerkeleyCS/research/lux/.venv/lib/python3.10/site-packages/altair/utils/core.py:317: FutureWarning:iteritems is deprecated and will be removed in a future version. Use .items instead.\n",
      "/Users/toddyu/BerkeleyCS/research/lux/.venv/lib/python3.10/site-packages/altair/utils/core.py:317: FutureWarning:iteritems is deprecated and will be removed in a future version. Use .items instead.\n",
      "/Users/toddyu/BerkeleyCS/research/lux/.venv/lib/python3.10/site-packages/altair/utils/core.py:317: FutureWarning:iteritems is deprecated and will be removed in a future version. Use .items instead.\n",
      "/Users/toddyu/BerkeleyCS/research/lux/.venv/lib/python3.10/site-packages/altair/utils/core.py:317: FutureWarning:iteritems is deprecated and will be removed in a future version. Use .items instead.\n",
      "/Users/toddyu/BerkeleyCS/research/lux/.venv/lib/python3.10/site-packages/altair/utils/core.py:317: FutureWarning:iteritems is deprecated and will be removed in a future version. Use .items instead.\n",
      "/Users/toddyu/BerkeleyCS/research/lux/.venv/lib/python3.10/site-packages/altair/utils/core.py:317: FutureWarning:iteritems is deprecated and will be removed in a future version. Use .items instead.\n",
      "/Users/toddyu/BerkeleyCS/research/lux/.venv/lib/python3.10/site-packages/altair/utils/core.py:317: FutureWarning:iteritems is deprecated and will be removed in a future version. Use .items instead.\n",
      "/Users/toddyu/BerkeleyCS/research/lux/.venv/lib/python3.10/site-packages/altair/utils/core.py:317: FutureWarning:iteritems is deprecated and will be removed in a future version. Use .items instead.\n",
      "/Users/toddyu/BerkeleyCS/research/lux/.venv/lib/python3.10/site-packages/altair/utils/core.py:317: FutureWarning:iteritems is deprecated and will be removed in a future version. Use .items instead.\n",
      "/Users/toddyu/BerkeleyCS/research/lux/.venv/lib/python3.10/site-packages/altair/utils/core.py:317: FutureWarning:iteritems is deprecated and will be removed in a future version. Use .items instead.\n",
      "/Users/toddyu/BerkeleyCS/research/lux/.venv/lib/python3.10/site-packages/altair/utils/core.py:317: FutureWarning:iteritems is deprecated and will be removed in a future version. Use .items instead.\n",
      "/Users/toddyu/BerkeleyCS/research/lux/.venv/lib/python3.10/site-packages/altair/utils/core.py:317: FutureWarning:iteritems is deprecated and will be removed in a future version. Use .items instead.\n",
      "/Users/toddyu/BerkeleyCS/research/lux/.venv/lib/python3.10/site-packages/altair/utils/core.py:317: FutureWarning:iteritems is deprecated and will be removed in a future version. Use .items instead.\n",
      "/Users/toddyu/BerkeleyCS/research/lux/.venv/lib/python3.10/site-packages/altair/utils/core.py:317: FutureWarning:iteritems is deprecated and will be removed in a future version. Use .items instead.\n",
      "/Users/toddyu/BerkeleyCS/research/lux/.venv/lib/python3.10/site-packages/altair/utils/core.py:317: FutureWarning:iteritems is deprecated and will be removed in a future version. Use .items instead.\n",
      "/Users/toddyu/BerkeleyCS/research/lux/.venv/lib/python3.10/site-packages/altair/utils/core.py:317: FutureWarning:iteritems is deprecated and will be removed in a future version. Use .items instead.\n",
      "/Users/toddyu/BerkeleyCS/research/lux/.venv/lib/python3.10/site-packages/altair/utils/core.py:317: FutureWarning:iteritems is deprecated and will be removed in a future version. Use .items instead.\n"
     ]
    },
    {
     "data": {
      "application/vnd.jupyter.widget-view+json": {
       "model_id": "4bf71a46878d4f53a8545a612da666f9",
       "version_major": 2,
       "version_minor": 0
      },
      "text/plain": [
       "Button(description='Toggle Pandas/Lux', layout=Layout(top='5px', width='140px'), style=ButtonStyle())"
      ]
     },
     "metadata": {},
     "output_type": "display_data"
    },
    {
     "data": {
      "application/vnd.jupyter.widget-view+json": {
       "model_id": "e20b809c400d4a3aa762e2eaf89c065f",
       "version_major": 2,
       "version_minor": 0
      },
      "text/plain": [
       "Output()"
      ]
     },
     "metadata": {},
     "output_type": "display_data"
    }
   ],
   "source": [
    "# inspect/visualize\n",
    "df"
   ]
  },
  {
   "cell_type": "code",
   "execution_count": 4,
   "id": "a2ee7ab9",
   "metadata": {},
   "outputs": [],
   "source": [
    "# drop rows\n",
    "df.drop(0, inplace=True)\n",
    "df.drop(1, inplace=True)\n",
    "df.drop(2, inplace=True)"
   ]
  },
  {
   "cell_type": "code",
   "execution_count": 5,
   "id": "39b36393",
   "metadata": {
    "scrolled": false
   },
   "outputs": [
    {
     "data": {
      "text/plain": [
       "(48892, 16)"
      ]
     },
     "execution_count": 5,
     "metadata": {},
     "output_type": "execute_result"
    }
   ],
   "source": [
    "df.shape"
   ]
  },
  {
   "cell_type": "code",
   "execution_count": 6,
   "id": "dfd96b12",
   "metadata": {},
   "outputs": [
    {
     "name": "stderr",
     "output_type": "stream",
     "text": [
      "/Users/toddyu/BerkeleyCS/research/lux/lux/executor/PandasExecutor.py:448: UserWarning:\n",
      "Lux detects that the attribute 'last_review' may be temporal.\n",
      "To display visualizations for these attributes accurately, please convert temporal attributes to Datetime objects.\n",
      "For example, you can convert a Year attribute (e.g., 1998, 1971, 1982) using pd.to_datetime by specifying the `format` as '%Y'.\n",
      "\n",
      "Here is a starter template that you can use for converting the temporal fields:\n",
      "\tdf['last_review'] = pd.to_datetime(df['last_review'], format='<replace-with-datetime-format>')\n",
      "\n",
      "See more at: https://pandas.pydata.org/pandas-docs/stable/reference/api/pandas.to_datetime.html\n",
      "If last_review is not a temporal attribute, please use override Lux's automatically detected type:\n",
      "\tdf.set_data_type({'last_review':'quantitative'})\n"
     ]
    },
    {
     "name": "stdout",
     "output_type": "stream",
     "text": [
      "histograms computed!       last_review (year)\n",
      "3             2019-01-01\n",
      "4             2018-01-01\n",
      "5             2019-01-01\n",
      "6             2017-01-01\n",
      "7             2019-01-01\n",
      "...                  ...\n",
      "48890                NaT\n",
      "48891                NaT\n",
      "48892                NaT\n",
      "48893                NaT\n",
      "48894                NaT\n",
      "\n",
      "[48892 rows x 1 columns]\n",
      "histograms computed!        last_review (month)\n",
      "3                      7.0\n",
      "4                     11.0\n",
      "5                      6.0\n",
      "6                     10.0\n",
      "7                      6.0\n",
      "...                    ...\n",
      "48890                  NaN\n",
      "48891                  NaN\n",
      "48892                  NaN\n",
      "48893                  NaN\n",
      "48894                  NaN\n",
      "\n",
      "[48892 rows x 1 columns]\n",
      "histograms computed!        last_review (day)\n",
      "3                    5.0\n",
      "4                   19.0\n",
      "5                   22.0\n",
      "6                    5.0\n",
      "7                   24.0\n",
      "...                  ...\n",
      "48890                NaN\n",
      "48891                NaN\n",
      "48892                NaN\n",
      "48893                NaN\n",
      "48894                NaN\n",
      "\n",
      "[48892 rows x 1 columns]\n",
      "histograms computed!        last_review (day of week)\n",
      "3                            4.0\n",
      "4                            0.0\n",
      "5                            5.0\n",
      "6                            3.0\n",
      "7                            0.0\n",
      "...                          ...\n",
      "48890                        NaN\n",
      "48891                        NaN\n",
      "48892                        NaN\n",
      "48893                        NaN\n",
      "48894                        NaN\n",
      "\n",
      "[48892 rows x 1 columns]\n"
     ]
    },
    {
     "name": "stderr",
     "output_type": "stream",
     "text": [
      "/Users/toddyu/BerkeleyCS/research/lux/.venv/lib/python3.10/site-packages/altair/utils/core.py:317: FutureWarning:iteritems is deprecated and will be removed in a future version. Use .items instead.\n",
      "/Users/toddyu/BerkeleyCS/research/lux/.venv/lib/python3.10/site-packages/altair/utils/core.py:317: FutureWarning:iteritems is deprecated and will be removed in a future version. Use .items instead.\n",
      "/Users/toddyu/BerkeleyCS/research/lux/.venv/lib/python3.10/site-packages/altair/utils/core.py:317: FutureWarning:iteritems is deprecated and will be removed in a future version. Use .items instead.\n",
      "/Users/toddyu/BerkeleyCS/research/lux/.venv/lib/python3.10/site-packages/altair/utils/core.py:317: FutureWarning:iteritems is deprecated and will be removed in a future version. Use .items instead.\n",
      "/Users/toddyu/BerkeleyCS/research/lux/.venv/lib/python3.10/site-packages/altair/utils/core.py:317: FutureWarning:iteritems is deprecated and will be removed in a future version. Use .items instead.\n",
      "/Users/toddyu/BerkeleyCS/research/lux/.venv/lib/python3.10/site-packages/altair/utils/core.py:317: FutureWarning:iteritems is deprecated and will be removed in a future version. Use .items instead.\n",
      "/Users/toddyu/BerkeleyCS/research/lux/.venv/lib/python3.10/site-packages/altair/utils/core.py:317: FutureWarning:iteritems is deprecated and will be removed in a future version. Use .items instead.\n",
      "/Users/toddyu/BerkeleyCS/research/lux/.venv/lib/python3.10/site-packages/altair/utils/core.py:317: FutureWarning:iteritems is deprecated and will be removed in a future version. Use .items instead.\n",
      "/Users/toddyu/BerkeleyCS/research/lux/.venv/lib/python3.10/site-packages/altair/utils/core.py:317: FutureWarning:iteritems is deprecated and will be removed in a future version. Use .items instead.\n",
      "/Users/toddyu/BerkeleyCS/research/lux/.venv/lib/python3.10/site-packages/altair/utils/core.py:317: FutureWarning:iteritems is deprecated and will be removed in a future version. Use .items instead.\n",
      "/Users/toddyu/BerkeleyCS/research/lux/.venv/lib/python3.10/site-packages/altair/utils/core.py:317: FutureWarning:iteritems is deprecated and will be removed in a future version. Use .items instead.\n",
      "/Users/toddyu/BerkeleyCS/research/lux/.venv/lib/python3.10/site-packages/altair/utils/core.py:317: FutureWarning:iteritems is deprecated and will be removed in a future version. Use .items instead.\n",
      "/Users/toddyu/BerkeleyCS/research/lux/.venv/lib/python3.10/site-packages/altair/utils/core.py:317: FutureWarning:iteritems is deprecated and will be removed in a future version. Use .items instead.\n",
      "/Users/toddyu/BerkeleyCS/research/lux/.venv/lib/python3.10/site-packages/altair/utils/core.py:317: FutureWarning:iteritems is deprecated and will be removed in a future version. Use .items instead.\n",
      "/Users/toddyu/BerkeleyCS/research/lux/.venv/lib/python3.10/site-packages/altair/utils/core.py:317: FutureWarning:iteritems is deprecated and will be removed in a future version. Use .items instead.\n",
      "/Users/toddyu/BerkeleyCS/research/lux/.venv/lib/python3.10/site-packages/altair/utils/core.py:317: FutureWarning:iteritems is deprecated and will be removed in a future version. Use .items instead.\n",
      "/Users/toddyu/BerkeleyCS/research/lux/.venv/lib/python3.10/site-packages/altair/utils/core.py:317: FutureWarning:iteritems is deprecated and will be removed in a future version. Use .items instead.\n",
      "/Users/toddyu/BerkeleyCS/research/lux/.venv/lib/python3.10/site-packages/altair/utils/core.py:317: FutureWarning:iteritems is deprecated and will be removed in a future version. Use .items instead.\n",
      "/Users/toddyu/BerkeleyCS/research/lux/.venv/lib/python3.10/site-packages/altair/utils/core.py:317: FutureWarning:iteritems is deprecated and will be removed in a future version. Use .items instead.\n",
      "/Users/toddyu/BerkeleyCS/research/lux/.venv/lib/python3.10/site-packages/altair/utils/core.py:317: FutureWarning:iteritems is deprecated and will be removed in a future version. Use .items instead.\n",
      "/Users/toddyu/BerkeleyCS/research/lux/.venv/lib/python3.10/site-packages/altair/utils/core.py:317: FutureWarning:iteritems is deprecated and will be removed in a future version. Use .items instead.\n",
      "/Users/toddyu/BerkeleyCS/research/lux/.venv/lib/python3.10/site-packages/altair/utils/core.py:317: FutureWarning:iteritems is deprecated and will be removed in a future version. Use .items instead.\n",
      "/Users/toddyu/BerkeleyCS/research/lux/.venv/lib/python3.10/site-packages/altair/utils/core.py:317: FutureWarning:iteritems is deprecated and will be removed in a future version. Use .items instead.\n",
      "/Users/toddyu/BerkeleyCS/research/lux/.venv/lib/python3.10/site-packages/altair/utils/core.py:317: FutureWarning:iteritems is deprecated and will be removed in a future version. Use .items instead.\n",
      "/Users/toddyu/BerkeleyCS/research/lux/.venv/lib/python3.10/site-packages/altair/utils/core.py:317: FutureWarning:iteritems is deprecated and will be removed in a future version. Use .items instead.\n",
      "/Users/toddyu/BerkeleyCS/research/lux/.venv/lib/python3.10/site-packages/altair/utils/core.py:317: FutureWarning:iteritems is deprecated and will be removed in a future version. Use .items instead.\n",
      "/Users/toddyu/BerkeleyCS/research/lux/.venv/lib/python3.10/site-packages/altair/utils/core.py:317: FutureWarning:iteritems is deprecated and will be removed in a future version. Use .items instead.\n",
      "/Users/toddyu/BerkeleyCS/research/lux/.venv/lib/python3.10/site-packages/altair/utils/core.py:317: FutureWarning:iteritems is deprecated and will be removed in a future version. Use .items instead.\n",
      "/Users/toddyu/BerkeleyCS/research/lux/.venv/lib/python3.10/site-packages/altair/utils/core.py:317: FutureWarning:iteritems is deprecated and will be removed in a future version. Use .items instead.\n",
      "/Users/toddyu/BerkeleyCS/research/lux/.venv/lib/python3.10/site-packages/altair/utils/core.py:317: FutureWarning:iteritems is deprecated and will be removed in a future version. Use .items instead.\n",
      "/Users/toddyu/BerkeleyCS/research/lux/.venv/lib/python3.10/site-packages/altair/utils/core.py:317: FutureWarning:iteritems is deprecated and will be removed in a future version. Use .items instead.\n",
      "/Users/toddyu/BerkeleyCS/research/lux/.venv/lib/python3.10/site-packages/altair/utils/core.py:317: FutureWarning:iteritems is deprecated and will be removed in a future version. Use .items instead.\n",
      "/Users/toddyu/BerkeleyCS/research/lux/.venv/lib/python3.10/site-packages/altair/utils/core.py:317: FutureWarning:iteritems is deprecated and will be removed in a future version. Use .items instead.\n",
      "/Users/toddyu/BerkeleyCS/research/lux/.venv/lib/python3.10/site-packages/altair/utils/core.py:317: FutureWarning:iteritems is deprecated and will be removed in a future version. Use .items instead.\n",
      "/Users/toddyu/BerkeleyCS/research/lux/.venv/lib/python3.10/site-packages/altair/utils/core.py:317: FutureWarning:iteritems is deprecated and will be removed in a future version. Use .items instead.\n"
     ]
    },
    {
     "data": {
      "application/vnd.jupyter.widget-view+json": {
       "model_id": "b79d66a538a344fcbdcbe316c6026d87",
       "version_major": 2,
       "version_minor": 0
      },
      "text/plain": [
       "Button(description='Toggle Pandas/Lux', layout=Layout(top='5px', width='140px'), style=ButtonStyle())"
      ]
     },
     "metadata": {},
     "output_type": "display_data"
    },
    {
     "data": {
      "application/vnd.jupyter.widget-view+json": {
       "model_id": "105302348d504b76a486f8b8fcad43e6",
       "version_major": 2,
       "version_minor": 0
      },
      "text/plain": [
       "Output()"
      ]
     },
     "metadata": {},
     "output_type": "display_data"
    }
   ],
   "source": [
    "# inspect/visualize\n",
    "df"
   ]
  },
  {
   "cell_type": "code",
   "execution_count": null,
   "id": "a379e6c9",
   "metadata": {},
   "outputs": [],
   "source": [
    "# add column\n",
    "df[\"new_col\"] = df[\"availability_365\"] - df[\"calculated_host_listings_count\"]"
   ]
  },
  {
   "cell_type": "code",
   "execution_count": null,
   "id": "3512bc01",
   "metadata": {},
   "outputs": [],
   "source": [
    "# inspect/visualize\n",
    "df"
   ]
  },
  {
   "cell_type": "code",
   "execution_count": null,
   "id": "d8f16ab1",
   "metadata": {},
   "outputs": [],
   "source": [
    "# drop columns\n",
    "df.drop(columns=[\"name\"], inplace=True)"
   ]
  },
  {
   "cell_type": "code",
   "execution_count": null,
   "id": "cef993e7",
   "metadata": {},
   "outputs": [],
   "source": [
    "# inspect/visualize\n",
    "df"
   ]
  }
 ],
 "metadata": {
  "kernelspec": {
   "display_name": "Python 3.10.2 ('.venv': venv)",
   "language": "python",
   "name": "python3"
  },
  "language_info": {
   "codemirror_mode": {
    "name": "ipython",
    "version": 3
   },
   "file_extension": ".py",
   "mimetype": "text/x-python",
   "name": "python",
   "nbconvert_exporter": "python",
   "pygments_lexer": "ipython3",
   "version": "3.10.2"
  },
  "vscode": {
   "interpreter": {
    "hash": "9abf464567954982e450a8057f2783f5d9aaaa1dee92366b63610895533426a1"
   }
  }
 },
 "nbformat": 4,
 "nbformat_minor": 5
}
