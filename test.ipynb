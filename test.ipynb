{
 "cells": [
  {
   "cell_type": "code",
   "execution_count": 1,
   "id": "92145997-3f2f-42cb-8817-5c82dee88780",
   "metadata": {},
   "outputs": [],
   "source": [
    "import lux\n",
    "import pandas as pd\n",
    "import numpy as np"
   ]
  },
  {
   "cell_type": "code",
   "execution_count": 2,
   "id": "acb6cece",
   "metadata": {},
   "outputs": [],
   "source": [
    "lux.config.sampling_cap = 1000000000\n",
    "lux.config.sampling_start = 10000000\n",
    "lux.config.sampling = False\n",
    "lux.config.topk = 50 # Important as otherwise pandas executor is bypassed\n",
    "\n",
    "# Lux has a lot of deprecation warnings\n",
    "import warnings\n",
    "#warnings.filterwarnings('ignore')"
   ]
  },
  {
   "cell_type": "code",
   "execution_count": 3,
   "id": "0d7f5b81",
   "metadata": {},
   "outputs": [
    {
     "name": "stdout",
     "output_type": "stream",
     "text": [
      "1294000\n"
     ]
    }
   ],
   "source": [
    "# df = pd.read_csv(\"https://raw.githubusercontent.com/lux-org/lux-datasets/master/data/college.csv\")\n",
    "# # df[\"country\"] = np.array([str(np.random.choice([\"001\", \"004\", \"003\"])) for _ in range(len(df))])\n",
    "# # df[\"country\"] = df[\"country\"].astype(pd.StringDtype())\n",
    "# df[\"state\"] = [np.random.choice([\"california\", \"new york\", \"new jersey\", \"georgia\", \"texas\", \"maine\", \"louisiana\",\"washington\", \"oregon\"]) for _ in range(len(df))]\n",
    "# df.to_csv(\"/Users/rithvik/Downloads/college_with_geo_small.csv\", index=False)\n",
    "# df = pd.read_csv(\"/Users/rithvik/Downloads/college_with_geo_small.csv\")\n",
    "\n",
    "\n",
    "# newdf = pd.DataFrame(np.repeat(df.values, 1000, axis=0))\n",
    "# newdf.columns = df.columns\n",
    "# df = newdf\n",
    "# df.to_csv(\"/Users/rithvik/Downloads/college_with_geo.csv\", index=False)\n",
    "#\n",
    "\n",
    "df = pd.read_csv(\"/Users/rithvik/Downloads/college_with_geo.csv\")\n",
    "\n",
    "# # df[\"country\"] = df[\"country\"].astype(pd.StringDtype())\n",
    "# df[\"state\"] = [np.random.choice([\"california\", \"new york\", \"new jersey\", \"georgia\", \"texas\", \"maine\", \"louisiana\",\"washington\", \"oregon\"]) for _ in range(len(df))]\n",
    "\n",
    "\n",
    "print(len(df))"
   ]
  },
  {
   "cell_type": "code",
   "execution_count": null,
   "id": "f2907507",
   "metadata": {
    "scrolled": true
   },
   "outputs": [],
   "source": [
    "df"
   ]
  },
  {
   "cell_type": "code",
   "execution_count": 5,
   "id": "2593299c",
   "metadata": {
    "scrolled": true
   },
   "outputs": [
    {
     "name": "stdout",
     "output_type": "stream",
     "text": [
      "before 2d binning\n",
      "cut 0.04202604293823242\n",
      "cut 0.04405713081359863\n",
      "Heatmap executed in 1.384385108947754\n",
      "Total time: 1.420469045639038\n",
      "Total accesses: 2, VisList length: 1\n",
      "Hit rate: 0.0\n",
      "before 2d binning\n",
      "Heatmap executed in 1.4891619682312012\n",
      "before 2d binning\n",
      "Heatmap executed in 1.629607915878296\n",
      "before 2d binning\n",
      "Heatmap executed in 1.480949878692627\n",
      "before 2d binning\n",
      "Heatmap executed in 1.4890859127044678\n",
      "before 2d binning\n",
      "Heatmap executed in 1.223762035369873\n",
      "before 2d binning\n",
      "Heatmap executed in 1.2873640060424805\n",
      "before 2d binning\n",
      "Heatmap executed in 1.2624008655548096\n",
      "before 2d binning\n",
      "Heatmap executed in 1.6715803146362305\n",
      "before 2d binning\n",
      "Heatmap executed in 1.4294800758361816\n",
      "before 2d binning\n",
      "Heatmap executed in 1.5626139640808105\n",
      "before 2d binning\n",
      "Heatmap executed in 1.5191800594329834\n",
      "before 2d binning\n",
      "Heatmap executed in 1.5999412536621094\n",
      "before 2d binning\n",
      "Heatmap executed in 1.8970119953155518\n",
      "before 2d binning\n",
      "Heatmap executed in 1.686824083328247\n",
      "before 2d binning\n",
      "Heatmap executed in 1.622506856918335\n",
      "Total time: 23.37413501739502\n",
      "Total accesses: 32, VisList length: 15\n",
      "Hit rate: 0.9375\n",
      "Total time: 0.3491537570953369\n",
      "Total accesses: 32, VisList length: 59\n",
      "Hit rate: 0.9375\n",
      "Total time: 0.30932021141052246\n",
      "Total accesses: 32, VisList length: 59\n",
      "Hit rate: 0.9375\n",
      "Total time: 0.9543519020080566\n",
      "Total accesses: 32, VisList length: 2\n",
      "Hit rate: 0.9375\n",
      "before 2d binning\n",
      "Heatmap executed in 0.9516041278839111\n",
      "Total time: 0.9721331596374512\n",
      "Total accesses: 34, VisList length: 1\n",
      "Hit rate: 0.9411764705882353\n"
     ]
    },
    {
     "name": "stderr",
     "output_type": "stream",
     "text": [
      "/Users/rithvik/dev/cs262/lux/.venv/lib/python3.9/site-packages/altair/utils/core.py:317: FutureWarning:iteritems is deprecated and will be removed in a future version. Use .items instead.\n"
     ]
    },
    {
     "name": "stdout",
     "output_type": "stream",
     "text": [
      "cut 0.0029239654541015625\n",
      "cut 0.003058910369873047\n",
      "cut 0.0034689903259277344\n",
      "cut 0.003010988235473633\n"
     ]
    },
    {
     "name": "stderr",
     "output_type": "stream",
     "text": [
      "/Users/rithvik/dev/cs262/lux/.venv/lib/python3.9/site-packages/altair/utils/core.py:317: FutureWarning:iteritems is deprecated and will be removed in a future version. Use .items instead.\n",
      "/Users/rithvik/dev/cs262/lux/.venv/lib/python3.9/site-packages/altair/utils/core.py:317: FutureWarning:iteritems is deprecated and will be removed in a future version. Use .items instead.\n"
     ]
    },
    {
     "name": "stdout",
     "output_type": "stream",
     "text": [
      "cut 0.0035457611083984375\n",
      "cut 0.003553152084350586\n",
      "cut 0.003415822982788086\n",
      "cut 0.003919839859008789\n"
     ]
    },
    {
     "name": "stderr",
     "output_type": "stream",
     "text": [
      "/Users/rithvik/dev/cs262/lux/.venv/lib/python3.9/site-packages/altair/utils/core.py:317: FutureWarning:iteritems is deprecated and will be removed in a future version. Use .items instead.\n",
      "/Users/rithvik/dev/cs262/lux/.venv/lib/python3.9/site-packages/altair/utils/core.py:317: FutureWarning:iteritems is deprecated and will be removed in a future version. Use .items instead.\n"
     ]
    },
    {
     "name": "stdout",
     "output_type": "stream",
     "text": [
      "cut 0.0029916763305664062\n",
      "cut 0.0038650035858154297\n",
      "cut 0.0032808780670166016\n",
      "cut 0.003720998764038086\n"
     ]
    },
    {
     "name": "stderr",
     "output_type": "stream",
     "text": [
      "/Users/rithvik/dev/cs262/lux/.venv/lib/python3.9/site-packages/altair/utils/core.py:317: FutureWarning:iteritems is deprecated and will be removed in a future version. Use .items instead.\n",
      "/Users/rithvik/dev/cs262/lux/.venv/lib/python3.9/site-packages/altair/utils/core.py:317: FutureWarning:iteritems is deprecated and will be removed in a future version. Use .items instead.\n"
     ]
    },
    {
     "name": "stdout",
     "output_type": "stream",
     "text": [
      "cut 0.004478931427001953\n",
      "cut 0.0030350685119628906\n",
      "cut 0.003728151321411133\n",
      "cut 0.003170013427734375\n"
     ]
    },
    {
     "name": "stderr",
     "output_type": "stream",
     "text": [
      "/Users/rithvik/dev/cs262/lux/.venv/lib/python3.9/site-packages/altair/utils/core.py:317: FutureWarning:iteritems is deprecated and will be removed in a future version. Use .items instead.\n",
      "/Users/rithvik/dev/cs262/lux/.venv/lib/python3.9/site-packages/altair/utils/core.py:317: FutureWarning:iteritems is deprecated and will be removed in a future version. Use .items instead.\n"
     ]
    },
    {
     "name": "stdout",
     "output_type": "stream",
     "text": [
      "cut 0.003156900405883789\n",
      "cut 0.0031070709228515625\n",
      "cut 0.003344297409057617\n",
      "cut 0.0034890174865722656\n"
     ]
    },
    {
     "name": "stderr",
     "output_type": "stream",
     "text": [
      "/Users/rithvik/dev/cs262/lux/.venv/lib/python3.9/site-packages/altair/utils/core.py:317: FutureWarning:iteritems is deprecated and will be removed in a future version. Use .items instead.\n",
      "/Users/rithvik/dev/cs262/lux/.venv/lib/python3.9/site-packages/altair/utils/core.py:317: FutureWarning:iteritems is deprecated and will be removed in a future version. Use .items instead.\n"
     ]
    },
    {
     "name": "stdout",
     "output_type": "stream",
     "text": [
      "cut 0.0036649703979492188\n",
      "cut 0.0030667781829833984\n",
      "cut 0.0039272308349609375\n",
      "cut 0.003880739212036133\n"
     ]
    },
    {
     "name": "stderr",
     "output_type": "stream",
     "text": [
      "/Users/rithvik/dev/cs262/lux/.venv/lib/python3.9/site-packages/altair/utils/core.py:317: FutureWarning:iteritems is deprecated and will be removed in a future version. Use .items instead.\n",
      "/Users/rithvik/dev/cs262/lux/.venv/lib/python3.9/site-packages/altair/utils/core.py:317: FutureWarning:iteritems is deprecated and will be removed in a future version. Use .items instead.\n"
     ]
    },
    {
     "name": "stdout",
     "output_type": "stream",
     "text": [
      "cut 0.0032448768615722656\n",
      "cut 0.004166126251220703\n",
      "cut 0.003610849380493164\n",
      "cut 0.003033876419067383\n"
     ]
    },
    {
     "name": "stderr",
     "output_type": "stream",
     "text": [
      "/Users/rithvik/dev/cs262/lux/.venv/lib/python3.9/site-packages/altair/utils/core.py:317: FutureWarning:iteritems is deprecated and will be removed in a future version. Use .items instead.\n",
      "/Users/rithvik/dev/cs262/lux/.venv/lib/python3.9/site-packages/altair/utils/core.py:317: FutureWarning:iteritems is deprecated and will be removed in a future version. Use .items instead.\n"
     ]
    },
    {
     "name": "stdout",
     "output_type": "stream",
     "text": [
      "cut 0.0047760009765625\n",
      "cut 0.004900932312011719\n",
      "cut 0.005217075347900391\n",
      "cut 0.0045430660247802734\n"
     ]
    },
    {
     "name": "stderr",
     "output_type": "stream",
     "text": [
      "/Users/rithvik/dev/cs262/lux/.venv/lib/python3.9/site-packages/altair/utils/core.py:317: FutureWarning:iteritems is deprecated and will be removed in a future version. Use .items instead.\n",
      "/Users/rithvik/dev/cs262/lux/.venv/lib/python3.9/site-packages/altair/utils/core.py:317: FutureWarning:iteritems is deprecated and will be removed in a future version. Use .items instead.\n"
     ]
    },
    {
     "name": "stdout",
     "output_type": "stream",
     "text": [
      "cut 0.003949165344238281\n",
      "cut 0.0033979415893554688\n",
      "cut 0.0030007362365722656\n",
      "cut 0.0039653778076171875\n"
     ]
    },
    {
     "name": "stderr",
     "output_type": "stream",
     "text": [
      "/Users/rithvik/dev/cs262/lux/.venv/lib/python3.9/site-packages/altair/utils/core.py:317: FutureWarning:iteritems is deprecated and will be removed in a future version. Use .items instead.\n",
      "/Users/rithvik/dev/cs262/lux/.venv/lib/python3.9/site-packages/altair/utils/core.py:317: FutureWarning:iteritems is deprecated and will be removed in a future version. Use .items instead.\n"
     ]
    },
    {
     "name": "stdout",
     "output_type": "stream",
     "text": [
      "cut 0.006680965423583984\n",
      "cut 0.009821176528930664\n"
     ]
    },
    {
     "name": "stderr",
     "output_type": "stream",
     "text": [
      "/Users/rithvik/dev/cs262/lux/.venv/lib/python3.9/site-packages/altair/utils/core.py:317: FutureWarning:iteritems is deprecated and will be removed in a future version. Use .items instead.\n"
     ]
    },
    {
     "name": "stdout",
     "output_type": "stream",
     "text": [
      "cut 0.005606174468994141\n",
      "cut 0.006361961364746094\n"
     ]
    },
    {
     "name": "stderr",
     "output_type": "stream",
     "text": [
      "/Users/rithvik/dev/cs262/lux/.venv/lib/python3.9/site-packages/altair/utils/core.py:317: FutureWarning:iteritems is deprecated and will be removed in a future version. Use .items instead.\n",
      "/Users/rithvik/dev/cs262/lux/.venv/lib/python3.9/site-packages/altair/utils/core.py:317: FutureWarning:iteritems is deprecated and will be removed in a future version. Use .items instead.\n"
     ]
    },
    {
     "name": "stdout",
     "output_type": "stream",
     "text": [
      "cut 0.004609823226928711\n",
      "cut 0.005003213882446289\n",
      "cut 0.004456043243408203\n",
      "cut 0.0034618377685546875\n"
     ]
    },
    {
     "name": "stderr",
     "output_type": "stream",
     "text": [
      "/Users/rithvik/dev/cs262/lux/.venv/lib/python3.9/site-packages/altair/utils/core.py:317: FutureWarning:iteritems is deprecated and will be removed in a future version. Use .items instead.\n"
     ]
    },
    {
     "name": "stdout",
     "output_type": "stream",
     "text": [
      "cut 0.0055811405181884766\n",
      "cut 0.0060579776763916016\n"
     ]
    },
    {
     "name": "stderr",
     "output_type": "stream",
     "text": [
      "/Users/rithvik/dev/cs262/lux/.venv/lib/python3.9/site-packages/altair/utils/core.py:317: FutureWarning:iteritems is deprecated and will be removed in a future version. Use .items instead.\n"
     ]
    },
    {
     "name": "stdout",
     "output_type": "stream",
     "text": [
      "cut 0.0058460235595703125\n",
      "cut 0.005911827087402344\n"
     ]
    },
    {
     "name": "stderr",
     "output_type": "stream",
     "text": [
      "/Users/rithvik/dev/cs262/lux/.venv/lib/python3.9/site-packages/altair/utils/core.py:317: FutureWarning:iteritems is deprecated and will be removed in a future version. Use .items instead.\n",
      "/Users/rithvik/dev/cs262/lux/.venv/lib/python3.9/site-packages/altair/utils/core.py:317: FutureWarning:iteritems is deprecated and will be removed in a future version. Use .items instead.\n"
     ]
    },
    {
     "name": "stdout",
     "output_type": "stream",
     "text": [
      "cut 0.007951974868774414\n",
      "cut 0.004196882247924805\n",
      "cut 0.005482912063598633\n",
      "cut 0.004897117614746094\n"
     ]
    },
    {
     "name": "stderr",
     "output_type": "stream",
     "text": [
      "/Users/rithvik/dev/cs262/lux/.venv/lib/python3.9/site-packages/altair/utils/core.py:317: FutureWarning:iteritems is deprecated and will be removed in a future version. Use .items instead.\n"
     ]
    },
    {
     "name": "stdout",
     "output_type": "stream",
     "text": [
      "cut 0.005912065505981445\n",
      "cut 0.00821828842163086\n"
     ]
    },
    {
     "name": "stderr",
     "output_type": "stream",
     "text": [
      "/Users/rithvik/dev/cs262/lux/.venv/lib/python3.9/site-packages/altair/utils/core.py:317: FutureWarning:iteritems is deprecated and will be removed in a future version. Use .items instead.\n"
     ]
    },
    {
     "name": "stdout",
     "output_type": "stream",
     "text": [
      "cut 0.0030968189239501953\n",
      "cut 0.0053250789642333984\n"
     ]
    },
    {
     "name": "stderr",
     "output_type": "stream",
     "text": [
      "/Users/rithvik/dev/cs262/lux/.venv/lib/python3.9/site-packages/altair/utils/core.py:317: FutureWarning:iteritems is deprecated and will be removed in a future version. Use .items instead.\n",
      "/Users/rithvik/dev/cs262/lux/.venv/lib/python3.9/site-packages/altair/utils/core.py:317: FutureWarning:iteritems is deprecated and will be removed in a future version. Use .items instead.\n"
     ]
    },
    {
     "name": "stdout",
     "output_type": "stream",
     "text": [
      "cut 0.0067310333251953125\n",
      "cut 0.006803035736083984\n",
      "cut 0.003635883331298828\n",
      "cut 0.005814075469970703\n"
     ]
    },
    {
     "name": "stderr",
     "output_type": "stream",
     "text": [
      "/Users/rithvik/dev/cs262/lux/.venv/lib/python3.9/site-packages/altair/utils/core.py:317: FutureWarning:iteritems is deprecated and will be removed in a future version. Use .items instead.\n",
      "/Users/rithvik/dev/cs262/lux/.venv/lib/python3.9/site-packages/altair/utils/core.py:317: FutureWarning:iteritems is deprecated and will be removed in a future version. Use .items instead.\n"
     ]
    },
    {
     "name": "stdout",
     "output_type": "stream",
     "text": [
      "cut 0.00446009635925293\n",
      "cut 0.0031387805938720703\n",
      "cut 0.0038301944732666016\n",
      "cut 0.00454401969909668\n"
     ]
    },
    {
     "name": "stderr",
     "output_type": "stream",
     "text": [
      "/Users/rithvik/dev/cs262/lux/.venv/lib/python3.9/site-packages/altair/utils/core.py:317: FutureWarning:iteritems is deprecated and will be removed in a future version. Use .items instead.\n",
      "/Users/rithvik/dev/cs262/lux/.venv/lib/python3.9/site-packages/altair/utils/core.py:317: FutureWarning:iteritems is deprecated and will be removed in a future version. Use .items instead.\n"
     ]
    },
    {
     "name": "stdout",
     "output_type": "stream",
     "text": [
      "cut 0.004110813140869141\n",
      "cut 0.0045490264892578125\n",
      "cut 0.003777027130126953\n",
      "cut 0.003423929214477539\n"
     ]
    },
    {
     "name": "stderr",
     "output_type": "stream",
     "text": [
      "/Users/rithvik/dev/cs262/lux/.venv/lib/python3.9/site-packages/altair/utils/core.py:317: FutureWarning:iteritems is deprecated and will be removed in a future version. Use .items instead.\n",
      "/Users/rithvik/dev/cs262/lux/.venv/lib/python3.9/site-packages/altair/utils/core.py:317: FutureWarning:iteritems is deprecated and will be removed in a future version. Use .items instead.\n"
     ]
    },
    {
     "name": "stdout",
     "output_type": "stream",
     "text": [
      "cut 0.0033388137817382812\n",
      "cut 0.004204988479614258\n",
      "cut 0.0028908252716064453\n",
      "cut 0.0029718875885009766\n"
     ]
    },
    {
     "name": "stderr",
     "output_type": "stream",
     "text": [
      "/Users/rithvik/dev/cs262/lux/.venv/lib/python3.9/site-packages/altair/utils/core.py:317: FutureWarning:iteritems is deprecated and will be removed in a future version. Use .items instead.\n",
      "/Users/rithvik/dev/cs262/lux/.venv/lib/python3.9/site-packages/altair/utils/core.py:317: FutureWarning:iteritems is deprecated and will be removed in a future version. Use .items instead.\n"
     ]
    },
    {
     "name": "stdout",
     "output_type": "stream",
     "text": [
      "cut 0.003736734390258789\n",
      "cut 0.0031418800354003906\n",
      "cut 0.0034301280975341797\n",
      "cut 0.0030679702758789062\n"
     ]
    },
    {
     "name": "stderr",
     "output_type": "stream",
     "text": [
      "/Users/rithvik/dev/cs262/lux/.venv/lib/python3.9/site-packages/altair/utils/core.py:317: FutureWarning:iteritems is deprecated and will be removed in a future version. Use .items instead.\n",
      "/Users/rithvik/dev/cs262/lux/.venv/lib/python3.9/site-packages/altair/utils/core.py:317: FutureWarning:iteritems is deprecated and will be removed in a future version. Use .items instead.\n"
     ]
    },
    {
     "name": "stdout",
     "output_type": "stream",
     "text": [
      "cut 0.003019094467163086\n",
      "cut 0.0039517879486083984\n",
      "cut 0.003409862518310547\n",
      "cut 0.0031890869140625\n"
     ]
    },
    {
     "name": "stderr",
     "output_type": "stream",
     "text": [
      "/Users/rithvik/dev/cs262/lux/.venv/lib/python3.9/site-packages/altair/utils/core.py:317: FutureWarning:iteritems is deprecated and will be removed in a future version. Use .items instead.\n",
      "/Users/rithvik/dev/cs262/lux/.venv/lib/python3.9/site-packages/altair/utils/core.py:317: FutureWarning:iteritems is deprecated and will be removed in a future version. Use .items instead.\n"
     ]
    },
    {
     "name": "stdout",
     "output_type": "stream",
     "text": [
      "cut 0.0032110214233398438\n",
      "cut 0.0033979415893554688\n",
      "cut 0.003512144088745117\n",
      "cut 0.0034792423248291016\n"
     ]
    },
    {
     "name": "stderr",
     "output_type": "stream",
     "text": [
      "/Users/rithvik/dev/cs262/lux/.venv/lib/python3.9/site-packages/altair/utils/core.py:317: FutureWarning:iteritems is deprecated and will be removed in a future version. Use .items instead.\n",
      "/Users/rithvik/dev/cs262/lux/.venv/lib/python3.9/site-packages/altair/utils/core.py:317: FutureWarning:iteritems is deprecated and will be removed in a future version. Use .items instead.\n"
     ]
    },
    {
     "name": "stdout",
     "output_type": "stream",
     "text": [
      "cut 0.005299091339111328\n",
      "cut 0.0037610530853271484\n",
      "cut 0.003412008285522461\n",
      "cut 0.003289937973022461\n"
     ]
    },
    {
     "name": "stderr",
     "output_type": "stream",
     "text": [
      "/Users/rithvik/dev/cs262/lux/.venv/lib/python3.9/site-packages/altair/utils/core.py:317: FutureWarning:iteritems is deprecated and will be removed in a future version. Use .items instead.\n",
      "/Users/rithvik/dev/cs262/lux/.venv/lib/python3.9/site-packages/altair/utils/core.py:317: FutureWarning:iteritems is deprecated and will be removed in a future version. Use .items instead.\n"
     ]
    },
    {
     "name": "stdout",
     "output_type": "stream",
     "text": [
      "cut 0.004498958587646484\n",
      "cut 0.0028901100158691406\n",
      "cut 0.003384828567504883\n",
      "cut 0.0035991668701171875\n"
     ]
    },
    {
     "name": "stderr",
     "output_type": "stream",
     "text": [
      "/Users/rithvik/dev/cs262/lux/.venv/lib/python3.9/site-packages/altair/utils/core.py:317: FutureWarning:iteritems is deprecated and will be removed in a future version. Use .items instead.\n",
      "/Users/rithvik/dev/cs262/lux/.venv/lib/python3.9/site-packages/altair/utils/core.py:317: FutureWarning:iteritems is deprecated and will be removed in a future version. Use .items instead.\n"
     ]
    },
    {
     "name": "stdout",
     "output_type": "stream",
     "text": [
      "cut 0.0029909610748291016\n",
      "cut 0.003389120101928711\n",
      "cut 0.003936767578125\n",
      "cut 0.004071950912475586\n"
     ]
    },
    {
     "name": "stderr",
     "output_type": "stream",
     "text": [
      "/Users/rithvik/dev/cs262/lux/.venv/lib/python3.9/site-packages/altair/utils/core.py:317: FutureWarning:iteritems is deprecated and will be removed in a future version. Use .items instead.\n",
      "/Users/rithvik/dev/cs262/lux/.venv/lib/python3.9/site-packages/altair/utils/core.py:317: FutureWarning:iteritems is deprecated and will be removed in a future version. Use .items instead.\n"
     ]
    },
    {
     "name": "stdout",
     "output_type": "stream",
     "text": [
      "cut 0.003659963607788086\n",
      "cut 0.007011890411376953\n",
      "cut 0.0040760040283203125\n",
      "cut 0.0034558773040771484\n"
     ]
    },
    {
     "name": "stderr",
     "output_type": "stream",
     "text": [
      "/Users/rithvik/dev/cs262/lux/.venv/lib/python3.9/site-packages/altair/utils/core.py:317: FutureWarning:iteritems is deprecated and will be removed in a future version. Use .items instead.\n",
      "/Users/rithvik/dev/cs262/lux/.venv/lib/python3.9/site-packages/altair/utils/core.py:317: FutureWarning:iteritems is deprecated and will be removed in a future version. Use .items instead.\n",
      "/Users/rithvik/dev/cs262/lux/.venv/lib/python3.9/site-packages/altair/utils/core.py:317: FutureWarning:iteritems is deprecated and will be removed in a future version. Use .items instead.\n"
     ]
    },
    {
     "data": {
      "application/vnd.jupyter.widget-view+json": {
       "model_id": "cee519372e8b4f4a82c9af06ad4d910a",
       "version_major": 2,
       "version_minor": 0
      },
      "text/plain": [
       "Button(description='Toggle Pandas/Lux', layout=Layout(top='5px', width='140px'), style=ButtonStyle())"
      ]
     },
     "metadata": {},
     "output_type": "display_data"
    },
    {
     "data": {
      "application/vnd.jupyter.widget-view+json": {
       "model_id": "1293244c3ed6448897dfc73d0347c16a",
       "version_major": 2,
       "version_minor": 0
      },
      "text/plain": [
       "Output()"
      ]
     },
     "metadata": {},
     "output_type": "display_data"
    }
   ],
   "source": [
    "df.intent=[\"MedianEarnings\", \"SATAverage\"]\n",
    "df"
   ]
  },
  {
   "cell_type": "code",
   "execution_count": 4,
   "id": "2dabcc76",
   "metadata": {
    "scrolled": true
   },
   "outputs": [
    {
     "ename": "KeyboardInterrupt",
     "evalue": "",
     "output_type": "error",
     "traceback": [
      "\u001b[0;31m---------------------------------------------------------------------------\u001b[0m",
      "\u001b[0;31mKeyboardInterrupt\u001b[0m                         Traceback (most recent call last)",
      "Cell \u001b[0;32mIn [4], line 3\u001b[0m\n\u001b[1;32m      1\u001b[0m \u001b[38;5;66;03m# df.intent=[\"MedianEarnings\", \"SATAverage\"]\u001b[39;00m\n\u001b[1;32m      2\u001b[0m \u001b[38;5;66;03m# df.intent = [\"MedianEarnings\", \"state\"]\u001b[39;00m\n\u001b[0;32m----> 3\u001b[0m df\n",
      "File \u001b[0;32m~/dev/cs262/lux/.venv/lib/python3.9/site-packages/IPython/core/displayhook.py:262\u001b[0m, in \u001b[0;36mDisplayHook.__call__\u001b[0;34m(self, result)\u001b[0m\n\u001b[1;32m    260\u001b[0m \u001b[38;5;28mself\u001b[39m\u001b[38;5;241m.\u001b[39mstart_displayhook()\n\u001b[1;32m    261\u001b[0m \u001b[38;5;28mself\u001b[39m\u001b[38;5;241m.\u001b[39mwrite_output_prompt()\n\u001b[0;32m--> 262\u001b[0m format_dict, md_dict \u001b[38;5;241m=\u001b[39m \u001b[38;5;28;43mself\u001b[39;49m\u001b[38;5;241;43m.\u001b[39;49m\u001b[43mcompute_format_data\u001b[49m\u001b[43m(\u001b[49m\u001b[43mresult\u001b[49m\u001b[43m)\u001b[49m\n\u001b[1;32m    263\u001b[0m \u001b[38;5;28mself\u001b[39m\u001b[38;5;241m.\u001b[39mupdate_user_ns(result)\n\u001b[1;32m    264\u001b[0m \u001b[38;5;28mself\u001b[39m\u001b[38;5;241m.\u001b[39mfill_exec_result(result)\n",
      "File \u001b[0;32m~/dev/cs262/lux/.venv/lib/python3.9/site-packages/IPython/core/displayhook.py:151\u001b[0m, in \u001b[0;36mDisplayHook.compute_format_data\u001b[0;34m(self, result)\u001b[0m\n\u001b[1;32m    121\u001b[0m \u001b[38;5;28;01mdef\u001b[39;00m \u001b[38;5;21mcompute_format_data\u001b[39m(\u001b[38;5;28mself\u001b[39m, result):\n\u001b[1;32m    122\u001b[0m     \u001b[38;5;124;03m\"\"\"Compute format data of the object to be displayed.\u001b[39;00m\n\u001b[1;32m    123\u001b[0m \n\u001b[1;32m    124\u001b[0m \u001b[38;5;124;03m    The format data is a generalization of the :func:`repr` of an object.\u001b[39;00m\n\u001b[0;32m   (...)\u001b[0m\n\u001b[1;32m    149\u001b[0m \n\u001b[1;32m    150\u001b[0m \u001b[38;5;124;03m    \"\"\"\u001b[39;00m\n\u001b[0;32m--> 151\u001b[0m     \u001b[38;5;28;01mreturn\u001b[39;00m \u001b[38;5;28;43mself\u001b[39;49m\u001b[38;5;241;43m.\u001b[39;49m\u001b[43mshell\u001b[49m\u001b[38;5;241;43m.\u001b[39;49m\u001b[43mdisplay_formatter\u001b[49m\u001b[38;5;241;43m.\u001b[39;49m\u001b[43mformat\u001b[49m\u001b[43m(\u001b[49m\u001b[43mresult\u001b[49m\u001b[43m)\u001b[49m\n",
      "File \u001b[0;32m~/dev/cs262/lux/.venv/lib/python3.9/site-packages/IPython/core/formatters.py:143\u001b[0m, in \u001b[0;36mDisplayFormatter.format\u001b[0;34m(self, obj, include, exclude)\u001b[0m\n\u001b[1;32m    140\u001b[0m format_dict \u001b[38;5;241m=\u001b[39m {}\n\u001b[1;32m    141\u001b[0m md_dict \u001b[38;5;241m=\u001b[39m {}\n\u001b[0;32m--> 143\u001b[0m \u001b[38;5;28;01mif\u001b[39;00m \u001b[38;5;28;43mself\u001b[39;49m\u001b[38;5;241;43m.\u001b[39;49m\u001b[43mipython_display_formatter\u001b[49m\u001b[43m(\u001b[49m\u001b[43mobj\u001b[49m\u001b[43m)\u001b[49m:\n\u001b[1;32m    144\u001b[0m     \u001b[38;5;66;03m# object handled itself, don't proceed\u001b[39;00m\n\u001b[1;32m    145\u001b[0m     \u001b[38;5;28;01mreturn\u001b[39;00m {}, {}\n\u001b[1;32m    147\u001b[0m format_dict, md_dict \u001b[38;5;241m=\u001b[39m \u001b[38;5;28mself\u001b[39m\u001b[38;5;241m.\u001b[39mmimebundle_formatter(obj, include\u001b[38;5;241m=\u001b[39minclude, exclude\u001b[38;5;241m=\u001b[39mexclude)\n",
      "File \u001b[0;32m~/dev/cs262/lux/.venv/lib/python3.9/site-packages/decorator.py:232\u001b[0m, in \u001b[0;36mdecorate.<locals>.fun\u001b[0;34m(*args, **kw)\u001b[0m\n\u001b[1;32m    230\u001b[0m \u001b[38;5;28;01mif\u001b[39;00m \u001b[38;5;129;01mnot\u001b[39;00m kwsyntax:\n\u001b[1;32m    231\u001b[0m     args, kw \u001b[38;5;241m=\u001b[39m fix(args, kw, sig)\n\u001b[0;32m--> 232\u001b[0m \u001b[38;5;28;01mreturn\u001b[39;00m \u001b[43mcaller\u001b[49m\u001b[43m(\u001b[49m\u001b[43mfunc\u001b[49m\u001b[43m,\u001b[49m\u001b[43m \u001b[49m\u001b[38;5;241;43m*\u001b[39;49m\u001b[43m(\u001b[49m\u001b[43mextras\u001b[49m\u001b[43m \u001b[49m\u001b[38;5;241;43m+\u001b[39;49m\u001b[43m \u001b[49m\u001b[43margs\u001b[49m\u001b[43m)\u001b[49m\u001b[43m,\u001b[49m\u001b[43m \u001b[49m\u001b[38;5;241;43m*\u001b[39;49m\u001b[38;5;241;43m*\u001b[39;49m\u001b[43mkw\u001b[49m\u001b[43m)\u001b[49m\n",
      "File \u001b[0;32m~/dev/cs262/lux/.venv/lib/python3.9/site-packages/IPython/core/formatters.py:221\u001b[0m, in \u001b[0;36mcatch_format_error\u001b[0;34m(method, self, *args, **kwargs)\u001b[0m\n\u001b[1;32m    219\u001b[0m \u001b[38;5;124;03m\"\"\"show traceback on failed format call\"\"\"\u001b[39;00m\n\u001b[1;32m    220\u001b[0m \u001b[38;5;28;01mtry\u001b[39;00m:\n\u001b[0;32m--> 221\u001b[0m     r \u001b[38;5;241m=\u001b[39m \u001b[43mmethod\u001b[49m\u001b[43m(\u001b[49m\u001b[38;5;28;43mself\u001b[39;49m\u001b[43m,\u001b[49m\u001b[43m \u001b[49m\u001b[38;5;241;43m*\u001b[39;49m\u001b[43margs\u001b[49m\u001b[43m,\u001b[49m\u001b[43m \u001b[49m\u001b[38;5;241;43m*\u001b[39;49m\u001b[38;5;241;43m*\u001b[39;49m\u001b[43mkwargs\u001b[49m\u001b[43m)\u001b[49m\n\u001b[1;32m    222\u001b[0m \u001b[38;5;28;01mexcept\u001b[39;00m \u001b[38;5;167;01mNotImplementedError\u001b[39;00m:\n\u001b[1;32m    223\u001b[0m     \u001b[38;5;66;03m# don't warn on NotImplementedErrors\u001b[39;00m\n\u001b[1;32m    224\u001b[0m     \u001b[38;5;28;01mreturn\u001b[39;00m \u001b[38;5;28mself\u001b[39m\u001b[38;5;241m.\u001b[39m_check_return(\u001b[38;5;28;01mNone\u001b[39;00m, args[\u001b[38;5;241m0\u001b[39m])\n",
      "File \u001b[0;32m~/dev/cs262/lux/.venv/lib/python3.9/site-packages/IPython/core/formatters.py:920\u001b[0m, in \u001b[0;36mIPythonDisplayFormatter.__call__\u001b[0;34m(self, obj)\u001b[0m\n\u001b[1;32m    918\u001b[0m method \u001b[38;5;241m=\u001b[39m get_real_method(obj, \u001b[38;5;28mself\u001b[39m\u001b[38;5;241m.\u001b[39mprint_method)\n\u001b[1;32m    919\u001b[0m \u001b[38;5;28;01mif\u001b[39;00m method \u001b[38;5;129;01mis\u001b[39;00m \u001b[38;5;129;01mnot\u001b[39;00m \u001b[38;5;28;01mNone\u001b[39;00m:\n\u001b[0;32m--> 920\u001b[0m     \u001b[43mmethod\u001b[49m\u001b[43m(\u001b[49m\u001b[43m)\u001b[49m\n\u001b[1;32m    921\u001b[0m     \u001b[38;5;28;01mreturn\u001b[39;00m \u001b[38;5;28;01mTrue\u001b[39;00m\n",
      "File \u001b[0;32m~/dev/cs262/lux/lux/core/frame.py:581\u001b[0m, in \u001b[0;36mLuxDataFrame._ipython_display_\u001b[0;34m(self)\u001b[0m\n\u001b[1;32m    579\u001b[0m \u001b[38;5;28;01melse\u001b[39;00m:\n\u001b[1;32m    580\u001b[0m     \u001b[38;5;28;01mif\u001b[39;00m \u001b[38;5;129;01mnot\u001b[39;00m \u001b[38;5;28mself\u001b[39m\u001b[38;5;241m.\u001b[39mindex\u001b[38;5;241m.\u001b[39mnlevels \u001b[38;5;241m>\u001b[39m\u001b[38;5;241m=\u001b[39m \u001b[38;5;241m2\u001b[39m \u001b[38;5;129;01mor\u001b[39;00m \u001b[38;5;28mself\u001b[39m\u001b[38;5;241m.\u001b[39mcolumns\u001b[38;5;241m.\u001b[39mnlevels \u001b[38;5;241m>\u001b[39m\u001b[38;5;241m=\u001b[39m \u001b[38;5;241m2\u001b[39m:\n\u001b[0;32m--> 581\u001b[0m         \u001b[38;5;28;43mself\u001b[39;49m\u001b[38;5;241;43m.\u001b[39;49m\u001b[43mmaintain_metadata\u001b[49m\u001b[43m(\u001b[49m\u001b[43m)\u001b[49m\n\u001b[1;32m    583\u001b[0m         \u001b[38;5;28;01mif\u001b[39;00m \u001b[38;5;28mself\u001b[39m\u001b[38;5;241m.\u001b[39m_intent \u001b[38;5;241m!=\u001b[39m [] \u001b[38;5;129;01mand\u001b[39;00m (\u001b[38;5;129;01mnot\u001b[39;00m \u001b[38;5;28mhasattr\u001b[39m(\u001b[38;5;28mself\u001b[39m, \u001b[38;5;124m\"\u001b[39m\u001b[38;5;124m_compiled\u001b[39m\u001b[38;5;124m\"\u001b[39m) \u001b[38;5;129;01mor\u001b[39;00m \u001b[38;5;129;01mnot\u001b[39;00m \u001b[38;5;28mself\u001b[39m\u001b[38;5;241m.\u001b[39m_compiled):\n\u001b[1;32m    584\u001b[0m             \u001b[38;5;28;01mfrom\u001b[39;00m \u001b[38;5;21;01mlux\u001b[39;00m\u001b[38;5;21;01m.\u001b[39;00m\u001b[38;5;21;01mprocessor\u001b[39;00m\u001b[38;5;21;01m.\u001b[39;00m\u001b[38;5;21;01mCompiler\u001b[39;00m \u001b[38;5;28;01mimport\u001b[39;00m Compiler\n",
      "File \u001b[0;32m~/dev/cs262/lux/lux/core/frame.py:146\u001b[0m, in \u001b[0;36mLuxDataFrame.maintain_metadata\u001b[0;34m(self)\u001b[0m\n\u001b[1;32m    142\u001b[0m \u001b[38;5;28;01mif\u001b[39;00m lux\u001b[38;5;241m.\u001b[39mconfig\u001b[38;5;241m.\u001b[39mlazy_maintain:\n\u001b[1;32m    143\u001b[0m     \u001b[38;5;66;03m# Check that metadata has not yet been computed\u001b[39;00m\n\u001b[1;32m    144\u001b[0m     \u001b[38;5;28;01mif\u001b[39;00m \u001b[38;5;129;01mnot\u001b[39;00m \u001b[38;5;28mhasattr\u001b[39m(\u001b[38;5;28mself\u001b[39m, \u001b[38;5;124m\"\u001b[39m\u001b[38;5;124m_metadata_fresh\u001b[39m\u001b[38;5;124m\"\u001b[39m) \u001b[38;5;129;01mor\u001b[39;00m \u001b[38;5;129;01mnot\u001b[39;00m \u001b[38;5;28mself\u001b[39m\u001b[38;5;241m.\u001b[39m_metadata_fresh:\n\u001b[1;32m    145\u001b[0m         \u001b[38;5;66;03m# only compute metadata information if the dataframe is non-empty\u001b[39;00m\n\u001b[0;32m--> 146\u001b[0m         \u001b[38;5;28;43mself\u001b[39;49m\u001b[38;5;241;43m.\u001b[39;49m\u001b[43mcompute_metadata\u001b[49m\u001b[43m(\u001b[49m\u001b[43m)\u001b[49m\n\u001b[1;32m    147\u001b[0m \u001b[38;5;28;01melse\u001b[39;00m:\n\u001b[1;32m    148\u001b[0m     \u001b[38;5;28mself\u001b[39m\u001b[38;5;241m.\u001b[39mcompute_metadata()\n",
      "File \u001b[0;32m~/dev/cs262/lux/lux/core/frame.py:126\u001b[0m, in \u001b[0;36mLuxDataFrame.compute_metadata\u001b[0;34m(self)\u001b[0m\n\u001b[1;32m    124\u001b[0m \u001b[38;5;28;01mif\u001b[39;00m lux\u001b[38;5;241m.\u001b[39mconfig\u001b[38;5;241m.\u001b[39mexecutor\u001b[38;5;241m.\u001b[39mname \u001b[38;5;241m!=\u001b[39m \u001b[38;5;124m\"\u001b[39m\u001b[38;5;124mSQLExecutor\u001b[39m\u001b[38;5;124m\"\u001b[39m:\n\u001b[1;32m    125\u001b[0m     lux\u001b[38;5;241m.\u001b[39mconfig\u001b[38;5;241m.\u001b[39mexecutor\u001b[38;5;241m.\u001b[39mcompute_stats(\u001b[38;5;28mself\u001b[39m)\n\u001b[0;32m--> 126\u001b[0m \u001b[43mlux\u001b[49m\u001b[38;5;241;43m.\u001b[39;49m\u001b[43mconfig\u001b[49m\u001b[38;5;241;43m.\u001b[39;49m\u001b[43mexecutor\u001b[49m\u001b[38;5;241;43m.\u001b[39;49m\u001b[43mcompute_dataset_metadata\u001b[49m\u001b[43m(\u001b[49m\u001b[38;5;28;43mself\u001b[39;49m\u001b[43m)\u001b[49m\n\u001b[1;32m    127\u001b[0m \u001b[38;5;28mself\u001b[39m\u001b[38;5;241m.\u001b[39m_infer_structure()\n\u001b[1;32m    128\u001b[0m \u001b[38;5;28mself\u001b[39m\u001b[38;5;241m.\u001b[39m_metadata_fresh \u001b[38;5;241m=\u001b[39m \u001b[38;5;28;01mTrue\u001b[39;00m\n",
      "File \u001b[0;32m~/dev/cs262/lux/lux/executor/PandasExecutor.py:471\u001b[0m, in \u001b[0;36mPandasExecutor.compute_dataset_metadata\u001b[0;34m(self, ldf)\u001b[0m\n\u001b[1;32m    469\u001b[0m \u001b[38;5;28;01mdef\u001b[39;00m \u001b[38;5;21mcompute_dataset_metadata\u001b[39m(\u001b[38;5;28mself\u001b[39m, ldf: LuxDataFrame):\n\u001b[1;32m    470\u001b[0m     ldf\u001b[38;5;241m.\u001b[39m_data_type \u001b[38;5;241m=\u001b[39m {}\n\u001b[0;32m--> 471\u001b[0m     \u001b[38;5;28;43mself\u001b[39;49m\u001b[38;5;241;43m.\u001b[39;49m\u001b[43mcompute_data_type\u001b[49m\u001b[43m(\u001b[49m\u001b[43mldf\u001b[49m\u001b[43m)\u001b[49m\n",
      "File \u001b[0;32m~/dev/cs262/lux/lux/executor/PandasExecutor.py:520\u001b[0m, in \u001b[0;36mPandasExecutor.compute_data_type\u001b[0;34m(self, ldf)\u001b[0m\n\u001b[1;32m    517\u001b[0m \u001b[38;5;66;03m# Eliminate this clause because a single NaN value can cause the dtype to be object\u001b[39;00m\n\u001b[1;32m    518\u001b[0m \u001b[38;5;28;01melif\u001b[39;00m pd\u001b[38;5;241m.\u001b[39mapi\u001b[38;5;241m.\u001b[39mtypes\u001b[38;5;241m.\u001b[39mis_string_dtype(ldf\u001b[38;5;241m.\u001b[39mdtypes[attr]):\n\u001b[1;32m    519\u001b[0m     \u001b[38;5;66;03m# Check first if it's castable to float after removing NaN\u001b[39;00m\n\u001b[0;32m--> 520\u001b[0m     is_numeric_nan, series \u001b[38;5;241m=\u001b[39m \u001b[43mis_numeric_nan_column\u001b[49m\u001b[43m(\u001b[49m\u001b[43mldf\u001b[49m\u001b[43m[\u001b[49m\u001b[43mattr\u001b[49m\u001b[43m]\u001b[49m\u001b[43m)\u001b[49m\n\u001b[1;32m    521\u001b[0m     \u001b[38;5;28;01mif\u001b[39;00m is_numeric_nan:\n\u001b[1;32m    522\u001b[0m         \u001b[38;5;66;03m# int columns gets coerced into floats if contain NaN\u001b[39;00m\n\u001b[1;32m    523\u001b[0m         ldf\u001b[38;5;241m.\u001b[39m_data_type[attr] \u001b[38;5;241m=\u001b[39m \u001b[38;5;124m\"\u001b[39m\u001b[38;5;124mquantitative\u001b[39m\u001b[38;5;124m\"\u001b[39m\n",
      "File \u001b[0;32m~/dev/cs262/lux/lux/utils/utils.py:142\u001b[0m, in \u001b[0;36mis_numeric_nan_column\u001b[0;34m(series)\u001b[0m\n\u001b[1;32m    140\u001b[0m \u001b[38;5;28;01mdef\u001b[39;00m \u001b[38;5;21mis_numeric_nan_column\u001b[39m(series):\n\u001b[1;32m    141\u001b[0m     \u001b[38;5;28;01mif\u001b[39;00m series\u001b[38;5;241m.\u001b[39mdtype \u001b[38;5;241m==\u001b[39m \u001b[38;5;28mobject\u001b[39m:\n\u001b[0;32m--> 142\u001b[0m         \u001b[38;5;28;01mif\u001b[39;00m \u001b[43mseries\u001b[49m\u001b[38;5;241;43m.\u001b[39;49m\u001b[43mhasnans\u001b[49m:\n\u001b[1;32m    143\u001b[0m             series \u001b[38;5;241m=\u001b[39m series\u001b[38;5;241m.\u001b[39mdropna()\n\u001b[1;32m    144\u001b[0m         \u001b[38;5;28;01mtry\u001b[39;00m:\n",
      "File \u001b[0;32m~/dev/cs262/lux/.venv/lib/python3.9/site-packages/pandas/core/base.py:770\u001b[0m, in \u001b[0;36mIndexOpsMixin.hasnans\u001b[0;34m(self)\u001b[0m\n\u001b[1;32m    763\u001b[0m \u001b[38;5;124;03m\"\"\"\u001b[39;00m\n\u001b[1;32m    764\u001b[0m \u001b[38;5;124;03mReturn True if there are any NaNs.\u001b[39;00m\n\u001b[1;32m    765\u001b[0m \n\u001b[1;32m    766\u001b[0m \u001b[38;5;124;03mEnables various performance speedups.\u001b[39;00m\n\u001b[1;32m    767\u001b[0m \u001b[38;5;124;03m\"\"\"\u001b[39;00m\n\u001b[1;32m    768\u001b[0m \u001b[38;5;66;03m# error: Item \"bool\" of \"Union[bool, ndarray[Any, dtype[bool_]], NDFrame]\"\u001b[39;00m\n\u001b[1;32m    769\u001b[0m \u001b[38;5;66;03m# has no attribute \"any\"\u001b[39;00m\n\u001b[0;32m--> 770\u001b[0m \u001b[38;5;28;01mreturn\u001b[39;00m \u001b[38;5;28mbool\u001b[39m(\u001b[43misna\u001b[49m\u001b[43m(\u001b[49m\u001b[38;5;28;43mself\u001b[39;49m\u001b[43m)\u001b[49m\u001b[38;5;241m.\u001b[39many())\n",
      "File \u001b[0;32m~/dev/cs262/lux/.venv/lib/python3.9/site-packages/pandas/core/dtypes/missing.py:185\u001b[0m, in \u001b[0;36misna\u001b[0;34m(obj)\u001b[0m\n\u001b[1;32m    108\u001b[0m \u001b[38;5;28;01mdef\u001b[39;00m \u001b[38;5;21misna\u001b[39m(obj: \u001b[38;5;28mobject\u001b[39m) \u001b[38;5;241m-\u001b[39m\u001b[38;5;241m>\u001b[39m \u001b[38;5;28mbool\u001b[39m \u001b[38;5;241m|\u001b[39m npt\u001b[38;5;241m.\u001b[39mNDArray[np\u001b[38;5;241m.\u001b[39mbool_] \u001b[38;5;241m|\u001b[39m NDFrame:\n\u001b[1;32m    109\u001b[0m     \u001b[38;5;124;03m\"\"\"\u001b[39;00m\n\u001b[1;32m    110\u001b[0m \u001b[38;5;124;03m    Detect missing values for an array-like object.\u001b[39;00m\n\u001b[1;32m    111\u001b[0m \n\u001b[0;32m   (...)\u001b[0m\n\u001b[1;32m    183\u001b[0m \u001b[38;5;124;03m    Name: 1, dtype: bool\u001b[39;00m\n\u001b[1;32m    184\u001b[0m \u001b[38;5;124;03m    \"\"\"\u001b[39;00m\n\u001b[0;32m--> 185\u001b[0m     \u001b[38;5;28;01mreturn\u001b[39;00m \u001b[43m_isna\u001b[49m\u001b[43m(\u001b[49m\u001b[43mobj\u001b[49m\u001b[43m)\u001b[49m\n",
      "File \u001b[0;32m~/dev/cs262/lux/.venv/lib/python3.9/site-packages/pandas/core/dtypes/missing.py:223\u001b[0m, in \u001b[0;36m_isna\u001b[0;34m(obj, inf_as_na)\u001b[0m\n\u001b[1;32m    220\u001b[0m     \u001b[38;5;28;01mreturn\u001b[39;00m _isna_array(obj\u001b[38;5;241m.\u001b[39m_values, inf_as_na\u001b[38;5;241m=\u001b[39minf_as_na)\n\u001b[1;32m    222\u001b[0m \u001b[38;5;28;01melif\u001b[39;00m \u001b[38;5;28misinstance\u001b[39m(obj, ABCSeries):\n\u001b[0;32m--> 223\u001b[0m     result \u001b[38;5;241m=\u001b[39m \u001b[43m_isna_array\u001b[49m\u001b[43m(\u001b[49m\u001b[43mobj\u001b[49m\u001b[38;5;241;43m.\u001b[39;49m\u001b[43m_values\u001b[49m\u001b[43m,\u001b[49m\u001b[43m \u001b[49m\u001b[43minf_as_na\u001b[49m\u001b[38;5;241;43m=\u001b[39;49m\u001b[43minf_as_na\u001b[49m\u001b[43m)\u001b[49m\n\u001b[1;32m    224\u001b[0m     \u001b[38;5;66;03m# box\u001b[39;00m\n\u001b[1;32m    225\u001b[0m     result \u001b[38;5;241m=\u001b[39m obj\u001b[38;5;241m.\u001b[39m_constructor(result, index\u001b[38;5;241m=\u001b[39mobj\u001b[38;5;241m.\u001b[39mindex, name\u001b[38;5;241m=\u001b[39mobj\u001b[38;5;241m.\u001b[39mname, copy\u001b[38;5;241m=\u001b[39m\u001b[38;5;28;01mFalse\u001b[39;00m)\n",
      "File \u001b[0;32m~/dev/cs262/lux/.venv/lib/python3.9/site-packages/pandas/core/dtypes/missing.py:296\u001b[0m, in \u001b[0;36m_isna_array\u001b[0;34m(values, inf_as_na)\u001b[0m\n\u001b[1;32m    294\u001b[0m         result \u001b[38;5;241m=\u001b[39m values\u001b[38;5;241m.\u001b[39misna()  \u001b[38;5;66;03m# type: ignore[assignment]\u001b[39;00m\n\u001b[1;32m    295\u001b[0m \u001b[38;5;28;01melif\u001b[39;00m is_string_or_object_np_dtype(values\u001b[38;5;241m.\u001b[39mdtype):\n\u001b[0;32m--> 296\u001b[0m     result \u001b[38;5;241m=\u001b[39m \u001b[43m_isna_string_dtype\u001b[49m\u001b[43m(\u001b[49m\u001b[43mvalues\u001b[49m\u001b[43m,\u001b[49m\u001b[43m \u001b[49m\u001b[43minf_as_na\u001b[49m\u001b[38;5;241;43m=\u001b[39;49m\u001b[43minf_as_na\u001b[49m\u001b[43m)\u001b[49m\n\u001b[1;32m    297\u001b[0m \u001b[38;5;28;01melif\u001b[39;00m needs_i8_conversion(dtype):\n\u001b[1;32m    298\u001b[0m     \u001b[38;5;66;03m# this is the NaT pattern\u001b[39;00m\n\u001b[1;32m    299\u001b[0m     result \u001b[38;5;241m=\u001b[39m values\u001b[38;5;241m.\u001b[39mview(\u001b[38;5;124m\"\u001b[39m\u001b[38;5;124mi8\u001b[39m\u001b[38;5;124m\"\u001b[39m) \u001b[38;5;241m==\u001b[39m iNaT\n",
      "File \u001b[0;32m~/dev/cs262/lux/.venv/lib/python3.9/site-packages/pandas/core/dtypes/missing.py:318\u001b[0m, in \u001b[0;36m_isna_string_dtype\u001b[0;34m(values, inf_as_na)\u001b[0m\n\u001b[1;32m    315\u001b[0m \u001b[38;5;28;01melse\u001b[39;00m:\n\u001b[1;32m    317\u001b[0m     \u001b[38;5;28;01mif\u001b[39;00m values\u001b[38;5;241m.\u001b[39mndim \u001b[38;5;241m==\u001b[39m \u001b[38;5;241m1\u001b[39m:\n\u001b[0;32m--> 318\u001b[0m         result \u001b[38;5;241m=\u001b[39m \u001b[43mlibmissing\u001b[49m\u001b[38;5;241;43m.\u001b[39;49m\u001b[43misnaobj\u001b[49m\u001b[43m(\u001b[49m\u001b[43mvalues\u001b[49m\u001b[43m,\u001b[49m\u001b[43m \u001b[49m\u001b[43minf_as_na\u001b[49m\u001b[38;5;241;43m=\u001b[39;49m\u001b[43minf_as_na\u001b[49m\u001b[43m)\u001b[49m\n\u001b[1;32m    319\u001b[0m     \u001b[38;5;28;01melif\u001b[39;00m values\u001b[38;5;241m.\u001b[39mndim \u001b[38;5;241m==\u001b[39m \u001b[38;5;241m2\u001b[39m:\n\u001b[1;32m    320\u001b[0m         result \u001b[38;5;241m=\u001b[39m libmissing\u001b[38;5;241m.\u001b[39misnaobj2d(values, inf_as_na\u001b[38;5;241m=\u001b[39minf_as_na)\n",
      "\u001b[0;31mKeyboardInterrupt\u001b[0m: "
     ]
    }
   ],
   "source": [
    "# df.intent=[\"MedianEarnings\", \"SATAverage\"]\n",
    "# df.intent = [\"MedianEarnings\", \"state\"]\n",
    "df"
   ]
  },
  {
   "cell_type": "code",
   "execution_count": 3,
   "id": "fca747da-beb4-4f04-83af-6e76090a263b",
   "metadata": {},
   "outputs": [
    {
     "name": "stdout",
     "output_type": "stream",
     "text": [
      "977900\n"
     ]
    }
   ],
   "source": [
    "df = pd.read_csv(\"/Users/rithvik/Downloads/airbnb/AB_NYC_2019.csv\")\n",
    "\n",
    "newdf = pd.DataFrame(np.repeat(df.values, 20, axis=0))\n",
    "newdf.columns = df.columns\n",
    "df = newdf\n",
    "print(len(df))\n",
    "# lux.config.sampling_cap = 10000000\n",
    "# lux.config.sampling_start = 10000000"
   ]
  },
  {
   "cell_type": "code",
   "execution_count": 5,
   "id": "373e4b7b",
   "metadata": {},
   "outputs": [
    {
     "name": "stdout",
     "output_type": "stream",
     "text": [
      "150\n"
     ]
    }
   ],
   "source": [
    "df = pd.read_csv(\"https://raw.githubusercontent.com/mwaskom/seaborn-data/master/iris.csv\")\n",
    "\n",
    "# newdf = pd.DataFrame(np.repeat(df.values, 700, axis=0))\n",
    "# newdf.columns = df.columns\n",
    "# df = newdf\n",
    "print(len(df))"
   ]
  },
  {
   "cell_type": "markdown",
   "id": "95a2b5a9",
   "metadata": {},
   "source": [
    "# Custom Workflow"
   ]
  },
  {
   "cell_type": "code",
   "execution_count": 9,
   "id": "a4021f12",
   "metadata": {},
   "outputs": [
    {
     "name": "stdout",
     "output_type": "stream",
     "text": [
      "977900\n"
     ]
    }
   ],
   "source": [
    "df = pd.read_csv(\"/Users/rithvik/Downloads/airbnb/AB_NYC_2019.csv\")\n",
    "\n",
    "newdf = pd.DataFrame(np.repeat(df.values, 20, axis=0))\n",
    "newdf.columns = df.columns\n",
    "df = newdf\n",
    "print(len(df))\n",
    "df['last_review'] = pd.to_datetime(df['last_review'], infer_datetime_format=True)\n"
   ]
  },
  {
   "cell_type": "code",
   "execution_count": 35,
   "id": "0e70c2df",
   "metadata": {},
   "outputs": [
    {
     "name": "stdout",
     "output_type": "stream",
     "text": [
      "1294\n"
     ]
    }
   ],
   "source": [
    "df = pd.read_csv(\"https://raw.githubusercontent.com/lux-org/lux-datasets/master/data/college.csv\")\n",
    "df[\"state\"] = [np.random.choice([\"california\", \"new york\", \"new jersey\", \"georgia\", \"texas\", \"maine\", \"louisiana\",\"washington\", \"oregon\"]) for _ in range(len(df))]\n",
    "# df[\"country\"] = np.array([str(np.random.choice([\"001\", \"004\", \"003\"])) for _ in range(len(df))])\n",
    "# df[\"country\"] = df[\"country\"].astype(pd.StringDtype())\n",
    "df[\"state\"] = df[\"state\"].astype(pd.StringDtype())\n",
    "\n",
    "# newdf = pd.DataFrame(np.repeat(df.values, 700, axis=0))\n",
    "# newdf.columns = df.columns\n",
    "# df = newdf\n",
    "# df[\"country\"] = df[\"country\"].astype(pd.StringDtype())\n",
    "\n",
    "print(len(df))"
   ]
  },
  {
   "cell_type": "code",
   "execution_count": 39,
   "id": "ded8241b",
   "metadata": {
    "collapsed": true
   },
   "outputs": [
    {
     "name": "stdout",
     "output_type": "stream",
     "text": [
      "Total time: 0.06447887420654297\n",
      "Total accesses: 68, VisList length: 90\n",
      "Hit rate: 0.6029411764705882\n",
      "Total time: 0.01691293716430664\n",
      "Total accesses: 68, VisList length: 10\n",
      "Hit rate: 0.6029411764705882\n",
      "Total time: 0.04632925987243652\n",
      "Total accesses: 68, VisList length: 6\n",
      "Hit rate: 0.6029411764705882\n",
      "Total time: 5.0067901611328125e-06\n",
      "Total accesses: 68, VisList length: 0\n",
      "Hit rate: 0.6029411764705882\n",
      "Total time: 0.06633496284484863\n",
      "Total accesses: 68, VisList length: 10\n",
      "Hit rate: 0.6029411764705882\n"
     ]
    },
    {
     "name": "stderr",
     "output_type": "stream",
     "text": [
      "/Users/rithvik/dev/cs262/lux/.venv/lib/python3.9/site-packages/altair/utils/core.py:317: FutureWarning:iteritems is deprecated and will be removed in a future version. Use .items instead.\n",
      "/Users/rithvik/dev/cs262/lux/.venv/lib/python3.9/site-packages/altair/utils/core.py:317: FutureWarning:iteritems is deprecated and will be removed in a future version. Use .items instead.\n",
      "/Users/rithvik/dev/cs262/lux/.venv/lib/python3.9/site-packages/altair/utils/core.py:317: FutureWarning:iteritems is deprecated and will be removed in a future version. Use .items instead.\n",
      "/Users/rithvik/dev/cs262/lux/.venv/lib/python3.9/site-packages/altair/utils/core.py:317: FutureWarning:iteritems is deprecated and will be removed in a future version. Use .items instead.\n",
      "/Users/rithvik/dev/cs262/lux/.venv/lib/python3.9/site-packages/altair/utils/core.py:317: FutureWarning:iteritems is deprecated and will be removed in a future version. Use .items instead.\n",
      "/Users/rithvik/dev/cs262/lux/.venv/lib/python3.9/site-packages/altair/utils/core.py:317: FutureWarning:iteritems is deprecated and will be removed in a future version. Use .items instead.\n",
      "/Users/rithvik/dev/cs262/lux/.venv/lib/python3.9/site-packages/altair/utils/core.py:317: FutureWarning:iteritems is deprecated and will be removed in a future version. Use .items instead.\n",
      "/Users/rithvik/dev/cs262/lux/.venv/lib/python3.9/site-packages/altair/utils/core.py:317: FutureWarning:iteritems is deprecated and will be removed in a future version. Use .items instead.\n",
      "/Users/rithvik/dev/cs262/lux/.venv/lib/python3.9/site-packages/altair/utils/core.py:317: FutureWarning:iteritems is deprecated and will be removed in a future version. Use .items instead.\n",
      "/Users/rithvik/dev/cs262/lux/.venv/lib/python3.9/site-packages/altair/utils/core.py:317: FutureWarning:iteritems is deprecated and will be removed in a future version. Use .items instead.\n",
      "/Users/rithvik/dev/cs262/lux/.venv/lib/python3.9/site-packages/altair/utils/core.py:317: FutureWarning:iteritems is deprecated and will be removed in a future version. Use .items instead.\n",
      "/Users/rithvik/dev/cs262/lux/.venv/lib/python3.9/site-packages/altair/utils/core.py:317: FutureWarning:iteritems is deprecated and will be removed in a future version. Use .items instead.\n",
      "/Users/rithvik/dev/cs262/lux/.venv/lib/python3.9/site-packages/altair/utils/core.py:317: FutureWarning:iteritems is deprecated and will be removed in a future version. Use .items instead.\n",
      "/Users/rithvik/dev/cs262/lux/.venv/lib/python3.9/site-packages/altair/utils/core.py:317: FutureWarning:iteritems is deprecated and will be removed in a future version. Use .items instead.\n",
      "/Users/rithvik/dev/cs262/lux/.venv/lib/python3.9/site-packages/altair/utils/core.py:317: FutureWarning:iteritems is deprecated and will be removed in a future version. Use .items instead.\n",
      "/Users/rithvik/dev/cs262/lux/.venv/lib/python3.9/site-packages/altair/utils/core.py:317: FutureWarning:iteritems is deprecated and will be removed in a future version. Use .items instead.\n",
      "/Users/rithvik/dev/cs262/lux/.venv/lib/python3.9/site-packages/altair/utils/core.py:317: FutureWarning:iteritems is deprecated and will be removed in a future version. Use .items instead.\n",
      "/Users/rithvik/dev/cs262/lux/.venv/lib/python3.9/site-packages/altair/utils/core.py:317: FutureWarning:iteritems is deprecated and will be removed in a future version. Use .items instead.\n",
      "/Users/rithvik/dev/cs262/lux/.venv/lib/python3.9/site-packages/altair/utils/core.py:317: FutureWarning:iteritems is deprecated and will be removed in a future version. Use .items instead.\n",
      "/Users/rithvik/dev/cs262/lux/.venv/lib/python3.9/site-packages/altair/utils/core.py:317: FutureWarning:iteritems is deprecated and will be removed in a future version. Use .items instead.\n",
      "/Users/rithvik/dev/cs262/lux/.venv/lib/python3.9/site-packages/altair/utils/core.py:317: FutureWarning:iteritems is deprecated and will be removed in a future version. Use .items instead.\n",
      "/Users/rithvik/dev/cs262/lux/.venv/lib/python3.9/site-packages/altair/utils/core.py:317: FutureWarning:iteritems is deprecated and will be removed in a future version. Use .items instead.\n",
      "/Users/rithvik/dev/cs262/lux/.venv/lib/python3.9/site-packages/altair/utils/core.py:317: FutureWarning:iteritems is deprecated and will be removed in a future version. Use .items instead.\n",
      "/Users/rithvik/dev/cs262/lux/.venv/lib/python3.9/site-packages/altair/utils/core.py:317: FutureWarning:iteritems is deprecated and will be removed in a future version. Use .items instead.\n",
      "/Users/rithvik/dev/cs262/lux/.venv/lib/python3.9/site-packages/altair/utils/core.py:317: FutureWarning:iteritems is deprecated and will be removed in a future version. Use .items instead.\n",
      "/Users/rithvik/dev/cs262/lux/.venv/lib/python3.9/site-packages/altair/utils/core.py:317: FutureWarning:iteritems is deprecated and will be removed in a future version. Use .items instead.\n",
      "/Users/rithvik/dev/cs262/lux/.venv/lib/python3.9/site-packages/altair/utils/core.py:317: FutureWarning:iteritems is deprecated and will be removed in a future version. Use .items instead.\n",
      "/Users/rithvik/dev/cs262/lux/.venv/lib/python3.9/site-packages/altair/utils/core.py:317: FutureWarning:iteritems is deprecated and will be removed in a future version. Use .items instead.\n",
      "/Users/rithvik/dev/cs262/lux/.venv/lib/python3.9/site-packages/altair/utils/core.py:317: FutureWarning:iteritems is deprecated and will be removed in a future version. Use .items instead.\n",
      "/Users/rithvik/dev/cs262/lux/.venv/lib/python3.9/site-packages/altair/utils/core.py:317: FutureWarning:iteritems is deprecated and will be removed in a future version. Use .items instead.\n",
      "/Users/rithvik/dev/cs262/lux/.venv/lib/python3.9/site-packages/altair/utils/core.py:317: FutureWarning:iteritems is deprecated and will be removed in a future version. Use .items instead.\n",
      "/Users/rithvik/dev/cs262/lux/.venv/lib/python3.9/site-packages/altair/utils/core.py:317: FutureWarning:iteritems is deprecated and will be removed in a future version. Use .items instead.\n",
      "/Users/rithvik/dev/cs262/lux/.venv/lib/python3.9/site-packages/altair/utils/core.py:317: FutureWarning:iteritems is deprecated and will be removed in a future version. Use .items instead.\n",
      "/Users/rithvik/dev/cs262/lux/.venv/lib/python3.9/site-packages/altair/utils/core.py:317: FutureWarning:iteritems is deprecated and will be removed in a future version. Use .items instead.\n",
      "/Users/rithvik/dev/cs262/lux/.venv/lib/python3.9/site-packages/altair/utils/core.py:317: FutureWarning:iteritems is deprecated and will be removed in a future version. Use .items instead.\n",
      "/Users/rithvik/dev/cs262/lux/.venv/lib/python3.9/site-packages/altair/utils/core.py:317: FutureWarning:iteritems is deprecated and will be removed in a future version. Use .items instead.\n",
      "/Users/rithvik/dev/cs262/lux/.venv/lib/python3.9/site-packages/altair/utils/core.py:317: FutureWarning:iteritems is deprecated and will be removed in a future version. Use .items instead.\n",
      "/Users/rithvik/dev/cs262/lux/.venv/lib/python3.9/site-packages/altair/utils/core.py:317: FutureWarning:iteritems is deprecated and will be removed in a future version. Use .items instead.\n",
      "/Users/rithvik/dev/cs262/lux/.venv/lib/python3.9/site-packages/altair/utils/core.py:317: FutureWarning:iteritems is deprecated and will be removed in a future version. Use .items instead.\n",
      "/Users/rithvik/dev/cs262/lux/.venv/lib/python3.9/site-packages/altair/utils/core.py:317: FutureWarning:iteritems is deprecated and will be removed in a future version. Use .items instead.\n",
      "/Users/rithvik/dev/cs262/lux/.venv/lib/python3.9/site-packages/altair/utils/core.py:317: FutureWarning:iteritems is deprecated and will be removed in a future version. Use .items instead.\n",
      "/Users/rithvik/dev/cs262/lux/.venv/lib/python3.9/site-packages/altair/utils/core.py:317: FutureWarning:iteritems is deprecated and will be removed in a future version. Use .items instead.\n",
      "/Users/rithvik/dev/cs262/lux/.venv/lib/python3.9/site-packages/altair/utils/core.py:317: FutureWarning:iteritems is deprecated and will be removed in a future version. Use .items instead.\n",
      "/Users/rithvik/dev/cs262/lux/.venv/lib/python3.9/site-packages/altair/utils/core.py:317: FutureWarning:iteritems is deprecated and will be removed in a future version. Use .items instead.\n",
      "/Users/rithvik/dev/cs262/lux/.venv/lib/python3.9/site-packages/altair/utils/core.py:317: FutureWarning:iteritems is deprecated and will be removed in a future version. Use .items instead.\n"
     ]
    },
    {
     "name": "stderr",
     "output_type": "stream",
     "text": [
      "/Users/rithvik/dev/cs262/lux/.venv/lib/python3.9/site-packages/altair/utils/core.py:317: FutureWarning:iteritems is deprecated and will be removed in a future version. Use .items instead.\n",
      "/Users/rithvik/dev/cs262/lux/.venv/lib/python3.9/site-packages/altair/utils/core.py:317: FutureWarning:iteritems is deprecated and will be removed in a future version. Use .items instead.\n",
      "/Users/rithvik/dev/cs262/lux/.venv/lib/python3.9/site-packages/altair/utils/core.py:317: FutureWarning:iteritems is deprecated and will be removed in a future version. Use .items instead.\n",
      "/Users/rithvik/dev/cs262/lux/.venv/lib/python3.9/site-packages/altair/utils/core.py:317: FutureWarning:iteritems is deprecated and will be removed in a future version. Use .items instead.\n",
      "/Users/rithvik/dev/cs262/lux/.venv/lib/python3.9/site-packages/altair/utils/core.py:317: FutureWarning:iteritems is deprecated and will be removed in a future version. Use .items instead.\n",
      "/Users/rithvik/dev/cs262/lux/.venv/lib/python3.9/site-packages/altair/utils/core.py:317: FutureWarning:iteritems is deprecated and will be removed in a future version. Use .items instead.\n",
      "/Users/rithvik/dev/cs262/lux/.venv/lib/python3.9/site-packages/altair/utils/core.py:317: FutureWarning:iteritems is deprecated and will be removed in a future version. Use .items instead.\n",
      "/Users/rithvik/dev/cs262/lux/.venv/lib/python3.9/site-packages/altair/utils/core.py:317: FutureWarning:iteritems is deprecated and will be removed in a future version. Use .items instead.\n",
      "/Users/rithvik/dev/cs262/lux/.venv/lib/python3.9/site-packages/altair/utils/core.py:317: FutureWarning:iteritems is deprecated and will be removed in a future version. Use .items instead.\n",
      "/Users/rithvik/dev/cs262/lux/.venv/lib/python3.9/site-packages/altair/utils/core.py:317: FutureWarning:iteritems is deprecated and will be removed in a future version. Use .items instead.\n",
      "/Users/rithvik/dev/cs262/lux/.venv/lib/python3.9/site-packages/altair/utils/core.py:317: FutureWarning:iteritems is deprecated and will be removed in a future version. Use .items instead.\n",
      "/Users/rithvik/dev/cs262/lux/.venv/lib/python3.9/site-packages/altair/utils/core.py:317: FutureWarning:iteritems is deprecated and will be removed in a future version. Use .items instead.\n",
      "/Users/rithvik/dev/cs262/lux/.venv/lib/python3.9/site-packages/altair/utils/core.py:317: FutureWarning:iteritems is deprecated and will be removed in a future version. Use .items instead.\n",
      "/Users/rithvik/dev/cs262/lux/.venv/lib/python3.9/site-packages/altair/utils/core.py:317: FutureWarning:iteritems is deprecated and will be removed in a future version. Use .items instead.\n",
      "/Users/rithvik/dev/cs262/lux/.venv/lib/python3.9/site-packages/altair/utils/core.py:317: FutureWarning:iteritems is deprecated and will be removed in a future version. Use .items instead.\n",
      "/Users/rithvik/dev/cs262/lux/.venv/lib/python3.9/site-packages/altair/utils/core.py:317: FutureWarning:iteritems is deprecated and will be removed in a future version. Use .items instead.\n",
      "/Users/rithvik/dev/cs262/lux/.venv/lib/python3.9/site-packages/altair/utils/core.py:317: FutureWarning:iteritems is deprecated and will be removed in a future version. Use .items instead.\n",
      "/Users/rithvik/dev/cs262/lux/.venv/lib/python3.9/site-packages/altair/utils/core.py:317: FutureWarning:iteritems is deprecated and will be removed in a future version. Use .items instead.\n",
      "/Users/rithvik/dev/cs262/lux/.venv/lib/python3.9/site-packages/altair/utils/core.py:317: FutureWarning:iteritems is deprecated and will be removed in a future version. Use .items instead.\n",
      "/Users/rithvik/dev/cs262/lux/.venv/lib/python3.9/site-packages/altair/utils/core.py:317: FutureWarning:iteritems is deprecated and will be removed in a future version. Use .items instead.\n",
      "/Users/rithvik/dev/cs262/lux/.venv/lib/python3.9/site-packages/altair/utils/core.py:317: FutureWarning:iteritems is deprecated and will be removed in a future version. Use .items instead.\n",
      "/Users/rithvik/dev/cs262/lux/.venv/lib/python3.9/site-packages/altair/utils/core.py:317: FutureWarning:iteritems is deprecated and will be removed in a future version. Use .items instead.\n",
      "/Users/rithvik/dev/cs262/lux/.venv/lib/python3.9/site-packages/altair/utils/core.py:317: FutureWarning:iteritems is deprecated and will be removed in a future version. Use .items instead.\n",
      "/Users/rithvik/dev/cs262/lux/.venv/lib/python3.9/site-packages/altair/utils/core.py:317: FutureWarning:iteritems is deprecated and will be removed in a future version. Use .items instead.\n",
      "/Users/rithvik/dev/cs262/lux/.venv/lib/python3.9/site-packages/altair/utils/core.py:317: FutureWarning:iteritems is deprecated and will be removed in a future version. Use .items instead.\n",
      "/Users/rithvik/dev/cs262/lux/.venv/lib/python3.9/site-packages/altair/utils/core.py:317: FutureWarning:iteritems is deprecated and will be removed in a future version. Use .items instead.\n"
     ]
    },
    {
     "data": {
      "application/vnd.jupyter.widget-view+json": {
       "model_id": "e138787dc30e4f7e8aaa2a03fd8d1ac9",
       "version_major": 2,
       "version_minor": 0
      },
      "text/plain": [
       "Button(description='Toggle Pandas/Lux', layout=Layout(top='5px', width='140px'), style=ButtonStyle())"
      ]
     },
     "metadata": {},
     "output_type": "display_data"
    },
    {
     "data": {
      "application/vnd.jupyter.widget-view+json": {
       "model_id": "ad9aa712ad5e4ef69e8cbeac423df3d6",
       "version_major": 2,
       "version_minor": 0
      },
      "text/plain": [
       "Output()"
      ]
     },
     "metadata": {},
     "output_type": "display_data"
    }
   ],
   "source": [
    "from lux.vis.VisList import VisList\n",
    "from lux.vis.Vis import Vis\n",
    "\n",
    "# VisList([Vis([\"latitude\", \"longitude\", \"price\"]), Vis([\"room_type=?\", \"price\"])],df)\n",
    "# VisList([\"Region=?\", \"AverageCost\", \"SATAverage|ACTMedian\"],df)\n",
    "# VisList([\"state\", \"AverageCost\", \"SATAverage|ACTMedian\"],df)\n",
    "df"
   ]
  },
  {
   "cell_type": "markdown",
   "id": "2a2d24f0",
   "metadata": {},
   "source": [
    "# Geography Test"
   ]
  },
  {
   "cell_type": "code",
   "execution_count": 15,
   "id": "5b9f30c3",
   "metadata": {},
   "outputs": [],
   "source": [
    "countries = pd.read_csv(\"https://github.com/lux-org/lux-datasets/blob/master/data/countries.csv?raw=True\")\n",
    "countries[\"Country\"]=countries[\"name\"].apply(lambda x:x.split(\",\")[0])\n",
    "countries.loc[countries[\"Country\"]=='United States',\"Country\"] = 'United States of America'"
   ]
  },
  {
   "cell_type": "code",
   "execution_count": 16,
   "id": "58503e7b",
   "metadata": {},
   "outputs": [],
   "source": [
    "newdf = pd.DataFrame(np.repeat(countries.values, 700, axis=0))\n",
    "newdf.columns = countries.columns\n",
    "countries = newdf"
   ]
  },
  {
   "cell_type": "code",
   "execution_count": 17,
   "id": "f7943667",
   "metadata": {},
   "outputs": [
    {
     "name": "stdout",
     "output_type": "stream",
     "text": [
      "Heatmap executed in 0.14676237106323242\n",
      "Heatmap executed in 0.14124011993408203\n",
      "Heatmap executed in 0.13573312759399414\n",
      "Heatmap executed in 0.13416600227355957\n",
      "Heatmap executed in 0.12917208671569824\n",
      "Heatmap executed in 0.13105368614196777\n",
      "Heatmap executed in 0.1495828628540039\n",
      "Heatmap executed in 0.1352226734161377\n",
      "Heatmap executed in 0.12424111366271973\n",
      "Heatmap executed in 0.13355779647827148\n",
      "Heatmap executed in 0.1366562843322754\n",
      "Heatmap executed in 0.1311638355255127\n",
      "Total time: 1.700084924697876, VisList length: 12\n",
      "Total accesses for histogram: {'histogram': 26, 'cut': 32}, Hit rate for histogram: 0.15384615384615385\n",
      "Total accesses for cut: {'histogram': 26, 'cut': 32}, Hit rate for cut: 0.8125\n"
     ]
    },
    {
     "name": "stderr",
     "output_type": "stream",
     "text": [
      "/Users/rithvik/dev/cs262/lux/lux/interestingness/interestingness.py:196: RuntimeWarning:invalid value encountered in double_scalars\n"
     ]
    },
    {
     "name": "stdout",
     "output_type": "stream",
     "text": [
      "Total time: 0.2595667839050293, VisList length: 4\n",
      "Total accesses for histogram: {'histogram': 30, 'cut': 32}, Hit rate for histogram: 0.13333333333333333\n",
      "Total accesses for cut: {'histogram': 30, 'cut': 32}, Hit rate for cut: 0.8125\n",
      "Total time: 0.6760997772216797, VisList length: 18\n",
      "Total accesses for histogram: {'histogram': 30, 'cut': 32}, Hit rate for histogram: 0.13333333333333333\n",
      "Total accesses for cut: {'histogram': 30, 'cut': 32}, Hit rate for cut: 0.8125\n",
      "Total time: 6.9141387939453125e-06, VisList length: 0\n",
      "Total accesses for histogram: {'histogram': 30, 'cut': 32}, Hit rate for histogram: 0.13333333333333333\n",
      "Total accesses for cut: {'histogram': 30, 'cut': 32}, Hit rate for cut: 0.8125\n"
     ]
    },
    {
     "name": "stderr",
     "output_type": "stream",
     "text": [
      "/Users/rithvik/dev/cs262/lux/.venv/lib/python3.9/site-packages/IPython/core/formatters.py:920: UserWarning:\n",
      "Unexpected error in rendering Lux widget and recommendations. Falling back to Pandas display.\n",
      "Please report the following issue on Github: https://github.com/lux-org/lux/issues \n",
      "\n",
      "/Users/rithvik/dev/cs262/lux/lux/core/frame.py:632: UserWarning:Traceback (most recent call last):\n",
      "  File \"/Users/rithvik/dev/cs262/lux/.venv/lib/python3.9/site-packages/pandas/core/groupby/groupby.py\", line 1772, in array_func\n",
      "    result = self.grouper._cython_operation(\n",
      "  File \"/Users/rithvik/dev/cs262/lux/.venv/lib/python3.9/site-packages/pandas/core/groupby/ops.py\", line 1039, in _cython_operation\n",
      "    return cy_op.cython_operation(\n",
      "  File \"/Users/rithvik/dev/cs262/lux/.venv/lib/python3.9/site-packages/pandas/core/groupby/ops.py\", line 708, in cython_operation\n",
      "    return self._cython_op_ndim_compat(\n",
      "  File \"/Users/rithvik/dev/cs262/lux/.venv/lib/python3.9/site-packages/pandas/core/groupby/ops.py\", line 527, in _cython_op_ndim_compat\n",
      "    return self._call_cython_op(\n",
      "  File \"/Users/rithvik/dev/cs262/lux/.venv/lib/python3.9/site-packages/pandas/core/groupby/ops.py\", line 571, in _call_cython_op\n",
      "    func = self._get_cython_function(self.kind, self.how, values.dtype, is_numeric)\n",
      "  File \"/Users/rithvik/dev/cs262/lux/.venv/lib/python3.9/site-packages/pandas/core/groupby/ops.py\", line 192, in _get_cython_function\n",
      "    raise NotImplementedError(\n",
      "NotImplementedError: function is not implemented for this dtype: [how->mean,dtype->object]\n",
      "\n",
      "During handling of the above exception, another exception occurred:\n",
      "\n",
      "Traceback (most recent call last):\n",
      "  File \"/Users/rithvik/dev/cs262/lux/lux/core/frame.py\", line 594, in _ipython_display_\n",
      "    self.maintain_recs()\n",
      "  File \"/Users/rithvik/dev/cs262/lux/lux/core/frame.py\", line 436, in maintain_recs\n",
      "    custom_action_collection = custom_actions(rec_df)\n",
      "  File \"/Users/rithvik/dev/cs262/lux/lux/action/custom.py\", line 74, in custom_actions\n",
      "    recommendation = lux.config.actions[action_name].action(ldf, args)\n",
      "  File \"/Users/rithvik/dev/cs262/lux/lux/action/univariate.py\", line 95, in univariate\n",
      "    vlist = VisList(intent, ldf)\n",
      "  File \"/Users/rithvik/dev/cs262/lux/lux/vis/VisList.py\", line 43, in __init__\n",
      "    self.refresh_source(self._source)\n",
      "  File \"/Users/rithvik/dev/cs262/lux/lux/vis/VisList.py\", line 336, in refresh_source\n",
      "    lux.config.executor.execute(self._collection, ldf, approx=approx)\n",
      "  File \"/Users/rithvik/dev/cs262/lux/lux/executor/PandasExecutor.py\", line 148, in execute\n",
      "    PandasExecutor.execute_aggregate(vis, isFiltered=filter_executed)\n",
      "  File \"/Users/rithvik/dev/cs262/lux/lux/executor/PandasExecutor.py\", line 238, in execute_aggregate\n",
      "    groupby_result = groupby_result.agg(agg_func)\n",
      "  File \"/Users/rithvik/dev/cs262/lux/lux/core/groupby.py\", line 32, in aggregate\n",
      "    ret_val = super(LuxGroupBy, self).aggregate(*args, **kwargs)\n",
      "  File \"/Users/rithvik/dev/cs262/lux/.venv/lib/python3.9/site-packages/pandas/core/groupby/generic.py\", line 894, in aggregate\n",
      "    result = op.agg()\n",
      "  File \"/Users/rithvik/dev/cs262/lux/.venv/lib/python3.9/site-packages/pandas/core/apply.py\", line 166, in agg\n",
      "    return self.apply_str()\n",
      "  File \"/Users/rithvik/dev/cs262/lux/.venv/lib/python3.9/site-packages/pandas/core/apply.py\", line 562, in apply_str\n",
      "    return self._try_aggregate_string_function(obj, f, *self.args, **self.kwargs)\n",
      "  File \"/Users/rithvik/dev/cs262/lux/.venv/lib/python3.9/site-packages/pandas/core/apply.py\", line 631, in _try_aggregate_string_function\n",
      "    return f(*args, **kwargs)\n",
      "  File \"/Users/rithvik/dev/cs262/lux/.venv/lib/python3.9/site-packages/pandas/core/groupby/groupby.py\", line 2161, in mean\n",
      "    result = self._cython_agg_general(\n",
      "  File \"/Users/rithvik/dev/cs262/lux/lux/core/groupby.py\", line 44, in _cython_agg_general\n",
      "    ret_val = super(LuxGroupBy, self)._cython_agg_general(*args, **kwargs)\n",
      "  File \"/Users/rithvik/dev/cs262/lux/.venv/lib/python3.9/site-packages/pandas/core/groupby/groupby.py\", line 1791, in _cython_agg_general\n",
      "    new_mgr = data.grouped_reduce(array_func, ignore_failures=ignore_failures)\n",
      "  File \"/Users/rithvik/dev/cs262/lux/.venv/lib/python3.9/site-packages/pandas/core/internals/managers.py\", line 1494, in grouped_reduce\n",
      "    applied = sb.apply(func)\n",
      "  File \"/Users/rithvik/dev/cs262/lux/.venv/lib/python3.9/site-packages/pandas/core/internals/blocks.py\", line 351, in apply\n",
      "    result = func(self.values, **kwargs)\n",
      "  File \"/Users/rithvik/dev/cs262/lux/.venv/lib/python3.9/site-packages/pandas/core/groupby/groupby.py\", line 1785, in array_func\n",
      "    result = self._agg_py_fallback(values, ndim=data.ndim, alt=alt)\n",
      "  File \"/Users/rithvik/dev/cs262/lux/.venv/lib/python3.9/site-packages/pandas/core/groupby/groupby.py\", line 1726, in _agg_py_fallback\n",
      "    res_values = self.grouper.agg_series(ser, alt, preserve_dtype=True)\n",
      "  File \"/Users/rithvik/dev/cs262/lux/.venv/lib/python3.9/site-packages/pandas/core/groupby/ops.py\", line 1081, in agg_series\n",
      "    result = self._aggregate_series_pure_python(obj, func)\n",
      "  File \"/Users/rithvik/dev/cs262/lux/.venv/lib/python3.9/site-packages/pandas/core/groupby/ops.py\", line 1103, in _aggregate_series_pure_python\n",
      "    for i, group in enumerate(splitter):\n",
      "  File \"/Users/rithvik/dev/cs262/lux/.venv/lib/python3.9/site-packages/pandas/core/groupby/ops.py\", line 1332, in __iter__\n",
      "    yield self._chop(sdata, slice(start, end))\n",
      "  File \"/Users/rithvik/dev/cs262/lux/.venv/lib/python3.9/site-packages/pandas/core/groupby/ops.py\", line 1357, in _chop\n",
      "    mgr = sdata._mgr.get_slice(slice_obj, axis=1 - self.axis)\n",
      "  File \"/Users/rithvik/dev/cs262/lux/.venv/lib/python3.9/site-packages/pandas/core/internals/managers.py\", line 2013, in get_slice\n",
      "    raise IndexError(\"Requested axis not found in manager\")\n",
      "IndexError: Requested axis not found in manager\n",
      "\n"
     ]
    },
    {
     "data": {
      "text/html": [
       "<div>\n",
       "<style scoped>\n",
       "    .dataframe tbody tr th:only-of-type {\n",
       "        vertical-align: middle;\n",
       "    }\n",
       "\n",
       "    .dataframe tbody tr th {\n",
       "        vertical-align: top;\n",
       "    }\n",
       "\n",
       "    .dataframe thead th {\n",
       "        text-align: right;\n",
       "    }\n",
       "</style>\n",
       "<table border=\"1\" class=\"dataframe\">\n",
       "  <thead>\n",
       "    <tr style=\"text-align: right;\">\n",
       "      <th></th>\n",
       "      <th>name</th>\n",
       "      <th>tld</th>\n",
       "      <th>cca2</th>\n",
       "      <th>ccn3</th>\n",
       "      <th>cca3</th>\n",
       "      <th>cioc</th>\n",
       "      <th>independent</th>\n",
       "      <th>status</th>\n",
       "      <th>currency</th>\n",
       "      <th>callingCode</th>\n",
       "      <th>...</th>\n",
       "      <th>subregion</th>\n",
       "      <th>languages</th>\n",
       "      <th>translations</th>\n",
       "      <th>latlng</th>\n",
       "      <th>demonym</th>\n",
       "      <th>landlocked</th>\n",
       "      <th>borders</th>\n",
       "      <th>area</th>\n",
       "      <th>flag</th>\n",
       "      <th>Country</th>\n",
       "    </tr>\n",
       "  </thead>\n",
       "  <tbody>\n",
       "    <tr>\n",
       "      <th>0</th>\n",
       "      <td>Aruba,Aruba,Aruba,Aruba,Aruba,Aruba</td>\n",
       "      <td>.aw</td>\n",
       "      <td>AW</td>\n",
       "      <td>533.0</td>\n",
       "      <td>ABW</td>\n",
       "      <td>ARU</td>\n",
       "      <td>NaN</td>\n",
       "      <td>officially-assigned</td>\n",
       "      <td>AWG</td>\n",
       "      <td>297</td>\n",
       "      <td>...</td>\n",
       "      <td>Caribbean</td>\n",
       "      <td>Dutch,Papiamento</td>\n",
       "      <td>Aruba,Aruba,Aruba,Aruba,Aruba,Aruba,Aruba,Arub...</td>\n",
       "      <td>12.5,-69.96666666</td>\n",
       "      <td>Aruban</td>\n",
       "      <td>NaN</td>\n",
       "      <td>NaN</td>\n",
       "      <td>180.0</td>\n",
       "      <td>🇦🇼</td>\n",
       "      <td>Aruba</td>\n",
       "    </tr>\n",
       "    <tr>\n",
       "      <th>1</th>\n",
       "      <td>Aruba,Aruba,Aruba,Aruba,Aruba,Aruba</td>\n",
       "      <td>.aw</td>\n",
       "      <td>AW</td>\n",
       "      <td>533.0</td>\n",
       "      <td>ABW</td>\n",
       "      <td>ARU</td>\n",
       "      <td>NaN</td>\n",
       "      <td>officially-assigned</td>\n",
       "      <td>AWG</td>\n",
       "      <td>297</td>\n",
       "      <td>...</td>\n",
       "      <td>Caribbean</td>\n",
       "      <td>Dutch,Papiamento</td>\n",
       "      <td>Aruba,Aruba,Aruba,Aruba,Aruba,Aruba,Aruba,Arub...</td>\n",
       "      <td>12.5,-69.96666666</td>\n",
       "      <td>Aruban</td>\n",
       "      <td>NaN</td>\n",
       "      <td>NaN</td>\n",
       "      <td>180.0</td>\n",
       "      <td>🇦🇼</td>\n",
       "      <td>Aruba</td>\n",
       "    </tr>\n",
       "    <tr>\n",
       "      <th>2</th>\n",
       "      <td>Aruba,Aruba,Aruba,Aruba,Aruba,Aruba</td>\n",
       "      <td>.aw</td>\n",
       "      <td>AW</td>\n",
       "      <td>533.0</td>\n",
       "      <td>ABW</td>\n",
       "      <td>ARU</td>\n",
       "      <td>NaN</td>\n",
       "      <td>officially-assigned</td>\n",
       "      <td>AWG</td>\n",
       "      <td>297</td>\n",
       "      <td>...</td>\n",
       "      <td>Caribbean</td>\n",
       "      <td>Dutch,Papiamento</td>\n",
       "      <td>Aruba,Aruba,Aruba,Aruba,Aruba,Aruba,Aruba,Arub...</td>\n",
       "      <td>12.5,-69.96666666</td>\n",
       "      <td>Aruban</td>\n",
       "      <td>NaN</td>\n",
       "      <td>NaN</td>\n",
       "      <td>180.0</td>\n",
       "      <td>🇦🇼</td>\n",
       "      <td>Aruba</td>\n",
       "    </tr>\n",
       "    <tr>\n",
       "      <th>3</th>\n",
       "      <td>Aruba,Aruba,Aruba,Aruba,Aruba,Aruba</td>\n",
       "      <td>.aw</td>\n",
       "      <td>AW</td>\n",
       "      <td>533.0</td>\n",
       "      <td>ABW</td>\n",
       "      <td>ARU</td>\n",
       "      <td>NaN</td>\n",
       "      <td>officially-assigned</td>\n",
       "      <td>AWG</td>\n",
       "      <td>297</td>\n",
       "      <td>...</td>\n",
       "      <td>Caribbean</td>\n",
       "      <td>Dutch,Papiamento</td>\n",
       "      <td>Aruba,Aruba,Aruba,Aruba,Aruba,Aruba,Aruba,Arub...</td>\n",
       "      <td>12.5,-69.96666666</td>\n",
       "      <td>Aruban</td>\n",
       "      <td>NaN</td>\n",
       "      <td>NaN</td>\n",
       "      <td>180.0</td>\n",
       "      <td>🇦🇼</td>\n",
       "      <td>Aruba</td>\n",
       "    </tr>\n",
       "    <tr>\n",
       "      <th>4</th>\n",
       "      <td>Aruba,Aruba,Aruba,Aruba,Aruba,Aruba</td>\n",
       "      <td>.aw</td>\n",
       "      <td>AW</td>\n",
       "      <td>533.0</td>\n",
       "      <td>ABW</td>\n",
       "      <td>ARU</td>\n",
       "      <td>NaN</td>\n",
       "      <td>officially-assigned</td>\n",
       "      <td>AWG</td>\n",
       "      <td>297</td>\n",
       "      <td>...</td>\n",
       "      <td>Caribbean</td>\n",
       "      <td>Dutch,Papiamento</td>\n",
       "      <td>Aruba,Aruba,Aruba,Aruba,Aruba,Aruba,Aruba,Arub...</td>\n",
       "      <td>12.5,-69.96666666</td>\n",
       "      <td>Aruban</td>\n",
       "      <td>NaN</td>\n",
       "      <td>NaN</td>\n",
       "      <td>180.0</td>\n",
       "      <td>🇦🇼</td>\n",
       "      <td>Aruba</td>\n",
       "    </tr>\n",
       "    <tr>\n",
       "      <th>...</th>\n",
       "      <td>...</td>\n",
       "      <td>...</td>\n",
       "      <td>...</td>\n",
       "      <td>...</td>\n",
       "      <td>...</td>\n",
       "      <td>...</td>\n",
       "      <td>...</td>\n",
       "      <td>...</td>\n",
       "      <td>...</td>\n",
       "      <td>...</td>\n",
       "      <td>...</td>\n",
       "      <td>...</td>\n",
       "      <td>...</td>\n",
       "      <td>...</td>\n",
       "      <td>...</td>\n",
       "      <td>...</td>\n",
       "      <td>...</td>\n",
       "      <td>...</td>\n",
       "      <td>...</td>\n",
       "      <td>...</td>\n",
       "      <td>...</td>\n",
       "    </tr>\n",
       "    <tr>\n",
       "      <th>174995</th>\n",
       "      <td>Zimbabwe,Republic of Zimbabwe,Republic of Zimb...</td>\n",
       "      <td>.zw</td>\n",
       "      <td>ZW</td>\n",
       "      <td>716.0</td>\n",
       "      <td>ZWE</td>\n",
       "      <td>ZIM</td>\n",
       "      <td>1.0</td>\n",
       "      <td>officially-assigned</td>\n",
       "      <td>ZWL</td>\n",
       "      <td>263</td>\n",
       "      <td>...</td>\n",
       "      <td>Eastern Africa</td>\n",
       "      <td>Chibarwe,English,Kalanga,Khoisan,Ndau,Northern...</td>\n",
       "      <td>Zimbabwská republika,Zimbabwe,Republik Simbabw...</td>\n",
       "      <td>-20,30</td>\n",
       "      <td>Zimbabwean</td>\n",
       "      <td>1.0</td>\n",
       "      <td>BWA,MOZ,ZAF,ZMB</td>\n",
       "      <td>390757.0</td>\n",
       "      <td>🇿🇼</td>\n",
       "      <td>Zimbabwe</td>\n",
       "    </tr>\n",
       "    <tr>\n",
       "      <th>174996</th>\n",
       "      <td>Zimbabwe,Republic of Zimbabwe,Republic of Zimb...</td>\n",
       "      <td>.zw</td>\n",
       "      <td>ZW</td>\n",
       "      <td>716.0</td>\n",
       "      <td>ZWE</td>\n",
       "      <td>ZIM</td>\n",
       "      <td>1.0</td>\n",
       "      <td>officially-assigned</td>\n",
       "      <td>ZWL</td>\n",
       "      <td>263</td>\n",
       "      <td>...</td>\n",
       "      <td>Eastern Africa</td>\n",
       "      <td>Chibarwe,English,Kalanga,Khoisan,Ndau,Northern...</td>\n",
       "      <td>Zimbabwská republika,Zimbabwe,Republik Simbabw...</td>\n",
       "      <td>-20,30</td>\n",
       "      <td>Zimbabwean</td>\n",
       "      <td>1.0</td>\n",
       "      <td>BWA,MOZ,ZAF,ZMB</td>\n",
       "      <td>390757.0</td>\n",
       "      <td>🇿🇼</td>\n",
       "      <td>Zimbabwe</td>\n",
       "    </tr>\n",
       "    <tr>\n",
       "      <th>174997</th>\n",
       "      <td>Zimbabwe,Republic of Zimbabwe,Republic of Zimb...</td>\n",
       "      <td>.zw</td>\n",
       "      <td>ZW</td>\n",
       "      <td>716.0</td>\n",
       "      <td>ZWE</td>\n",
       "      <td>ZIM</td>\n",
       "      <td>1.0</td>\n",
       "      <td>officially-assigned</td>\n",
       "      <td>ZWL</td>\n",
       "      <td>263</td>\n",
       "      <td>...</td>\n",
       "      <td>Eastern Africa</td>\n",
       "      <td>Chibarwe,English,Kalanga,Khoisan,Ndau,Northern...</td>\n",
       "      <td>Zimbabwská republika,Zimbabwe,Republik Simbabw...</td>\n",
       "      <td>-20,30</td>\n",
       "      <td>Zimbabwean</td>\n",
       "      <td>1.0</td>\n",
       "      <td>BWA,MOZ,ZAF,ZMB</td>\n",
       "      <td>390757.0</td>\n",
       "      <td>🇿🇼</td>\n",
       "      <td>Zimbabwe</td>\n",
       "    </tr>\n",
       "    <tr>\n",
       "      <th>174998</th>\n",
       "      <td>Zimbabwe,Republic of Zimbabwe,Republic of Zimb...</td>\n",
       "      <td>.zw</td>\n",
       "      <td>ZW</td>\n",
       "      <td>716.0</td>\n",
       "      <td>ZWE</td>\n",
       "      <td>ZIM</td>\n",
       "      <td>1.0</td>\n",
       "      <td>officially-assigned</td>\n",
       "      <td>ZWL</td>\n",
       "      <td>263</td>\n",
       "      <td>...</td>\n",
       "      <td>Eastern Africa</td>\n",
       "      <td>Chibarwe,English,Kalanga,Khoisan,Ndau,Northern...</td>\n",
       "      <td>Zimbabwská republika,Zimbabwe,Republik Simbabw...</td>\n",
       "      <td>-20,30</td>\n",
       "      <td>Zimbabwean</td>\n",
       "      <td>1.0</td>\n",
       "      <td>BWA,MOZ,ZAF,ZMB</td>\n",
       "      <td>390757.0</td>\n",
       "      <td>🇿🇼</td>\n",
       "      <td>Zimbabwe</td>\n",
       "    </tr>\n",
       "    <tr>\n",
       "      <th>174999</th>\n",
       "      <td>Zimbabwe,Republic of Zimbabwe,Republic of Zimb...</td>\n",
       "      <td>.zw</td>\n",
       "      <td>ZW</td>\n",
       "      <td>716.0</td>\n",
       "      <td>ZWE</td>\n",
       "      <td>ZIM</td>\n",
       "      <td>1.0</td>\n",
       "      <td>officially-assigned</td>\n",
       "      <td>ZWL</td>\n",
       "      <td>263</td>\n",
       "      <td>...</td>\n",
       "      <td>Eastern Africa</td>\n",
       "      <td>Chibarwe,English,Kalanga,Khoisan,Ndau,Northern...</td>\n",
       "      <td>Zimbabwská republika,Zimbabwe,Republik Simbabw...</td>\n",
       "      <td>-20,30</td>\n",
       "      <td>Zimbabwean</td>\n",
       "      <td>1.0</td>\n",
       "      <td>BWA,MOZ,ZAF,ZMB</td>\n",
       "      <td>390757.0</td>\n",
       "      <td>🇿🇼</td>\n",
       "      <td>Zimbabwe</td>\n",
       "    </tr>\n",
       "  </tbody>\n",
       "</table>\n",
       "<p>175000 rows × 23 columns</p>\n",
       "</div>"
      ],
      "text/plain": [
       "                                                     name  tld cca2   ccn3  \\\n",
       "0                     Aruba,Aruba,Aruba,Aruba,Aruba,Aruba  .aw   AW  533.0   \n",
       "1                     Aruba,Aruba,Aruba,Aruba,Aruba,Aruba  .aw   AW  533.0   \n",
       "2                     Aruba,Aruba,Aruba,Aruba,Aruba,Aruba  .aw   AW  533.0   \n",
       "3                     Aruba,Aruba,Aruba,Aruba,Aruba,Aruba  .aw   AW  533.0   \n",
       "4                     Aruba,Aruba,Aruba,Aruba,Aruba,Aruba  .aw   AW  533.0   \n",
       "...                                                   ...  ...  ...    ...   \n",
       "174995  Zimbabwe,Republic of Zimbabwe,Republic of Zimb...  .zw   ZW  716.0   \n",
       "174996  Zimbabwe,Republic of Zimbabwe,Republic of Zimb...  .zw   ZW  716.0   \n",
       "174997  Zimbabwe,Republic of Zimbabwe,Republic of Zimb...  .zw   ZW  716.0   \n",
       "174998  Zimbabwe,Republic of Zimbabwe,Republic of Zimb...  .zw   ZW  716.0   \n",
       "174999  Zimbabwe,Republic of Zimbabwe,Republic of Zimb...  .zw   ZW  716.0   \n",
       "\n",
       "       cca3 cioc independent               status currency callingCode  ...  \\\n",
       "0       ABW  ARU         NaN  officially-assigned      AWG         297  ...   \n",
       "1       ABW  ARU         NaN  officially-assigned      AWG         297  ...   \n",
       "2       ABW  ARU         NaN  officially-assigned      AWG         297  ...   \n",
       "3       ABW  ARU         NaN  officially-assigned      AWG         297  ...   \n",
       "4       ABW  ARU         NaN  officially-assigned      AWG         297  ...   \n",
       "...     ...  ...         ...                  ...      ...         ...  ...   \n",
       "174995  ZWE  ZIM         1.0  officially-assigned      ZWL         263  ...   \n",
       "174996  ZWE  ZIM         1.0  officially-assigned      ZWL         263  ...   \n",
       "174997  ZWE  ZIM         1.0  officially-assigned      ZWL         263  ...   \n",
       "174998  ZWE  ZIM         1.0  officially-assigned      ZWL         263  ...   \n",
       "174999  ZWE  ZIM         1.0  officially-assigned      ZWL         263  ...   \n",
       "\n",
       "             subregion                                          languages  \\\n",
       "0            Caribbean                                   Dutch,Papiamento   \n",
       "1            Caribbean                                   Dutch,Papiamento   \n",
       "2            Caribbean                                   Dutch,Papiamento   \n",
       "3            Caribbean                                   Dutch,Papiamento   \n",
       "4            Caribbean                                   Dutch,Papiamento   \n",
       "...                ...                                                ...   \n",
       "174995  Eastern Africa  Chibarwe,English,Kalanga,Khoisan,Ndau,Northern...   \n",
       "174996  Eastern Africa  Chibarwe,English,Kalanga,Khoisan,Ndau,Northern...   \n",
       "174997  Eastern Africa  Chibarwe,English,Kalanga,Khoisan,Ndau,Northern...   \n",
       "174998  Eastern Africa  Chibarwe,English,Kalanga,Khoisan,Ndau,Northern...   \n",
       "174999  Eastern Africa  Chibarwe,English,Kalanga,Khoisan,Ndau,Northern...   \n",
       "\n",
       "                                             translations             latlng  \\\n",
       "0       Aruba,Aruba,Aruba,Aruba,Aruba,Aruba,Aruba,Arub...  12.5,-69.96666666   \n",
       "1       Aruba,Aruba,Aruba,Aruba,Aruba,Aruba,Aruba,Arub...  12.5,-69.96666666   \n",
       "2       Aruba,Aruba,Aruba,Aruba,Aruba,Aruba,Aruba,Arub...  12.5,-69.96666666   \n",
       "3       Aruba,Aruba,Aruba,Aruba,Aruba,Aruba,Aruba,Arub...  12.5,-69.96666666   \n",
       "4       Aruba,Aruba,Aruba,Aruba,Aruba,Aruba,Aruba,Arub...  12.5,-69.96666666   \n",
       "...                                                   ...                ...   \n",
       "174995  Zimbabwská republika,Zimbabwe,Republik Simbabw...             -20,30   \n",
       "174996  Zimbabwská republika,Zimbabwe,Republik Simbabw...             -20,30   \n",
       "174997  Zimbabwská republika,Zimbabwe,Republik Simbabw...             -20,30   \n",
       "174998  Zimbabwská republika,Zimbabwe,Republik Simbabw...             -20,30   \n",
       "174999  Zimbabwská republika,Zimbabwe,Republik Simbabw...             -20,30   \n",
       "\n",
       "           demonym landlocked          borders      area flag   Country  \n",
       "0           Aruban        NaN              NaN     180.0   🇦🇼     Aruba  \n",
       "1           Aruban        NaN              NaN     180.0   🇦🇼     Aruba  \n",
       "2           Aruban        NaN              NaN     180.0   🇦🇼     Aruba  \n",
       "3           Aruban        NaN              NaN     180.0   🇦🇼     Aruba  \n",
       "4           Aruban        NaN              NaN     180.0   🇦🇼     Aruba  \n",
       "...            ...        ...              ...       ...  ...       ...  \n",
       "174995  Zimbabwean        1.0  BWA,MOZ,ZAF,ZMB  390757.0   🇿🇼  Zimbabwe  \n",
       "174996  Zimbabwean        1.0  BWA,MOZ,ZAF,ZMB  390757.0   🇿🇼  Zimbabwe  \n",
       "174997  Zimbabwean        1.0  BWA,MOZ,ZAF,ZMB  390757.0   🇿🇼  Zimbabwe  \n",
       "174998  Zimbabwean        1.0  BWA,MOZ,ZAF,ZMB  390757.0   🇿🇼  Zimbabwe  \n",
       "174999  Zimbabwean        1.0  BWA,MOZ,ZAF,ZMB  390757.0   🇿🇼  Zimbabwe  \n",
       "\n",
       "[175000 rows x 23 columns]"
      ]
     },
     "metadata": {},
     "output_type": "display_data"
    }
   ],
   "source": [
    "countries"
   ]
  },
  {
   "cell_type": "code",
   "execution_count": 33,
   "id": "c31db455",
   "metadata": {},
   "outputs": [],
   "source": [
    "countries[\"landlocked\"] = countries[\"landlocked\"].fillna(\"False\").replace(1,\"True\")\n",
    "countries[\"NumOfficialLanguages\"]=countries.languages.str.count(\",\")+1\n",
    "countries[\"NumBorderingCountries\"]=countries.borders.str.count(\",\")+1\n",
    "countries[\"NumBorderingCountries\"]=countries[\"NumBorderingCountries\"].fillna(0)\n",
    "countries = countries[['Country','cca3', 'landlocked', \"NumOfficialLanguages\", \"NumBorderingCountries\",'area']]"
   ]
  },
  {
   "cell_type": "code",
   "execution_count": 34,
   "id": "05d964d3",
   "metadata": {},
   "outputs": [
    {
     "name": "stdout",
     "output_type": "stream",
     "text": [
      "Total time: 6.9141387939453125e-06\n",
      "Total accesses: 68, VisList length: 0\n",
      "Hit rate: 0.6029411764705882\n",
      "Total time: 0.002032041549682617\n",
      "Total accesses: 68, VisList length: 1\n",
      "Hit rate: 0.6029411764705882\n",
      "Total time: 0.03382706642150879\n",
      "Total accesses: 68, VisList length: 4\n",
      "Hit rate: 0.6029411764705882\n",
      "Total time: 5.9604644775390625e-06\n",
      "Total accesses: 68, VisList length: 0\n",
      "Hit rate: 0.6029411764705882\n",
      "Total time: 0.007608175277709961\n",
      "Total accesses: 68, VisList length: 1\n",
      "Hit rate: 0.6029411764705882\n"
     ]
    },
    {
     "name": "stderr",
     "output_type": "stream",
     "text": [
      "/Users/rithvik/dev/cs262/lux/.venv/lib/python3.9/site-packages/altair/utils/core.py:317: FutureWarning:iteritems is deprecated and will be removed in a future version. Use .items instead.\n",
      "/Users/rithvik/dev/cs262/lux/.venv/lib/python3.9/site-packages/altair/utils/core.py:317: FutureWarning:iteritems is deprecated and will be removed in a future version. Use .items instead.\n",
      "/Users/rithvik/dev/cs262/lux/.venv/lib/python3.9/site-packages/altair/utils/core.py:317: FutureWarning:iteritems is deprecated and will be removed in a future version. Use .items instead.\n",
      "/Users/rithvik/dev/cs262/lux/.venv/lib/python3.9/site-packages/altair/utils/core.py:317: FutureWarning:iteritems is deprecated and will be removed in a future version. Use .items instead.\n",
      "/Users/rithvik/dev/cs262/lux/.venv/lib/python3.9/site-packages/altair/utils/core.py:317: FutureWarning:iteritems is deprecated and will be removed in a future version. Use .items instead.\n",
      "/Users/rithvik/dev/cs262/lux/.venv/lib/python3.9/site-packages/altair/utils/core.py:317: FutureWarning:iteritems is deprecated and will be removed in a future version. Use .items instead.\n"
     ]
    },
    {
     "data": {
      "application/vnd.jupyter.widget-view+json": {
       "model_id": "48ca706d737e4c899c48ae51a7a9f0e2",
       "version_major": 2,
       "version_minor": 0
      },
      "text/plain": [
       "Button(description='Toggle Pandas/Lux', layout=Layout(top='5px', width='140px'), style=ButtonStyle())"
      ]
     },
     "metadata": {},
     "output_type": "display_data"
    },
    {
     "data": {
      "application/vnd.jupyter.widget-view+json": {
       "model_id": "ba8f2d7c486f44b292cbafabbb7e65c1",
       "version_major": 2,
       "version_minor": 0
      },
      "text/plain": [
       "Output()"
      ]
     },
     "metadata": {},
     "output_type": "display_data"
    }
   ],
   "source": [
    "countries"
   ]
  },
  {
   "cell_type": "code",
   "execution_count": null,
   "id": "8f9b0963",
   "metadata": {},
   "outputs": [],
   "source": []
  }
 ],
 "metadata": {
  "kernelspec": {
   "display_name": ".venv",
   "language": "python",
   "name": ".venv"
  },
  "language_info": {
   "codemirror_mode": {
    "name": "ipython",
    "version": 3
   },
   "file_extension": ".py",
   "mimetype": "text/x-python",
   "name": "python",
   "nbconvert_exporter": "python",
   "pygments_lexer": "ipython3",
   "version": "3.9.13"
  }
 },
 "nbformat": 4,
 "nbformat_minor": 5
}
