{
 "cells": [
  {
   "cell_type": "code",
   "execution_count": 1,
   "id": "92145997-3f2f-42cb-8817-5c82dee88780",
   "metadata": {},
   "outputs": [],
   "source": [
    "import lux\n",
    "import pandas as pd\n",
    "import numpy as np"
   ]
  },
  {
   "cell_type": "code",
   "execution_count": 62,
   "id": "acb6cece",
   "metadata": {},
   "outputs": [],
   "source": [
    "lux.config.sampling_cap = 1000000000\n",
    "lux.config.sampling_start = 10000000\n",
    "lux.config.sampling = False\n",
    "lux.config.topk = False\n",
    "\n",
    "# Lux has a lot of deprecation warnings\n",
    "import warnings\n",
    "warnings.filterwarnings('ignore')"
   ]
  },
  {
   "cell_type": "code",
   "execution_count": 51,
   "id": "80a0d778-63aa-4399-a1ac-886492ca72b6",
   "metadata": {},
   "outputs": [],
   "source": [
    "df = pd.read_csv(\"https://raw.githubusercontent.com/lux-org/lux-datasets/master/data/college.csv\")"
   ]
  },
  {
   "cell_type": "code",
   "execution_count": 52,
   "id": "2b33bc30-2b03-4d1e-b47c-ee872bdd78f5",
   "metadata": {},
   "outputs": [
    {
     "name": "stdout",
     "output_type": "stream",
     "text": [
      "Total time: 0.0010101795196533203\n",
      "Total accesses: 158, VisList length: 1\n",
      "Hit rate: 0.7658227848101266\n",
      "Total time: 0.009881973266601562\n",
      "Total accesses: 158, VisList length: 14\n",
      "Hit rate: 0.7658227848101266\n",
      "Total time: 0.06980180740356445\n",
      "Total accesses: 158, VisList length: 50\n",
      "Hit rate: 0.7658227848101266\n",
      "Total time: 0.06557297706604004\n",
      "Total accesses: 158, VisList length: 50\n",
      "Hit rate: 0.7658227848101266\n",
      "Total time: 0.003951072692871094\n",
      "Total accesses: 158, VisList length: 2\n",
      "Hit rate: 0.7658227848101266\n",
      "Total time: 0.0007050037384033203\n",
      "Total accesses: 158, VisList length: 1\n",
      "Hit rate: 0.7658227848101266\n"
     ]
    },
    {
     "data": {
      "application/vnd.jupyter.widget-view+json": {
       "model_id": "40360b94edfe4521990b533421f3a29d",
       "version_major": 2,
       "version_minor": 0
      },
      "text/plain": [
       "Button(description='Toggle Pandas/Lux', layout=Layout(top='5px', width='140px'), style=ButtonStyle())"
      ]
     },
     "metadata": {},
     "output_type": "display_data"
    },
    {
     "data": {
      "application/vnd.jupyter.widget-view+json": {
       "model_id": "77873b34bf594646a03062df7195d21c",
       "version_major": 2,
       "version_minor": 0
      },
      "text/plain": [
       "Output()"
      ]
     },
     "metadata": {},
     "output_type": "display_data"
    }
   ],
   "source": [
    "# df.intent=[\"Region=New England\",\"MedianEarnings\"]\n",
    "df.intent=[\"MedianEarnings\", \"SATAverage\"]\n",
    "df"
   ]
  },
  {
   "cell_type": "code",
   "execution_count": 7,
   "id": "2c7126e8-90a4-402d-82b2-84277e3eb397",
   "metadata": {},
   "outputs": [
    {
     "name": "stdout",
     "output_type": "stream",
     "text": [
      "End: 0.033019065856933594\n",
      "Total accesses: 32, VisList length: 8\n",
      "Hit rate: 0.75\n"
     ]
    },
    {
     "name": "stderr",
     "output_type": "stream",
     "text": [
      "/Users/rithvik/dev/cs262/lux/.venv/lib/python3.9/site-packages/altair/utils/core.py:317: FutureWarning:iteritems is deprecated and will be removed in a future version. Use .items instead.\n",
      "/Users/rithvik/dev/cs262/lux/.venv/lib/python3.9/site-packages/altair/utils/core.py:317: FutureWarning:iteritems is deprecated and will be removed in a future version. Use .items instead.\n",
      "/Users/rithvik/dev/cs262/lux/.venv/lib/python3.9/site-packages/altair/utils/core.py:317: FutureWarning:iteritems is deprecated and will be removed in a future version. Use .items instead.\n",
      "/Users/rithvik/dev/cs262/lux/.venv/lib/python3.9/site-packages/altair/utils/core.py:317: FutureWarning:iteritems is deprecated and will be removed in a future version. Use .items instead.\n",
      "/Users/rithvik/dev/cs262/lux/.venv/lib/python3.9/site-packages/altair/utils/core.py:317: FutureWarning:iteritems is deprecated and will be removed in a future version. Use .items instead.\n",
      "/Users/rithvik/dev/cs262/lux/.venv/lib/python3.9/site-packages/altair/utils/core.py:317: FutureWarning:iteritems is deprecated and will be removed in a future version. Use .items instead.\n",
      "/Users/rithvik/dev/cs262/lux/.venv/lib/python3.9/site-packages/altair/utils/core.py:317: FutureWarning:iteritems is deprecated and will be removed in a future version. Use .items instead.\n",
      "/Users/rithvik/dev/cs262/lux/.venv/lib/python3.9/site-packages/altair/utils/core.py:317: FutureWarning:iteritems is deprecated and will be removed in a future version. Use .items instead.\n"
     ]
    },
    {
     "data": {
      "application/vnd.jupyter.widget-view+json": {
       "model_id": "15968a9882dc45fbaa1bdf0a029540fc",
       "version_major": 2,
       "version_minor": 0
      },
      "text/plain": [
       "LuxWidget(recommendations=[{'action': 'Vis List', 'description': 'Shows a vis list defined by the intent', 'vs…"
      ]
     },
     "metadata": {},
     "output_type": "display_data"
    }
   ],
   "source": [
    "from lux.vis.VisList import VisList\n",
    "VisList([\"Region=?\",\"AverageCost\"],df)"
   ]
  },
  {
   "cell_type": "code",
   "execution_count": 4,
   "id": "fca747da-beb4-4f04-83af-6e76090a263b",
   "metadata": {},
   "outputs": [
    {
     "name": "stdout",
     "output_type": "stream",
     "text": [
      "977900\n"
     ]
    }
   ],
   "source": [
    "df = pd.read_csv(\"/Users/rithvik/Downloads/airbnb/AB_NYC_2019.csv\")\n",
    "\n",
    "newdf = pd.DataFrame(np.repeat(df.values, 20, axis=0))\n",
    "newdf.columns = df.columns\n",
    "df = newdf\n",
    "print(len(df))\n",
    "# lux.config.sampling_cap = 10000000\n",
    "# lux.config.sampling_start = 10000000"
   ]
  },
  {
   "cell_type": "code",
   "execution_count": 63,
   "id": "0d7f5b81",
   "metadata": {},
   "outputs": [
    {
     "name": "stdout",
     "output_type": "stream",
     "text": [
      "1294\n"
     ]
    }
   ],
   "source": [
    "df = pd.read_csv(\"https://raw.githubusercontent.com/lux-org/lux-datasets/master/data/college.csv\")\n",
    "df[\"state\"] = [np.random.choice([\"california\", \"new york\", \"new jersey\", \"georgia\", \"texas\", \"maine\", \"louisiana\",\"washington\", \"oregon\"]) for _ in range(len(df))]\n",
    "# df[\"country\"] = np.array([str(np.random.choice([\"001\", \"004\", \"003\"])) for _ in range(len(df))])\n",
    "# df[\"country\"] = df[\"country\"].astype(pd.StringDtype())\n",
    "\n",
    "# newdf = pd.DataFrame(np.repeat(df.values, 700, axis=0))\n",
    "# newdf.columns = df.columns\n",
    "# df = newdf\n",
    "# df[\"country\"] = df[\"country\"].astype(pd.StringDtype())\n",
    "# df[\"state\"] = df[\"state\"].astype(pd.StringDtype())\n",
    "\n",
    "\n",
    "print(len(df))"
   ]
  },
  {
   "cell_type": "code",
   "execution_count": 64,
   "id": "2dabcc76",
   "metadata": {
    "scrolled": false
   },
   "outputs": [
    {
     "name": "stdout",
     "output_type": "stream",
     "text": [
      "Total time: 0.06454181671142578\n",
      "Total accesses: 158, VisList length: 90\n",
      "Hit rate: 0.7658227848101266\n",
      "Total time: 0.02010965347290039\n",
      "Total accesses: 158, VisList length: 10\n",
      "Hit rate: 0.7658227848101266\n",
      "Total time: 0.05365109443664551\n",
      "Total accesses: 158, VisList length: 6\n",
      "Hit rate: 0.7658227848101266\n",
      "Total time: 4.76837158203125e-06\n",
      "Total accesses: 158, VisList length: 0\n",
      "Hit rate: 0.7658227848101266\n",
      "Total time: 0.07395410537719727\n",
      "Total accesses: 158, VisList length: 10\n",
      "Hit rate: 0.7658227848101266\n"
     ]
    },
    {
     "data": {
      "application/vnd.jupyter.widget-view+json": {
       "model_id": "7711cbf799c245e88e2cdd34dbd4687d",
       "version_major": 2,
       "version_minor": 0
      },
      "text/plain": [
       "Button(description='Toggle Pandas/Lux', layout=Layout(top='5px', width='140px'), style=ButtonStyle())"
      ]
     },
     "metadata": {},
     "output_type": "display_data"
    },
    {
     "data": {
      "application/vnd.jupyter.widget-view+json": {
       "model_id": "7aa39451805b4ee096f7b974bb6b346f",
       "version_major": 2,
       "version_minor": 0
      },
      "text/plain": [
       "Output()"
      ]
     },
     "metadata": {},
     "output_type": "display_data"
    }
   ],
   "source": [
    "# df.intent=[\"MedianEarnings\", \"SATAverage\"]\n",
    "# df.intent = [\"MedianEarnings\", \"state\"]\n",
    "df"
   ]
  },
  {
   "cell_type": "code",
   "execution_count": 65,
   "id": "2593299c",
   "metadata": {},
   "outputs": [
    {
     "name": "stdout",
     "output_type": "stream",
     "text": [
      "Total time: 0.0009379386901855469\n",
      "Total accesses: 158, VisList length: 1\n",
      "Hit rate: 0.7658227848101266\n",
      "Total time: 0.012080907821655273\n",
      "Total accesses: 158, VisList length: 15\n",
      "Hit rate: 0.7658227848101266\n",
      "Total time: 0.09251666069030762\n",
      "Total accesses: 158, VisList length: 59\n",
      "Hit rate: 0.7658227848101266\n",
      "Total time: 0.08382916450500488\n",
      "Total accesses: 158, VisList length: 59\n",
      "Hit rate: 0.7658227848101266\n",
      "Total time: 0.004115104675292969\n",
      "Total accesses: 158, VisList length: 2\n",
      "Hit rate: 0.7658227848101266\n",
      "Total time: 0.0009253025054931641\n",
      "Total accesses: 158, VisList length: 1\n",
      "Hit rate: 0.7658227848101266\n"
     ]
    },
    {
     "data": {
      "application/vnd.jupyter.widget-view+json": {
       "model_id": "16ff8e4dfe98476a805091d80a18a509",
       "version_major": 2,
       "version_minor": 0
      },
      "text/plain": [
       "Button(description='Toggle Pandas/Lux', layout=Layout(top='5px', width='140px'), style=ButtonStyle())"
      ]
     },
     "metadata": {},
     "output_type": "display_data"
    },
    {
     "data": {
      "application/vnd.jupyter.widget-view+json": {
       "model_id": "f9edbdd0f5bc4fb1af77de62923498cb",
       "version_major": 2,
       "version_minor": 0
      },
      "text/plain": [
       "Output()"
      ]
     },
     "metadata": {},
     "output_type": "display_data"
    }
   ],
   "source": [
    "df.intent=[\"MedianEarnings\", \"SATAverage\"]\n",
    "df"
   ]
  },
  {
   "cell_type": "code",
   "execution_count": 5,
   "id": "373e4b7b",
   "metadata": {},
   "outputs": [
    {
     "name": "stdout",
     "output_type": "stream",
     "text": [
      "150\n"
     ]
    }
   ],
   "source": [
    "df = pd.read_csv(\"https://raw.githubusercontent.com/mwaskom/seaborn-data/master/iris.csv\")\n",
    "\n",
    "# newdf = pd.DataFrame(np.repeat(df.values, 700, axis=0))\n",
    "# newdf.columns = df.columns\n",
    "# df = newdf\n",
    "print(len(df))"
   ]
  },
  {
   "cell_type": "markdown",
   "id": "95a2b5a9",
   "metadata": {},
   "source": [
    "# Custom Workflow"
   ]
  },
  {
   "cell_type": "code",
   "execution_count": 9,
   "id": "a4021f12",
   "metadata": {},
   "outputs": [
    {
     "name": "stdout",
     "output_type": "stream",
     "text": [
      "977900\n"
     ]
    }
   ],
   "source": [
    "df = pd.read_csv(\"/Users/rithvik/Downloads/airbnb/AB_NYC_2019.csv\")\n",
    "\n",
    "newdf = pd.DataFrame(np.repeat(df.values, 20, axis=0))\n",
    "newdf.columns = df.columns\n",
    "df = newdf\n",
    "print(len(df))\n",
    "df['last_review'] = pd.to_datetime(df['last_review'], infer_datetime_format=True)\n"
   ]
  },
  {
   "cell_type": "code",
   "execution_count": 35,
   "id": "0e70c2df",
   "metadata": {},
   "outputs": [
    {
     "name": "stdout",
     "output_type": "stream",
     "text": [
      "1294\n"
     ]
    }
   ],
   "source": [
    "df = pd.read_csv(\"https://raw.githubusercontent.com/lux-org/lux-datasets/master/data/college.csv\")\n",
    "df[\"state\"] = [np.random.choice([\"california\", \"new york\", \"new jersey\", \"georgia\", \"texas\", \"maine\", \"louisiana\",\"washington\", \"oregon\"]) for _ in range(len(df))]\n",
    "# df[\"country\"] = np.array([str(np.random.choice([\"001\", \"004\", \"003\"])) for _ in range(len(df))])\n",
    "# df[\"country\"] = df[\"country\"].astype(pd.StringDtype())\n",
    "df[\"state\"] = df[\"state\"].astype(pd.StringDtype())\n",
    "\n",
    "# newdf = pd.DataFrame(np.repeat(df.values, 700, axis=0))\n",
    "# newdf.columns = df.columns\n",
    "# df = newdf\n",
    "# df[\"country\"] = df[\"country\"].astype(pd.StringDtype())\n",
    "\n",
    "print(len(df))"
   ]
  },
  {
   "cell_type": "code",
   "execution_count": 39,
   "id": "ded8241b",
   "metadata": {
    "scrolled": false
   },
   "outputs": [
    {
     "name": "stdout",
     "output_type": "stream",
     "text": [
      "Total time: 0.06447887420654297\n",
      "Total accesses: 68, VisList length: 90\n",
      "Hit rate: 0.6029411764705882\n",
      "Total time: 0.01691293716430664\n",
      "Total accesses: 68, VisList length: 10\n",
      "Hit rate: 0.6029411764705882\n",
      "Total time: 0.04632925987243652\n",
      "Total accesses: 68, VisList length: 6\n",
      "Hit rate: 0.6029411764705882\n",
      "Total time: 5.0067901611328125e-06\n",
      "Total accesses: 68, VisList length: 0\n",
      "Hit rate: 0.6029411764705882\n",
      "Total time: 0.06633496284484863\n",
      "Total accesses: 68, VisList length: 10\n",
      "Hit rate: 0.6029411764705882\n"
     ]
    },
    {
     "name": "stderr",
     "output_type": "stream",
     "text": [
      "/Users/rithvik/dev/cs262/lux/.venv/lib/python3.9/site-packages/altair/utils/core.py:317: FutureWarning:iteritems is deprecated and will be removed in a future version. Use .items instead.\n",
      "/Users/rithvik/dev/cs262/lux/.venv/lib/python3.9/site-packages/altair/utils/core.py:317: FutureWarning:iteritems is deprecated and will be removed in a future version. Use .items instead.\n",
      "/Users/rithvik/dev/cs262/lux/.venv/lib/python3.9/site-packages/altair/utils/core.py:317: FutureWarning:iteritems is deprecated and will be removed in a future version. Use .items instead.\n",
      "/Users/rithvik/dev/cs262/lux/.venv/lib/python3.9/site-packages/altair/utils/core.py:317: FutureWarning:iteritems is deprecated and will be removed in a future version. Use .items instead.\n",
      "/Users/rithvik/dev/cs262/lux/.venv/lib/python3.9/site-packages/altair/utils/core.py:317: FutureWarning:iteritems is deprecated and will be removed in a future version. Use .items instead.\n",
      "/Users/rithvik/dev/cs262/lux/.venv/lib/python3.9/site-packages/altair/utils/core.py:317: FutureWarning:iteritems is deprecated and will be removed in a future version. Use .items instead.\n",
      "/Users/rithvik/dev/cs262/lux/.venv/lib/python3.9/site-packages/altair/utils/core.py:317: FutureWarning:iteritems is deprecated and will be removed in a future version. Use .items instead.\n",
      "/Users/rithvik/dev/cs262/lux/.venv/lib/python3.9/site-packages/altair/utils/core.py:317: FutureWarning:iteritems is deprecated and will be removed in a future version. Use .items instead.\n",
      "/Users/rithvik/dev/cs262/lux/.venv/lib/python3.9/site-packages/altair/utils/core.py:317: FutureWarning:iteritems is deprecated and will be removed in a future version. Use .items instead.\n",
      "/Users/rithvik/dev/cs262/lux/.venv/lib/python3.9/site-packages/altair/utils/core.py:317: FutureWarning:iteritems is deprecated and will be removed in a future version. Use .items instead.\n",
      "/Users/rithvik/dev/cs262/lux/.venv/lib/python3.9/site-packages/altair/utils/core.py:317: FutureWarning:iteritems is deprecated and will be removed in a future version. Use .items instead.\n",
      "/Users/rithvik/dev/cs262/lux/.venv/lib/python3.9/site-packages/altair/utils/core.py:317: FutureWarning:iteritems is deprecated and will be removed in a future version. Use .items instead.\n",
      "/Users/rithvik/dev/cs262/lux/.venv/lib/python3.9/site-packages/altair/utils/core.py:317: FutureWarning:iteritems is deprecated and will be removed in a future version. Use .items instead.\n",
      "/Users/rithvik/dev/cs262/lux/.venv/lib/python3.9/site-packages/altair/utils/core.py:317: FutureWarning:iteritems is deprecated and will be removed in a future version. Use .items instead.\n",
      "/Users/rithvik/dev/cs262/lux/.venv/lib/python3.9/site-packages/altair/utils/core.py:317: FutureWarning:iteritems is deprecated and will be removed in a future version. Use .items instead.\n",
      "/Users/rithvik/dev/cs262/lux/.venv/lib/python3.9/site-packages/altair/utils/core.py:317: FutureWarning:iteritems is deprecated and will be removed in a future version. Use .items instead.\n",
      "/Users/rithvik/dev/cs262/lux/.venv/lib/python3.9/site-packages/altair/utils/core.py:317: FutureWarning:iteritems is deprecated and will be removed in a future version. Use .items instead.\n",
      "/Users/rithvik/dev/cs262/lux/.venv/lib/python3.9/site-packages/altair/utils/core.py:317: FutureWarning:iteritems is deprecated and will be removed in a future version. Use .items instead.\n",
      "/Users/rithvik/dev/cs262/lux/.venv/lib/python3.9/site-packages/altair/utils/core.py:317: FutureWarning:iteritems is deprecated and will be removed in a future version. Use .items instead.\n",
      "/Users/rithvik/dev/cs262/lux/.venv/lib/python3.9/site-packages/altair/utils/core.py:317: FutureWarning:iteritems is deprecated and will be removed in a future version. Use .items instead.\n",
      "/Users/rithvik/dev/cs262/lux/.venv/lib/python3.9/site-packages/altair/utils/core.py:317: FutureWarning:iteritems is deprecated and will be removed in a future version. Use .items instead.\n",
      "/Users/rithvik/dev/cs262/lux/.venv/lib/python3.9/site-packages/altair/utils/core.py:317: FutureWarning:iteritems is deprecated and will be removed in a future version. Use .items instead.\n",
      "/Users/rithvik/dev/cs262/lux/.venv/lib/python3.9/site-packages/altair/utils/core.py:317: FutureWarning:iteritems is deprecated and will be removed in a future version. Use .items instead.\n",
      "/Users/rithvik/dev/cs262/lux/.venv/lib/python3.9/site-packages/altair/utils/core.py:317: FutureWarning:iteritems is deprecated and will be removed in a future version. Use .items instead.\n",
      "/Users/rithvik/dev/cs262/lux/.venv/lib/python3.9/site-packages/altair/utils/core.py:317: FutureWarning:iteritems is deprecated and will be removed in a future version. Use .items instead.\n",
      "/Users/rithvik/dev/cs262/lux/.venv/lib/python3.9/site-packages/altair/utils/core.py:317: FutureWarning:iteritems is deprecated and will be removed in a future version. Use .items instead.\n",
      "/Users/rithvik/dev/cs262/lux/.venv/lib/python3.9/site-packages/altair/utils/core.py:317: FutureWarning:iteritems is deprecated and will be removed in a future version. Use .items instead.\n",
      "/Users/rithvik/dev/cs262/lux/.venv/lib/python3.9/site-packages/altair/utils/core.py:317: FutureWarning:iteritems is deprecated and will be removed in a future version. Use .items instead.\n",
      "/Users/rithvik/dev/cs262/lux/.venv/lib/python3.9/site-packages/altair/utils/core.py:317: FutureWarning:iteritems is deprecated and will be removed in a future version. Use .items instead.\n",
      "/Users/rithvik/dev/cs262/lux/.venv/lib/python3.9/site-packages/altair/utils/core.py:317: FutureWarning:iteritems is deprecated and will be removed in a future version. Use .items instead.\n",
      "/Users/rithvik/dev/cs262/lux/.venv/lib/python3.9/site-packages/altair/utils/core.py:317: FutureWarning:iteritems is deprecated and will be removed in a future version. Use .items instead.\n",
      "/Users/rithvik/dev/cs262/lux/.venv/lib/python3.9/site-packages/altair/utils/core.py:317: FutureWarning:iteritems is deprecated and will be removed in a future version. Use .items instead.\n",
      "/Users/rithvik/dev/cs262/lux/.venv/lib/python3.9/site-packages/altair/utils/core.py:317: FutureWarning:iteritems is deprecated and will be removed in a future version. Use .items instead.\n",
      "/Users/rithvik/dev/cs262/lux/.venv/lib/python3.9/site-packages/altair/utils/core.py:317: FutureWarning:iteritems is deprecated and will be removed in a future version. Use .items instead.\n",
      "/Users/rithvik/dev/cs262/lux/.venv/lib/python3.9/site-packages/altair/utils/core.py:317: FutureWarning:iteritems is deprecated and will be removed in a future version. Use .items instead.\n",
      "/Users/rithvik/dev/cs262/lux/.venv/lib/python3.9/site-packages/altair/utils/core.py:317: FutureWarning:iteritems is deprecated and will be removed in a future version. Use .items instead.\n",
      "/Users/rithvik/dev/cs262/lux/.venv/lib/python3.9/site-packages/altair/utils/core.py:317: FutureWarning:iteritems is deprecated and will be removed in a future version. Use .items instead.\n",
      "/Users/rithvik/dev/cs262/lux/.venv/lib/python3.9/site-packages/altair/utils/core.py:317: FutureWarning:iteritems is deprecated and will be removed in a future version. Use .items instead.\n",
      "/Users/rithvik/dev/cs262/lux/.venv/lib/python3.9/site-packages/altair/utils/core.py:317: FutureWarning:iteritems is deprecated and will be removed in a future version. Use .items instead.\n",
      "/Users/rithvik/dev/cs262/lux/.venv/lib/python3.9/site-packages/altair/utils/core.py:317: FutureWarning:iteritems is deprecated and will be removed in a future version. Use .items instead.\n",
      "/Users/rithvik/dev/cs262/lux/.venv/lib/python3.9/site-packages/altair/utils/core.py:317: FutureWarning:iteritems is deprecated and will be removed in a future version. Use .items instead.\n",
      "/Users/rithvik/dev/cs262/lux/.venv/lib/python3.9/site-packages/altair/utils/core.py:317: FutureWarning:iteritems is deprecated and will be removed in a future version. Use .items instead.\n",
      "/Users/rithvik/dev/cs262/lux/.venv/lib/python3.9/site-packages/altair/utils/core.py:317: FutureWarning:iteritems is deprecated and will be removed in a future version. Use .items instead.\n",
      "/Users/rithvik/dev/cs262/lux/.venv/lib/python3.9/site-packages/altair/utils/core.py:317: FutureWarning:iteritems is deprecated and will be removed in a future version. Use .items instead.\n",
      "/Users/rithvik/dev/cs262/lux/.venv/lib/python3.9/site-packages/altair/utils/core.py:317: FutureWarning:iteritems is deprecated and will be removed in a future version. Use .items instead.\n"
     ]
    },
    {
     "name": "stderr",
     "output_type": "stream",
     "text": [
      "/Users/rithvik/dev/cs262/lux/.venv/lib/python3.9/site-packages/altair/utils/core.py:317: FutureWarning:iteritems is deprecated and will be removed in a future version. Use .items instead.\n",
      "/Users/rithvik/dev/cs262/lux/.venv/lib/python3.9/site-packages/altair/utils/core.py:317: FutureWarning:iteritems is deprecated and will be removed in a future version. Use .items instead.\n",
      "/Users/rithvik/dev/cs262/lux/.venv/lib/python3.9/site-packages/altair/utils/core.py:317: FutureWarning:iteritems is deprecated and will be removed in a future version. Use .items instead.\n",
      "/Users/rithvik/dev/cs262/lux/.venv/lib/python3.9/site-packages/altair/utils/core.py:317: FutureWarning:iteritems is deprecated and will be removed in a future version. Use .items instead.\n",
      "/Users/rithvik/dev/cs262/lux/.venv/lib/python3.9/site-packages/altair/utils/core.py:317: FutureWarning:iteritems is deprecated and will be removed in a future version. Use .items instead.\n",
      "/Users/rithvik/dev/cs262/lux/.venv/lib/python3.9/site-packages/altair/utils/core.py:317: FutureWarning:iteritems is deprecated and will be removed in a future version. Use .items instead.\n",
      "/Users/rithvik/dev/cs262/lux/.venv/lib/python3.9/site-packages/altair/utils/core.py:317: FutureWarning:iteritems is deprecated and will be removed in a future version. Use .items instead.\n",
      "/Users/rithvik/dev/cs262/lux/.venv/lib/python3.9/site-packages/altair/utils/core.py:317: FutureWarning:iteritems is deprecated and will be removed in a future version. Use .items instead.\n",
      "/Users/rithvik/dev/cs262/lux/.venv/lib/python3.9/site-packages/altair/utils/core.py:317: FutureWarning:iteritems is deprecated and will be removed in a future version. Use .items instead.\n",
      "/Users/rithvik/dev/cs262/lux/.venv/lib/python3.9/site-packages/altair/utils/core.py:317: FutureWarning:iteritems is deprecated and will be removed in a future version. Use .items instead.\n",
      "/Users/rithvik/dev/cs262/lux/.venv/lib/python3.9/site-packages/altair/utils/core.py:317: FutureWarning:iteritems is deprecated and will be removed in a future version. Use .items instead.\n",
      "/Users/rithvik/dev/cs262/lux/.venv/lib/python3.9/site-packages/altair/utils/core.py:317: FutureWarning:iteritems is deprecated and will be removed in a future version. Use .items instead.\n",
      "/Users/rithvik/dev/cs262/lux/.venv/lib/python3.9/site-packages/altair/utils/core.py:317: FutureWarning:iteritems is deprecated and will be removed in a future version. Use .items instead.\n",
      "/Users/rithvik/dev/cs262/lux/.venv/lib/python3.9/site-packages/altair/utils/core.py:317: FutureWarning:iteritems is deprecated and will be removed in a future version. Use .items instead.\n",
      "/Users/rithvik/dev/cs262/lux/.venv/lib/python3.9/site-packages/altair/utils/core.py:317: FutureWarning:iteritems is deprecated and will be removed in a future version. Use .items instead.\n",
      "/Users/rithvik/dev/cs262/lux/.venv/lib/python3.9/site-packages/altair/utils/core.py:317: FutureWarning:iteritems is deprecated and will be removed in a future version. Use .items instead.\n",
      "/Users/rithvik/dev/cs262/lux/.venv/lib/python3.9/site-packages/altair/utils/core.py:317: FutureWarning:iteritems is deprecated and will be removed in a future version. Use .items instead.\n",
      "/Users/rithvik/dev/cs262/lux/.venv/lib/python3.9/site-packages/altair/utils/core.py:317: FutureWarning:iteritems is deprecated and will be removed in a future version. Use .items instead.\n",
      "/Users/rithvik/dev/cs262/lux/.venv/lib/python3.9/site-packages/altair/utils/core.py:317: FutureWarning:iteritems is deprecated and will be removed in a future version. Use .items instead.\n",
      "/Users/rithvik/dev/cs262/lux/.venv/lib/python3.9/site-packages/altair/utils/core.py:317: FutureWarning:iteritems is deprecated and will be removed in a future version. Use .items instead.\n",
      "/Users/rithvik/dev/cs262/lux/.venv/lib/python3.9/site-packages/altair/utils/core.py:317: FutureWarning:iteritems is deprecated and will be removed in a future version. Use .items instead.\n",
      "/Users/rithvik/dev/cs262/lux/.venv/lib/python3.9/site-packages/altair/utils/core.py:317: FutureWarning:iteritems is deprecated and will be removed in a future version. Use .items instead.\n",
      "/Users/rithvik/dev/cs262/lux/.venv/lib/python3.9/site-packages/altair/utils/core.py:317: FutureWarning:iteritems is deprecated and will be removed in a future version. Use .items instead.\n",
      "/Users/rithvik/dev/cs262/lux/.venv/lib/python3.9/site-packages/altair/utils/core.py:317: FutureWarning:iteritems is deprecated and will be removed in a future version. Use .items instead.\n",
      "/Users/rithvik/dev/cs262/lux/.venv/lib/python3.9/site-packages/altair/utils/core.py:317: FutureWarning:iteritems is deprecated and will be removed in a future version. Use .items instead.\n",
      "/Users/rithvik/dev/cs262/lux/.venv/lib/python3.9/site-packages/altair/utils/core.py:317: FutureWarning:iteritems is deprecated and will be removed in a future version. Use .items instead.\n"
     ]
    },
    {
     "data": {
      "application/vnd.jupyter.widget-view+json": {
       "model_id": "e138787dc30e4f7e8aaa2a03fd8d1ac9",
       "version_major": 2,
       "version_minor": 0
      },
      "text/plain": [
       "Button(description='Toggle Pandas/Lux', layout=Layout(top='5px', width='140px'), style=ButtonStyle())"
      ]
     },
     "metadata": {},
     "output_type": "display_data"
    },
    {
     "data": {
      "application/vnd.jupyter.widget-view+json": {
       "model_id": "ad9aa712ad5e4ef69e8cbeac423df3d6",
       "version_major": 2,
       "version_minor": 0
      },
      "text/plain": [
       "Output()"
      ]
     },
     "metadata": {},
     "output_type": "display_data"
    }
   ],
   "source": [
    "from lux.vis.VisList import VisList\n",
    "from lux.vis.Vis import Vis\n",
    "\n",
    "# VisList([Vis([\"latitude\", \"longitude\", \"price\"]), Vis([\"room_type=?\", \"price\"])],df)\n",
    "# VisList([\"Region=?\", \"AverageCost\", \"SATAverage|ACTMedian\"],df)\n",
    "# VisList([\"state\", \"AverageCost\", \"SATAverage|ACTMedian\"],df)\n",
    "df"
   ]
  },
  {
   "cell_type": "markdown",
   "id": "2a2d24f0",
   "metadata": {},
   "source": [
    "# Geography Test"
   ]
  },
  {
   "cell_type": "code",
   "execution_count": 28,
   "id": "5b9f30c3",
   "metadata": {},
   "outputs": [],
   "source": [
    "countries = pd.read_csv(\"https://github.com/lux-org/lux-datasets/blob/master/data/countries.csv?raw=True\")\n",
    "countries[\"Country\"]=countries[\"name\"].apply(lambda x:x.split(\",\")[0])\n",
    "countries.loc[countries[\"Country\"]=='United States',\"Country\"] = 'United States of America'"
   ]
  },
  {
   "cell_type": "code",
   "execution_count": 29,
   "id": "f7943667",
   "metadata": {},
   "outputs": [
    {
     "name": "stdout",
     "output_type": "stream",
     "text": [
      "Total time: 0.00430607795715332\n",
      "Total accesses: 68, VisList length: 2\n",
      "Hit rate: 0.6029411764705882\n",
      "Total time: 0.0039370059967041016\n",
      "Total accesses: 68, VisList length: 2\n",
      "Hit rate: 0.6029411764705882\n",
      "Total time: 0.15331196784973145\n",
      "Total accesses: 68, VisList length: 20\n",
      "Hit rate: 0.6029411764705882\n",
      "Total time: 5.9604644775390625e-06\n",
      "Total accesses: 68, VisList length: 0\n",
      "Hit rate: 0.6029411764705882\n",
      "Total time: 0.013052940368652344\n",
      "Total accesses: 68, VisList length: 2\n",
      "Hit rate: 0.6029411764705882\n"
     ]
    },
    {
     "name": "stderr",
     "output_type": "stream",
     "text": [
      "/Users/rithvik/dev/cs262/lux/.venv/lib/python3.9/site-packages/altair/utils/core.py:317: FutureWarning:iteritems is deprecated and will be removed in a future version. Use .items instead.\n",
      "/Users/rithvik/dev/cs262/lux/.venv/lib/python3.9/site-packages/altair/utils/core.py:317: FutureWarning:iteritems is deprecated and will be removed in a future version. Use .items instead.\n",
      "/Users/rithvik/dev/cs262/lux/.venv/lib/python3.9/site-packages/altair/utils/core.py:317: FutureWarning:iteritems is deprecated and will be removed in a future version. Use .items instead.\n",
      "/Users/rithvik/dev/cs262/lux/.venv/lib/python3.9/site-packages/altair/utils/core.py:317: FutureWarning:iteritems is deprecated and will be removed in a future version. Use .items instead.\n",
      "/Users/rithvik/dev/cs262/lux/.venv/lib/python3.9/site-packages/altair/utils/core.py:317: FutureWarning:iteritems is deprecated and will be removed in a future version. Use .items instead.\n",
      "/Users/rithvik/dev/cs262/lux/.venv/lib/python3.9/site-packages/altair/utils/core.py:317: FutureWarning:iteritems is deprecated and will be removed in a future version. Use .items instead.\n",
      "/Users/rithvik/dev/cs262/lux/.venv/lib/python3.9/site-packages/altair/utils/core.py:317: FutureWarning:iteritems is deprecated and will be removed in a future version. Use .items instead.\n",
      "/Users/rithvik/dev/cs262/lux/.venv/lib/python3.9/site-packages/altair/utils/core.py:317: FutureWarning:iteritems is deprecated and will be removed in a future version. Use .items instead.\n",
      "/Users/rithvik/dev/cs262/lux/.venv/lib/python3.9/site-packages/altair/utils/core.py:317: FutureWarning:iteritems is deprecated and will be removed in a future version. Use .items instead.\n",
      "/Users/rithvik/dev/cs262/lux/.venv/lib/python3.9/site-packages/altair/utils/core.py:317: FutureWarning:iteritems is deprecated and will be removed in a future version. Use .items instead.\n",
      "/Users/rithvik/dev/cs262/lux/.venv/lib/python3.9/site-packages/altair/utils/core.py:317: FutureWarning:iteritems is deprecated and will be removed in a future version. Use .items instead.\n",
      "/Users/rithvik/dev/cs262/lux/.venv/lib/python3.9/site-packages/altair/utils/core.py:317: FutureWarning:iteritems is deprecated and will be removed in a future version. Use .items instead.\n",
      "/Users/rithvik/dev/cs262/lux/.venv/lib/python3.9/site-packages/altair/utils/core.py:317: FutureWarning:iteritems is deprecated and will be removed in a future version. Use .items instead.\n",
      "/Users/rithvik/dev/cs262/lux/.venv/lib/python3.9/site-packages/altair/utils/core.py:317: FutureWarning:iteritems is deprecated and will be removed in a future version. Use .items instead.\n",
      "/Users/rithvik/dev/cs262/lux/.venv/lib/python3.9/site-packages/altair/utils/core.py:317: FutureWarning:iteritems is deprecated and will be removed in a future version. Use .items instead.\n",
      "/Users/rithvik/dev/cs262/lux/.venv/lib/python3.9/site-packages/altair/utils/core.py:317: FutureWarning:iteritems is deprecated and will be removed in a future version. Use .items instead.\n",
      "/Users/rithvik/dev/cs262/lux/.venv/lib/python3.9/site-packages/altair/utils/core.py:317: FutureWarning:iteritems is deprecated and will be removed in a future version. Use .items instead.\n",
      "/Users/rithvik/dev/cs262/lux/.venv/lib/python3.9/site-packages/altair/utils/core.py:317: FutureWarning:iteritems is deprecated and will be removed in a future version. Use .items instead.\n",
      "/Users/rithvik/dev/cs262/lux/.venv/lib/python3.9/site-packages/altair/utils/core.py:317: FutureWarning:iteritems is deprecated and will be removed in a future version. Use .items instead.\n",
      "/Users/rithvik/dev/cs262/lux/.venv/lib/python3.9/site-packages/altair/utils/core.py:317: FutureWarning:iteritems is deprecated and will be removed in a future version. Use .items instead.\n",
      "/Users/rithvik/dev/cs262/lux/.venv/lib/python3.9/site-packages/altair/utils/core.py:317: FutureWarning:iteritems is deprecated and will be removed in a future version. Use .items instead.\n",
      "/Users/rithvik/dev/cs262/lux/.venv/lib/python3.9/site-packages/altair/utils/core.py:317: FutureWarning:iteritems is deprecated and will be removed in a future version. Use .items instead.\n",
      "/Users/rithvik/dev/cs262/lux/.venv/lib/python3.9/site-packages/altair/utils/core.py:317: FutureWarning:iteritems is deprecated and will be removed in a future version. Use .items instead.\n",
      "/Users/rithvik/dev/cs262/lux/.venv/lib/python3.9/site-packages/altair/utils/core.py:317: FutureWarning:iteritems is deprecated and will be removed in a future version. Use .items instead.\n",
      "/Users/rithvik/dev/cs262/lux/.venv/lib/python3.9/site-packages/altair/utils/core.py:317: FutureWarning:iteritems is deprecated and will be removed in a future version. Use .items instead.\n"
     ]
    },
    {
     "data": {
      "application/vnd.jupyter.widget-view+json": {
       "model_id": "21272418bf684cabbb3229ae24dfcd73",
       "version_major": 2,
       "version_minor": 0
      },
      "text/plain": [
       "Button(description='Toggle Pandas/Lux', layout=Layout(top='5px', width='140px'), style=ButtonStyle())"
      ]
     },
     "metadata": {},
     "output_type": "display_data"
    },
    {
     "data": {
      "application/vnd.jupyter.widget-view+json": {
       "model_id": "a069265f050d4312a7604cea6cbfa114",
       "version_major": 2,
       "version_minor": 0
      },
      "text/plain": [
       "Output()"
      ]
     },
     "metadata": {},
     "output_type": "display_data"
    }
   ],
   "source": [
    "countries"
   ]
  },
  {
   "cell_type": "code",
   "execution_count": 33,
   "id": "c31db455",
   "metadata": {},
   "outputs": [],
   "source": [
    "countries[\"landlocked\"] = countries[\"landlocked\"].fillna(\"False\").replace(1,\"True\")\n",
    "countries[\"NumOfficialLanguages\"]=countries.languages.str.count(\",\")+1\n",
    "countries[\"NumBorderingCountries\"]=countries.borders.str.count(\",\")+1\n",
    "countries[\"NumBorderingCountries\"]=countries[\"NumBorderingCountries\"].fillna(0)\n",
    "countries = countries[['Country','cca3', 'landlocked', \"NumOfficialLanguages\", \"NumBorderingCountries\",'area']]"
   ]
  },
  {
   "cell_type": "code",
   "execution_count": 34,
   "id": "05d964d3",
   "metadata": {},
   "outputs": [
    {
     "name": "stdout",
     "output_type": "stream",
     "text": [
      "Total time: 6.9141387939453125e-06\n",
      "Total accesses: 68, VisList length: 0\n",
      "Hit rate: 0.6029411764705882\n",
      "Total time: 0.002032041549682617\n",
      "Total accesses: 68, VisList length: 1\n",
      "Hit rate: 0.6029411764705882\n",
      "Total time: 0.03382706642150879\n",
      "Total accesses: 68, VisList length: 4\n",
      "Hit rate: 0.6029411764705882\n",
      "Total time: 5.9604644775390625e-06\n",
      "Total accesses: 68, VisList length: 0\n",
      "Hit rate: 0.6029411764705882\n",
      "Total time: 0.007608175277709961\n",
      "Total accesses: 68, VisList length: 1\n",
      "Hit rate: 0.6029411764705882\n"
     ]
    },
    {
     "name": "stderr",
     "output_type": "stream",
     "text": [
      "/Users/rithvik/dev/cs262/lux/.venv/lib/python3.9/site-packages/altair/utils/core.py:317: FutureWarning:iteritems is deprecated and will be removed in a future version. Use .items instead.\n",
      "/Users/rithvik/dev/cs262/lux/.venv/lib/python3.9/site-packages/altair/utils/core.py:317: FutureWarning:iteritems is deprecated and will be removed in a future version. Use .items instead.\n",
      "/Users/rithvik/dev/cs262/lux/.venv/lib/python3.9/site-packages/altair/utils/core.py:317: FutureWarning:iteritems is deprecated and will be removed in a future version. Use .items instead.\n",
      "/Users/rithvik/dev/cs262/lux/.venv/lib/python3.9/site-packages/altair/utils/core.py:317: FutureWarning:iteritems is deprecated and will be removed in a future version. Use .items instead.\n",
      "/Users/rithvik/dev/cs262/lux/.venv/lib/python3.9/site-packages/altair/utils/core.py:317: FutureWarning:iteritems is deprecated and will be removed in a future version. Use .items instead.\n",
      "/Users/rithvik/dev/cs262/lux/.venv/lib/python3.9/site-packages/altair/utils/core.py:317: FutureWarning:iteritems is deprecated and will be removed in a future version. Use .items instead.\n"
     ]
    },
    {
     "data": {
      "application/vnd.jupyter.widget-view+json": {
       "model_id": "48ca706d737e4c899c48ae51a7a9f0e2",
       "version_major": 2,
       "version_minor": 0
      },
      "text/plain": [
       "Button(description='Toggle Pandas/Lux', layout=Layout(top='5px', width='140px'), style=ButtonStyle())"
      ]
     },
     "metadata": {},
     "output_type": "display_data"
    },
    {
     "data": {
      "application/vnd.jupyter.widget-view+json": {
       "model_id": "ba8f2d7c486f44b292cbafabbb7e65c1",
       "version_major": 2,
       "version_minor": 0
      },
      "text/plain": [
       "Output()"
      ]
     },
     "metadata": {},
     "output_type": "display_data"
    }
   ],
   "source": [
    "countries"
   ]
  },
  {
   "cell_type": "code",
   "execution_count": null,
   "id": "8f9b0963",
   "metadata": {},
   "outputs": [],
   "source": []
  }
 ],
 "metadata": {
  "kernelspec": {
   "display_name": ".venv",
   "language": "python",
   "name": ".venv"
  },
  "language_info": {
   "codemirror_mode": {
    "name": "ipython",
    "version": 3
   },
   "file_extension": ".py",
   "mimetype": "text/x-python",
   "name": "python",
   "nbconvert_exporter": "python",
   "pygments_lexer": "ipython3",
   "version": "3.9.13"
  }
 },
 "nbformat": 4,
 "nbformat_minor": 5
}
