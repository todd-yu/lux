{
 "cells": [
  {
   "cell_type": "code",
   "execution_count": 1,
   "id": "92145997-3f2f-42cb-8817-5c82dee88780",
   "metadata": {},
   "outputs": [],
   "source": [
    "import lux\n",
    "import pandas as pd\n",
    "import numpy as np"
   ]
  },
  {
   "cell_type": "code",
   "execution_count": 2,
   "id": "80a0d778-63aa-4399-a1ac-886492ca72b6",
   "metadata": {},
   "outputs": [],
   "source": [
    "df = pd.read_csv(\"https://raw.githubusercontent.com/lux-org/lux-datasets/master/data/college.csv\")"
   ]
  },
  {
   "cell_type": "code",
   "execution_count": 8,
   "id": "2b33bc30-2b03-4d1e-b47c-ee872bdd78f5",
   "metadata": {},
   "outputs": [
    {
     "name": "stdout",
     "output_type": "stream",
     "text": [
      "1294\n",
      "End: 0.0012788772583007812\n",
      "Total accesses: 0, VisList length: 1\n",
      "1294\n",
      "End: 0.013144969940185547\n",
      "Total accesses: 0, VisList length: 14\n",
      "1294\n",
      "End: 0.07724380493164062\n",
      "Total accesses: 0, VisList length: 50\n",
      "1294\n",
      "End: 0.08011698722839355\n",
      "Total accesses: 0, VisList length: 50\n",
      "1294\n",
      "End: 0.0053980350494384766\n",
      "Total accesses: 0, VisList length: 2\n",
      "1294\n",
      "End: 0.0007901191711425781\n",
      "Total accesses: 0, VisList length: 1\n"
     ]
    },
    {
     "name": "stderr",
     "output_type": "stream",
     "text": [
      "/Users/rithvik/dev/cs262/lux/.venv/lib/python3.9/site-packages/altair/utils/core.py:317: FutureWarning:iteritems is deprecated and will be removed in a future version. Use .items instead.\n",
      "/Users/rithvik/dev/cs262/lux/.venv/lib/python3.9/site-packages/altair/utils/core.py:317: FutureWarning:iteritems is deprecated and will be removed in a future version. Use .items instead.\n",
      "/Users/rithvik/dev/cs262/lux/.venv/lib/python3.9/site-packages/altair/utils/core.py:317: FutureWarning:iteritems is deprecated and will be removed in a future version. Use .items instead.\n",
      "/Users/rithvik/dev/cs262/lux/.venv/lib/python3.9/site-packages/altair/utils/core.py:317: FutureWarning:iteritems is deprecated and will be removed in a future version. Use .items instead.\n",
      "/Users/rithvik/dev/cs262/lux/.venv/lib/python3.9/site-packages/altair/utils/core.py:317: FutureWarning:iteritems is deprecated and will be removed in a future version. Use .items instead.\n",
      "/Users/rithvik/dev/cs262/lux/.venv/lib/python3.9/site-packages/altair/utils/core.py:317: FutureWarning:iteritems is deprecated and will be removed in a future version. Use .items instead.\n",
      "/Users/rithvik/dev/cs262/lux/.venv/lib/python3.9/site-packages/altair/utils/core.py:317: FutureWarning:iteritems is deprecated and will be removed in a future version. Use .items instead.\n",
      "/Users/rithvik/dev/cs262/lux/.venv/lib/python3.9/site-packages/altair/utils/core.py:317: FutureWarning:iteritems is deprecated and will be removed in a future version. Use .items instead.\n",
      "/Users/rithvik/dev/cs262/lux/.venv/lib/python3.9/site-packages/altair/utils/core.py:317: FutureWarning:iteritems is deprecated and will be removed in a future version. Use .items instead.\n",
      "/Users/rithvik/dev/cs262/lux/.venv/lib/python3.9/site-packages/altair/utils/core.py:317: FutureWarning:iteritems is deprecated and will be removed in a future version. Use .items instead.\n",
      "/Users/rithvik/dev/cs262/lux/.venv/lib/python3.9/site-packages/altair/utils/core.py:317: FutureWarning:iteritems is deprecated and will be removed in a future version. Use .items instead.\n",
      "/Users/rithvik/dev/cs262/lux/.venv/lib/python3.9/site-packages/altair/utils/core.py:317: FutureWarning:iteritems is deprecated and will be removed in a future version. Use .items instead.\n",
      "/Users/rithvik/dev/cs262/lux/.venv/lib/python3.9/site-packages/altair/utils/core.py:317: FutureWarning:iteritems is deprecated and will be removed in a future version. Use .items instead.\n",
      "/Users/rithvik/dev/cs262/lux/.venv/lib/python3.9/site-packages/altair/utils/core.py:317: FutureWarning:iteritems is deprecated and will be removed in a future version. Use .items instead.\n",
      "/Users/rithvik/dev/cs262/lux/.venv/lib/python3.9/site-packages/altair/utils/core.py:317: FutureWarning:iteritems is deprecated and will be removed in a future version. Use .items instead.\n",
      "/Users/rithvik/dev/cs262/lux/.venv/lib/python3.9/site-packages/altair/utils/core.py:317: FutureWarning:iteritems is deprecated and will be removed in a future version. Use .items instead.\n",
      "/Users/rithvik/dev/cs262/lux/.venv/lib/python3.9/site-packages/altair/utils/core.py:317: FutureWarning:iteritems is deprecated and will be removed in a future version. Use .items instead.\n",
      "/Users/rithvik/dev/cs262/lux/.venv/lib/python3.9/site-packages/altair/utils/core.py:317: FutureWarning:iteritems is deprecated and will be removed in a future version. Use .items instead.\n",
      "/Users/rithvik/dev/cs262/lux/.venv/lib/python3.9/site-packages/altair/utils/core.py:317: FutureWarning:iteritems is deprecated and will be removed in a future version. Use .items instead.\n",
      "/Users/rithvik/dev/cs262/lux/.venv/lib/python3.9/site-packages/altair/utils/core.py:317: FutureWarning:iteritems is deprecated and will be removed in a future version. Use .items instead.\n",
      "/Users/rithvik/dev/cs262/lux/.venv/lib/python3.9/site-packages/altair/utils/core.py:317: FutureWarning:iteritems is deprecated and will be removed in a future version. Use .items instead.\n",
      "/Users/rithvik/dev/cs262/lux/.venv/lib/python3.9/site-packages/altair/utils/core.py:317: FutureWarning:iteritems is deprecated and will be removed in a future version. Use .items instead.\n",
      "/Users/rithvik/dev/cs262/lux/.venv/lib/python3.9/site-packages/altair/utils/core.py:317: FutureWarning:iteritems is deprecated and will be removed in a future version. Use .items instead.\n",
      "/Users/rithvik/dev/cs262/lux/.venv/lib/python3.9/site-packages/altair/utils/core.py:317: FutureWarning:iteritems is deprecated and will be removed in a future version. Use .items instead.\n",
      "/Users/rithvik/dev/cs262/lux/.venv/lib/python3.9/site-packages/altair/utils/core.py:317: FutureWarning:iteritems is deprecated and will be removed in a future version. Use .items instead.\n",
      "/Users/rithvik/dev/cs262/lux/.venv/lib/python3.9/site-packages/altair/utils/core.py:317: FutureWarning:iteritems is deprecated and will be removed in a future version. Use .items instead.\n",
      "/Users/rithvik/dev/cs262/lux/.venv/lib/python3.9/site-packages/altair/utils/core.py:317: FutureWarning:iteritems is deprecated and will be removed in a future version. Use .items instead.\n",
      "/Users/rithvik/dev/cs262/lux/.venv/lib/python3.9/site-packages/altair/utils/core.py:317: FutureWarning:iteritems is deprecated and will be removed in a future version. Use .items instead.\n",
      "/Users/rithvik/dev/cs262/lux/.venv/lib/python3.9/site-packages/altair/utils/core.py:317: FutureWarning:iteritems is deprecated and will be removed in a future version. Use .items instead.\n",
      "/Users/rithvik/dev/cs262/lux/.venv/lib/python3.9/site-packages/altair/utils/core.py:317: FutureWarning:iteritems is deprecated and will be removed in a future version. Use .items instead.\n",
      "/Users/rithvik/dev/cs262/lux/.venv/lib/python3.9/site-packages/altair/utils/core.py:317: FutureWarning:iteritems is deprecated and will be removed in a future version. Use .items instead.\n"
     ]
    },
    {
     "data": {
      "application/vnd.jupyter.widget-view+json": {
       "model_id": "a8fc07ecbe954179b08cc8e4d670fe45",
       "version_major": 2,
       "version_minor": 0
      },
      "text/plain": [
       "Button(description='Toggle Pandas/Lux', layout=Layout(top='5px', width='140px'), style=ButtonStyle())"
      ]
     },
     "metadata": {},
     "output_type": "display_data"
    },
    {
     "data": {
      "application/vnd.jupyter.widget-view+json": {
       "model_id": "13abc8d45343423eb99d7246926c5531",
       "version_major": 2,
       "version_minor": 0
      },
      "text/plain": [
       "Output()"
      ]
     },
     "metadata": {},
     "output_type": "display_data"
    }
   ],
   "source": [
    "# df.intent=[\"Region=New England\",\"MedianEarnings\"]\n",
    "df.intent=[\"MedianEarnings\", \"SATAverage\"]\n",
    "df"
   ]
  },
  {
   "cell_type": "code",
   "execution_count": 7,
   "id": "2c7126e8-90a4-402d-82b2-84277e3eb397",
   "metadata": {},
   "outputs": [
    {
     "name": "stdout",
     "output_type": "stream",
     "text": [
      "End: 0.033019065856933594\n",
      "Total accesses: 32, VisList length: 8\n",
      "Hit rate: 0.75\n"
     ]
    },
    {
     "name": "stderr",
     "output_type": "stream",
     "text": [
      "/Users/rithvik/dev/cs262/lux/.venv/lib/python3.9/site-packages/altair/utils/core.py:317: FutureWarning:iteritems is deprecated and will be removed in a future version. Use .items instead.\n",
      "/Users/rithvik/dev/cs262/lux/.venv/lib/python3.9/site-packages/altair/utils/core.py:317: FutureWarning:iteritems is deprecated and will be removed in a future version. Use .items instead.\n",
      "/Users/rithvik/dev/cs262/lux/.venv/lib/python3.9/site-packages/altair/utils/core.py:317: FutureWarning:iteritems is deprecated and will be removed in a future version. Use .items instead.\n",
      "/Users/rithvik/dev/cs262/lux/.venv/lib/python3.9/site-packages/altair/utils/core.py:317: FutureWarning:iteritems is deprecated and will be removed in a future version. Use .items instead.\n",
      "/Users/rithvik/dev/cs262/lux/.venv/lib/python3.9/site-packages/altair/utils/core.py:317: FutureWarning:iteritems is deprecated and will be removed in a future version. Use .items instead.\n",
      "/Users/rithvik/dev/cs262/lux/.venv/lib/python3.9/site-packages/altair/utils/core.py:317: FutureWarning:iteritems is deprecated and will be removed in a future version. Use .items instead.\n",
      "/Users/rithvik/dev/cs262/lux/.venv/lib/python3.9/site-packages/altair/utils/core.py:317: FutureWarning:iteritems is deprecated and will be removed in a future version. Use .items instead.\n",
      "/Users/rithvik/dev/cs262/lux/.venv/lib/python3.9/site-packages/altair/utils/core.py:317: FutureWarning:iteritems is deprecated and will be removed in a future version. Use .items instead.\n"
     ]
    },
    {
     "data": {
      "application/vnd.jupyter.widget-view+json": {
       "model_id": "15968a9882dc45fbaa1bdf0a029540fc",
       "version_major": 2,
       "version_minor": 0
      },
      "text/plain": [
       "LuxWidget(recommendations=[{'action': 'Vis List', 'description': 'Shows a vis list defined by the intent', 'vs…"
      ]
     },
     "metadata": {},
     "output_type": "display_data"
    }
   ],
   "source": [
    "from lux.vis.VisList import VisList\n",
    "VisList([\"Region=?\",\"AverageCost\"],df)"
   ]
  },
  {
   "cell_type": "code",
   "execution_count": 3,
   "id": "fca747da-beb4-4f04-83af-6e76090a263b",
   "metadata": {},
   "outputs": [
    {
     "name": "stdout",
     "output_type": "stream",
     "text": [
      "129400\n"
     ]
    }
   ],
   "source": [
    "df = pd.read_csv(\"https://raw.githubusercontent.com/lux-org/lux-datasets/master/data/college.csv\")\n",
    "\n",
    "newdf = pd.DataFrame(np.repeat(df.values, 100, axis=0))\n",
    "newdf.columns = df.columns\n",
    "df = newdf\n",
    "print(len(df))\n",
    "# lux.config.sampling_cap = 10000000\n",
    "# lux.config.sampling_start = 10000000"
   ]
  },
  {
   "cell_type": "code",
   "execution_count": 4,
   "id": "2dabcc76",
   "metadata": {},
   "outputs": [
    {
     "name": "stdout",
     "output_type": "stream",
     "text": [
      "cut 0.010016918182373047\n",
      "cut 0.009378194808959961\n",
      "Heatmap executed in 0.13966012001037598\n",
      "Total time: 0.17494988441467285\n",
      "Total accesses: 2, VisList length: 1\n",
      "Hit rate: 0.0\n",
      "cut 0.009269952774047852\n",
      "cut 0.00920414924621582\n",
      "Heatmap executed in 0.27065205574035645\n",
      "Heatmap executed in 0.1595621109008789\n",
      "Heatmap executed in 0.27010297775268555\n",
      "Heatmap executed in 0.26697516441345215\n",
      "Heatmap executed in 0.24000787734985352\n",
      "Heatmap executed in 0.15064287185668945\n",
      "Heatmap executed in 0.1572420597076416\n",
      "Heatmap executed in 0.16550111770629883\n",
      "Heatmap executed in 0.1842200756072998\n",
      "Heatmap executed in 0.159437894821167\n",
      "Heatmap executed in 0.16860604286193848\n",
      "Heatmap executed in 0.16345906257629395\n",
      "Heatmap executed in 0.23892998695373535\n",
      "Heatmap executed in 0.23613691329956055\n",
      "Total time: 2.8967769145965576\n",
      "Total accesses: 28, VisList length: 14\n",
      "Hit rate: 0.9285714285714286\n",
      "Total time: 0.2684640884399414\n",
      "Total accesses: 0, VisList length: 50\n",
      "Total time: 0.2611970901489258\n",
      "Total accesses: 0, VisList length: 50\n",
      "Total time: 0.09716081619262695\n",
      "Total accesses: 0, VisList length: 2\n",
      "cut 0.008417844772338867\n",
      "cut 0.009776830673217773\n",
      "Heatmap executed in 0.12873315811157227\n",
      "Total time: 0.13253116607666016\n",
      "Total accesses: 2, VisList length: 1\n",
      "Hit rate: 0.0\n"
     ]
    },
    {
     "name": "stderr",
     "output_type": "stream",
     "text": [
      "/Users/rithvik/dev/cs262/lux/.venv/lib/python3.9/site-packages/altair/utils/core.py:317: FutureWarning:iteritems is deprecated and will be removed in a future version. Use .items instead.\n"
     ]
    },
    {
     "name": "stdout",
     "output_type": "stream",
     "text": [
      "cut 0.0030739307403564453\n",
      "cut 0.003875255584716797\n",
      "cut 0.0033731460571289062\n",
      "cut 0.0029120445251464844\n"
     ]
    },
    {
     "name": "stderr",
     "output_type": "stream",
     "text": [
      "/Users/rithvik/dev/cs262/lux/.venv/lib/python3.9/site-packages/altair/utils/core.py:317: FutureWarning:iteritems is deprecated and will be removed in a future version. Use .items instead.\n",
      "/Users/rithvik/dev/cs262/lux/.venv/lib/python3.9/site-packages/altair/utils/core.py:317: FutureWarning:iteritems is deprecated and will be removed in a future version. Use .items instead.\n"
     ]
    },
    {
     "name": "stdout",
     "output_type": "stream",
     "text": [
      "cut 0.0034351348876953125\n",
      "cut 0.003873109817504883\n",
      "cut 0.00480198860168457\n",
      "cut 0.00403594970703125\n"
     ]
    },
    {
     "name": "stderr",
     "output_type": "stream",
     "text": [
      "/Users/rithvik/dev/cs262/lux/.venv/lib/python3.9/site-packages/altair/utils/core.py:317: FutureWarning:iteritems is deprecated and will be removed in a future version. Use .items instead.\n",
      "/Users/rithvik/dev/cs262/lux/.venv/lib/python3.9/site-packages/altair/utils/core.py:317: FutureWarning:iteritems is deprecated and will be removed in a future version. Use .items instead.\n"
     ]
    },
    {
     "name": "stdout",
     "output_type": "stream",
     "text": [
      "cut 0.003183126449584961\n",
      "cut 0.003452777862548828\n",
      "cut 0.003543853759765625\n",
      "cut 0.003141164779663086\n"
     ]
    },
    {
     "name": "stderr",
     "output_type": "stream",
     "text": [
      "/Users/rithvik/dev/cs262/lux/.venv/lib/python3.9/site-packages/altair/utils/core.py:317: FutureWarning:iteritems is deprecated and will be removed in a future version. Use .items instead.\n",
      "/Users/rithvik/dev/cs262/lux/.venv/lib/python3.9/site-packages/altair/utils/core.py:317: FutureWarning:iteritems is deprecated and will be removed in a future version. Use .items instead.\n"
     ]
    },
    {
     "name": "stdout",
     "output_type": "stream",
     "text": [
      "cut 0.0037109851837158203\n",
      "cut 0.0029761791229248047\n",
      "cut 0.005064725875854492\n",
      "cut 0.0038831233978271484\n"
     ]
    },
    {
     "name": "stderr",
     "output_type": "stream",
     "text": [
      "/Users/rithvik/dev/cs262/lux/.venv/lib/python3.9/site-packages/altair/utils/core.py:317: FutureWarning:iteritems is deprecated and will be removed in a future version. Use .items instead.\n",
      "/Users/rithvik/dev/cs262/lux/.venv/lib/python3.9/site-packages/altair/utils/core.py:317: FutureWarning:iteritems is deprecated and will be removed in a future version. Use .items instead.\n"
     ]
    },
    {
     "name": "stdout",
     "output_type": "stream",
     "text": [
      "cut 0.0032837390899658203\n",
      "cut 0.0034170150756835938\n",
      "cut 0.003998994827270508\n",
      "cut 0.004056215286254883\n"
     ]
    },
    {
     "name": "stderr",
     "output_type": "stream",
     "text": [
      "/Users/rithvik/dev/cs262/lux/.venv/lib/python3.9/site-packages/altair/utils/core.py:317: FutureWarning:iteritems is deprecated and will be removed in a future version. Use .items instead.\n",
      "/Users/rithvik/dev/cs262/lux/.venv/lib/python3.9/site-packages/altair/utils/core.py:317: FutureWarning:iteritems is deprecated and will be removed in a future version. Use .items instead.\n"
     ]
    },
    {
     "name": "stdout",
     "output_type": "stream",
     "text": [
      "cut 0.003451824188232422\n",
      "cut 0.0031239986419677734\n",
      "cut 0.003536224365234375\n",
      "cut 0.0032510757446289062\n"
     ]
    },
    {
     "name": "stderr",
     "output_type": "stream",
     "text": [
      "/Users/rithvik/dev/cs262/lux/.venv/lib/python3.9/site-packages/altair/utils/core.py:317: FutureWarning:iteritems is deprecated and will be removed in a future version. Use .items instead.\n",
      "/Users/rithvik/dev/cs262/lux/.venv/lib/python3.9/site-packages/altair/utils/core.py:317: FutureWarning:iteritems is deprecated and will be removed in a future version. Use .items instead.\n"
     ]
    },
    {
     "name": "stdout",
     "output_type": "stream",
     "text": [
      "cut 0.005521059036254883\n",
      "cut 0.0055103302001953125\n",
      "cut 0.0038979053497314453\n",
      "cut 0.004864931106567383\n"
     ]
    },
    {
     "name": "stderr",
     "output_type": "stream",
     "text": [
      "/Users/rithvik/dev/cs262/lux/.venv/lib/python3.9/site-packages/altair/utils/core.py:317: FutureWarning:iteritems is deprecated and will be removed in a future version. Use .items instead.\n",
      "/Users/rithvik/dev/cs262/lux/.venv/lib/python3.9/site-packages/altair/utils/core.py:317: FutureWarning:iteritems is deprecated and will be removed in a future version. Use .items instead.\n"
     ]
    },
    {
     "name": "stdout",
     "output_type": "stream",
     "text": [
      "cut 0.004176139831542969\n",
      "cut 0.0038988590240478516\n"
     ]
    },
    {
     "name": "stderr",
     "output_type": "stream",
     "text": [
      "/Users/rithvik/dev/cs262/lux/.venv/lib/python3.9/site-packages/altair/utils/core.py:317: FutureWarning:iteritems is deprecated and will be removed in a future version. Use .items instead.\n",
      "/Users/rithvik/dev/cs262/lux/.venv/lib/python3.9/site-packages/altair/utils/core.py:317: FutureWarning:iteritems is deprecated and will be removed in a future version. Use .items instead.\n",
      "/Users/rithvik/dev/cs262/lux/.venv/lib/python3.9/site-packages/altair/utils/core.py:317: FutureWarning:iteritems is deprecated and will be removed in a future version. Use .items instead.\n"
     ]
    },
    {
     "data": {
      "application/vnd.jupyter.widget-view+json": {
       "model_id": "c21c79917f45490d8038b5985e78848d",
       "version_major": 2,
       "version_minor": 0
      },
      "text/plain": [
       "Button(description='Toggle Pandas/Lux', layout=Layout(top='5px', width='140px'), style=ButtonStyle())"
      ]
     },
     "metadata": {},
     "output_type": "display_data"
    },
    {
     "data": {
      "application/vnd.jupyter.widget-view+json": {
       "model_id": "4a56a34c1f3d4617986020fffdf4a0e9",
       "version_major": 2,
       "version_minor": 0
      },
      "text/plain": [
       "Output()"
      ]
     },
     "metadata": {},
     "output_type": "display_data"
    }
   ],
   "source": [
    "df.intent=[\"MedianEarnings\", \"SATAverage\"]\n",
    "df"
   ]
  },
  {
   "cell_type": "code",
   "execution_count": 5,
   "id": "373e4b7b",
   "metadata": {},
   "outputs": [
    {
     "name": "stdout",
     "output_type": "stream",
     "text": [
      "150\n"
     ]
    }
   ],
   "source": [
    "df = pd.read_csv(\"https://raw.githubusercontent.com/mwaskom/seaborn-data/master/iris.csv\")\n",
    "\n",
    "# newdf = pd.DataFrame(np.repeat(df.values, 700, axis=0))\n",
    "# newdf.columns = df.columns\n",
    "# df = newdf\n",
    "print(len(df))"
   ]
  }
 ],
 "metadata": {
  "kernelspec": {
   "display_name": ".venv",
   "language": "python",
   "name": ".venv"
  },
  "language_info": {
   "codemirror_mode": {
    "name": "ipython",
    "version": 3
   },
   "file_extension": ".py",
   "mimetype": "text/x-python",
   "name": "python",
   "nbconvert_exporter": "python",
   "pygments_lexer": "ipython3",
   "version": "3.9.13"
  }
 },
 "nbformat": 4,
 "nbformat_minor": 5
}
