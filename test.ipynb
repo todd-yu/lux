{
 "cells": [
  {
   "cell_type": "code",
   "execution_count": 1,
   "id": "92145997-3f2f-42cb-8817-5c82dee88780",
   "metadata": {},
   "outputs": [],
   "source": [
    "import lux\n",
    "import pandas as pd\n",
    "import numpy as np"
   ]
  },
  {
   "cell_type": "code",
   "execution_count": 62,
   "id": "acb6cece",
   "metadata": {},
   "outputs": [],
   "source": [
    "lux.config.sampling_cap = 1000000000\n",
    "lux.config.sampling_start = 10000000\n",
    "lux.config.sampling = False\n",
    "lux.config.topk = False\n",
    "\n",
    "# Lux has a lot of deprecation warnings\n",
    "import warnings\n",
    "warnings.filterwarnings('ignore')"
   ]
  },
  {
   "cell_type": "code",
   "execution_count": 51,
   "id": "80a0d778-63aa-4399-a1ac-886492ca72b6",
   "metadata": {},
   "outputs": [],
   "source": [
    "df = pd.read_csv(\"https://raw.githubusercontent.com/lux-org/lux-datasets/master/data/college.csv\")"
   ]
  },
  {
   "cell_type": "code",
   "execution_count": 52,
   "id": "2b33bc30-2b03-4d1e-b47c-ee872bdd78f5",
   "metadata": {},
   "outputs": [
    {
     "name": "stdout",
     "output_type": "stream",
     "text": [
      "Total time: 0.0010101795196533203\n",
      "Total accesses: 158, VisList length: 1\n",
      "Hit rate: 0.7658227848101266\n",
      "Total time: 0.009881973266601562\n",
      "Total accesses: 158, VisList length: 14\n",
      "Hit rate: 0.7658227848101266\n",
      "Total time: 0.06980180740356445\n",
      "Total accesses: 158, VisList length: 50\n",
      "Hit rate: 0.7658227848101266\n",
      "Total time: 0.06557297706604004\n",
      "Total accesses: 158, VisList length: 50\n",
      "Hit rate: 0.7658227848101266\n",
      "Total time: 0.003951072692871094\n",
      "Total accesses: 158, VisList length: 2\n",
      "Hit rate: 0.7658227848101266\n",
      "Total time: 0.0007050037384033203\n",
      "Total accesses: 158, VisList length: 1\n",
      "Hit rate: 0.7658227848101266\n"
     ]
    },
    {
     "data": {
      "application/vnd.jupyter.widget-view+json": {
       "model_id": "40360b94edfe4521990b533421f3a29d",
       "version_major": 2,
       "version_minor": 0
      },
      "text/plain": [
       "Button(description='Toggle Pandas/Lux', layout=Layout(top='5px', width='140px'), style=ButtonStyle())"
      ]
     },
     "metadata": {},
     "output_type": "display_data"
    },
    {
     "data": {
      "application/vnd.jupyter.widget-view+json": {
       "model_id": "77873b34bf594646a03062df7195d21c",
       "version_major": 2,
       "version_minor": 0
      },
      "text/plain": [
       "Output()"
      ]
     },
     "metadata": {},
     "output_type": "display_data"
    }
   ],
   "source": [
    "# df.intent=[\"Region=New England\",\"MedianEarnings\"]\n",
    "df.intent=[\"MedianEarnings\", \"SATAverage\"]\n",
    "df"
   ]
  },
  {
   "cell_type": "code",
   "execution_count": 7,
   "id": "2c7126e8-90a4-402d-82b2-84277e3eb397",
   "metadata": {},
   "outputs": [
    {
     "name": "stdout",
     "output_type": "stream",
     "text": [
      "End: 0.033019065856933594\n",
      "Total accesses: 32, VisList length: 8\n",
      "Hit rate: 0.75\n"
     ]
    },
    {
     "name": "stderr",
     "output_type": "stream",
     "text": [
      "/Users/rithvik/dev/cs262/lux/.venv/lib/python3.9/site-packages/altair/utils/core.py:317: FutureWarning:iteritems is deprecated and will be removed in a future version. Use .items instead.\n",
      "/Users/rithvik/dev/cs262/lux/.venv/lib/python3.9/site-packages/altair/utils/core.py:317: FutureWarning:iteritems is deprecated and will be removed in a future version. Use .items instead.\n",
      "/Users/rithvik/dev/cs262/lux/.venv/lib/python3.9/site-packages/altair/utils/core.py:317: FutureWarning:iteritems is deprecated and will be removed in a future version. Use .items instead.\n",
      "/Users/rithvik/dev/cs262/lux/.venv/lib/python3.9/site-packages/altair/utils/core.py:317: FutureWarning:iteritems is deprecated and will be removed in a future version. Use .items instead.\n",
      "/Users/rithvik/dev/cs262/lux/.venv/lib/python3.9/site-packages/altair/utils/core.py:317: FutureWarning:iteritems is deprecated and will be removed in a future version. Use .items instead.\n",
      "/Users/rithvik/dev/cs262/lux/.venv/lib/python3.9/site-packages/altair/utils/core.py:317: FutureWarning:iteritems is deprecated and will be removed in a future version. Use .items instead.\n",
      "/Users/rithvik/dev/cs262/lux/.venv/lib/python3.9/site-packages/altair/utils/core.py:317: FutureWarning:iteritems is deprecated and will be removed in a future version. Use .items instead.\n",
      "/Users/rithvik/dev/cs262/lux/.venv/lib/python3.9/site-packages/altair/utils/core.py:317: FutureWarning:iteritems is deprecated and will be removed in a future version. Use .items instead.\n"
     ]
    },
    {
     "data": {
      "application/vnd.jupyter.widget-view+json": {
       "model_id": "15968a9882dc45fbaa1bdf0a029540fc",
       "version_major": 2,
       "version_minor": 0
      },
      "text/plain": [
       "LuxWidget(recommendations=[{'action': 'Vis List', 'description': 'Shows a vis list defined by the intent', 'vs…"
      ]
     },
     "metadata": {},
     "output_type": "display_data"
    }
   ],
   "source": [
    "from lux.vis.VisList import VisList\n",
    "VisList([\"Region=?\",\"AverageCost\"],df)"
   ]
  },
  {
   "cell_type": "code",
   "execution_count": 4,
   "id": "fca747da-beb4-4f04-83af-6e76090a263b",
   "metadata": {},
   "outputs": [
    {
     "name": "stdout",
     "output_type": "stream",
     "text": [
      "977900\n"
     ]
    }
   ],
   "source": [
    "df = pd.read_csv(\"/Users/rithvik/Downloads/airbnb/AB_NYC_2019.csv\")\n",
    "\n",
    "newdf = pd.DataFrame(np.repeat(df.values, 20, axis=0))\n",
    "newdf.columns = df.columns\n",
    "df = newdf\n",
    "print(len(df))\n",
    "# lux.config.sampling_cap = 10000000\n",
    "# lux.config.sampling_start = 10000000"
   ]
  },
  {
   "cell_type": "code",
   "execution_count": null,
   "id": "0d7f5b81",
   "metadata": {},
   "outputs": [],
   "source": [
    "df = pd.read_csv(\"https://raw.githubusercontent.com/lux-org/lux-datasets/master/data/college.csv\")\n",
    "df[\"state\"] = [np.random.choice([\"california\", \"new york\", \"new jersey\", \"georgia\", \"texas\", \"maine\", \"louisiana\",\"washington\", \"oregon\"]) for _ in range(len(df))]\n",
    "# df[\"country\"] = np.array([str(np.random.choice([\"001\", \"004\", \"003\"])) for _ in range(len(df))])\n",
    "# df[\"country\"] = df[\"country\"].astype(pd.StringDtype())\n",
    "\n",
    "# newdf = pd.DataFrame(np.repeat(df.values, 700, axis=0))\n",
    "# newdf.columns = df.columns\n",
    "# df = newdf\n",
    "# df[\"country\"] = df[\"country\"].astype(pd.StringDtype())\n",
    "# df[\"state\"] = df[\"state\"].astype(pd.StringDtype())\n",
    "\n",
    "\n",
    "print(len(df))"
   ]
  },
  {
   "cell_type": "code",
   "execution_count": null,
   "id": "2dabcc76",
   "metadata": {
    "scrolled": false
   },
   "outputs": [],
   "source": [
    "# df.intent=[\"MedianEarnings\", \"SATAverage\"]\n",
    "# df.intent = [\"MedianEarnings\", \"state\"]\n",
    "df"
   ]
  },
  {
   "cell_type": "code",
   "execution_count": 15,
   "id": "2593299c",
   "metadata": {},
   "outputs": [
    {
     "name": "stdout",
     "output_type": "stream",
     "text": [
      "cut 0.0333249568939209\n",
      "cut 0.03459286689758301\n",
      "Heatmap executed in 1.4133753776550293\n",
      "Total time: 1.4392549991607666\n",
      "Total accesses: 2, VisList length: 1\n",
      "Hit rate: 0.0\n",
      "cut 0.03558611869812012\n",
      "cut 0.03422999382019043\n",
      "Heatmap executed in 1.5670809745788574\n",
      "cut 0.0035560131072998047\n",
      "cut 0.003515958786010742\n",
      "Heatmap executed in 0.0817720890045166\n",
      "cut 0.002753734588623047\n",
      "cut 0.002647876739501953\n",
      "Heatmap executed in 0.023759841918945312\n",
      "cut 0.024220943450927734\n",
      "cut 0.029028892517089844\n",
      "Heatmap executed in 1.3376059532165527\n",
      "cut 0.0072400569915771484\n",
      "cut 0.00741887092590332\n",
      "Heatmap executed in 0.3122711181640625\n",
      "cut 0.0032150745391845703\n",
      "cut 0.003077983856201172\n",
      "Heatmap executed in 0.04935288429260254\n",
      "cut 0.013766765594482422\n",
      "cut 0.015092134475708008\n",
      "Heatmap executed in 0.6254122257232666\n",
      "cut 0.02108907699584961\n",
      "cut 0.026173830032348633\n",
      "Heatmap executed in 1.0492360591888428\n",
      "cut 0.003165006637573242\n",
      "cut 0.0035791397094726562\n",
      "Heatmap executed in 0.040776968002319336\n",
      "cut 0.00914907455444336\n",
      "cut 0.011016130447387695\n",
      "Heatmap executed in 0.4710679054260254\n",
      "cut 0.010069847106933594\n",
      "cut 0.005017757415771484\n",
      "Heatmap executed in 0.17165899276733398\n",
      "cut 0.004719972610473633\n",
      "cut 0.00477910041809082\n",
      "Heatmap executed in 0.1383821964263916\n",
      "cut 0.0034880638122558594\n",
      "cut 0.003412008285522461\n",
      "Heatmap executed in 0.06578993797302246\n",
      "cut 0.0043981075286865234\n",
      "cut 0.00477910041809082\n",
      "Heatmap executed in 0.14605188369750977\n",
      "cut 0.007043123245239258\n",
      "cut 0.007205009460449219\n",
      "Heatmap executed in 0.30376338958740234\n",
      "cut 0.0073320865631103516\n",
      "cut 0.007239103317260742\n",
      "Heatmap executed in 0.2950019836425781\n",
      "cut 0.006061077117919922\n",
      "cut 0.006418943405151367\n",
      "Heatmap executed in 0.21791815757751465\n",
      "cut 0.005879878997802734\n",
      "cut 0.005872011184692383\n",
      "Heatmap executed in 0.23051691055297852\n",
      "cut 0.006266117095947266\n",
      "cut 0.0068359375\n",
      "Heatmap executed in 0.2589139938354492\n",
      "cut 0.0029916763305664062\n",
      "cut 0.0029218196868896484\n",
      "Heatmap executed in 0.039671897888183594\n",
      "cut 0.003626108169555664\n",
      "cut 0.0035228729248046875\n",
      "Heatmap executed in 0.08017516136169434\n",
      "cut 0.009617805480957031\n",
      "cut 0.0073320865631103516\n",
      "Heatmap executed in 0.3004946708679199\n",
      "cut 0.007500171661376953\n",
      "cut 0.006841182708740234\n",
      "Heatmap executed in 0.2168278694152832\n",
      "cut 0.007338047027587891\n",
      "cut 0.007552146911621094\n",
      "Heatmap executed in 0.32379722595214844\n",
      "cut 0.0053250789642333984\n",
      "cut 0.004929065704345703\n",
      "Heatmap executed in 0.1577458381652832\n",
      "cut 0.003014802932739258\n",
      "cut 0.0029289722442626953\n",
      "Heatmap executed in 0.04585599899291992\n",
      "cut 0.003326892852783203\n",
      "cut 0.00319671630859375\n",
      "Heatmap executed in 0.05725431442260742\n",
      "cut 0.0036339759826660156\n",
      "cut 0.0035779476165771484\n",
      "Heatmap executed in 0.07908892631530762\n",
      "cut 0.005081892013549805\n",
      "cut 0.003777027130126953\n",
      "Heatmap executed in 0.08795523643493652\n",
      "Total time: 11.846330165863037\n",
      "Total accesses: 58, VisList length: 29\n",
      "Hit rate: 0.0\n",
      "cut 0.03198409080505371\n",
      "cut 0.034173011779785156\n",
      "Heatmap executed in 1.5599548816680908\n",
      "cut 0.0035338401794433594\n",
      "cut 0.003406047821044922\n",
      "Heatmap executed in 0.08249115943908691\n",
      "cut 0.0026857852935791016\n",
      "cut 0.002613067626953125\n",
      "Heatmap executed in 0.02326202392578125\n",
      "cut 0.024785757064819336\n",
      "cut 0.031929969787597656\n",
      "Heatmap executed in 1.321380853652954\n",
      "cut 0.007787942886352539\n",
      "cut 0.00688481330871582\n",
      "Heatmap executed in 0.2860558032989502\n",
      "cut 0.0030879974365234375\n",
      "cut 0.0030541419982910156\n",
      "Heatmap executed in 0.049102067947387695\n",
      "cut 0.013435840606689453\n",
      "cut 0.01341700553894043\n",
      "Heatmap executed in 0.611778974533081\n",
      "cut 0.02188587188720703\n",
      "cut 0.02502918243408203\n",
      "Heatmap executed in 1.0238370895385742\n",
      "cut 0.002839803695678711\n",
      "cut 0.0027740001678466797\n",
      "Heatmap executed in 0.03412604331970215\n",
      "cut 0.01013803482055664\n",
      "cut 0.010506868362426758\n",
      "Heatmap executed in 0.4609811305999756\n",
      "cut 0.005124092102050781\n",
      "cut 0.004858970642089844\n",
      "Heatmap executed in 0.16722989082336426\n",
      "cut 0.004818916320800781\n",
      "cut 0.0045430660247802734\n",
      "Heatmap executed in 0.13872718811035156\n",
      "cut 0.0033800601959228516\n",
      "cut 0.0033121109008789062\n",
      "Heatmap executed in 0.06261086463928223\n",
      "cut 0.0045702457427978516\n",
      "cut 0.004652976989746094\n",
      "Heatmap executed in 0.1386561393737793\n",
      "cut 0.007009983062744141\n",
      "cut 0.007187843322753906\n",
      "Heatmap executed in 0.2931180000305176\n",
      "cut 0.007012128829956055\n",
      "cut 0.006937742233276367\n",
      "Heatmap executed in 0.2860848903656006\n",
      "cut 0.0055959224700927734\n",
      "cut 0.0058019161224365234\n",
      "Heatmap executed in 0.21113014221191406\n",
      "cut 0.005635261535644531\n",
      "cut 0.0058629512786865234\n",
      "Heatmap executed in 0.22245001792907715\n",
      "cut 0.006142139434814453\n",
      "cut 0.00653529167175293\n",
      "Heatmap executed in 0.2538270950317383\n",
      "cut 0.0029850006103515625\n",
      "cut 0.0028989315032958984\n",
      "Heatmap executed in 0.03973793983459473\n",
      "cut 0.0036649703979492188\n",
      "cut 0.003486156463623047\n",
      "Heatmap executed in 0.07877707481384277\n",
      "cut 0.007108211517333984\n",
      "cut 0.007125139236450195\n",
      "Heatmap executed in 0.29772424697875977\n",
      "cut 0.005418062210083008\n",
      "cut 0.00574183464050293\n",
      "Heatmap executed in 0.20576000213623047\n",
      "cut 0.007238864898681641\n",
      "cut 0.007524013519287109\n",
      "Heatmap executed in 0.3312540054321289\n",
      "cut 0.004849910736083984\n",
      "cut 0.0047109127044677734\n",
      "Heatmap executed in 0.15991497039794922\n",
      "cut 0.002988100051879883\n",
      "cut 0.002931833267211914\n",
      "Heatmap executed in 0.042717933654785156\n",
      "cut 0.003316164016723633\n",
      "cut 0.0032699108123779297\n",
      "Heatmap executed in 0.05984091758728027\n",
      "cut 0.003690004348754883\n",
      "cut 0.003549814224243164\n",
      "Heatmap executed in 0.0791311264038086\n",
      "cut 0.003738880157470703\n",
      "cut 0.0037338733673095703\n",
      "Heatmap executed in 0.0870809555053711\n",
      "Total time: 11.639134407043457\n",
      "Total accesses: 58, VisList length: 29\n",
      "Hit rate: 0.0\n",
      "cut 0.034693241119384766\n",
      "cut 0.03538703918457031\n",
      "Heatmap executed in 0.9600651264190674\n",
      "cut 0.03136801719665527\n",
      "Heatmap executed in 0.9255669116973877\n",
      "Heatmap executed in 0.9034249782562256\n",
      "Total time: 2.845810890197754\n",
      "Total accesses: 6, VisList length: 3\n",
      "Hit rate: 0.5\n",
      "cut 0.034947872161865234\n",
      "cut 0.03479909896850586\n",
      "Heatmap executed in 1.4045109748840332\n",
      "Total time: 1.4285330772399902\n",
      "Total accesses: 2, VisList length: 1\n",
      "Hit rate: 0.0\n"
     ]
    },
    {
     "name": "stderr",
     "output_type": "stream",
     "text": [
      "/Users/rithvik/dev/cs262/lux/.venv/lib/python3.9/site-packages/altair/utils/core.py:317: FutureWarning:iteritems is deprecated and will be removed in a future version. Use .items instead.\n"
     ]
    },
    {
     "data": {
      "application/vnd.jupyter.widget-view+json": {
       "model_id": "e6b515e7929f4d21830d347820989f8b",
       "version_major": 2,
       "version_minor": 0
      },
      "text/plain": [
       "Button(description='Toggle Pandas/Lux', layout=Layout(top='5px', width='140px'), style=ButtonStyle())"
      ]
     },
     "metadata": {},
     "output_type": "display_data"
    },
    {
     "data": {
      "application/vnd.jupyter.widget-view+json": {
       "model_id": "74111bd21738495797fd827c9319afc2",
       "version_major": 2,
       "version_minor": 0
      },
      "text/plain": [
       "Output()"
      ]
     },
     "metadata": {},
     "output_type": "display_data"
    }
   ],
   "source": [
    "df.intent=[\"MedianEarnings\", \"SATAverage\", \"ACTMedian\"]\n",
    "df"
   ]
  },
  {
   "cell_type": "code",
   "execution_count": 5,
   "id": "373e4b7b",
   "metadata": {},
   "outputs": [
    {
     "name": "stdout",
     "output_type": "stream",
     "text": [
      "150\n"
     ]
    }
   ],
   "source": [
    "df = pd.read_csv(\"https://raw.githubusercontent.com/mwaskom/seaborn-data/master/iris.csv\")\n",
    "\n",
    "# newdf = pd.DataFrame(np.repeat(df.values, 700, axis=0))\n",
    "# newdf.columns = df.columns\n",
    "# df = newdf\n",
    "print(len(df))"
   ]
  },
  {
   "cell_type": "markdown",
   "id": "1360ec75",
   "metadata": {},
   "source": [
    "# Custom Workflow"
   ]
  },
  {
   "cell_type": "code",
   "execution_count": 9,
   "id": "98e5e16b",
   "metadata": {},
   "outputs": [
    {
     "name": "stdout",
     "output_type": "stream",
     "text": [
      "977900\n"
     ]
    }
   ],
   "source": [
    "df = pd.read_csv(\"/Users/rithvik/Downloads/airbnb/AB_NYC_2019.csv\")\n",
    "\n",
    "newdf = pd.DataFrame(np.repeat(df.values, 20, axis=0))\n",
    "newdf.columns = df.columns\n",
    "df = newdf\n",
    "print(len(df))\n",
    "df['last_review'] = pd.to_datetime(df['last_review'], infer_datetime_format=True)\n"
   ]
  },
  {
   "cell_type": "code",
   "execution_count": 35,
   "id": "d4efa74c",
   "metadata": {},
   "outputs": [
    {
     "name": "stdout",
     "output_type": "stream",
     "text": [
      "1294\n"
     ]
    }
   ],
   "source": [
    "df = pd.read_csv(\"https://raw.githubusercontent.com/lux-org/lux-datasets/master/data/college.csv\")\n",
    "df[\"state\"] = [np.random.choice([\"california\", \"new york\", \"new jersey\", \"georgia\", \"texas\", \"maine\", \"louisiana\",\"washington\", \"oregon\"]) for _ in range(len(df))]\n",
    "# df[\"country\"] = np.array([str(np.random.choice([\"001\", \"004\", \"003\"])) for _ in range(len(df))])\n",
    "# df[\"country\"] = df[\"country\"].astype(pd.StringDtype())\n",
    "df[\"state\"] = df[\"state\"].astype(pd.StringDtype())\n",
    "\n",
    "# newdf = pd.DataFrame(np.repeat(df.values, 700, axis=0))\n",
    "# newdf.columns = df.columns\n",
    "# df = newdf\n",
    "# df[\"country\"] = df[\"country\"].astype(pd.StringDtype())\n",
    "\n",
    "print(len(df))"
   ]
  },
  {
   "cell_type": "code",
   "execution_count": 39,
   "id": "32b9df11",
   "metadata": {
    "scrolled": false
   },
   "outputs": [
    {
     "name": "stdout",
     "output_type": "stream",
     "text": [
      "Total time: 0.06447887420654297\n",
      "Total accesses: 68, VisList length: 90\n",
      "Hit rate: 0.6029411764705882\n",
      "Total time: 0.01691293716430664\n",
      "Total accesses: 68, VisList length: 10\n",
      "Hit rate: 0.6029411764705882\n",
      "Total time: 0.04632925987243652\n",
      "Total accesses: 68, VisList length: 6\n",
      "Hit rate: 0.6029411764705882\n",
      "Total time: 5.0067901611328125e-06\n",
      "Total accesses: 68, VisList length: 0\n",
      "Hit rate: 0.6029411764705882\n",
      "Total time: 0.06633496284484863\n",
      "Total accesses: 68, VisList length: 10\n",
      "Hit rate: 0.6029411764705882\n"
     ]
    },
    {
     "name": "stderr",
     "output_type": "stream",
     "text": [
      "/Users/rithvik/dev/cs262/lux/.venv/lib/python3.9/site-packages/altair/utils/core.py:317: FutureWarning:iteritems is deprecated and will be removed in a future version. Use .items instead.\n",
      "/Users/rithvik/dev/cs262/lux/.venv/lib/python3.9/site-packages/altair/utils/core.py:317: FutureWarning:iteritems is deprecated and will be removed in a future version. Use .items instead.\n",
      "/Users/rithvik/dev/cs262/lux/.venv/lib/python3.9/site-packages/altair/utils/core.py:317: FutureWarning:iteritems is deprecated and will be removed in a future version. Use .items instead.\n",
      "/Users/rithvik/dev/cs262/lux/.venv/lib/python3.9/site-packages/altair/utils/core.py:317: FutureWarning:iteritems is deprecated and will be removed in a future version. Use .items instead.\n",
      "/Users/rithvik/dev/cs262/lux/.venv/lib/python3.9/site-packages/altair/utils/core.py:317: FutureWarning:iteritems is deprecated and will be removed in a future version. Use .items instead.\n",
      "/Users/rithvik/dev/cs262/lux/.venv/lib/python3.9/site-packages/altair/utils/core.py:317: FutureWarning:iteritems is deprecated and will be removed in a future version. Use .items instead.\n",
      "/Users/rithvik/dev/cs262/lux/.venv/lib/python3.9/site-packages/altair/utils/core.py:317: FutureWarning:iteritems is deprecated and will be removed in a future version. Use .items instead.\n",
      "/Users/rithvik/dev/cs262/lux/.venv/lib/python3.9/site-packages/altair/utils/core.py:317: FutureWarning:iteritems is deprecated and will be removed in a future version. Use .items instead.\n",
      "/Users/rithvik/dev/cs262/lux/.venv/lib/python3.9/site-packages/altair/utils/core.py:317: FutureWarning:iteritems is deprecated and will be removed in a future version. Use .items instead.\n",
      "/Users/rithvik/dev/cs262/lux/.venv/lib/python3.9/site-packages/altair/utils/core.py:317: FutureWarning:iteritems is deprecated and will be removed in a future version. Use .items instead.\n",
      "/Users/rithvik/dev/cs262/lux/.venv/lib/python3.9/site-packages/altair/utils/core.py:317: FutureWarning:iteritems is deprecated and will be removed in a future version. Use .items instead.\n",
      "/Users/rithvik/dev/cs262/lux/.venv/lib/python3.9/site-packages/altair/utils/core.py:317: FutureWarning:iteritems is deprecated and will be removed in a future version. Use .items instead.\n",
      "/Users/rithvik/dev/cs262/lux/.venv/lib/python3.9/site-packages/altair/utils/core.py:317: FutureWarning:iteritems is deprecated and will be removed in a future version. Use .items instead.\n",
      "/Users/rithvik/dev/cs262/lux/.venv/lib/python3.9/site-packages/altair/utils/core.py:317: FutureWarning:iteritems is deprecated and will be removed in a future version. Use .items instead.\n",
      "/Users/rithvik/dev/cs262/lux/.venv/lib/python3.9/site-packages/altair/utils/core.py:317: FutureWarning:iteritems is deprecated and will be removed in a future version. Use .items instead.\n",
      "/Users/rithvik/dev/cs262/lux/.venv/lib/python3.9/site-packages/altair/utils/core.py:317: FutureWarning:iteritems is deprecated and will be removed in a future version. Use .items instead.\n",
      "/Users/rithvik/dev/cs262/lux/.venv/lib/python3.9/site-packages/altair/utils/core.py:317: FutureWarning:iteritems is deprecated and will be removed in a future version. Use .items instead.\n",
      "/Users/rithvik/dev/cs262/lux/.venv/lib/python3.9/site-packages/altair/utils/core.py:317: FutureWarning:iteritems is deprecated and will be removed in a future version. Use .items instead.\n",
      "/Users/rithvik/dev/cs262/lux/.venv/lib/python3.9/site-packages/altair/utils/core.py:317: FutureWarning:iteritems is deprecated and will be removed in a future version. Use .items instead.\n",
      "/Users/rithvik/dev/cs262/lux/.venv/lib/python3.9/site-packages/altair/utils/core.py:317: FutureWarning:iteritems is deprecated and will be removed in a future version. Use .items instead.\n",
      "/Users/rithvik/dev/cs262/lux/.venv/lib/python3.9/site-packages/altair/utils/core.py:317: FutureWarning:iteritems is deprecated and will be removed in a future version. Use .items instead.\n",
      "/Users/rithvik/dev/cs262/lux/.venv/lib/python3.9/site-packages/altair/utils/core.py:317: FutureWarning:iteritems is deprecated and will be removed in a future version. Use .items instead.\n",
      "/Users/rithvik/dev/cs262/lux/.venv/lib/python3.9/site-packages/altair/utils/core.py:317: FutureWarning:iteritems is deprecated and will be removed in a future version. Use .items instead.\n",
      "/Users/rithvik/dev/cs262/lux/.venv/lib/python3.9/site-packages/altair/utils/core.py:317: FutureWarning:iteritems is deprecated and will be removed in a future version. Use .items instead.\n",
      "/Users/rithvik/dev/cs262/lux/.venv/lib/python3.9/site-packages/altair/utils/core.py:317: FutureWarning:iteritems is deprecated and will be removed in a future version. Use .items instead.\n",
      "/Users/rithvik/dev/cs262/lux/.venv/lib/python3.9/site-packages/altair/utils/core.py:317: FutureWarning:iteritems is deprecated and will be removed in a future version. Use .items instead.\n",
      "/Users/rithvik/dev/cs262/lux/.venv/lib/python3.9/site-packages/altair/utils/core.py:317: FutureWarning:iteritems is deprecated and will be removed in a future version. Use .items instead.\n",
      "/Users/rithvik/dev/cs262/lux/.venv/lib/python3.9/site-packages/altair/utils/core.py:317: FutureWarning:iteritems is deprecated and will be removed in a future version. Use .items instead.\n",
      "/Users/rithvik/dev/cs262/lux/.venv/lib/python3.9/site-packages/altair/utils/core.py:317: FutureWarning:iteritems is deprecated and will be removed in a future version. Use .items instead.\n",
      "/Users/rithvik/dev/cs262/lux/.venv/lib/python3.9/site-packages/altair/utils/core.py:317: FutureWarning:iteritems is deprecated and will be removed in a future version. Use .items instead.\n",
      "/Users/rithvik/dev/cs262/lux/.venv/lib/python3.9/site-packages/altair/utils/core.py:317: FutureWarning:iteritems is deprecated and will be removed in a future version. Use .items instead.\n",
      "/Users/rithvik/dev/cs262/lux/.venv/lib/python3.9/site-packages/altair/utils/core.py:317: FutureWarning:iteritems is deprecated and will be removed in a future version. Use .items instead.\n",
      "/Users/rithvik/dev/cs262/lux/.venv/lib/python3.9/site-packages/altair/utils/core.py:317: FutureWarning:iteritems is deprecated and will be removed in a future version. Use .items instead.\n",
      "/Users/rithvik/dev/cs262/lux/.venv/lib/python3.9/site-packages/altair/utils/core.py:317: FutureWarning:iteritems is deprecated and will be removed in a future version. Use .items instead.\n",
      "/Users/rithvik/dev/cs262/lux/.venv/lib/python3.9/site-packages/altair/utils/core.py:317: FutureWarning:iteritems is deprecated and will be removed in a future version. Use .items instead.\n",
      "/Users/rithvik/dev/cs262/lux/.venv/lib/python3.9/site-packages/altair/utils/core.py:317: FutureWarning:iteritems is deprecated and will be removed in a future version. Use .items instead.\n",
      "/Users/rithvik/dev/cs262/lux/.venv/lib/python3.9/site-packages/altair/utils/core.py:317: FutureWarning:iteritems is deprecated and will be removed in a future version. Use .items instead.\n",
      "/Users/rithvik/dev/cs262/lux/.venv/lib/python3.9/site-packages/altair/utils/core.py:317: FutureWarning:iteritems is deprecated and will be removed in a future version. Use .items instead.\n",
      "/Users/rithvik/dev/cs262/lux/.venv/lib/python3.9/site-packages/altair/utils/core.py:317: FutureWarning:iteritems is deprecated and will be removed in a future version. Use .items instead.\n",
      "/Users/rithvik/dev/cs262/lux/.venv/lib/python3.9/site-packages/altair/utils/core.py:317: FutureWarning:iteritems is deprecated and will be removed in a future version. Use .items instead.\n",
      "/Users/rithvik/dev/cs262/lux/.venv/lib/python3.9/site-packages/altair/utils/core.py:317: FutureWarning:iteritems is deprecated and will be removed in a future version. Use .items instead.\n",
      "/Users/rithvik/dev/cs262/lux/.venv/lib/python3.9/site-packages/altair/utils/core.py:317: FutureWarning:iteritems is deprecated and will be removed in a future version. Use .items instead.\n",
      "/Users/rithvik/dev/cs262/lux/.venv/lib/python3.9/site-packages/altair/utils/core.py:317: FutureWarning:iteritems is deprecated and will be removed in a future version. Use .items instead.\n",
      "/Users/rithvik/dev/cs262/lux/.venv/lib/python3.9/site-packages/altair/utils/core.py:317: FutureWarning:iteritems is deprecated and will be removed in a future version. Use .items instead.\n",
      "/Users/rithvik/dev/cs262/lux/.venv/lib/python3.9/site-packages/altair/utils/core.py:317: FutureWarning:iteritems is deprecated and will be removed in a future version. Use .items instead.\n"
     ]
    },
    {
     "name": "stderr",
     "output_type": "stream",
     "text": [
      "/Users/rithvik/dev/cs262/lux/.venv/lib/python3.9/site-packages/altair/utils/core.py:317: FutureWarning:iteritems is deprecated and will be removed in a future version. Use .items instead.\n",
      "/Users/rithvik/dev/cs262/lux/.venv/lib/python3.9/site-packages/altair/utils/core.py:317: FutureWarning:iteritems is deprecated and will be removed in a future version. Use .items instead.\n",
      "/Users/rithvik/dev/cs262/lux/.venv/lib/python3.9/site-packages/altair/utils/core.py:317: FutureWarning:iteritems is deprecated and will be removed in a future version. Use .items instead.\n",
      "/Users/rithvik/dev/cs262/lux/.venv/lib/python3.9/site-packages/altair/utils/core.py:317: FutureWarning:iteritems is deprecated and will be removed in a future version. Use .items instead.\n",
      "/Users/rithvik/dev/cs262/lux/.venv/lib/python3.9/site-packages/altair/utils/core.py:317: FutureWarning:iteritems is deprecated and will be removed in a future version. Use .items instead.\n",
      "/Users/rithvik/dev/cs262/lux/.venv/lib/python3.9/site-packages/altair/utils/core.py:317: FutureWarning:iteritems is deprecated and will be removed in a future version. Use .items instead.\n",
      "/Users/rithvik/dev/cs262/lux/.venv/lib/python3.9/site-packages/altair/utils/core.py:317: FutureWarning:iteritems is deprecated and will be removed in a future version. Use .items instead.\n",
      "/Users/rithvik/dev/cs262/lux/.venv/lib/python3.9/site-packages/altair/utils/core.py:317: FutureWarning:iteritems is deprecated and will be removed in a future version. Use .items instead.\n",
      "/Users/rithvik/dev/cs262/lux/.venv/lib/python3.9/site-packages/altair/utils/core.py:317: FutureWarning:iteritems is deprecated and will be removed in a future version. Use .items instead.\n",
      "/Users/rithvik/dev/cs262/lux/.venv/lib/python3.9/site-packages/altair/utils/core.py:317: FutureWarning:iteritems is deprecated and will be removed in a future version. Use .items instead.\n",
      "/Users/rithvik/dev/cs262/lux/.venv/lib/python3.9/site-packages/altair/utils/core.py:317: FutureWarning:iteritems is deprecated and will be removed in a future version. Use .items instead.\n",
      "/Users/rithvik/dev/cs262/lux/.venv/lib/python3.9/site-packages/altair/utils/core.py:317: FutureWarning:iteritems is deprecated and will be removed in a future version. Use .items instead.\n",
      "/Users/rithvik/dev/cs262/lux/.venv/lib/python3.9/site-packages/altair/utils/core.py:317: FutureWarning:iteritems is deprecated and will be removed in a future version. Use .items instead.\n",
      "/Users/rithvik/dev/cs262/lux/.venv/lib/python3.9/site-packages/altair/utils/core.py:317: FutureWarning:iteritems is deprecated and will be removed in a future version. Use .items instead.\n",
      "/Users/rithvik/dev/cs262/lux/.venv/lib/python3.9/site-packages/altair/utils/core.py:317: FutureWarning:iteritems is deprecated and will be removed in a future version. Use .items instead.\n",
      "/Users/rithvik/dev/cs262/lux/.venv/lib/python3.9/site-packages/altair/utils/core.py:317: FutureWarning:iteritems is deprecated and will be removed in a future version. Use .items instead.\n",
      "/Users/rithvik/dev/cs262/lux/.venv/lib/python3.9/site-packages/altair/utils/core.py:317: FutureWarning:iteritems is deprecated and will be removed in a future version. Use .items instead.\n",
      "/Users/rithvik/dev/cs262/lux/.venv/lib/python3.9/site-packages/altair/utils/core.py:317: FutureWarning:iteritems is deprecated and will be removed in a future version. Use .items instead.\n",
      "/Users/rithvik/dev/cs262/lux/.venv/lib/python3.9/site-packages/altair/utils/core.py:317: FutureWarning:iteritems is deprecated and will be removed in a future version. Use .items instead.\n",
      "/Users/rithvik/dev/cs262/lux/.venv/lib/python3.9/site-packages/altair/utils/core.py:317: FutureWarning:iteritems is deprecated and will be removed in a future version. Use .items instead.\n",
      "/Users/rithvik/dev/cs262/lux/.venv/lib/python3.9/site-packages/altair/utils/core.py:317: FutureWarning:iteritems is deprecated and will be removed in a future version. Use .items instead.\n",
      "/Users/rithvik/dev/cs262/lux/.venv/lib/python3.9/site-packages/altair/utils/core.py:317: FutureWarning:iteritems is deprecated and will be removed in a future version. Use .items instead.\n",
      "/Users/rithvik/dev/cs262/lux/.venv/lib/python3.9/site-packages/altair/utils/core.py:317: FutureWarning:iteritems is deprecated and will be removed in a future version. Use .items instead.\n",
      "/Users/rithvik/dev/cs262/lux/.venv/lib/python3.9/site-packages/altair/utils/core.py:317: FutureWarning:iteritems is deprecated and will be removed in a future version. Use .items instead.\n",
      "/Users/rithvik/dev/cs262/lux/.venv/lib/python3.9/site-packages/altair/utils/core.py:317: FutureWarning:iteritems is deprecated and will be removed in a future version. Use .items instead.\n",
      "/Users/rithvik/dev/cs262/lux/.venv/lib/python3.9/site-packages/altair/utils/core.py:317: FutureWarning:iteritems is deprecated and will be removed in a future version. Use .items instead.\n"
     ]
    },
    {
     "data": {
      "application/vnd.jupyter.widget-view+json": {
       "model_id": "e138787dc30e4f7e8aaa2a03fd8d1ac9",
       "version_major": 2,
       "version_minor": 0
      },
      "text/plain": [
       "Button(description='Toggle Pandas/Lux', layout=Layout(top='5px', width='140px'), style=ButtonStyle())"
      ]
     },
     "metadata": {},
     "output_type": "display_data"
    },
    {
     "data": {
      "application/vnd.jupyter.widget-view+json": {
       "model_id": "ad9aa712ad5e4ef69e8cbeac423df3d6",
       "version_major": 2,
       "version_minor": 0
      },
      "text/plain": [
       "Output()"
      ]
     },
     "metadata": {},
     "output_type": "display_data"
    }
   ],
   "source": [
    "from lux.vis.VisList import VisList\n",
    "from lux.vis.Vis import Vis\n",
    "\n",
    "# VisList([Vis([\"latitude\", \"longitude\", \"price\"]), Vis([\"room_type=?\", \"price\"])],df)\n",
    "# VisList([\"Region=?\", \"AverageCost\", \"SATAverage|ACTMedian\"],df)\n",
    "# VisList([\"state\", \"AverageCost\", \"SATAverage|ACTMedian\"],df)\n",
    "df"
   ]
  },
  {
   "cell_type": "markdown",
   "id": "b95b4abb",
   "metadata": {},
   "source": [
    "# Geography Test"
   ]
  },
  {
   "cell_type": "code",
   "execution_count": 28,
   "id": "36b53874",
   "metadata": {},
   "outputs": [],
   "source": [
    "countries = pd.read_csv(\"https://github.com/lux-org/lux-datasets/blob/master/data/countries.csv?raw=True\")\n",
    "countries[\"Country\"]=countries[\"name\"].apply(lambda x:x.split(\",\")[0])\n",
    "countries.loc[countries[\"Country\"]=='United States',\"Country\"] = 'United States of America'"
   ]
  },
  {
   "cell_type": "code",
   "execution_count": 29,
   "id": "861fe76b",
   "metadata": {},
   "outputs": [
    {
     "name": "stdout",
     "output_type": "stream",
     "text": [
      "Total time: 0.00430607795715332\n",
      "Total accesses: 68, VisList length: 2\n",
      "Hit rate: 0.6029411764705882\n",
      "Total time: 0.0039370059967041016\n",
      "Total accesses: 68, VisList length: 2\n",
      "Hit rate: 0.6029411764705882\n",
      "Total time: 0.15331196784973145\n",
      "Total accesses: 68, VisList length: 20\n",
      "Hit rate: 0.6029411764705882\n",
      "Total time: 5.9604644775390625e-06\n",
      "Total accesses: 68, VisList length: 0\n",
      "Hit rate: 0.6029411764705882\n",
      "Total time: 0.013052940368652344\n",
      "Total accesses: 68, VisList length: 2\n",
      "Hit rate: 0.6029411764705882\n"
     ]
    },
    {
     "name": "stderr",
     "output_type": "stream",
     "text": [
      "/Users/rithvik/dev/cs262/lux/.venv/lib/python3.9/site-packages/altair/utils/core.py:317: FutureWarning:iteritems is deprecated and will be removed in a future version. Use .items instead.\n",
      "/Users/rithvik/dev/cs262/lux/.venv/lib/python3.9/site-packages/altair/utils/core.py:317: FutureWarning:iteritems is deprecated and will be removed in a future version. Use .items instead.\n",
      "/Users/rithvik/dev/cs262/lux/.venv/lib/python3.9/site-packages/altair/utils/core.py:317: FutureWarning:iteritems is deprecated and will be removed in a future version. Use .items instead.\n",
      "/Users/rithvik/dev/cs262/lux/.venv/lib/python3.9/site-packages/altair/utils/core.py:317: FutureWarning:iteritems is deprecated and will be removed in a future version. Use .items instead.\n",
      "/Users/rithvik/dev/cs262/lux/.venv/lib/python3.9/site-packages/altair/utils/core.py:317: FutureWarning:iteritems is deprecated and will be removed in a future version. Use .items instead.\n",
      "/Users/rithvik/dev/cs262/lux/.venv/lib/python3.9/site-packages/altair/utils/core.py:317: FutureWarning:iteritems is deprecated and will be removed in a future version. Use .items instead.\n",
      "/Users/rithvik/dev/cs262/lux/.venv/lib/python3.9/site-packages/altair/utils/core.py:317: FutureWarning:iteritems is deprecated and will be removed in a future version. Use .items instead.\n",
      "/Users/rithvik/dev/cs262/lux/.venv/lib/python3.9/site-packages/altair/utils/core.py:317: FutureWarning:iteritems is deprecated and will be removed in a future version. Use .items instead.\n",
      "/Users/rithvik/dev/cs262/lux/.venv/lib/python3.9/site-packages/altair/utils/core.py:317: FutureWarning:iteritems is deprecated and will be removed in a future version. Use .items instead.\n",
      "/Users/rithvik/dev/cs262/lux/.venv/lib/python3.9/site-packages/altair/utils/core.py:317: FutureWarning:iteritems is deprecated and will be removed in a future version. Use .items instead.\n",
      "/Users/rithvik/dev/cs262/lux/.venv/lib/python3.9/site-packages/altair/utils/core.py:317: FutureWarning:iteritems is deprecated and will be removed in a future version. Use .items instead.\n",
      "/Users/rithvik/dev/cs262/lux/.venv/lib/python3.9/site-packages/altair/utils/core.py:317: FutureWarning:iteritems is deprecated and will be removed in a future version. Use .items instead.\n",
      "/Users/rithvik/dev/cs262/lux/.venv/lib/python3.9/site-packages/altair/utils/core.py:317: FutureWarning:iteritems is deprecated and will be removed in a future version. Use .items instead.\n",
      "/Users/rithvik/dev/cs262/lux/.venv/lib/python3.9/site-packages/altair/utils/core.py:317: FutureWarning:iteritems is deprecated and will be removed in a future version. Use .items instead.\n",
      "/Users/rithvik/dev/cs262/lux/.venv/lib/python3.9/site-packages/altair/utils/core.py:317: FutureWarning:iteritems is deprecated and will be removed in a future version. Use .items instead.\n",
      "/Users/rithvik/dev/cs262/lux/.venv/lib/python3.9/site-packages/altair/utils/core.py:317: FutureWarning:iteritems is deprecated and will be removed in a future version. Use .items instead.\n",
      "/Users/rithvik/dev/cs262/lux/.venv/lib/python3.9/site-packages/altair/utils/core.py:317: FutureWarning:iteritems is deprecated and will be removed in a future version. Use .items instead.\n",
      "/Users/rithvik/dev/cs262/lux/.venv/lib/python3.9/site-packages/altair/utils/core.py:317: FutureWarning:iteritems is deprecated and will be removed in a future version. Use .items instead.\n",
      "/Users/rithvik/dev/cs262/lux/.venv/lib/python3.9/site-packages/altair/utils/core.py:317: FutureWarning:iteritems is deprecated and will be removed in a future version. Use .items instead.\n",
      "/Users/rithvik/dev/cs262/lux/.venv/lib/python3.9/site-packages/altair/utils/core.py:317: FutureWarning:iteritems is deprecated and will be removed in a future version. Use .items instead.\n",
      "/Users/rithvik/dev/cs262/lux/.venv/lib/python3.9/site-packages/altair/utils/core.py:317: FutureWarning:iteritems is deprecated and will be removed in a future version. Use .items instead.\n",
      "/Users/rithvik/dev/cs262/lux/.venv/lib/python3.9/site-packages/altair/utils/core.py:317: FutureWarning:iteritems is deprecated and will be removed in a future version. Use .items instead.\n",
      "/Users/rithvik/dev/cs262/lux/.venv/lib/python3.9/site-packages/altair/utils/core.py:317: FutureWarning:iteritems is deprecated and will be removed in a future version. Use .items instead.\n",
      "/Users/rithvik/dev/cs262/lux/.venv/lib/python3.9/site-packages/altair/utils/core.py:317: FutureWarning:iteritems is deprecated and will be removed in a future version. Use .items instead.\n",
      "/Users/rithvik/dev/cs262/lux/.venv/lib/python3.9/site-packages/altair/utils/core.py:317: FutureWarning:iteritems is deprecated and will be removed in a future version. Use .items instead.\n"
     ]
    },
    {
     "data": {
      "application/vnd.jupyter.widget-view+json": {
       "model_id": "21272418bf684cabbb3229ae24dfcd73",
       "version_major": 2,
       "version_minor": 0
      },
      "text/plain": [
       "Button(description='Toggle Pandas/Lux', layout=Layout(top='5px', width='140px'), style=ButtonStyle())"
      ]
     },
     "metadata": {},
     "output_type": "display_data"
    },
    {
     "data": {
      "application/vnd.jupyter.widget-view+json": {
       "model_id": "a069265f050d4312a7604cea6cbfa114",
       "version_major": 2,
       "version_minor": 0
      },
      "text/plain": [
       "Output()"
      ]
     },
     "metadata": {},
     "output_type": "display_data"
    }
   ],
   "source": [
    "countries"
   ]
  },
  {
   "cell_type": "code",
   "execution_count": 33,
   "id": "34a91a75",
   "metadata": {},
   "outputs": [],
   "source": [
    "countries[\"landlocked\"] = countries[\"landlocked\"].fillna(\"False\").replace(1,\"True\")\n",
    "countries[\"NumOfficialLanguages\"]=countries.languages.str.count(\",\")+1\n",
    "countries[\"NumBorderingCountries\"]=countries.borders.str.count(\",\")+1\n",
    "countries[\"NumBorderingCountries\"]=countries[\"NumBorderingCountries\"].fillna(0)\n",
    "countries = countries[['Country','cca3', 'landlocked', \"NumOfficialLanguages\", \"NumBorderingCountries\",'area']]"
   ]
  },
  {
   "cell_type": "code",
   "execution_count": 34,
   "id": "4912cabc",
   "metadata": {},
   "outputs": [
    {
     "name": "stdout",
     "output_type": "stream",
     "text": [
      "Total time: 6.9141387939453125e-06\n",
      "Total accesses: 68, VisList length: 0\n",
      "Hit rate: 0.6029411764705882\n",
      "Total time: 0.002032041549682617\n",
      "Total accesses: 68, VisList length: 1\n",
      "Hit rate: 0.6029411764705882\n",
      "Total time: 0.03382706642150879\n",
      "Total accesses: 68, VisList length: 4\n",
      "Hit rate: 0.6029411764705882\n",
      "Total time: 5.9604644775390625e-06\n",
      "Total accesses: 68, VisList length: 0\n",
      "Hit rate: 0.6029411764705882\n",
      "Total time: 0.007608175277709961\n",
      "Total accesses: 68, VisList length: 1\n",
      "Hit rate: 0.6029411764705882\n"
     ]
    },
    {
     "name": "stderr",
     "output_type": "stream",
     "text": [
      "/Users/rithvik/dev/cs262/lux/.venv/lib/python3.9/site-packages/altair/utils/core.py:317: FutureWarning:iteritems is deprecated and will be removed in a future version. Use .items instead.\n",
      "/Users/rithvik/dev/cs262/lux/.venv/lib/python3.9/site-packages/altair/utils/core.py:317: FutureWarning:iteritems is deprecated and will be removed in a future version. Use .items instead.\n",
      "/Users/rithvik/dev/cs262/lux/.venv/lib/python3.9/site-packages/altair/utils/core.py:317: FutureWarning:iteritems is deprecated and will be removed in a future version. Use .items instead.\n",
      "/Users/rithvik/dev/cs262/lux/.venv/lib/python3.9/site-packages/altair/utils/core.py:317: FutureWarning:iteritems is deprecated and will be removed in a future version. Use .items instead.\n",
      "/Users/rithvik/dev/cs262/lux/.venv/lib/python3.9/site-packages/altair/utils/core.py:317: FutureWarning:iteritems is deprecated and will be removed in a future version. Use .items instead.\n",
      "/Users/rithvik/dev/cs262/lux/.venv/lib/python3.9/site-packages/altair/utils/core.py:317: FutureWarning:iteritems is deprecated and will be removed in a future version. Use .items instead.\n"
     ]
    },
    {
     "data": {
      "application/vnd.jupyter.widget-view+json": {
       "model_id": "48ca706d737e4c899c48ae51a7a9f0e2",
       "version_major": 2,
       "version_minor": 0
      },
      "text/plain": [
       "Button(description='Toggle Pandas/Lux', layout=Layout(top='5px', width='140px'), style=ButtonStyle())"
      ]
     },
     "metadata": {},
     "output_type": "display_data"
    },
    {
     "data": {
      "application/vnd.jupyter.widget-view+json": {
       "model_id": "ba8f2d7c486f44b292cbafabbb7e65c1",
       "version_major": 2,
       "version_minor": 0
      },
      "text/plain": [
       "Output()"
      ]
     },
     "metadata": {},
     "output_type": "display_data"
    }
   ],
   "source": [
    "countries"
   ]
  },
  {
   "cell_type": "code",
   "execution_count": null,
   "id": "58ecb8b0",
   "metadata": {},
   "outputs": [],
   "source": []
  }
 ],
 "metadata": {
  "kernelspec": {
   "display_name": ".venv",
   "language": "python",
   "name": ".venv"
  },
  "language_info": {
   "codemirror_mode": {
    "name": "ipython",
    "version": 3
   },
   "file_extension": ".py",
   "mimetype": "text/x-python",
   "name": "python",
   "nbconvert_exporter": "python",
   "pygments_lexer": "ipython3",
   "version": "3.9.13"
  }
 },
 "nbformat": 4,
 "nbformat_minor": 5
}
