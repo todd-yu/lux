{
 "cells": [
  {
   "cell_type": "code",
   "execution_count": 1,
   "id": "92145997-3f2f-42cb-8817-5c82dee88780",
   "metadata": {},
   "outputs": [],
   "source": [
    "import lux\n",
    "import pandas as pd\n",
    "import numpy as np\n",
    "import time"
   ]
  },
  {
   "cell_type": "code",
   "execution_count": 2,
   "id": "acb6cece",
   "metadata": {},
   "outputs": [],
   "source": [
    "lux.config.sampling_cap = 1000000000\n",
    "lux.config.sampling_start = 10000000\n",
    "lux.config.sampling = False\n",
    "lux.config.topk = 50 # Important as otherwise pandas executor is bypassed\n",
    "\n",
    "# Lux has a lot of deprecation warnings\n",
    "import warnings\n",
    "#warnings.filterwarnings('ignore')"
   ]
  },
  {
   "cell_type": "code",
   "execution_count": 3,
   "id": "0d7f5b81",
   "metadata": {
    "scrolled": true
   },
   "outputs": [
    {
     "name": "stdout",
     "output_type": "stream",
     "text": [
      "488950\n"
     ]
    }
   ],
   "source": [
    "# df = pd.read_csv(\"https://raw.githubusercontent.com/lux-org/lux-datasets/master/data/college.csv\")\n",
    "# # df[\"country\"] = np.array([str(np.random.choice([\"001\", \"004\", \"003\"])) for _ in range(len(df))])\n",
    "# # df[\"country\"] = df[\"country\"].astype(pd.StringDtype())\n",
    "# df[\"state\"] = [np.random.choice([\"california\", \"new york\", \"new jersey\", \"georgia\", \"texas\", \"maine\", \"louisiana\",\"washington\", \"oregon\"]) for _ in range(len(df))]\n",
    "# df.to_csv(\"/Users/rithvik/Downloads/college_with_geo_small.csv\", index=False)\n",
    "# df = pd.read_csv(\"/Users/rithvik/Downloads/college_with_geo_small.csv\")\n",
    "\n",
    "# newdf = pd.DataFrame(np.repeat(df.values, 200, axis=0))\n",
    "# newdf.columns = df.columns\n",
    "# df = newdf\n",
    "\n",
    "# newdf = pd.DataFrame(np.repeat(df.values, 1000, axis=0))\n",
    "# newdf.columns = df.columns\n",
    "# df = newdf\n",
    "# df.to_csv(\"/Users/rithvik/Downloads/college_with_geo.csv\", index=False)\n",
    "#\n",
    "\n",
    "# df = pd.read_csv(\"/Users/rithvik/Downloads/college_with_geo.csv\")\n",
    "df = pd.read_csv(\"/Users/rithvik/Downloads/500k.csv\")\n",
    "\n",
    "# Testing dataset\n",
    "# data = []\n",
    "# for i in range(10000):\n",
    "#     data.append([\n",
    "#         i,\n",
    "#         np.random.choice([\"Java\", \"Python\", \"Go\"]),\n",
    "#         np.random.choice([\"macOS\", \"Windows\", \"Linux\"]),\n",
    "#         np.random.choice([\"Paxos\", \"Raft\", \"VR\"]),\n",
    "#         np.random.choice([\"Spark\", \"Modin\", \"MapReduce\"]),\n",
    "#         np.random.choice([\"Android\", \"iOS\", \"Windows Phone\"]),\n",
    "#     ])\n",
    "\n",
    "# df = pd.DataFrame(data, columns=['Num', 'A', 'B', 'C', 'D', 'E'])\n",
    "\n",
    "# newdf = pd.DataFrame(np.repeat(df.values, 100, axis=0))\n",
    "# newdf.columns = df.columns\n",
    "# df = newdf\n",
    "\n",
    "# # df[\"country\"] = df[\"country\"].astype(pd.StringDtype())\n",
    "# df[\"state\"] = [np.random.choice([\"california\", \"new york\", \"new jersey\", \"georgia\", \"texas\", \"maine\", \"louisiana\",\"washington\", \"oregon\"]) for _ in range(len(df))]\n",
    "\n",
    "\n",
    "print(len(df))"
   ]
  },
  {
   "cell_type": "code",
   "execution_count": 4,
   "id": "2350340c",
   "metadata": {
    "scrolled": true
   },
   "outputs": [
    {
     "name": "stderr",
     "output_type": "stream",
     "text": [
      "/Users/rithvik/dev/cs262/lux/lux/executor/PandasExecutor.py:560: UserWarning:\n",
      "Lux detects that the attribute 'last_review' may be temporal.\n",
      "To display visualizations for these attributes accurately, please convert temporal attributes to Datetime objects.\n",
      "For example, you can convert a Year attribute (e.g., 1998, 1971, 1982) using pd.to_datetime by specifying the `format` as '%Y'.\n",
      "\n",
      "Here is a starter template that you can use for converting the temporal fields:\n",
      "\tdf['last_review'] = pd.to_datetime(df['last_review'], format='<replace-with-datetime-format>')\n",
      "\n",
      "See more at: https://pandas.pydata.org/pandas-docs/stable/reference/api/pandas.to_datetime.html\n",
      "If last_review is not a temporal attribute, please use override Lux's automatically detected type:\n",
      "\tdf.set_data_type({'last_review':'quantitative'})\n",
      "/Users/rithvik/dev/cs262/lux/.venv/lib/python3.9/site-packages/altair/utils/core.py:317: FutureWarning:iteritems is deprecated and will be removed in a future version. Use .items instead.\n",
      "/Users/rithvik/dev/cs262/lux/.venv/lib/python3.9/site-packages/altair/utils/core.py:317: FutureWarning:iteritems is deprecated and will be removed in a future version. Use .items instead.\n",
      "/Users/rithvik/dev/cs262/lux/.venv/lib/python3.9/site-packages/altair/utils/core.py:317: FutureWarning:iteritems is deprecated and will be removed in a future version. Use .items instead.\n",
      "/Users/rithvik/dev/cs262/lux/.venv/lib/python3.9/site-packages/altair/utils/core.py:317: FutureWarning:iteritems is deprecated and will be removed in a future version. Use .items instead.\n",
      "/Users/rithvik/dev/cs262/lux/.venv/lib/python3.9/site-packages/altair/utils/core.py:317: FutureWarning:iteritems is deprecated and will be removed in a future version. Use .items instead.\n",
      "/Users/rithvik/dev/cs262/lux/.venv/lib/python3.9/site-packages/altair/utils/core.py:317: FutureWarning:iteritems is deprecated and will be removed in a future version. Use .items instead.\n",
      "/Users/rithvik/dev/cs262/lux/.venv/lib/python3.9/site-packages/altair/utils/core.py:317: FutureWarning:iteritems is deprecated and will be removed in a future version. Use .items instead.\n",
      "/Users/rithvik/dev/cs262/lux/.venv/lib/python3.9/site-packages/altair/utils/core.py:317: FutureWarning:iteritems is deprecated and will be removed in a future version. Use .items instead.\n",
      "/Users/rithvik/dev/cs262/lux/.venv/lib/python3.9/site-packages/altair/utils/core.py:317: FutureWarning:iteritems is deprecated and will be removed in a future version. Use .items instead.\n",
      "/Users/rithvik/dev/cs262/lux/.venv/lib/python3.9/site-packages/altair/utils/core.py:317: FutureWarning:iteritems is deprecated and will be removed in a future version. Use .items instead.\n",
      "/Users/rithvik/dev/cs262/lux/.venv/lib/python3.9/site-packages/altair/utils/core.py:317: FutureWarning:iteritems is deprecated and will be removed in a future version. Use .items instead.\n",
      "/Users/rithvik/dev/cs262/lux/.venv/lib/python3.9/site-packages/altair/utils/core.py:317: FutureWarning:iteritems is deprecated and will be removed in a future version. Use .items instead.\n",
      "/Users/rithvik/dev/cs262/lux/.venv/lib/python3.9/site-packages/altair/utils/core.py:317: FutureWarning:iteritems is deprecated and will be removed in a future version. Use .items instead.\n",
      "/Users/rithvik/dev/cs262/lux/.venv/lib/python3.9/site-packages/altair/utils/core.py:317: FutureWarning:iteritems is deprecated and will be removed in a future version. Use .items instead.\n",
      "/Users/rithvik/dev/cs262/lux/.venv/lib/python3.9/site-packages/altair/utils/core.py:317: FutureWarning:iteritems is deprecated and will be removed in a future version. Use .items instead.\n",
      "/Users/rithvik/dev/cs262/lux/.venv/lib/python3.9/site-packages/altair/utils/core.py:317: FutureWarning:iteritems is deprecated and will be removed in a future version. Use .items instead.\n",
      "/Users/rithvik/dev/cs262/lux/.venv/lib/python3.9/site-packages/altair/utils/core.py:317: FutureWarning:iteritems is deprecated and will be removed in a future version. Use .items instead.\n",
      "/Users/rithvik/dev/cs262/lux/.venv/lib/python3.9/site-packages/altair/utils/core.py:317: FutureWarning:iteritems is deprecated and will be removed in a future version. Use .items instead.\n",
      "/Users/rithvik/dev/cs262/lux/.venv/lib/python3.9/site-packages/altair/utils/core.py:317: FutureWarning:iteritems is deprecated and will be removed in a future version. Use .items instead.\n",
      "/Users/rithvik/dev/cs262/lux/.venv/lib/python3.9/site-packages/altair/utils/core.py:317: FutureWarning:iteritems is deprecated and will be removed in a future version. Use .items instead.\n",
      "/Users/rithvik/dev/cs262/lux/.venv/lib/python3.9/site-packages/altair/utils/core.py:317: FutureWarning:iteritems is deprecated and will be removed in a future version. Use .items instead.\n",
      "/Users/rithvik/dev/cs262/lux/.venv/lib/python3.9/site-packages/altair/utils/core.py:317: FutureWarning:iteritems is deprecated and will be removed in a future version. Use .items instead.\n",
      "/Users/rithvik/dev/cs262/lux/.venv/lib/python3.9/site-packages/altair/utils/core.py:317: FutureWarning:iteritems is deprecated and will be removed in a future version. Use .items instead.\n",
      "/Users/rithvik/dev/cs262/lux/.venv/lib/python3.9/site-packages/altair/utils/core.py:317: FutureWarning:iteritems is deprecated and will be removed in a future version. Use .items instead.\n",
      "/Users/rithvik/dev/cs262/lux/.venv/lib/python3.9/site-packages/altair/utils/core.py:317: FutureWarning:iteritems is deprecated and will be removed in a future version. Use .items instead.\n",
      "/Users/rithvik/dev/cs262/lux/.venv/lib/python3.9/site-packages/altair/utils/core.py:317: FutureWarning:iteritems is deprecated and will be removed in a future version. Use .items instead.\n",
      "/Users/rithvik/dev/cs262/lux/.venv/lib/python3.9/site-packages/altair/utils/core.py:317: FutureWarning:iteritems is deprecated and will be removed in a future version. Use .items instead.\n",
      "/Users/rithvik/dev/cs262/lux/.venv/lib/python3.9/site-packages/altair/utils/core.py:317: FutureWarning:iteritems is deprecated and will be removed in a future version. Use .items instead.\n",
      "/Users/rithvik/dev/cs262/lux/.venv/lib/python3.9/site-packages/altair/utils/core.py:317: FutureWarning:iteritems is deprecated and will be removed in a future version. Use .items instead.\n",
      "/Users/rithvik/dev/cs262/lux/.venv/lib/python3.9/site-packages/altair/utils/core.py:317: FutureWarning:iteritems is deprecated and will be removed in a future version. Use .items instead.\n",
      "/Users/rithvik/dev/cs262/lux/.venv/lib/python3.9/site-packages/altair/utils/core.py:317: FutureWarning:iteritems is deprecated and will be removed in a future version. Use .items instead.\n",
      "/Users/rithvik/dev/cs262/lux/.venv/lib/python3.9/site-packages/altair/utils/core.py:317: FutureWarning:iteritems is deprecated and will be removed in a future version. Use .items instead.\n",
      "/Users/rithvik/dev/cs262/lux/.venv/lib/python3.9/site-packages/altair/utils/core.py:317: FutureWarning:iteritems is deprecated and will be removed in a future version. Use .items instead.\n",
      "/Users/rithvik/dev/cs262/lux/.venv/lib/python3.9/site-packages/altair/utils/core.py:317: FutureWarning:iteritems is deprecated and will be removed in a future version. Use .items instead.\n",
      "/Users/rithvik/dev/cs262/lux/.venv/lib/python3.9/site-packages/altair/utils/core.py:317: FutureWarning:iteritems is deprecated and will be removed in a future version. Use .items instead.\n",
      "/Users/rithvik/dev/cs262/lux/.venv/lib/python3.9/site-packages/altair/utils/core.py:317: FutureWarning:iteritems is deprecated and will be removed in a future version. Use .items instead.\n",
      "/Users/rithvik/dev/cs262/lux/.venv/lib/python3.9/site-packages/altair/utils/core.py:317: FutureWarning:iteritems is deprecated and will be removed in a future version. Use .items instead.\n",
      "/Users/rithvik/dev/cs262/lux/.venv/lib/python3.9/site-packages/altair/utils/core.py:317: FutureWarning:iteritems is deprecated and will be removed in a future version. Use .items instead.\n",
      "/Users/rithvik/dev/cs262/lux/.venv/lib/python3.9/site-packages/altair/utils/core.py:317: FutureWarning:iteritems is deprecated and will be removed in a future version. Use .items instead.\n",
      "/Users/rithvik/dev/cs262/lux/.venv/lib/python3.9/site-packages/altair/utils/core.py:317: FutureWarning:iteritems is deprecated and will be removed in a future version. Use .items instead.\n"
     ]
    },
    {
     "name": "stderr",
     "output_type": "stream",
     "text": [
      "/Users/rithvik/dev/cs262/lux/.venv/lib/python3.9/site-packages/altair/utils/core.py:317: FutureWarning:iteritems is deprecated and will be removed in a future version. Use .items instead.\n",
      "/Users/rithvik/dev/cs262/lux/.venv/lib/python3.9/site-packages/altair/utils/core.py:317: FutureWarning:iteritems is deprecated and will be removed in a future version. Use .items instead.\n",
      "/Users/rithvik/dev/cs262/lux/.venv/lib/python3.9/site-packages/altair/utils/core.py:317: FutureWarning:iteritems is deprecated and will be removed in a future version. Use .items instead.\n",
      "/Users/rithvik/dev/cs262/lux/.venv/lib/python3.9/site-packages/altair/utils/core.py:317: FutureWarning:iteritems is deprecated and will be removed in a future version. Use .items instead.\n",
      "/Users/rithvik/dev/cs262/lux/.venv/lib/python3.9/site-packages/altair/utils/core.py:317: FutureWarning:iteritems is deprecated and will be removed in a future version. Use .items instead.\n",
      "/Users/rithvik/dev/cs262/lux/.venv/lib/python3.9/site-packages/altair/utils/core.py:317: FutureWarning:iteritems is deprecated and will be removed in a future version. Use .items instead.\n",
      "/Users/rithvik/dev/cs262/lux/.venv/lib/python3.9/site-packages/altair/utils/core.py:317: FutureWarning:iteritems is deprecated and will be removed in a future version. Use .items instead.\n",
      "/Users/rithvik/dev/cs262/lux/.venv/lib/python3.9/site-packages/altair/utils/core.py:317: FutureWarning:iteritems is deprecated and will be removed in a future version. Use .items instead.\n",
      "/Users/rithvik/dev/cs262/lux/.venv/lib/python3.9/site-packages/altair/utils/core.py:317: FutureWarning:iteritems is deprecated and will be removed in a future version. Use .items instead.\n",
      "/Users/rithvik/dev/cs262/lux/.venv/lib/python3.9/site-packages/altair/utils/core.py:317: FutureWarning:iteritems is deprecated and will be removed in a future version. Use .items instead.\n",
      "/Users/rithvik/dev/cs262/lux/.venv/lib/python3.9/site-packages/altair/utils/core.py:317: FutureWarning:iteritems is deprecated and will be removed in a future version. Use .items instead.\n",
      "/Users/rithvik/dev/cs262/lux/.venv/lib/python3.9/site-packages/altair/utils/core.py:317: FutureWarning:iteritems is deprecated and will be removed in a future version. Use .items instead.\n",
      "/Users/rithvik/dev/cs262/lux/.venv/lib/python3.9/site-packages/altair/utils/core.py:317: FutureWarning:iteritems is deprecated and will be removed in a future version. Use .items instead.\n",
      "/Users/rithvik/dev/cs262/lux/.venv/lib/python3.9/site-packages/altair/utils/core.py:317: FutureWarning:iteritems is deprecated and will be removed in a future version. Use .items instead.\n",
      "/Users/rithvik/dev/cs262/lux/.venv/lib/python3.9/site-packages/altair/utils/core.py:317: FutureWarning:iteritems is deprecated and will be removed in a future version. Use .items instead.\n",
      "/Users/rithvik/dev/cs262/lux/.venv/lib/python3.9/site-packages/altair/utils/core.py:317: FutureWarning:iteritems is deprecated and will be removed in a future version. Use .items instead.\n",
      "/Users/rithvik/dev/cs262/lux/.venv/lib/python3.9/site-packages/altair/utils/core.py:317: FutureWarning:iteritems is deprecated and will be removed in a future version. Use .items instead.\n",
      "/Users/rithvik/dev/cs262/lux/.venv/lib/python3.9/site-packages/altair/utils/core.py:317: FutureWarning:iteritems is deprecated and will be removed in a future version. Use .items instead.\n",
      "/Users/rithvik/dev/cs262/lux/.venv/lib/python3.9/site-packages/altair/utils/core.py:317: FutureWarning:iteritems is deprecated and will be removed in a future version. Use .items instead.\n",
      "/Users/rithvik/dev/cs262/lux/.venv/lib/python3.9/site-packages/altair/utils/core.py:317: FutureWarning:iteritems is deprecated and will be removed in a future version. Use .items instead.\n",
      "/Users/rithvik/dev/cs262/lux/.venv/lib/python3.9/site-packages/altair/utils/core.py:317: FutureWarning:iteritems is deprecated and will be removed in a future version. Use .items instead.\n",
      "/Users/rithvik/dev/cs262/lux/.venv/lib/python3.9/site-packages/altair/utils/core.py:317: FutureWarning:iteritems is deprecated and will be removed in a future version. Use .items instead.\n",
      "/Users/rithvik/dev/cs262/lux/.venv/lib/python3.9/site-packages/altair/utils/core.py:317: FutureWarning:iteritems is deprecated and will be removed in a future version. Use .items instead.\n",
      "/Users/rithvik/dev/cs262/lux/.venv/lib/python3.9/site-packages/altair/utils/core.py:317: FutureWarning:iteritems is deprecated and will be removed in a future version. Use .items instead.\n",
      "/Users/rithvik/dev/cs262/lux/.venv/lib/python3.9/site-packages/altair/utils/core.py:317: FutureWarning:iteritems is deprecated and will be removed in a future version. Use .items instead.\n",
      "/Users/rithvik/dev/cs262/lux/.venv/lib/python3.9/site-packages/altair/utils/core.py:317: FutureWarning:iteritems is deprecated and will be removed in a future version. Use .items instead.\n",
      "/Users/rithvik/dev/cs262/lux/.venv/lib/python3.9/site-packages/altair/utils/core.py:317: FutureWarning:iteritems is deprecated and will be removed in a future version. Use .items instead.\n",
      "/Users/rithvik/dev/cs262/lux/.venv/lib/python3.9/site-packages/altair/utils/core.py:317: FutureWarning:iteritems is deprecated and will be removed in a future version. Use .items instead.\n",
      "/Users/rithvik/dev/cs262/lux/.venv/lib/python3.9/site-packages/altair/utils/core.py:317: FutureWarning:iteritems is deprecated and will be removed in a future version. Use .items instead.\n",
      "/Users/rithvik/dev/cs262/lux/.venv/lib/python3.9/site-packages/altair/utils/core.py:317: FutureWarning:iteritems is deprecated and will be removed in a future version. Use .items instead.\n",
      "/Users/rithvik/dev/cs262/lux/.venv/lib/python3.9/site-packages/altair/utils/core.py:317: FutureWarning:iteritems is deprecated and will be removed in a future version. Use .items instead.\n",
      "/Users/rithvik/dev/cs262/lux/.venv/lib/python3.9/site-packages/altair/utils/core.py:317: FutureWarning:iteritems is deprecated and will be removed in a future version. Use .items instead.\n"
     ]
    },
    {
     "data": {
      "application/vnd.jupyter.widget-view+json": {
       "model_id": "1e187b75e9944c89a89092a61c478533",
       "version_major": 2,
       "version_minor": 0
      },
      "text/plain": [
       "Button(description='Toggle Pandas/Lux', layout=Layout(top='5px', width='140px'), style=ButtonStyle())"
      ]
     },
     "metadata": {},
     "output_type": "display_data"
    },
    {
     "data": {
      "application/vnd.jupyter.widget-view+json": {
       "model_id": "acfbd432d5464943aa335f7c82468ae3",
       "version_major": 2,
       "version_minor": 0
      },
      "text/plain": [
       "Output()"
      ]
     },
     "metadata": {},
     "output_type": "display_data"
    }
   ],
   "source": [
    "start_time = time.time()\n",
    "df"
   ]
  },
  {
   "cell_type": "code",
   "execution_count": 5,
   "id": "a3ebe2ce",
   "metadata": {},
   "outputs": [
    {
     "name": "stdout",
     "output_type": "stream",
     "text": [
      "15.464513063430786\n"
     ]
    }
   ],
   "source": [
    "print(time.time() - start_time)"
   ]
  },
  {
   "cell_type": "code",
   "execution_count": null,
   "id": "b3da0c23",
   "metadata": {
    "scrolled": true
   },
   "outputs": [],
   "source": [
    "df.intent=[\"MedianEarnings\"]\n",
    "df"
   ]
  },
  {
   "cell_type": "code",
   "execution_count": 7,
   "id": "2593299c",
   "metadata": {
    "scrolled": true
   },
   "outputs": [
    {
     "name": "stdout",
     "output_type": "stream",
     "text": [
      "Total time: 0.2704026699066162, VisList length: 1\n",
      "Total time: 7.272434234619141, VisList length: 15\n",
      "Total time: 0.2565460205078125, VisList length: 59\n",
      "Total time: 0.22078990936279297, VisList length: 59\n",
      "Total time: 0.2274019718170166, VisList length: 2\n"
     ]
    },
    {
     "ename": "KeyboardInterrupt",
     "evalue": "",
     "output_type": "error",
     "traceback": [
      "\u001b[0;31m---------------------------------------------------------------------------\u001b[0m",
      "\u001b[0;31mKeyboardInterrupt\u001b[0m                         Traceback (most recent call last)",
      "Cell \u001b[0;32mIn [7], line 2\u001b[0m\n\u001b[1;32m      1\u001b[0m df\u001b[38;5;241m.\u001b[39mintent\u001b[38;5;241m=\u001b[39m[\u001b[38;5;124m\"\u001b[39m\u001b[38;5;124mMedianEarnings\u001b[39m\u001b[38;5;124m\"\u001b[39m, \u001b[38;5;124m\"\u001b[39m\u001b[38;5;124mSATAverage\u001b[39m\u001b[38;5;124m\"\u001b[39m]\n\u001b[0;32m----> 2\u001b[0m df\n",
      "File \u001b[0;32m~/dev/cs262/lux/.venv/lib/python3.9/site-packages/IPython/core/displayhook.py:262\u001b[0m, in \u001b[0;36mDisplayHook.__call__\u001b[0;34m(self, result)\u001b[0m\n\u001b[1;32m    260\u001b[0m \u001b[38;5;28mself\u001b[39m\u001b[38;5;241m.\u001b[39mstart_displayhook()\n\u001b[1;32m    261\u001b[0m \u001b[38;5;28mself\u001b[39m\u001b[38;5;241m.\u001b[39mwrite_output_prompt()\n\u001b[0;32m--> 262\u001b[0m format_dict, md_dict \u001b[38;5;241m=\u001b[39m \u001b[38;5;28;43mself\u001b[39;49m\u001b[38;5;241;43m.\u001b[39;49m\u001b[43mcompute_format_data\u001b[49m\u001b[43m(\u001b[49m\u001b[43mresult\u001b[49m\u001b[43m)\u001b[49m\n\u001b[1;32m    263\u001b[0m \u001b[38;5;28mself\u001b[39m\u001b[38;5;241m.\u001b[39mupdate_user_ns(result)\n\u001b[1;32m    264\u001b[0m \u001b[38;5;28mself\u001b[39m\u001b[38;5;241m.\u001b[39mfill_exec_result(result)\n",
      "File \u001b[0;32m~/dev/cs262/lux/.venv/lib/python3.9/site-packages/IPython/core/displayhook.py:151\u001b[0m, in \u001b[0;36mDisplayHook.compute_format_data\u001b[0;34m(self, result)\u001b[0m\n\u001b[1;32m    121\u001b[0m \u001b[38;5;28;01mdef\u001b[39;00m \u001b[38;5;21mcompute_format_data\u001b[39m(\u001b[38;5;28mself\u001b[39m, result):\n\u001b[1;32m    122\u001b[0m     \u001b[38;5;124;03m\"\"\"Compute format data of the object to be displayed.\u001b[39;00m\n\u001b[1;32m    123\u001b[0m \n\u001b[1;32m    124\u001b[0m \u001b[38;5;124;03m    The format data is a generalization of the :func:`repr` of an object.\u001b[39;00m\n\u001b[0;32m   (...)\u001b[0m\n\u001b[1;32m    149\u001b[0m \n\u001b[1;32m    150\u001b[0m \u001b[38;5;124;03m    \"\"\"\u001b[39;00m\n\u001b[0;32m--> 151\u001b[0m     \u001b[38;5;28;01mreturn\u001b[39;00m \u001b[38;5;28;43mself\u001b[39;49m\u001b[38;5;241;43m.\u001b[39;49m\u001b[43mshell\u001b[49m\u001b[38;5;241;43m.\u001b[39;49m\u001b[43mdisplay_formatter\u001b[49m\u001b[38;5;241;43m.\u001b[39;49m\u001b[43mformat\u001b[49m\u001b[43m(\u001b[49m\u001b[43mresult\u001b[49m\u001b[43m)\u001b[49m\n",
      "File \u001b[0;32m~/dev/cs262/lux/.venv/lib/python3.9/site-packages/IPython/core/formatters.py:143\u001b[0m, in \u001b[0;36mDisplayFormatter.format\u001b[0;34m(self, obj, include, exclude)\u001b[0m\n\u001b[1;32m    140\u001b[0m format_dict \u001b[38;5;241m=\u001b[39m {}\n\u001b[1;32m    141\u001b[0m md_dict \u001b[38;5;241m=\u001b[39m {}\n\u001b[0;32m--> 143\u001b[0m \u001b[38;5;28;01mif\u001b[39;00m \u001b[38;5;28;43mself\u001b[39;49m\u001b[38;5;241;43m.\u001b[39;49m\u001b[43mipython_display_formatter\u001b[49m\u001b[43m(\u001b[49m\u001b[43mobj\u001b[49m\u001b[43m)\u001b[49m:\n\u001b[1;32m    144\u001b[0m     \u001b[38;5;66;03m# object handled itself, don't proceed\u001b[39;00m\n\u001b[1;32m    145\u001b[0m     \u001b[38;5;28;01mreturn\u001b[39;00m {}, {}\n\u001b[1;32m    147\u001b[0m format_dict, md_dict \u001b[38;5;241m=\u001b[39m \u001b[38;5;28mself\u001b[39m\u001b[38;5;241m.\u001b[39mmimebundle_formatter(obj, include\u001b[38;5;241m=\u001b[39minclude, exclude\u001b[38;5;241m=\u001b[39mexclude)\n",
      "File \u001b[0;32m~/dev/cs262/lux/.venv/lib/python3.9/site-packages/decorator.py:232\u001b[0m, in \u001b[0;36mdecorate.<locals>.fun\u001b[0;34m(*args, **kw)\u001b[0m\n\u001b[1;32m    230\u001b[0m \u001b[38;5;28;01mif\u001b[39;00m \u001b[38;5;129;01mnot\u001b[39;00m kwsyntax:\n\u001b[1;32m    231\u001b[0m     args, kw \u001b[38;5;241m=\u001b[39m fix(args, kw, sig)\n\u001b[0;32m--> 232\u001b[0m \u001b[38;5;28;01mreturn\u001b[39;00m \u001b[43mcaller\u001b[49m\u001b[43m(\u001b[49m\u001b[43mfunc\u001b[49m\u001b[43m,\u001b[49m\u001b[43m \u001b[49m\u001b[38;5;241;43m*\u001b[39;49m\u001b[43m(\u001b[49m\u001b[43mextras\u001b[49m\u001b[43m \u001b[49m\u001b[38;5;241;43m+\u001b[39;49m\u001b[43m \u001b[49m\u001b[43margs\u001b[49m\u001b[43m)\u001b[49m\u001b[43m,\u001b[49m\u001b[43m \u001b[49m\u001b[38;5;241;43m*\u001b[39;49m\u001b[38;5;241;43m*\u001b[39;49m\u001b[43mkw\u001b[49m\u001b[43m)\u001b[49m\n",
      "File \u001b[0;32m~/dev/cs262/lux/.venv/lib/python3.9/site-packages/IPython/core/formatters.py:221\u001b[0m, in \u001b[0;36mcatch_format_error\u001b[0;34m(method, self, *args, **kwargs)\u001b[0m\n\u001b[1;32m    219\u001b[0m \u001b[38;5;124;03m\"\"\"show traceback on failed format call\"\"\"\u001b[39;00m\n\u001b[1;32m    220\u001b[0m \u001b[38;5;28;01mtry\u001b[39;00m:\n\u001b[0;32m--> 221\u001b[0m     r \u001b[38;5;241m=\u001b[39m \u001b[43mmethod\u001b[49m\u001b[43m(\u001b[49m\u001b[38;5;28;43mself\u001b[39;49m\u001b[43m,\u001b[49m\u001b[43m \u001b[49m\u001b[38;5;241;43m*\u001b[39;49m\u001b[43margs\u001b[49m\u001b[43m,\u001b[49m\u001b[43m \u001b[49m\u001b[38;5;241;43m*\u001b[39;49m\u001b[38;5;241;43m*\u001b[39;49m\u001b[43mkwargs\u001b[49m\u001b[43m)\u001b[49m\n\u001b[1;32m    222\u001b[0m \u001b[38;5;28;01mexcept\u001b[39;00m \u001b[38;5;167;01mNotImplementedError\u001b[39;00m:\n\u001b[1;32m    223\u001b[0m     \u001b[38;5;66;03m# don't warn on NotImplementedErrors\u001b[39;00m\n\u001b[1;32m    224\u001b[0m     \u001b[38;5;28;01mreturn\u001b[39;00m \u001b[38;5;28mself\u001b[39m\u001b[38;5;241m.\u001b[39m_check_return(\u001b[38;5;28;01mNone\u001b[39;00m, args[\u001b[38;5;241m0\u001b[39m])\n",
      "File \u001b[0;32m~/dev/cs262/lux/.venv/lib/python3.9/site-packages/IPython/core/formatters.py:920\u001b[0m, in \u001b[0;36mIPythonDisplayFormatter.__call__\u001b[0;34m(self, obj)\u001b[0m\n\u001b[1;32m    918\u001b[0m method \u001b[38;5;241m=\u001b[39m get_real_method(obj, \u001b[38;5;28mself\u001b[39m\u001b[38;5;241m.\u001b[39mprint_method)\n\u001b[1;32m    919\u001b[0m \u001b[38;5;28;01mif\u001b[39;00m method \u001b[38;5;129;01mis\u001b[39;00m \u001b[38;5;129;01mnot\u001b[39;00m \u001b[38;5;28;01mNone\u001b[39;00m:\n\u001b[0;32m--> 920\u001b[0m     \u001b[43mmethod\u001b[49m\u001b[43m(\u001b[49m\u001b[43m)\u001b[49m\n\u001b[1;32m    921\u001b[0m     \u001b[38;5;28;01mreturn\u001b[39;00m \u001b[38;5;28;01mTrue\u001b[39;00m\n",
      "File \u001b[0;32m~/dev/cs262/lux/lux/core/frame.py:594\u001b[0m, in \u001b[0;36mLuxDataFrame._ipython_display_\u001b[0;34m(self)\u001b[0m\n\u001b[1;32m    591\u001b[0m     \u001b[38;5;28mself\u001b[39m\u001b[38;5;241m.\u001b[39m_toggle_pandas_display \u001b[38;5;241m=\u001b[39m \u001b[38;5;28;01mTrue\u001b[39;00m\n\u001b[1;32m    593\u001b[0m \u001b[38;5;66;03m# df_to_display.maintain_recs() # compute the recommendations (TODO: This can be rendered in another thread in the background to populate self._widget)\u001b[39;00m\n\u001b[0;32m--> 594\u001b[0m \u001b[38;5;28;43mself\u001b[39;49m\u001b[38;5;241;43m.\u001b[39;49m\u001b[43mmaintain_recs\u001b[49m\u001b[43m(\u001b[49m\u001b[43m)\u001b[49m\n\u001b[1;32m    596\u001b[0m \u001b[38;5;66;03m# Observers(callback_function, listen_to_this_variable)\u001b[39;00m\n\u001b[1;32m    597\u001b[0m \u001b[38;5;28mself\u001b[39m\u001b[38;5;241m.\u001b[39m_widget\u001b[38;5;241m.\u001b[39mobserve(\u001b[38;5;28mself\u001b[39m\u001b[38;5;241m.\u001b[39mremove_deleted_recs, names\u001b[38;5;241m=\u001b[39m\u001b[38;5;124m\"\u001b[39m\u001b[38;5;124mdeletedIndices\u001b[39m\u001b[38;5;124m\"\u001b[39m)\n",
      "File \u001b[0;32m~/dev/cs262/lux/lux/core/frame.py:451\u001b[0m, in \u001b[0;36mLuxDataFrame.maintain_recs\u001b[0;34m(self, is_series)\u001b[0m\n\u001b[1;32m    449\u001b[0m     rec_df\u001b[38;5;241m.\u001b[39mshow_all_column_vis()\n\u001b[1;32m    450\u001b[0m     \u001b[38;5;28;01mif\u001b[39;00m lux\u001b[38;5;241m.\u001b[39mconfig\u001b[38;5;241m.\u001b[39mrender_widget:\n\u001b[0;32m--> 451\u001b[0m         \u001b[38;5;28mself\u001b[39m\u001b[38;5;241m.\u001b[39m_widget \u001b[38;5;241m=\u001b[39m \u001b[43mrec_df\u001b[49m\u001b[38;5;241;43m.\u001b[39;49m\u001b[43mrender_widget\u001b[49m\u001b[43m(\u001b[49m\u001b[43m)\u001b[49m\n\u001b[1;32m    452\u001b[0m \u001b[38;5;66;03m# re-render widget for the current dataframe if previous rec is not recomputed\u001b[39;00m\n\u001b[1;32m    453\u001b[0m \u001b[38;5;28;01melif\u001b[39;00m show_prev:\n",
      "File \u001b[0;32m~/dev/cs262/lux/lux/core/frame.py:681\u001b[0m, in \u001b[0;36mLuxDataFrame.render_widget\u001b[0;34m(self, renderer, input_current_vis)\u001b[0m\n\u001b[1;32m    678\u001b[0m check_import_lux_widget()\n\u001b[1;32m    679\u001b[0m \u001b[38;5;28;01mimport\u001b[39;00m \u001b[38;5;21;01mluxwidget\u001b[39;00m\n\u001b[0;32m--> 681\u001b[0m widgetJSON \u001b[38;5;241m=\u001b[39m \u001b[38;5;28;43mself\u001b[39;49m\u001b[38;5;241;43m.\u001b[39;49m\u001b[43mto_JSON\u001b[49m\u001b[43m(\u001b[49m\u001b[38;5;28;43mself\u001b[39;49m\u001b[38;5;241;43m.\u001b[39;49m\u001b[43m_rec_info\u001b[49m\u001b[43m,\u001b[49m\u001b[43m \u001b[49m\u001b[43minput_current_vis\u001b[49m\u001b[38;5;241;43m=\u001b[39;49m\u001b[43minput_current_vis\u001b[49m\u001b[43m)\u001b[49m\n\u001b[1;32m    682\u001b[0m \u001b[38;5;28;01mreturn\u001b[39;00m luxwidget\u001b[38;5;241m.\u001b[39mLuxWidget(\n\u001b[1;32m    683\u001b[0m     currentVis\u001b[38;5;241m=\u001b[39mwidgetJSON[\u001b[38;5;124m\"\u001b[39m\u001b[38;5;124mcurrent_vis\u001b[39m\u001b[38;5;124m\"\u001b[39m],\n\u001b[1;32m    684\u001b[0m     recommendations\u001b[38;5;241m=\u001b[39mwidgetJSON[\u001b[38;5;124m\"\u001b[39m\u001b[38;5;124mrecommendation\u001b[39m\u001b[38;5;124m\"\u001b[39m],\n\u001b[0;32m   (...)\u001b[0m\n\u001b[1;32m    687\u001b[0m     config\u001b[38;5;241m=\u001b[39m{\u001b[38;5;124m\"\u001b[39m\u001b[38;5;124mplottingScale\u001b[39m\u001b[38;5;124m\"\u001b[39m: lux\u001b[38;5;241m.\u001b[39mconfig\u001b[38;5;241m.\u001b[39mplotting_scale},\n\u001b[1;32m    688\u001b[0m )\n",
      "File \u001b[0;32m~/dev/cs262/lux/lux/core/frame.py:712\u001b[0m, in \u001b[0;36mLuxDataFrame.to_JSON\u001b[0;34m(self, rec_infolist, input_current_vis)\u001b[0m\n\u001b[1;32m    710\u001b[0m widget_spec \u001b[38;5;241m=\u001b[39m {}\n\u001b[1;32m    711\u001b[0m \u001b[38;5;28;01mif\u001b[39;00m \u001b[38;5;28mself\u001b[39m\u001b[38;5;241m.\u001b[39mcurrent_vis:\n\u001b[0;32m--> 712\u001b[0m     \u001b[43mlux\u001b[49m\u001b[38;5;241;43m.\u001b[39;49m\u001b[43mconfig\u001b[49m\u001b[38;5;241;43m.\u001b[39;49m\u001b[43mexecutor\u001b[49m\u001b[38;5;241;43m.\u001b[39;49m\u001b[43mexecute\u001b[49m\u001b[43m(\u001b[49m\u001b[38;5;28;43mself\u001b[39;49m\u001b[38;5;241;43m.\u001b[39;49m\u001b[43mcurrent_vis\u001b[49m\u001b[43m,\u001b[49m\u001b[43m \u001b[49m\u001b[38;5;28;43mself\u001b[39;49m\u001b[43m)\u001b[49m\n\u001b[1;32m    713\u001b[0m     widget_spec[\u001b[38;5;124m\"\u001b[39m\u001b[38;5;124mcurrent_vis\u001b[39m\u001b[38;5;124m\"\u001b[39m] \u001b[38;5;241m=\u001b[39m LuxDataFrame\u001b[38;5;241m.\u001b[39mcurrent_vis_to_JSON(\n\u001b[1;32m    714\u001b[0m         \u001b[38;5;28mself\u001b[39m\u001b[38;5;241m.\u001b[39mcurrent_vis, input_current_vis\n\u001b[1;32m    715\u001b[0m     )\n\u001b[1;32m    716\u001b[0m \u001b[38;5;28;01melse\u001b[39;00m:\n",
      "File \u001b[0;32m~/dev/cs262/lux/lux/executor/PandasExecutor.py:211\u001b[0m, in \u001b[0;36mPandasExecutor.execute\u001b[0;34m(vislist, ldf, approx)\u001b[0m\n\u001b[1;32m    209\u001b[0m         vis\u001b[38;5;241m.\u001b[39m_mark \u001b[38;5;241m=\u001b[39m \u001b[38;5;124m\"\u001b[39m\u001b[38;5;124mheatmap\u001b[39m\u001b[38;5;124m\"\u001b[39m\n\u001b[1;32m    210\u001b[0m         bstart \u001b[38;5;241m=\u001b[39m time\u001b[38;5;241m.\u001b[39mtime()\n\u001b[0;32m--> 211\u001b[0m         \u001b[43mPandasExecutor\u001b[49m\u001b[38;5;241;43m.\u001b[39;49m\u001b[43mexecute_2D_binning\u001b[49m\u001b[43m(\u001b[49m\u001b[43mvis\u001b[49m\u001b[43m)\u001b[49m\n\u001b[1;32m    212\u001b[0m \u001b[38;5;66;03m# Ensure that intent is not propogated to the vis data (bypass intent setter, since trigger vis.data metadata recompute)\u001b[39;00m\n\u001b[1;32m    213\u001b[0m vis\u001b[38;5;241m.\u001b[39mdata\u001b[38;5;241m.\u001b[39m_intent \u001b[38;5;241m=\u001b[39m []\n",
      "File \u001b[0;32m~/dev/cs262/lux/lux/executor/PandasExecutor.py:521\u001b[0m, in \u001b[0;36mPandasExecutor.execute_2D_binning\u001b[0;34m(vis)\u001b[0m\n\u001b[1;32m    519\u001b[0m \u001b[38;5;28;01mif\u001b[39;00m \u001b[38;5;129;01mnot\u001b[39;00m use_optimizer:\n\u001b[1;32m    520\u001b[0m     vis\u001b[38;5;241m.\u001b[39m_vis_data[\u001b[38;5;124m\"\u001b[39m\u001b[38;5;124mxBin\u001b[39m\u001b[38;5;124m\"\u001b[39m] \u001b[38;5;241m=\u001b[39m optimizer\u001b[38;5;241m.\u001b[39mcut(vis\u001b[38;5;241m.\u001b[39m_vis_data[x_attr], lux\u001b[38;5;241m.\u001b[39mconfig\u001b[38;5;241m.\u001b[39mheatmap_bin_size)\n\u001b[0;32m--> 521\u001b[0m     vis\u001b[38;5;241m.\u001b[39m_vis_data[\u001b[38;5;124m\"\u001b[39m\u001b[38;5;124myBin\u001b[39m\u001b[38;5;124m\"\u001b[39m] \u001b[38;5;241m=\u001b[39m \u001b[43moptimizer\u001b[49m\u001b[38;5;241;43m.\u001b[39;49m\u001b[43mcut\u001b[49m\u001b[43m(\u001b[49m\u001b[43mvis\u001b[49m\u001b[38;5;241;43m.\u001b[39;49m\u001b[43m_vis_data\u001b[49m\u001b[43m[\u001b[49m\u001b[43my_attr\u001b[49m\u001b[43m]\u001b[49m\u001b[43m,\u001b[49m\u001b[43m \u001b[49m\u001b[43mlux\u001b[49m\u001b[38;5;241;43m.\u001b[39;49m\u001b[43mconfig\u001b[49m\u001b[38;5;241;43m.\u001b[39;49m\u001b[43mheatmap_bin_size\u001b[49m\u001b[43m)\u001b[49m\n\u001b[1;32m    522\u001b[0m     groupby_result \u001b[38;5;241m=\u001b[39m vis\u001b[38;5;241m.\u001b[39m_vis_data\u001b[38;5;241m.\u001b[39mgroupby([\u001b[38;5;124m\"\u001b[39m\u001b[38;5;124mxBin\u001b[39m\u001b[38;5;124m\"\u001b[39m, \u001b[38;5;124m\"\u001b[39m\u001b[38;5;124myBin\u001b[39m\u001b[38;5;124m\"\u001b[39m], history\u001b[38;5;241m=\u001b[39m\u001b[38;5;28;01mFalse\u001b[39;00m)\n\u001b[1;32m    523\u001b[0m groups \u001b[38;5;241m=\u001b[39m groupby_result[x_attr]\n",
      "File \u001b[0;32m~/dev/cs262/lux/lux/executor/ExecutorOptimizer.py:47\u001b[0m, in \u001b[0;36mExecutorOptimizer.cut\u001b[0;34m(self, x, bins)\u001b[0m\n\u001b[1;32m     45\u001b[0m     \u001b[38;5;28mself\u001b[39m\u001b[38;5;241m.\u001b[39mhits[\u001b[38;5;124m\"\u001b[39m\u001b[38;5;124mcut\u001b[39m\u001b[38;5;124m\"\u001b[39m] \u001b[38;5;241m+\u001b[39m\u001b[38;5;241m=\u001b[39m \u001b[38;5;241m1\u001b[39m\n\u001b[1;32m     46\u001b[0m     \u001b[38;5;28;01mreturn\u001b[39;00m \u001b[38;5;28mself\u001b[39m\u001b[38;5;241m.\u001b[39m_cache[key]\n\u001b[0;32m---> 47\u001b[0m res \u001b[38;5;241m=\u001b[39m \u001b[43mpd\u001b[49m\u001b[38;5;241;43m.\u001b[39;49m\u001b[43mcut\u001b[49m\u001b[43m(\u001b[49m\u001b[43mx\u001b[49m\u001b[43m,\u001b[49m\u001b[43m \u001b[49m\u001b[43mbins\u001b[49m\u001b[43m)\u001b[49m\n\u001b[1;32m     48\u001b[0m \u001b[38;5;28mself\u001b[39m\u001b[38;5;241m.\u001b[39m_cache[key] \u001b[38;5;241m=\u001b[39m res\n\u001b[1;32m     49\u001b[0m \u001b[38;5;28;01mreturn\u001b[39;00m res\n",
      "File \u001b[0;32m~/dev/cs262/lux/.venv/lib/python3.9/site-packages/pandas/core/reshape/tile.py:293\u001b[0m, in \u001b[0;36mcut\u001b[0;34m(x, bins, right, labels, retbins, precision, include_lowest, duplicates, ordered)\u001b[0m\n\u001b[1;32m    290\u001b[0m     \u001b[38;5;28;01mif\u001b[39;00m (np\u001b[38;5;241m.\u001b[39mdiff(bins\u001b[38;5;241m.\u001b[39mastype(\u001b[38;5;124m\"\u001b[39m\u001b[38;5;124mfloat64\u001b[39m\u001b[38;5;124m\"\u001b[39m)) \u001b[38;5;241m<\u001b[39m \u001b[38;5;241m0\u001b[39m)\u001b[38;5;241m.\u001b[39many():\n\u001b[1;32m    291\u001b[0m         \u001b[38;5;28;01mraise\u001b[39;00m \u001b[38;5;167;01mValueError\u001b[39;00m(\u001b[38;5;124m\"\u001b[39m\u001b[38;5;124mbins must increase monotonically.\u001b[39m\u001b[38;5;124m\"\u001b[39m)\n\u001b[0;32m--> 293\u001b[0m fac, bins \u001b[38;5;241m=\u001b[39m \u001b[43m_bins_to_cuts\u001b[49m\u001b[43m(\u001b[49m\n\u001b[1;32m    294\u001b[0m \u001b[43m    \u001b[49m\u001b[43mx\u001b[49m\u001b[43m,\u001b[49m\n\u001b[1;32m    295\u001b[0m \u001b[43m    \u001b[49m\u001b[43mbins\u001b[49m\u001b[43m,\u001b[49m\n\u001b[1;32m    296\u001b[0m \u001b[43m    \u001b[49m\u001b[43mright\u001b[49m\u001b[38;5;241;43m=\u001b[39;49m\u001b[43mright\u001b[49m\u001b[43m,\u001b[49m\n\u001b[1;32m    297\u001b[0m \u001b[43m    \u001b[49m\u001b[43mlabels\u001b[49m\u001b[38;5;241;43m=\u001b[39;49m\u001b[43mlabels\u001b[49m\u001b[43m,\u001b[49m\n\u001b[1;32m    298\u001b[0m \u001b[43m    \u001b[49m\u001b[43mprecision\u001b[49m\u001b[38;5;241;43m=\u001b[39;49m\u001b[43mprecision\u001b[49m\u001b[43m,\u001b[49m\n\u001b[1;32m    299\u001b[0m \u001b[43m    \u001b[49m\u001b[43minclude_lowest\u001b[49m\u001b[38;5;241;43m=\u001b[39;49m\u001b[43minclude_lowest\u001b[49m\u001b[43m,\u001b[49m\n\u001b[1;32m    300\u001b[0m \u001b[43m    \u001b[49m\u001b[43mdtype\u001b[49m\u001b[38;5;241;43m=\u001b[39;49m\u001b[43mdtype\u001b[49m\u001b[43m,\u001b[49m\n\u001b[1;32m    301\u001b[0m \u001b[43m    \u001b[49m\u001b[43mduplicates\u001b[49m\u001b[38;5;241;43m=\u001b[39;49m\u001b[43mduplicates\u001b[49m\u001b[43m,\u001b[49m\n\u001b[1;32m    302\u001b[0m \u001b[43m    \u001b[49m\u001b[43mordered\u001b[49m\u001b[38;5;241;43m=\u001b[39;49m\u001b[43mordered\u001b[49m\u001b[43m,\u001b[49m\n\u001b[1;32m    303\u001b[0m \u001b[43m\u001b[49m\u001b[43m)\u001b[49m\n\u001b[1;32m    305\u001b[0m \u001b[38;5;28;01mreturn\u001b[39;00m _postprocess_for_cut(fac, bins, retbins, dtype, original)\n",
      "File \u001b[0;32m~/dev/cs262/lux/.venv/lib/python3.9/site-packages/pandas/core/reshape/tile.py:428\u001b[0m, in \u001b[0;36m_bins_to_cuts\u001b[0;34m(x, bins, right, labels, precision, include_lowest, dtype, duplicates, ordered)\u001b[0m\n\u001b[1;32m    425\u001b[0m         bins \u001b[38;5;241m=\u001b[39m unique_bins\n\u001b[1;32m    427\u001b[0m side: Literal[\u001b[38;5;124m\"\u001b[39m\u001b[38;5;124mleft\u001b[39m\u001b[38;5;124m\"\u001b[39m, \u001b[38;5;124m\"\u001b[39m\u001b[38;5;124mright\u001b[39m\u001b[38;5;124m\"\u001b[39m] \u001b[38;5;241m=\u001b[39m \u001b[38;5;124m\"\u001b[39m\u001b[38;5;124mleft\u001b[39m\u001b[38;5;124m\"\u001b[39m \u001b[38;5;28;01mif\u001b[39;00m right \u001b[38;5;28;01melse\u001b[39;00m \u001b[38;5;124m\"\u001b[39m\u001b[38;5;124mright\u001b[39m\u001b[38;5;124m\"\u001b[39m\n\u001b[0;32m--> 428\u001b[0m ids \u001b[38;5;241m=\u001b[39m ensure_platform_int(\u001b[43mbins\u001b[49m\u001b[38;5;241;43m.\u001b[39;49m\u001b[43msearchsorted\u001b[49m\u001b[43m(\u001b[49m\u001b[43mx\u001b[49m\u001b[43m,\u001b[49m\u001b[43m \u001b[49m\u001b[43mside\u001b[49m\u001b[38;5;241;43m=\u001b[39;49m\u001b[43mside\u001b[49m\u001b[43m)\u001b[49m)\n\u001b[1;32m    430\u001b[0m \u001b[38;5;28;01mif\u001b[39;00m include_lowest:\n\u001b[1;32m    431\u001b[0m     ids[np\u001b[38;5;241m.\u001b[39masarray(x) \u001b[38;5;241m==\u001b[39m bins[\u001b[38;5;241m0\u001b[39m]] \u001b[38;5;241m=\u001b[39m \u001b[38;5;241m1\u001b[39m\n",
      "\u001b[0;31mKeyboardInterrupt\u001b[0m: "
     ]
    }
   ],
   "source": [
    "df.intent=[\"MedianEarnings\", \"SATAverage\"]\n",
    "df"
   ]
  },
  {
   "cell_type": "markdown",
   "id": "0f29e19c",
   "metadata": {},
   "source": [
    "Mat view = select predominantdegree, highestdegree, fundingmodel, count(*) from table group by predominantdegree, highestdegree, fundingmodel\n",
    "\n",
    "select predominantdegree, count(*) from view group by predominantdegree\n",
    "\n",
    "select highestdegree, count(*) from view group by highestdegree\n",
    "\n",
    "select fundingmodel, count(*) from view group by fundingmodel"
   ]
  },
  {
   "cell_type": "code",
   "execution_count": 4,
   "id": "2dabcc76",
   "metadata": {
    "scrolled": true
   },
   "outputs": [
    {
     "ename": "KeyboardInterrupt",
     "evalue": "",
     "output_type": "error",
     "traceback": [
      "\u001b[0;31m---------------------------------------------------------------------------\u001b[0m",
      "\u001b[0;31mKeyboardInterrupt\u001b[0m                         Traceback (most recent call last)",
      "Cell \u001b[0;32mIn [4], line 3\u001b[0m\n\u001b[1;32m      1\u001b[0m \u001b[38;5;66;03m# df.intent=[\"MedianEarnings\", \"SATAverage\"]\u001b[39;00m\n\u001b[1;32m      2\u001b[0m \u001b[38;5;66;03m# df.intent = [\"MedianEarnings\", \"state\"]\u001b[39;00m\n\u001b[0;32m----> 3\u001b[0m df\n",
      "File \u001b[0;32m~/dev/cs262/lux/.venv/lib/python3.9/site-packages/IPython/core/displayhook.py:262\u001b[0m, in \u001b[0;36mDisplayHook.__call__\u001b[0;34m(self, result)\u001b[0m\n\u001b[1;32m    260\u001b[0m \u001b[38;5;28mself\u001b[39m\u001b[38;5;241m.\u001b[39mstart_displayhook()\n\u001b[1;32m    261\u001b[0m \u001b[38;5;28mself\u001b[39m\u001b[38;5;241m.\u001b[39mwrite_output_prompt()\n\u001b[0;32m--> 262\u001b[0m format_dict, md_dict \u001b[38;5;241m=\u001b[39m \u001b[38;5;28;43mself\u001b[39;49m\u001b[38;5;241;43m.\u001b[39;49m\u001b[43mcompute_format_data\u001b[49m\u001b[43m(\u001b[49m\u001b[43mresult\u001b[49m\u001b[43m)\u001b[49m\n\u001b[1;32m    263\u001b[0m \u001b[38;5;28mself\u001b[39m\u001b[38;5;241m.\u001b[39mupdate_user_ns(result)\n\u001b[1;32m    264\u001b[0m \u001b[38;5;28mself\u001b[39m\u001b[38;5;241m.\u001b[39mfill_exec_result(result)\n",
      "File \u001b[0;32m~/dev/cs262/lux/.venv/lib/python3.9/site-packages/IPython/core/displayhook.py:151\u001b[0m, in \u001b[0;36mDisplayHook.compute_format_data\u001b[0;34m(self, result)\u001b[0m\n\u001b[1;32m    121\u001b[0m \u001b[38;5;28;01mdef\u001b[39;00m \u001b[38;5;21mcompute_format_data\u001b[39m(\u001b[38;5;28mself\u001b[39m, result):\n\u001b[1;32m    122\u001b[0m     \u001b[38;5;124;03m\"\"\"Compute format data of the object to be displayed.\u001b[39;00m\n\u001b[1;32m    123\u001b[0m \n\u001b[1;32m    124\u001b[0m \u001b[38;5;124;03m    The format data is a generalization of the :func:`repr` of an object.\u001b[39;00m\n\u001b[0;32m   (...)\u001b[0m\n\u001b[1;32m    149\u001b[0m \n\u001b[1;32m    150\u001b[0m \u001b[38;5;124;03m    \"\"\"\u001b[39;00m\n\u001b[0;32m--> 151\u001b[0m     \u001b[38;5;28;01mreturn\u001b[39;00m \u001b[38;5;28;43mself\u001b[39;49m\u001b[38;5;241;43m.\u001b[39;49m\u001b[43mshell\u001b[49m\u001b[38;5;241;43m.\u001b[39;49m\u001b[43mdisplay_formatter\u001b[49m\u001b[38;5;241;43m.\u001b[39;49m\u001b[43mformat\u001b[49m\u001b[43m(\u001b[49m\u001b[43mresult\u001b[49m\u001b[43m)\u001b[49m\n",
      "File \u001b[0;32m~/dev/cs262/lux/.venv/lib/python3.9/site-packages/IPython/core/formatters.py:143\u001b[0m, in \u001b[0;36mDisplayFormatter.format\u001b[0;34m(self, obj, include, exclude)\u001b[0m\n\u001b[1;32m    140\u001b[0m format_dict \u001b[38;5;241m=\u001b[39m {}\n\u001b[1;32m    141\u001b[0m md_dict \u001b[38;5;241m=\u001b[39m {}\n\u001b[0;32m--> 143\u001b[0m \u001b[38;5;28;01mif\u001b[39;00m \u001b[38;5;28;43mself\u001b[39;49m\u001b[38;5;241;43m.\u001b[39;49m\u001b[43mipython_display_formatter\u001b[49m\u001b[43m(\u001b[49m\u001b[43mobj\u001b[49m\u001b[43m)\u001b[49m:\n\u001b[1;32m    144\u001b[0m     \u001b[38;5;66;03m# object handled itself, don't proceed\u001b[39;00m\n\u001b[1;32m    145\u001b[0m     \u001b[38;5;28;01mreturn\u001b[39;00m {}, {}\n\u001b[1;32m    147\u001b[0m format_dict, md_dict \u001b[38;5;241m=\u001b[39m \u001b[38;5;28mself\u001b[39m\u001b[38;5;241m.\u001b[39mmimebundle_formatter(obj, include\u001b[38;5;241m=\u001b[39minclude, exclude\u001b[38;5;241m=\u001b[39mexclude)\n",
      "File \u001b[0;32m~/dev/cs262/lux/.venv/lib/python3.9/site-packages/decorator.py:232\u001b[0m, in \u001b[0;36mdecorate.<locals>.fun\u001b[0;34m(*args, **kw)\u001b[0m\n\u001b[1;32m    230\u001b[0m \u001b[38;5;28;01mif\u001b[39;00m \u001b[38;5;129;01mnot\u001b[39;00m kwsyntax:\n\u001b[1;32m    231\u001b[0m     args, kw \u001b[38;5;241m=\u001b[39m fix(args, kw, sig)\n\u001b[0;32m--> 232\u001b[0m \u001b[38;5;28;01mreturn\u001b[39;00m \u001b[43mcaller\u001b[49m\u001b[43m(\u001b[49m\u001b[43mfunc\u001b[49m\u001b[43m,\u001b[49m\u001b[43m \u001b[49m\u001b[38;5;241;43m*\u001b[39;49m\u001b[43m(\u001b[49m\u001b[43mextras\u001b[49m\u001b[43m \u001b[49m\u001b[38;5;241;43m+\u001b[39;49m\u001b[43m \u001b[49m\u001b[43margs\u001b[49m\u001b[43m)\u001b[49m\u001b[43m,\u001b[49m\u001b[43m \u001b[49m\u001b[38;5;241;43m*\u001b[39;49m\u001b[38;5;241;43m*\u001b[39;49m\u001b[43mkw\u001b[49m\u001b[43m)\u001b[49m\n",
      "File \u001b[0;32m~/dev/cs262/lux/.venv/lib/python3.9/site-packages/IPython/core/formatters.py:221\u001b[0m, in \u001b[0;36mcatch_format_error\u001b[0;34m(method, self, *args, **kwargs)\u001b[0m\n\u001b[1;32m    219\u001b[0m \u001b[38;5;124;03m\"\"\"show traceback on failed format call\"\"\"\u001b[39;00m\n\u001b[1;32m    220\u001b[0m \u001b[38;5;28;01mtry\u001b[39;00m:\n\u001b[0;32m--> 221\u001b[0m     r \u001b[38;5;241m=\u001b[39m \u001b[43mmethod\u001b[49m\u001b[43m(\u001b[49m\u001b[38;5;28;43mself\u001b[39;49m\u001b[43m,\u001b[49m\u001b[43m \u001b[49m\u001b[38;5;241;43m*\u001b[39;49m\u001b[43margs\u001b[49m\u001b[43m,\u001b[49m\u001b[43m \u001b[49m\u001b[38;5;241;43m*\u001b[39;49m\u001b[38;5;241;43m*\u001b[39;49m\u001b[43mkwargs\u001b[49m\u001b[43m)\u001b[49m\n\u001b[1;32m    222\u001b[0m \u001b[38;5;28;01mexcept\u001b[39;00m \u001b[38;5;167;01mNotImplementedError\u001b[39;00m:\n\u001b[1;32m    223\u001b[0m     \u001b[38;5;66;03m# don't warn on NotImplementedErrors\u001b[39;00m\n\u001b[1;32m    224\u001b[0m     \u001b[38;5;28;01mreturn\u001b[39;00m \u001b[38;5;28mself\u001b[39m\u001b[38;5;241m.\u001b[39m_check_return(\u001b[38;5;28;01mNone\u001b[39;00m, args[\u001b[38;5;241m0\u001b[39m])\n",
      "File \u001b[0;32m~/dev/cs262/lux/.venv/lib/python3.9/site-packages/IPython/core/formatters.py:920\u001b[0m, in \u001b[0;36mIPythonDisplayFormatter.__call__\u001b[0;34m(self, obj)\u001b[0m\n\u001b[1;32m    918\u001b[0m method \u001b[38;5;241m=\u001b[39m get_real_method(obj, \u001b[38;5;28mself\u001b[39m\u001b[38;5;241m.\u001b[39mprint_method)\n\u001b[1;32m    919\u001b[0m \u001b[38;5;28;01mif\u001b[39;00m method \u001b[38;5;129;01mis\u001b[39;00m \u001b[38;5;129;01mnot\u001b[39;00m \u001b[38;5;28;01mNone\u001b[39;00m:\n\u001b[0;32m--> 920\u001b[0m     \u001b[43mmethod\u001b[49m\u001b[43m(\u001b[49m\u001b[43m)\u001b[49m\n\u001b[1;32m    921\u001b[0m     \u001b[38;5;28;01mreturn\u001b[39;00m \u001b[38;5;28;01mTrue\u001b[39;00m\n",
      "File \u001b[0;32m~/dev/cs262/lux/lux/core/frame.py:581\u001b[0m, in \u001b[0;36mLuxDataFrame._ipython_display_\u001b[0;34m(self)\u001b[0m\n\u001b[1;32m    579\u001b[0m \u001b[38;5;28;01melse\u001b[39;00m:\n\u001b[1;32m    580\u001b[0m     \u001b[38;5;28;01mif\u001b[39;00m \u001b[38;5;129;01mnot\u001b[39;00m \u001b[38;5;28mself\u001b[39m\u001b[38;5;241m.\u001b[39mindex\u001b[38;5;241m.\u001b[39mnlevels \u001b[38;5;241m>\u001b[39m\u001b[38;5;241m=\u001b[39m \u001b[38;5;241m2\u001b[39m \u001b[38;5;129;01mor\u001b[39;00m \u001b[38;5;28mself\u001b[39m\u001b[38;5;241m.\u001b[39mcolumns\u001b[38;5;241m.\u001b[39mnlevels \u001b[38;5;241m>\u001b[39m\u001b[38;5;241m=\u001b[39m \u001b[38;5;241m2\u001b[39m:\n\u001b[0;32m--> 581\u001b[0m         \u001b[38;5;28;43mself\u001b[39;49m\u001b[38;5;241;43m.\u001b[39;49m\u001b[43mmaintain_metadata\u001b[49m\u001b[43m(\u001b[49m\u001b[43m)\u001b[49m\n\u001b[1;32m    583\u001b[0m         \u001b[38;5;28;01mif\u001b[39;00m \u001b[38;5;28mself\u001b[39m\u001b[38;5;241m.\u001b[39m_intent \u001b[38;5;241m!=\u001b[39m [] \u001b[38;5;129;01mand\u001b[39;00m (\u001b[38;5;129;01mnot\u001b[39;00m \u001b[38;5;28mhasattr\u001b[39m(\u001b[38;5;28mself\u001b[39m, \u001b[38;5;124m\"\u001b[39m\u001b[38;5;124m_compiled\u001b[39m\u001b[38;5;124m\"\u001b[39m) \u001b[38;5;129;01mor\u001b[39;00m \u001b[38;5;129;01mnot\u001b[39;00m \u001b[38;5;28mself\u001b[39m\u001b[38;5;241m.\u001b[39m_compiled):\n\u001b[1;32m    584\u001b[0m             \u001b[38;5;28;01mfrom\u001b[39;00m \u001b[38;5;21;01mlux\u001b[39;00m\u001b[38;5;21;01m.\u001b[39;00m\u001b[38;5;21;01mprocessor\u001b[39;00m\u001b[38;5;21;01m.\u001b[39;00m\u001b[38;5;21;01mCompiler\u001b[39;00m \u001b[38;5;28;01mimport\u001b[39;00m Compiler\n",
      "File \u001b[0;32m~/dev/cs262/lux/lux/core/frame.py:146\u001b[0m, in \u001b[0;36mLuxDataFrame.maintain_metadata\u001b[0;34m(self)\u001b[0m\n\u001b[1;32m    142\u001b[0m \u001b[38;5;28;01mif\u001b[39;00m lux\u001b[38;5;241m.\u001b[39mconfig\u001b[38;5;241m.\u001b[39mlazy_maintain:\n\u001b[1;32m    143\u001b[0m     \u001b[38;5;66;03m# Check that metadata has not yet been computed\u001b[39;00m\n\u001b[1;32m    144\u001b[0m     \u001b[38;5;28;01mif\u001b[39;00m \u001b[38;5;129;01mnot\u001b[39;00m \u001b[38;5;28mhasattr\u001b[39m(\u001b[38;5;28mself\u001b[39m, \u001b[38;5;124m\"\u001b[39m\u001b[38;5;124m_metadata_fresh\u001b[39m\u001b[38;5;124m\"\u001b[39m) \u001b[38;5;129;01mor\u001b[39;00m \u001b[38;5;129;01mnot\u001b[39;00m \u001b[38;5;28mself\u001b[39m\u001b[38;5;241m.\u001b[39m_metadata_fresh:\n\u001b[1;32m    145\u001b[0m         \u001b[38;5;66;03m# only compute metadata information if the dataframe is non-empty\u001b[39;00m\n\u001b[0;32m--> 146\u001b[0m         \u001b[38;5;28;43mself\u001b[39;49m\u001b[38;5;241;43m.\u001b[39;49m\u001b[43mcompute_metadata\u001b[49m\u001b[43m(\u001b[49m\u001b[43m)\u001b[49m\n\u001b[1;32m    147\u001b[0m \u001b[38;5;28;01melse\u001b[39;00m:\n\u001b[1;32m    148\u001b[0m     \u001b[38;5;28mself\u001b[39m\u001b[38;5;241m.\u001b[39mcompute_metadata()\n",
      "File \u001b[0;32m~/dev/cs262/lux/lux/core/frame.py:126\u001b[0m, in \u001b[0;36mLuxDataFrame.compute_metadata\u001b[0;34m(self)\u001b[0m\n\u001b[1;32m    124\u001b[0m \u001b[38;5;28;01mif\u001b[39;00m lux\u001b[38;5;241m.\u001b[39mconfig\u001b[38;5;241m.\u001b[39mexecutor\u001b[38;5;241m.\u001b[39mname \u001b[38;5;241m!=\u001b[39m \u001b[38;5;124m\"\u001b[39m\u001b[38;5;124mSQLExecutor\u001b[39m\u001b[38;5;124m\"\u001b[39m:\n\u001b[1;32m    125\u001b[0m     lux\u001b[38;5;241m.\u001b[39mconfig\u001b[38;5;241m.\u001b[39mexecutor\u001b[38;5;241m.\u001b[39mcompute_stats(\u001b[38;5;28mself\u001b[39m)\n\u001b[0;32m--> 126\u001b[0m \u001b[43mlux\u001b[49m\u001b[38;5;241;43m.\u001b[39;49m\u001b[43mconfig\u001b[49m\u001b[38;5;241;43m.\u001b[39;49m\u001b[43mexecutor\u001b[49m\u001b[38;5;241;43m.\u001b[39;49m\u001b[43mcompute_dataset_metadata\u001b[49m\u001b[43m(\u001b[49m\u001b[38;5;28;43mself\u001b[39;49m\u001b[43m)\u001b[49m\n\u001b[1;32m    127\u001b[0m \u001b[38;5;28mself\u001b[39m\u001b[38;5;241m.\u001b[39m_infer_structure()\n\u001b[1;32m    128\u001b[0m \u001b[38;5;28mself\u001b[39m\u001b[38;5;241m.\u001b[39m_metadata_fresh \u001b[38;5;241m=\u001b[39m \u001b[38;5;28;01mTrue\u001b[39;00m\n",
      "File \u001b[0;32m~/dev/cs262/lux/lux/executor/PandasExecutor.py:542\u001b[0m, in \u001b[0;36mPandasExecutor.compute_dataset_metadata\u001b[0;34m(self, ldf)\u001b[0m\n\u001b[1;32m    540\u001b[0m \u001b[38;5;28;01mdef\u001b[39;00m \u001b[38;5;21mcompute_dataset_metadata\u001b[39m(\u001b[38;5;28mself\u001b[39m, ldf: LuxDataFrame):\n\u001b[1;32m    541\u001b[0m     ldf\u001b[38;5;241m.\u001b[39m_data_type \u001b[38;5;241m=\u001b[39m {}\n\u001b[0;32m--> 542\u001b[0m     \u001b[38;5;28;43mself\u001b[39;49m\u001b[38;5;241;43m.\u001b[39;49m\u001b[43mcompute_data_type\u001b[49m\u001b[43m(\u001b[49m\u001b[43mldf\u001b[49m\u001b[43m)\u001b[49m\n",
      "File \u001b[0;32m~/dev/cs262/lux/lux/executor/PandasExecutor.py:591\u001b[0m, in \u001b[0;36mPandasExecutor.compute_data_type\u001b[0;34m(self, ldf)\u001b[0m\n\u001b[1;32m    588\u001b[0m \u001b[38;5;66;03m# Eliminate this clause because a single NaN value can cause the dtype to be object\u001b[39;00m\n\u001b[1;32m    589\u001b[0m \u001b[38;5;28;01melif\u001b[39;00m pd\u001b[38;5;241m.\u001b[39mapi\u001b[38;5;241m.\u001b[39mtypes\u001b[38;5;241m.\u001b[39mis_string_dtype(ldf\u001b[38;5;241m.\u001b[39mdtypes[attr]):\n\u001b[1;32m    590\u001b[0m     \u001b[38;5;66;03m# Check first if it's castable to float after removing NaN\u001b[39;00m\n\u001b[0;32m--> 591\u001b[0m     is_numeric_nan, series \u001b[38;5;241m=\u001b[39m \u001b[43mis_numeric_nan_column\u001b[49m\u001b[43m(\u001b[49m\u001b[43mldf\u001b[49m\u001b[43m[\u001b[49m\u001b[43mattr\u001b[49m\u001b[43m]\u001b[49m\u001b[43m)\u001b[49m\n\u001b[1;32m    592\u001b[0m     \u001b[38;5;28;01mif\u001b[39;00m is_numeric_nan:\n\u001b[1;32m    593\u001b[0m         \u001b[38;5;66;03m# int columns gets coerced into floats if contain NaN\u001b[39;00m\n\u001b[1;32m    594\u001b[0m         ldf\u001b[38;5;241m.\u001b[39m_data_type[attr] \u001b[38;5;241m=\u001b[39m \u001b[38;5;124m\"\u001b[39m\u001b[38;5;124mquantitative\u001b[39m\u001b[38;5;124m\"\u001b[39m\n",
      "File \u001b[0;32m~/dev/cs262/lux/lux/utils/utils.py:142\u001b[0m, in \u001b[0;36mis_numeric_nan_column\u001b[0;34m(series)\u001b[0m\n\u001b[1;32m    140\u001b[0m \u001b[38;5;28;01mdef\u001b[39;00m \u001b[38;5;21mis_numeric_nan_column\u001b[39m(series):\n\u001b[1;32m    141\u001b[0m     \u001b[38;5;28;01mif\u001b[39;00m series\u001b[38;5;241m.\u001b[39mdtype \u001b[38;5;241m==\u001b[39m \u001b[38;5;28mobject\u001b[39m:\n\u001b[0;32m--> 142\u001b[0m         \u001b[38;5;28;01mif\u001b[39;00m \u001b[43mseries\u001b[49m\u001b[38;5;241;43m.\u001b[39;49m\u001b[43mhasnans\u001b[49m:\n\u001b[1;32m    143\u001b[0m             series \u001b[38;5;241m=\u001b[39m series\u001b[38;5;241m.\u001b[39mdropna()\n\u001b[1;32m    144\u001b[0m         \u001b[38;5;28;01mtry\u001b[39;00m:\n",
      "File \u001b[0;32m~/dev/cs262/lux/.venv/lib/python3.9/site-packages/pandas/core/base.py:770\u001b[0m, in \u001b[0;36mIndexOpsMixin.hasnans\u001b[0;34m(self)\u001b[0m\n\u001b[1;32m    763\u001b[0m \u001b[38;5;124;03m\"\"\"\u001b[39;00m\n\u001b[1;32m    764\u001b[0m \u001b[38;5;124;03mReturn True if there are any NaNs.\u001b[39;00m\n\u001b[1;32m    765\u001b[0m \n\u001b[1;32m    766\u001b[0m \u001b[38;5;124;03mEnables various performance speedups.\u001b[39;00m\n\u001b[1;32m    767\u001b[0m \u001b[38;5;124;03m\"\"\"\u001b[39;00m\n\u001b[1;32m    768\u001b[0m \u001b[38;5;66;03m# error: Item \"bool\" of \"Union[bool, ndarray[Any, dtype[bool_]], NDFrame]\"\u001b[39;00m\n\u001b[1;32m    769\u001b[0m \u001b[38;5;66;03m# has no attribute \"any\"\u001b[39;00m\n\u001b[0;32m--> 770\u001b[0m \u001b[38;5;28;01mreturn\u001b[39;00m \u001b[38;5;28mbool\u001b[39m(\u001b[43misna\u001b[49m\u001b[43m(\u001b[49m\u001b[38;5;28;43mself\u001b[39;49m\u001b[43m)\u001b[49m\u001b[38;5;241m.\u001b[39many())\n",
      "File \u001b[0;32m~/dev/cs262/lux/.venv/lib/python3.9/site-packages/pandas/core/dtypes/missing.py:185\u001b[0m, in \u001b[0;36misna\u001b[0;34m(obj)\u001b[0m\n\u001b[1;32m    108\u001b[0m \u001b[38;5;28;01mdef\u001b[39;00m \u001b[38;5;21misna\u001b[39m(obj: \u001b[38;5;28mobject\u001b[39m) \u001b[38;5;241m-\u001b[39m\u001b[38;5;241m>\u001b[39m \u001b[38;5;28mbool\u001b[39m \u001b[38;5;241m|\u001b[39m npt\u001b[38;5;241m.\u001b[39mNDArray[np\u001b[38;5;241m.\u001b[39mbool_] \u001b[38;5;241m|\u001b[39m NDFrame:\n\u001b[1;32m    109\u001b[0m     \u001b[38;5;124;03m\"\"\"\u001b[39;00m\n\u001b[1;32m    110\u001b[0m \u001b[38;5;124;03m    Detect missing values for an array-like object.\u001b[39;00m\n\u001b[1;32m    111\u001b[0m \n\u001b[0;32m   (...)\u001b[0m\n\u001b[1;32m    183\u001b[0m \u001b[38;5;124;03m    Name: 1, dtype: bool\u001b[39;00m\n\u001b[1;32m    184\u001b[0m \u001b[38;5;124;03m    \"\"\"\u001b[39;00m\n\u001b[0;32m--> 185\u001b[0m     \u001b[38;5;28;01mreturn\u001b[39;00m \u001b[43m_isna\u001b[49m\u001b[43m(\u001b[49m\u001b[43mobj\u001b[49m\u001b[43m)\u001b[49m\n",
      "File \u001b[0;32m~/dev/cs262/lux/.venv/lib/python3.9/site-packages/pandas/core/dtypes/missing.py:223\u001b[0m, in \u001b[0;36m_isna\u001b[0;34m(obj, inf_as_na)\u001b[0m\n\u001b[1;32m    220\u001b[0m     \u001b[38;5;28;01mreturn\u001b[39;00m _isna_array(obj\u001b[38;5;241m.\u001b[39m_values, inf_as_na\u001b[38;5;241m=\u001b[39minf_as_na)\n\u001b[1;32m    222\u001b[0m \u001b[38;5;28;01melif\u001b[39;00m \u001b[38;5;28misinstance\u001b[39m(obj, ABCSeries):\n\u001b[0;32m--> 223\u001b[0m     result \u001b[38;5;241m=\u001b[39m \u001b[43m_isna_array\u001b[49m\u001b[43m(\u001b[49m\u001b[43mobj\u001b[49m\u001b[38;5;241;43m.\u001b[39;49m\u001b[43m_values\u001b[49m\u001b[43m,\u001b[49m\u001b[43m \u001b[49m\u001b[43minf_as_na\u001b[49m\u001b[38;5;241;43m=\u001b[39;49m\u001b[43minf_as_na\u001b[49m\u001b[43m)\u001b[49m\n\u001b[1;32m    224\u001b[0m     \u001b[38;5;66;03m# box\u001b[39;00m\n\u001b[1;32m    225\u001b[0m     result \u001b[38;5;241m=\u001b[39m obj\u001b[38;5;241m.\u001b[39m_constructor(result, index\u001b[38;5;241m=\u001b[39mobj\u001b[38;5;241m.\u001b[39mindex, name\u001b[38;5;241m=\u001b[39mobj\u001b[38;5;241m.\u001b[39mname, copy\u001b[38;5;241m=\u001b[39m\u001b[38;5;28;01mFalse\u001b[39;00m)\n",
      "File \u001b[0;32m~/dev/cs262/lux/.venv/lib/python3.9/site-packages/pandas/core/dtypes/missing.py:296\u001b[0m, in \u001b[0;36m_isna_array\u001b[0;34m(values, inf_as_na)\u001b[0m\n\u001b[1;32m    294\u001b[0m         result \u001b[38;5;241m=\u001b[39m values\u001b[38;5;241m.\u001b[39misna()  \u001b[38;5;66;03m# type: ignore[assignment]\u001b[39;00m\n\u001b[1;32m    295\u001b[0m \u001b[38;5;28;01melif\u001b[39;00m is_string_or_object_np_dtype(values\u001b[38;5;241m.\u001b[39mdtype):\n\u001b[0;32m--> 296\u001b[0m     result \u001b[38;5;241m=\u001b[39m \u001b[43m_isna_string_dtype\u001b[49m\u001b[43m(\u001b[49m\u001b[43mvalues\u001b[49m\u001b[43m,\u001b[49m\u001b[43m \u001b[49m\u001b[43minf_as_na\u001b[49m\u001b[38;5;241;43m=\u001b[39;49m\u001b[43minf_as_na\u001b[49m\u001b[43m)\u001b[49m\n\u001b[1;32m    297\u001b[0m \u001b[38;5;28;01melif\u001b[39;00m needs_i8_conversion(dtype):\n\u001b[1;32m    298\u001b[0m     \u001b[38;5;66;03m# this is the NaT pattern\u001b[39;00m\n\u001b[1;32m    299\u001b[0m     result \u001b[38;5;241m=\u001b[39m values\u001b[38;5;241m.\u001b[39mview(\u001b[38;5;124m\"\u001b[39m\u001b[38;5;124mi8\u001b[39m\u001b[38;5;124m\"\u001b[39m) \u001b[38;5;241m==\u001b[39m iNaT\n",
      "File \u001b[0;32m~/dev/cs262/lux/.venv/lib/python3.9/site-packages/pandas/core/dtypes/missing.py:318\u001b[0m, in \u001b[0;36m_isna_string_dtype\u001b[0;34m(values, inf_as_na)\u001b[0m\n\u001b[1;32m    315\u001b[0m \u001b[38;5;28;01melse\u001b[39;00m:\n\u001b[1;32m    317\u001b[0m     \u001b[38;5;28;01mif\u001b[39;00m values\u001b[38;5;241m.\u001b[39mndim \u001b[38;5;241m==\u001b[39m \u001b[38;5;241m1\u001b[39m:\n\u001b[0;32m--> 318\u001b[0m         result \u001b[38;5;241m=\u001b[39m \u001b[43mlibmissing\u001b[49m\u001b[38;5;241;43m.\u001b[39;49m\u001b[43misnaobj\u001b[49m\u001b[43m(\u001b[49m\u001b[43mvalues\u001b[49m\u001b[43m,\u001b[49m\u001b[43m \u001b[49m\u001b[43minf_as_na\u001b[49m\u001b[38;5;241;43m=\u001b[39;49m\u001b[43minf_as_na\u001b[49m\u001b[43m)\u001b[49m\n\u001b[1;32m    319\u001b[0m     \u001b[38;5;28;01melif\u001b[39;00m values\u001b[38;5;241m.\u001b[39mndim \u001b[38;5;241m==\u001b[39m \u001b[38;5;241m2\u001b[39m:\n\u001b[1;32m    320\u001b[0m         result \u001b[38;5;241m=\u001b[39m libmissing\u001b[38;5;241m.\u001b[39misnaobj2d(values, inf_as_na\u001b[38;5;241m=\u001b[39minf_as_na)\n",
      "\u001b[0;31mKeyboardInterrupt\u001b[0m: "
     ]
    }
   ],
   "source": [
    "# df.intent=[\"MedianEarnings\", \"SATAverage\"]\n",
    "# df.intent = [\"MedianEarnings\", \"state\"]\n",
    "df"
   ]
  },
  {
   "cell_type": "code",
   "execution_count": 4,
   "id": "fca747da-beb4-4f04-83af-6e76090a263b",
   "metadata": {},
   "outputs": [
    {
     "name": "stdout",
     "output_type": "stream",
     "text": [
      "977900\n"
     ]
    }
   ],
   "source": [
    "df = pd.read_csv(\"/Users/rithvik/Downloads/airbnb/AB_NYC_2019.csv\")\n",
    "\n",
    "newdf = pd.DataFrame(np.repeat(df.values, 20, axis=0))\n",
    "newdf.columns = df.columns\n",
    "df = newdf\n",
    "print(len(df))\n",
    "# lux.config.sampling_cap = 10000000\n",
    "# lux.config.sampling_start = 10000000"
   ]
  },
  {
   "cell_type": "code",
   "execution_count": 5,
   "id": "373e4b7b",
   "metadata": {},
   "outputs": [
    {
     "name": "stdout",
     "output_type": "stream",
     "text": [
      "150\n"
     ]
    }
   ],
   "source": [
    "df = pd.read_csv(\"https://raw.githubusercontent.com/mwaskom/seaborn-data/master/iris.csv\")\n",
    "\n",
    "# newdf = pd.DataFrame(np.repeat(df.values, 700, axis=0))\n",
    "# newdf.columns = df.columns\n",
    "# df = newdf\n",
    "print(len(df))"
   ]
  },
  {
   "cell_type": "markdown",
   "id": "95a2b5a9",
   "metadata": {},
   "source": [
    "# Custom Workflow"
   ]
  },
  {
   "cell_type": "code",
   "execution_count": 9,
   "id": "a4021f12",
   "metadata": {},
   "outputs": [
    {
     "name": "stdout",
     "output_type": "stream",
     "text": [
      "977900\n"
     ]
    }
   ],
   "source": [
    "df = pd.read_csv(\"/Users/rithvik/Downloads/airbnb/AB_NYC_2019.csv\")\n",
    "\n",
    "newdf = pd.DataFrame(np.repeat(df.values, 20, axis=0))\n",
    "newdf.columns = df.columns\n",
    "df = newdf\n",
    "print(len(df))\n",
    "df['last_review'] = pd.to_datetime(df['last_review'], infer_datetime_format=True)\n"
   ]
  },
  {
   "cell_type": "code",
   "execution_count": 35,
   "id": "0e70c2df",
   "metadata": {},
   "outputs": [
    {
     "name": "stdout",
     "output_type": "stream",
     "text": [
      "1294\n"
     ]
    }
   ],
   "source": [
    "df = pd.read_csv(\"https://raw.githubusercontent.com/lux-org/lux-datasets/master/data/college.csv\")\n",
    "df[\"state\"] = [np.random.choice([\"california\", \"new york\", \"new jersey\", \"georgia\", \"texas\", \"maine\", \"louisiana\",\"washington\", \"oregon\"]) for _ in range(len(df))]\n",
    "# df[\"country\"] = np.array([str(np.random.choice([\"001\", \"004\", \"003\"])) for _ in range(len(df))])\n",
    "# df[\"country\"] = df[\"country\"].astype(pd.StringDtype())\n",
    "df[\"state\"] = df[\"state\"].astype(pd.StringDtype())\n",
    "\n",
    "# newdf = pd.DataFrame(np.repeat(df.values, 700, axis=0))\n",
    "# newdf.columns = df.columns\n",
    "# df = newdf\n",
    "# df[\"country\"] = df[\"country\"].astype(pd.StringDtype())\n",
    "\n",
    "print(len(df))"
   ]
  },
  {
   "cell_type": "code",
   "execution_count": 39,
   "id": "ded8241b",
   "metadata": {
    "collapsed": true,
    "jupyter": {
     "outputs_hidden": true
    }
   },
   "outputs": [
    {
     "name": "stdout",
     "output_type": "stream",
     "text": [
      "Total time: 0.06447887420654297\n",
      "Total accesses: 68, VisList length: 90\n",
      "Hit rate: 0.6029411764705882\n",
      "Total time: 0.01691293716430664\n",
      "Total accesses: 68, VisList length: 10\n",
      "Hit rate: 0.6029411764705882\n",
      "Total time: 0.04632925987243652\n",
      "Total accesses: 68, VisList length: 6\n",
      "Hit rate: 0.6029411764705882\n",
      "Total time: 5.0067901611328125e-06\n",
      "Total accesses: 68, VisList length: 0\n",
      "Hit rate: 0.6029411764705882\n",
      "Total time: 0.06633496284484863\n",
      "Total accesses: 68, VisList length: 10\n",
      "Hit rate: 0.6029411764705882\n"
     ]
    },
    {
     "name": "stderr",
     "output_type": "stream",
     "text": [
      "/Users/rithvik/dev/cs262/lux/.venv/lib/python3.9/site-packages/altair/utils/core.py:317: FutureWarning:iteritems is deprecated and will be removed in a future version. Use .items instead.\n",
      "/Users/rithvik/dev/cs262/lux/.venv/lib/python3.9/site-packages/altair/utils/core.py:317: FutureWarning:iteritems is deprecated and will be removed in a future version. Use .items instead.\n",
      "/Users/rithvik/dev/cs262/lux/.venv/lib/python3.9/site-packages/altair/utils/core.py:317: FutureWarning:iteritems is deprecated and will be removed in a future version. Use .items instead.\n",
      "/Users/rithvik/dev/cs262/lux/.venv/lib/python3.9/site-packages/altair/utils/core.py:317: FutureWarning:iteritems is deprecated and will be removed in a future version. Use .items instead.\n",
      "/Users/rithvik/dev/cs262/lux/.venv/lib/python3.9/site-packages/altair/utils/core.py:317: FutureWarning:iteritems is deprecated and will be removed in a future version. Use .items instead.\n",
      "/Users/rithvik/dev/cs262/lux/.venv/lib/python3.9/site-packages/altair/utils/core.py:317: FutureWarning:iteritems is deprecated and will be removed in a future version. Use .items instead.\n",
      "/Users/rithvik/dev/cs262/lux/.venv/lib/python3.9/site-packages/altair/utils/core.py:317: FutureWarning:iteritems is deprecated and will be removed in a future version. Use .items instead.\n",
      "/Users/rithvik/dev/cs262/lux/.venv/lib/python3.9/site-packages/altair/utils/core.py:317: FutureWarning:iteritems is deprecated and will be removed in a future version. Use .items instead.\n",
      "/Users/rithvik/dev/cs262/lux/.venv/lib/python3.9/site-packages/altair/utils/core.py:317: FutureWarning:iteritems is deprecated and will be removed in a future version. Use .items instead.\n",
      "/Users/rithvik/dev/cs262/lux/.venv/lib/python3.9/site-packages/altair/utils/core.py:317: FutureWarning:iteritems is deprecated and will be removed in a future version. Use .items instead.\n",
      "/Users/rithvik/dev/cs262/lux/.venv/lib/python3.9/site-packages/altair/utils/core.py:317: FutureWarning:iteritems is deprecated and will be removed in a future version. Use .items instead.\n",
      "/Users/rithvik/dev/cs262/lux/.venv/lib/python3.9/site-packages/altair/utils/core.py:317: FutureWarning:iteritems is deprecated and will be removed in a future version. Use .items instead.\n",
      "/Users/rithvik/dev/cs262/lux/.venv/lib/python3.9/site-packages/altair/utils/core.py:317: FutureWarning:iteritems is deprecated and will be removed in a future version. Use .items instead.\n",
      "/Users/rithvik/dev/cs262/lux/.venv/lib/python3.9/site-packages/altair/utils/core.py:317: FutureWarning:iteritems is deprecated and will be removed in a future version. Use .items instead.\n",
      "/Users/rithvik/dev/cs262/lux/.venv/lib/python3.9/site-packages/altair/utils/core.py:317: FutureWarning:iteritems is deprecated and will be removed in a future version. Use .items instead.\n",
      "/Users/rithvik/dev/cs262/lux/.venv/lib/python3.9/site-packages/altair/utils/core.py:317: FutureWarning:iteritems is deprecated and will be removed in a future version. Use .items instead.\n",
      "/Users/rithvik/dev/cs262/lux/.venv/lib/python3.9/site-packages/altair/utils/core.py:317: FutureWarning:iteritems is deprecated and will be removed in a future version. Use .items instead.\n",
      "/Users/rithvik/dev/cs262/lux/.venv/lib/python3.9/site-packages/altair/utils/core.py:317: FutureWarning:iteritems is deprecated and will be removed in a future version. Use .items instead.\n",
      "/Users/rithvik/dev/cs262/lux/.venv/lib/python3.9/site-packages/altair/utils/core.py:317: FutureWarning:iteritems is deprecated and will be removed in a future version. Use .items instead.\n",
      "/Users/rithvik/dev/cs262/lux/.venv/lib/python3.9/site-packages/altair/utils/core.py:317: FutureWarning:iteritems is deprecated and will be removed in a future version. Use .items instead.\n",
      "/Users/rithvik/dev/cs262/lux/.venv/lib/python3.9/site-packages/altair/utils/core.py:317: FutureWarning:iteritems is deprecated and will be removed in a future version. Use .items instead.\n",
      "/Users/rithvik/dev/cs262/lux/.venv/lib/python3.9/site-packages/altair/utils/core.py:317: FutureWarning:iteritems is deprecated and will be removed in a future version. Use .items instead.\n",
      "/Users/rithvik/dev/cs262/lux/.venv/lib/python3.9/site-packages/altair/utils/core.py:317: FutureWarning:iteritems is deprecated and will be removed in a future version. Use .items instead.\n",
      "/Users/rithvik/dev/cs262/lux/.venv/lib/python3.9/site-packages/altair/utils/core.py:317: FutureWarning:iteritems is deprecated and will be removed in a future version. Use .items instead.\n",
      "/Users/rithvik/dev/cs262/lux/.venv/lib/python3.9/site-packages/altair/utils/core.py:317: FutureWarning:iteritems is deprecated and will be removed in a future version. Use .items instead.\n",
      "/Users/rithvik/dev/cs262/lux/.venv/lib/python3.9/site-packages/altair/utils/core.py:317: FutureWarning:iteritems is deprecated and will be removed in a future version. Use .items instead.\n",
      "/Users/rithvik/dev/cs262/lux/.venv/lib/python3.9/site-packages/altair/utils/core.py:317: FutureWarning:iteritems is deprecated and will be removed in a future version. Use .items instead.\n",
      "/Users/rithvik/dev/cs262/lux/.venv/lib/python3.9/site-packages/altair/utils/core.py:317: FutureWarning:iteritems is deprecated and will be removed in a future version. Use .items instead.\n",
      "/Users/rithvik/dev/cs262/lux/.venv/lib/python3.9/site-packages/altair/utils/core.py:317: FutureWarning:iteritems is deprecated and will be removed in a future version. Use .items instead.\n",
      "/Users/rithvik/dev/cs262/lux/.venv/lib/python3.9/site-packages/altair/utils/core.py:317: FutureWarning:iteritems is deprecated and will be removed in a future version. Use .items instead.\n",
      "/Users/rithvik/dev/cs262/lux/.venv/lib/python3.9/site-packages/altair/utils/core.py:317: FutureWarning:iteritems is deprecated and will be removed in a future version. Use .items instead.\n",
      "/Users/rithvik/dev/cs262/lux/.venv/lib/python3.9/site-packages/altair/utils/core.py:317: FutureWarning:iteritems is deprecated and will be removed in a future version. Use .items instead.\n",
      "/Users/rithvik/dev/cs262/lux/.venv/lib/python3.9/site-packages/altair/utils/core.py:317: FutureWarning:iteritems is deprecated and will be removed in a future version. Use .items instead.\n",
      "/Users/rithvik/dev/cs262/lux/.venv/lib/python3.9/site-packages/altair/utils/core.py:317: FutureWarning:iteritems is deprecated and will be removed in a future version. Use .items instead.\n",
      "/Users/rithvik/dev/cs262/lux/.venv/lib/python3.9/site-packages/altair/utils/core.py:317: FutureWarning:iteritems is deprecated and will be removed in a future version. Use .items instead.\n",
      "/Users/rithvik/dev/cs262/lux/.venv/lib/python3.9/site-packages/altair/utils/core.py:317: FutureWarning:iteritems is deprecated and will be removed in a future version. Use .items instead.\n",
      "/Users/rithvik/dev/cs262/lux/.venv/lib/python3.9/site-packages/altair/utils/core.py:317: FutureWarning:iteritems is deprecated and will be removed in a future version. Use .items instead.\n",
      "/Users/rithvik/dev/cs262/lux/.venv/lib/python3.9/site-packages/altair/utils/core.py:317: FutureWarning:iteritems is deprecated and will be removed in a future version. Use .items instead.\n",
      "/Users/rithvik/dev/cs262/lux/.venv/lib/python3.9/site-packages/altair/utils/core.py:317: FutureWarning:iteritems is deprecated and will be removed in a future version. Use .items instead.\n",
      "/Users/rithvik/dev/cs262/lux/.venv/lib/python3.9/site-packages/altair/utils/core.py:317: FutureWarning:iteritems is deprecated and will be removed in a future version. Use .items instead.\n",
      "/Users/rithvik/dev/cs262/lux/.venv/lib/python3.9/site-packages/altair/utils/core.py:317: FutureWarning:iteritems is deprecated and will be removed in a future version. Use .items instead.\n",
      "/Users/rithvik/dev/cs262/lux/.venv/lib/python3.9/site-packages/altair/utils/core.py:317: FutureWarning:iteritems is deprecated and will be removed in a future version. Use .items instead.\n",
      "/Users/rithvik/dev/cs262/lux/.venv/lib/python3.9/site-packages/altair/utils/core.py:317: FutureWarning:iteritems is deprecated and will be removed in a future version. Use .items instead.\n",
      "/Users/rithvik/dev/cs262/lux/.venv/lib/python3.9/site-packages/altair/utils/core.py:317: FutureWarning:iteritems is deprecated and will be removed in a future version. Use .items instead.\n",
      "/Users/rithvik/dev/cs262/lux/.venv/lib/python3.9/site-packages/altair/utils/core.py:317: FutureWarning:iteritems is deprecated and will be removed in a future version. Use .items instead.\n",
      "/Users/rithvik/dev/cs262/lux/.venv/lib/python3.9/site-packages/altair/utils/core.py:317: FutureWarning:iteritems is deprecated and will be removed in a future version. Use .items instead.\n",
      "/Users/rithvik/dev/cs262/lux/.venv/lib/python3.9/site-packages/altair/utils/core.py:317: FutureWarning:iteritems is deprecated and will be removed in a future version. Use .items instead.\n",
      "/Users/rithvik/dev/cs262/lux/.venv/lib/python3.9/site-packages/altair/utils/core.py:317: FutureWarning:iteritems is deprecated and will be removed in a future version. Use .items instead.\n",
      "/Users/rithvik/dev/cs262/lux/.venv/lib/python3.9/site-packages/altair/utils/core.py:317: FutureWarning:iteritems is deprecated and will be removed in a future version. Use .items instead.\n",
      "/Users/rithvik/dev/cs262/lux/.venv/lib/python3.9/site-packages/altair/utils/core.py:317: FutureWarning:iteritems is deprecated and will be removed in a future version. Use .items instead.\n",
      "/Users/rithvik/dev/cs262/lux/.venv/lib/python3.9/site-packages/altair/utils/core.py:317: FutureWarning:iteritems is deprecated and will be removed in a future version. Use .items instead.\n",
      "/Users/rithvik/dev/cs262/lux/.venv/lib/python3.9/site-packages/altair/utils/core.py:317: FutureWarning:iteritems is deprecated and will be removed in a future version. Use .items instead.\n",
      "/Users/rithvik/dev/cs262/lux/.venv/lib/python3.9/site-packages/altair/utils/core.py:317: FutureWarning:iteritems is deprecated and will be removed in a future version. Use .items instead.\n",
      "/Users/rithvik/dev/cs262/lux/.venv/lib/python3.9/site-packages/altair/utils/core.py:317: FutureWarning:iteritems is deprecated and will be removed in a future version. Use .items instead.\n",
      "/Users/rithvik/dev/cs262/lux/.venv/lib/python3.9/site-packages/altair/utils/core.py:317: FutureWarning:iteritems is deprecated and will be removed in a future version. Use .items instead.\n",
      "/Users/rithvik/dev/cs262/lux/.venv/lib/python3.9/site-packages/altair/utils/core.py:317: FutureWarning:iteritems is deprecated and will be removed in a future version. Use .items instead.\n",
      "/Users/rithvik/dev/cs262/lux/.venv/lib/python3.9/site-packages/altair/utils/core.py:317: FutureWarning:iteritems is deprecated and will be removed in a future version. Use .items instead.\n",
      "/Users/rithvik/dev/cs262/lux/.venv/lib/python3.9/site-packages/altair/utils/core.py:317: FutureWarning:iteritems is deprecated and will be removed in a future version. Use .items instead.\n",
      "/Users/rithvik/dev/cs262/lux/.venv/lib/python3.9/site-packages/altair/utils/core.py:317: FutureWarning:iteritems is deprecated and will be removed in a future version. Use .items instead.\n",
      "/Users/rithvik/dev/cs262/lux/.venv/lib/python3.9/site-packages/altair/utils/core.py:317: FutureWarning:iteritems is deprecated and will be removed in a future version. Use .items instead.\n",
      "/Users/rithvik/dev/cs262/lux/.venv/lib/python3.9/site-packages/altair/utils/core.py:317: FutureWarning:iteritems is deprecated and will be removed in a future version. Use .items instead.\n",
      "/Users/rithvik/dev/cs262/lux/.venv/lib/python3.9/site-packages/altair/utils/core.py:317: FutureWarning:iteritems is deprecated and will be removed in a future version. Use .items instead.\n",
      "/Users/rithvik/dev/cs262/lux/.venv/lib/python3.9/site-packages/altair/utils/core.py:317: FutureWarning:iteritems is deprecated and will be removed in a future version. Use .items instead.\n",
      "/Users/rithvik/dev/cs262/lux/.venv/lib/python3.9/site-packages/altair/utils/core.py:317: FutureWarning:iteritems is deprecated and will be removed in a future version. Use .items instead.\n",
      "/Users/rithvik/dev/cs262/lux/.venv/lib/python3.9/site-packages/altair/utils/core.py:317: FutureWarning:iteritems is deprecated and will be removed in a future version. Use .items instead.\n",
      "/Users/rithvik/dev/cs262/lux/.venv/lib/python3.9/site-packages/altair/utils/core.py:317: FutureWarning:iteritems is deprecated and will be removed in a future version. Use .items instead.\n",
      "/Users/rithvik/dev/cs262/lux/.venv/lib/python3.9/site-packages/altair/utils/core.py:317: FutureWarning:iteritems is deprecated and will be removed in a future version. Use .items instead.\n",
      "/Users/rithvik/dev/cs262/lux/.venv/lib/python3.9/site-packages/altair/utils/core.py:317: FutureWarning:iteritems is deprecated and will be removed in a future version. Use .items instead.\n",
      "/Users/rithvik/dev/cs262/lux/.venv/lib/python3.9/site-packages/altair/utils/core.py:317: FutureWarning:iteritems is deprecated and will be removed in a future version. Use .items instead.\n",
      "/Users/rithvik/dev/cs262/lux/.venv/lib/python3.9/site-packages/altair/utils/core.py:317: FutureWarning:iteritems is deprecated and will be removed in a future version. Use .items instead.\n",
      "/Users/rithvik/dev/cs262/lux/.venv/lib/python3.9/site-packages/altair/utils/core.py:317: FutureWarning:iteritems is deprecated and will be removed in a future version. Use .items instead.\n"
     ]
    },
    {
     "data": {
      "application/vnd.jupyter.widget-view+json": {
       "model_id": "e138787dc30e4f7e8aaa2a03fd8d1ac9",
       "version_major": 2,
       "version_minor": 0
      },
      "text/plain": [
       "Button(description='Toggle Pandas/Lux', layout=Layout(top='5px', width='140px'), style=ButtonStyle())"
      ]
     },
     "metadata": {},
     "output_type": "display_data"
    },
    {
     "data": {
      "application/vnd.jupyter.widget-view+json": {
       "model_id": "ad9aa712ad5e4ef69e8cbeac423df3d6",
       "version_major": 2,
       "version_minor": 0
      },
      "text/plain": [
       "Output()"
      ]
     },
     "metadata": {},
     "output_type": "display_data"
    }
   ],
   "source": [
    "from lux.vis.VisList import VisList\n",
    "from lux.vis.Vis import Vis\n",
    "\n",
    "# VisList([Vis([\"latitude\", \"longitude\", \"price\"]), Vis([\"room_type=?\", \"price\"])],df)\n",
    "# VisList([\"Region=?\", \"AverageCost\", \"SATAverage|ACTMedian\"],df)\n",
    "# VisList([\"state\", \"AverageCost\", \"SATAverage|ACTMedian\"],df)\n",
    "df"
   ]
  },
  {
   "cell_type": "markdown",
   "id": "2a2d24f0",
   "metadata": {},
   "source": [
    "# Geography Test"
   ]
  },
  {
   "cell_type": "code",
   "execution_count": 15,
   "id": "5b9f30c3",
   "metadata": {},
   "outputs": [],
   "source": [
    "countries = pd.read_csv(\"https://github.com/lux-org/lux-datasets/blob/master/data/countries.csv?raw=True\")\n",
    "countries[\"Country\"]=countries[\"name\"].apply(lambda x:x.split(\",\")[0])\n",
    "countries.loc[countries[\"Country\"]=='United States',\"Country\"] = 'United States of America'"
   ]
  },
  {
   "cell_type": "code",
   "execution_count": 16,
   "id": "917a39d2",
   "metadata": {},
   "outputs": [],
   "source": [
    "newdf = pd.DataFrame(np.repeat(countries.values, 700, axis=0))\n",
    "newdf.columns = countries.columns\n",
    "countries = newdf"
   ]
  },
  {
   "cell_type": "code",
   "execution_count": 17,
   "id": "f7943667",
   "metadata": {},
   "outputs": [
    {
     "name": "stdout",
     "output_type": "stream",
     "text": [
      "Heatmap executed in 0.14676237106323242\n",
      "Heatmap executed in 0.14124011993408203\n",
      "Heatmap executed in 0.13573312759399414\n",
      "Heatmap executed in 0.13416600227355957\n",
      "Heatmap executed in 0.12917208671569824\n",
      "Heatmap executed in 0.13105368614196777\n",
      "Heatmap executed in 0.1495828628540039\n",
      "Heatmap executed in 0.1352226734161377\n",
      "Heatmap executed in 0.12424111366271973\n",
      "Heatmap executed in 0.13355779647827148\n",
      "Heatmap executed in 0.1366562843322754\n",
      "Heatmap executed in 0.1311638355255127\n",
      "Total time: 1.700084924697876, VisList length: 12\n",
      "Total accesses for histogram: {'histogram': 26, 'cut': 32}, Hit rate for histogram: 0.15384615384615385\n",
      "Total accesses for cut: {'histogram': 26, 'cut': 32}, Hit rate for cut: 0.8125\n"
     ]
    },
    {
     "name": "stderr",
     "output_type": "stream",
     "text": [
      "/Users/rithvik/dev/cs262/lux/lux/interestingness/interestingness.py:196: RuntimeWarning:invalid value encountered in double_scalars\n"
     ]
    },
    {
     "name": "stdout",
     "output_type": "stream",
     "text": [
      "Total time: 0.2595667839050293, VisList length: 4\n",
      "Total accesses for histogram: {'histogram': 30, 'cut': 32}, Hit rate for histogram: 0.13333333333333333\n",
      "Total accesses for cut: {'histogram': 30, 'cut': 32}, Hit rate for cut: 0.8125\n",
      "Total time: 0.6760997772216797, VisList length: 18\n",
      "Total accesses for histogram: {'histogram': 30, 'cut': 32}, Hit rate for histogram: 0.13333333333333333\n",
      "Total accesses for cut: {'histogram': 30, 'cut': 32}, Hit rate for cut: 0.8125\n",
      "Total time: 6.9141387939453125e-06, VisList length: 0\n",
      "Total accesses for histogram: {'histogram': 30, 'cut': 32}, Hit rate for histogram: 0.13333333333333333\n",
      "Total accesses for cut: {'histogram': 30, 'cut': 32}, Hit rate for cut: 0.8125\n"
     ]
    },
    {
     "name": "stderr",
     "output_type": "stream",
     "text": [
      "/Users/rithvik/dev/cs262/lux/.venv/lib/python3.9/site-packages/IPython/core/formatters.py:920: UserWarning:\n",
      "Unexpected error in rendering Lux widget and recommendations. Falling back to Pandas display.\n",
      "Please report the following issue on Github: https://github.com/lux-org/lux/issues \n",
      "\n",
      "/Users/rithvik/dev/cs262/lux/lux/core/frame.py:632: UserWarning:Traceback (most recent call last):\n",
      "  File \"/Users/rithvik/dev/cs262/lux/.venv/lib/python3.9/site-packages/pandas/core/groupby/groupby.py\", line 1772, in array_func\n",
      "    result = self.grouper._cython_operation(\n",
      "  File \"/Users/rithvik/dev/cs262/lux/.venv/lib/python3.9/site-packages/pandas/core/groupby/ops.py\", line 1039, in _cython_operation\n",
      "    return cy_op.cython_operation(\n",
      "  File \"/Users/rithvik/dev/cs262/lux/.venv/lib/python3.9/site-packages/pandas/core/groupby/ops.py\", line 708, in cython_operation\n",
      "    return self._cython_op_ndim_compat(\n",
      "  File \"/Users/rithvik/dev/cs262/lux/.venv/lib/python3.9/site-packages/pandas/core/groupby/ops.py\", line 527, in _cython_op_ndim_compat\n",
      "    return self._call_cython_op(\n",
      "  File \"/Users/rithvik/dev/cs262/lux/.venv/lib/python3.9/site-packages/pandas/core/groupby/ops.py\", line 571, in _call_cython_op\n",
      "    func = self._get_cython_function(self.kind, self.how, values.dtype, is_numeric)\n",
      "  File \"/Users/rithvik/dev/cs262/lux/.venv/lib/python3.9/site-packages/pandas/core/groupby/ops.py\", line 192, in _get_cython_function\n",
      "    raise NotImplementedError(\n",
      "NotImplementedError: function is not implemented for this dtype: [how->mean,dtype->object]\n",
      "\n",
      "During handling of the above exception, another exception occurred:\n",
      "\n",
      "Traceback (most recent call last):\n",
      "  File \"/Users/rithvik/dev/cs262/lux/lux/core/frame.py\", line 594, in _ipython_display_\n",
      "    self.maintain_recs()\n",
      "  File \"/Users/rithvik/dev/cs262/lux/lux/core/frame.py\", line 436, in maintain_recs\n",
      "    custom_action_collection = custom_actions(rec_df)\n",
      "  File \"/Users/rithvik/dev/cs262/lux/lux/action/custom.py\", line 74, in custom_actions\n",
      "    recommendation = lux.config.actions[action_name].action(ldf, args)\n",
      "  File \"/Users/rithvik/dev/cs262/lux/lux/action/univariate.py\", line 95, in univariate\n",
      "    vlist = VisList(intent, ldf)\n",
      "  File \"/Users/rithvik/dev/cs262/lux/lux/vis/VisList.py\", line 43, in __init__\n",
      "    self.refresh_source(self._source)\n",
      "  File \"/Users/rithvik/dev/cs262/lux/lux/vis/VisList.py\", line 336, in refresh_source\n",
      "    lux.config.executor.execute(self._collection, ldf, approx=approx)\n",
      "  File \"/Users/rithvik/dev/cs262/lux/lux/executor/PandasExecutor.py\", line 148, in execute\n",
      "    PandasExecutor.execute_aggregate(vis, isFiltered=filter_executed)\n",
      "  File \"/Users/rithvik/dev/cs262/lux/lux/executor/PandasExecutor.py\", line 238, in execute_aggregate\n",
      "    groupby_result = groupby_result.agg(agg_func)\n",
      "  File \"/Users/rithvik/dev/cs262/lux/lux/core/groupby.py\", line 32, in aggregate\n",
      "    ret_val = super(LuxGroupBy, self).aggregate(*args, **kwargs)\n",
      "  File \"/Users/rithvik/dev/cs262/lux/.venv/lib/python3.9/site-packages/pandas/core/groupby/generic.py\", line 894, in aggregate\n",
      "    result = op.agg()\n",
      "  File \"/Users/rithvik/dev/cs262/lux/.venv/lib/python3.9/site-packages/pandas/core/apply.py\", line 166, in agg\n",
      "    return self.apply_str()\n",
      "  File \"/Users/rithvik/dev/cs262/lux/.venv/lib/python3.9/site-packages/pandas/core/apply.py\", line 562, in apply_str\n",
      "    return self._try_aggregate_string_function(obj, f, *self.args, **self.kwargs)\n",
      "  File \"/Users/rithvik/dev/cs262/lux/.venv/lib/python3.9/site-packages/pandas/core/apply.py\", line 631, in _try_aggregate_string_function\n",
      "    return f(*args, **kwargs)\n",
      "  File \"/Users/rithvik/dev/cs262/lux/.venv/lib/python3.9/site-packages/pandas/core/groupby/groupby.py\", line 2161, in mean\n",
      "    result = self._cython_agg_general(\n",
      "  File \"/Users/rithvik/dev/cs262/lux/lux/core/groupby.py\", line 44, in _cython_agg_general\n",
      "    ret_val = super(LuxGroupBy, self)._cython_agg_general(*args, **kwargs)\n",
      "  File \"/Users/rithvik/dev/cs262/lux/.venv/lib/python3.9/site-packages/pandas/core/groupby/groupby.py\", line 1791, in _cython_agg_general\n",
      "    new_mgr = data.grouped_reduce(array_func, ignore_failures=ignore_failures)\n",
      "  File \"/Users/rithvik/dev/cs262/lux/.venv/lib/python3.9/site-packages/pandas/core/internals/managers.py\", line 1494, in grouped_reduce\n",
      "    applied = sb.apply(func)\n",
      "  File \"/Users/rithvik/dev/cs262/lux/.venv/lib/python3.9/site-packages/pandas/core/internals/blocks.py\", line 351, in apply\n",
      "    result = func(self.values, **kwargs)\n",
      "  File \"/Users/rithvik/dev/cs262/lux/.venv/lib/python3.9/site-packages/pandas/core/groupby/groupby.py\", line 1785, in array_func\n",
      "    result = self._agg_py_fallback(values, ndim=data.ndim, alt=alt)\n",
      "  File \"/Users/rithvik/dev/cs262/lux/.venv/lib/python3.9/site-packages/pandas/core/groupby/groupby.py\", line 1726, in _agg_py_fallback\n",
      "    res_values = self.grouper.agg_series(ser, alt, preserve_dtype=True)\n",
      "  File \"/Users/rithvik/dev/cs262/lux/.venv/lib/python3.9/site-packages/pandas/core/groupby/ops.py\", line 1081, in agg_series\n",
      "    result = self._aggregate_series_pure_python(obj, func)\n",
      "  File \"/Users/rithvik/dev/cs262/lux/.venv/lib/python3.9/site-packages/pandas/core/groupby/ops.py\", line 1103, in _aggregate_series_pure_python\n",
      "    for i, group in enumerate(splitter):\n",
      "  File \"/Users/rithvik/dev/cs262/lux/.venv/lib/python3.9/site-packages/pandas/core/groupby/ops.py\", line 1332, in __iter__\n",
      "    yield self._chop(sdata, slice(start, end))\n",
      "  File \"/Users/rithvik/dev/cs262/lux/.venv/lib/python3.9/site-packages/pandas/core/groupby/ops.py\", line 1357, in _chop\n",
      "    mgr = sdata._mgr.get_slice(slice_obj, axis=1 - self.axis)\n",
      "  File \"/Users/rithvik/dev/cs262/lux/.venv/lib/python3.9/site-packages/pandas/core/internals/managers.py\", line 2013, in get_slice\n",
      "    raise IndexError(\"Requested axis not found in manager\")\n",
      "IndexError: Requested axis not found in manager\n",
      "\n"
     ]
    },
    {
     "data": {
      "text/html": [
       "<div>\n",
       "<style scoped>\n",
       "    .dataframe tbody tr th:only-of-type {\n",
       "        vertical-align: middle;\n",
       "    }\n",
       "\n",
       "    .dataframe tbody tr th {\n",
       "        vertical-align: top;\n",
       "    }\n",
       "\n",
       "    .dataframe thead th {\n",
       "        text-align: right;\n",
       "    }\n",
       "</style>\n",
       "<table border=\"1\" class=\"dataframe\">\n",
       "  <thead>\n",
       "    <tr style=\"text-align: right;\">\n",
       "      <th></th>\n",
       "      <th>name</th>\n",
       "      <th>tld</th>\n",
       "      <th>cca2</th>\n",
       "      <th>ccn3</th>\n",
       "      <th>cca3</th>\n",
       "      <th>cioc</th>\n",
       "      <th>independent</th>\n",
       "      <th>status</th>\n",
       "      <th>currency</th>\n",
       "      <th>callingCode</th>\n",
       "      <th>...</th>\n",
       "      <th>subregion</th>\n",
       "      <th>languages</th>\n",
       "      <th>translations</th>\n",
       "      <th>latlng</th>\n",
       "      <th>demonym</th>\n",
       "      <th>landlocked</th>\n",
       "      <th>borders</th>\n",
       "      <th>area</th>\n",
       "      <th>flag</th>\n",
       "      <th>Country</th>\n",
       "    </tr>\n",
       "  </thead>\n",
       "  <tbody>\n",
       "    <tr>\n",
       "      <th>0</th>\n",
       "      <td>Aruba,Aruba,Aruba,Aruba,Aruba,Aruba</td>\n",
       "      <td>.aw</td>\n",
       "      <td>AW</td>\n",
       "      <td>533.0</td>\n",
       "      <td>ABW</td>\n",
       "      <td>ARU</td>\n",
       "      <td>NaN</td>\n",
       "      <td>officially-assigned</td>\n",
       "      <td>AWG</td>\n",
       "      <td>297</td>\n",
       "      <td>...</td>\n",
       "      <td>Caribbean</td>\n",
       "      <td>Dutch,Papiamento</td>\n",
       "      <td>Aruba,Aruba,Aruba,Aruba,Aruba,Aruba,Aruba,Arub...</td>\n",
       "      <td>12.5,-69.96666666</td>\n",
       "      <td>Aruban</td>\n",
       "      <td>NaN</td>\n",
       "      <td>NaN</td>\n",
       "      <td>180.0</td>\n",
       "      <td>🇦🇼</td>\n",
       "      <td>Aruba</td>\n",
       "    </tr>\n",
       "    <tr>\n",
       "      <th>1</th>\n",
       "      <td>Aruba,Aruba,Aruba,Aruba,Aruba,Aruba</td>\n",
       "      <td>.aw</td>\n",
       "      <td>AW</td>\n",
       "      <td>533.0</td>\n",
       "      <td>ABW</td>\n",
       "      <td>ARU</td>\n",
       "      <td>NaN</td>\n",
       "      <td>officially-assigned</td>\n",
       "      <td>AWG</td>\n",
       "      <td>297</td>\n",
       "      <td>...</td>\n",
       "      <td>Caribbean</td>\n",
       "      <td>Dutch,Papiamento</td>\n",
       "      <td>Aruba,Aruba,Aruba,Aruba,Aruba,Aruba,Aruba,Arub...</td>\n",
       "      <td>12.5,-69.96666666</td>\n",
       "      <td>Aruban</td>\n",
       "      <td>NaN</td>\n",
       "      <td>NaN</td>\n",
       "      <td>180.0</td>\n",
       "      <td>🇦🇼</td>\n",
       "      <td>Aruba</td>\n",
       "    </tr>\n",
       "    <tr>\n",
       "      <th>2</th>\n",
       "      <td>Aruba,Aruba,Aruba,Aruba,Aruba,Aruba</td>\n",
       "      <td>.aw</td>\n",
       "      <td>AW</td>\n",
       "      <td>533.0</td>\n",
       "      <td>ABW</td>\n",
       "      <td>ARU</td>\n",
       "      <td>NaN</td>\n",
       "      <td>officially-assigned</td>\n",
       "      <td>AWG</td>\n",
       "      <td>297</td>\n",
       "      <td>...</td>\n",
       "      <td>Caribbean</td>\n",
       "      <td>Dutch,Papiamento</td>\n",
       "      <td>Aruba,Aruba,Aruba,Aruba,Aruba,Aruba,Aruba,Arub...</td>\n",
       "      <td>12.5,-69.96666666</td>\n",
       "      <td>Aruban</td>\n",
       "      <td>NaN</td>\n",
       "      <td>NaN</td>\n",
       "      <td>180.0</td>\n",
       "      <td>🇦🇼</td>\n",
       "      <td>Aruba</td>\n",
       "    </tr>\n",
       "    <tr>\n",
       "      <th>3</th>\n",
       "      <td>Aruba,Aruba,Aruba,Aruba,Aruba,Aruba</td>\n",
       "      <td>.aw</td>\n",
       "      <td>AW</td>\n",
       "      <td>533.0</td>\n",
       "      <td>ABW</td>\n",
       "      <td>ARU</td>\n",
       "      <td>NaN</td>\n",
       "      <td>officially-assigned</td>\n",
       "      <td>AWG</td>\n",
       "      <td>297</td>\n",
       "      <td>...</td>\n",
       "      <td>Caribbean</td>\n",
       "      <td>Dutch,Papiamento</td>\n",
       "      <td>Aruba,Aruba,Aruba,Aruba,Aruba,Aruba,Aruba,Arub...</td>\n",
       "      <td>12.5,-69.96666666</td>\n",
       "      <td>Aruban</td>\n",
       "      <td>NaN</td>\n",
       "      <td>NaN</td>\n",
       "      <td>180.0</td>\n",
       "      <td>🇦🇼</td>\n",
       "      <td>Aruba</td>\n",
       "    </tr>\n",
       "    <tr>\n",
       "      <th>4</th>\n",
       "      <td>Aruba,Aruba,Aruba,Aruba,Aruba,Aruba</td>\n",
       "      <td>.aw</td>\n",
       "      <td>AW</td>\n",
       "      <td>533.0</td>\n",
       "      <td>ABW</td>\n",
       "      <td>ARU</td>\n",
       "      <td>NaN</td>\n",
       "      <td>officially-assigned</td>\n",
       "      <td>AWG</td>\n",
       "      <td>297</td>\n",
       "      <td>...</td>\n",
       "      <td>Caribbean</td>\n",
       "      <td>Dutch,Papiamento</td>\n",
       "      <td>Aruba,Aruba,Aruba,Aruba,Aruba,Aruba,Aruba,Arub...</td>\n",
       "      <td>12.5,-69.96666666</td>\n",
       "      <td>Aruban</td>\n",
       "      <td>NaN</td>\n",
       "      <td>NaN</td>\n",
       "      <td>180.0</td>\n",
       "      <td>🇦🇼</td>\n",
       "      <td>Aruba</td>\n",
       "    </tr>\n",
       "    <tr>\n",
       "      <th>...</th>\n",
       "      <td>...</td>\n",
       "      <td>...</td>\n",
       "      <td>...</td>\n",
       "      <td>...</td>\n",
       "      <td>...</td>\n",
       "      <td>...</td>\n",
       "      <td>...</td>\n",
       "      <td>...</td>\n",
       "      <td>...</td>\n",
       "      <td>...</td>\n",
       "      <td>...</td>\n",
       "      <td>...</td>\n",
       "      <td>...</td>\n",
       "      <td>...</td>\n",
       "      <td>...</td>\n",
       "      <td>...</td>\n",
       "      <td>...</td>\n",
       "      <td>...</td>\n",
       "      <td>...</td>\n",
       "      <td>...</td>\n",
       "      <td>...</td>\n",
       "    </tr>\n",
       "    <tr>\n",
       "      <th>174995</th>\n",
       "      <td>Zimbabwe,Republic of Zimbabwe,Republic of Zimb...</td>\n",
       "      <td>.zw</td>\n",
       "      <td>ZW</td>\n",
       "      <td>716.0</td>\n",
       "      <td>ZWE</td>\n",
       "      <td>ZIM</td>\n",
       "      <td>1.0</td>\n",
       "      <td>officially-assigned</td>\n",
       "      <td>ZWL</td>\n",
       "      <td>263</td>\n",
       "      <td>...</td>\n",
       "      <td>Eastern Africa</td>\n",
       "      <td>Chibarwe,English,Kalanga,Khoisan,Ndau,Northern...</td>\n",
       "      <td>Zimbabwská republika,Zimbabwe,Republik Simbabw...</td>\n",
       "      <td>-20,30</td>\n",
       "      <td>Zimbabwean</td>\n",
       "      <td>1.0</td>\n",
       "      <td>BWA,MOZ,ZAF,ZMB</td>\n",
       "      <td>390757.0</td>\n",
       "      <td>🇿🇼</td>\n",
       "      <td>Zimbabwe</td>\n",
       "    </tr>\n",
       "    <tr>\n",
       "      <th>174996</th>\n",
       "      <td>Zimbabwe,Republic of Zimbabwe,Republic of Zimb...</td>\n",
       "      <td>.zw</td>\n",
       "      <td>ZW</td>\n",
       "      <td>716.0</td>\n",
       "      <td>ZWE</td>\n",
       "      <td>ZIM</td>\n",
       "      <td>1.0</td>\n",
       "      <td>officially-assigned</td>\n",
       "      <td>ZWL</td>\n",
       "      <td>263</td>\n",
       "      <td>...</td>\n",
       "      <td>Eastern Africa</td>\n",
       "      <td>Chibarwe,English,Kalanga,Khoisan,Ndau,Northern...</td>\n",
       "      <td>Zimbabwská republika,Zimbabwe,Republik Simbabw...</td>\n",
       "      <td>-20,30</td>\n",
       "      <td>Zimbabwean</td>\n",
       "      <td>1.0</td>\n",
       "      <td>BWA,MOZ,ZAF,ZMB</td>\n",
       "      <td>390757.0</td>\n",
       "      <td>🇿🇼</td>\n",
       "      <td>Zimbabwe</td>\n",
       "    </tr>\n",
       "    <tr>\n",
       "      <th>174997</th>\n",
       "      <td>Zimbabwe,Republic of Zimbabwe,Republic of Zimb...</td>\n",
       "      <td>.zw</td>\n",
       "      <td>ZW</td>\n",
       "      <td>716.0</td>\n",
       "      <td>ZWE</td>\n",
       "      <td>ZIM</td>\n",
       "      <td>1.0</td>\n",
       "      <td>officially-assigned</td>\n",
       "      <td>ZWL</td>\n",
       "      <td>263</td>\n",
       "      <td>...</td>\n",
       "      <td>Eastern Africa</td>\n",
       "      <td>Chibarwe,English,Kalanga,Khoisan,Ndau,Northern...</td>\n",
       "      <td>Zimbabwská republika,Zimbabwe,Republik Simbabw...</td>\n",
       "      <td>-20,30</td>\n",
       "      <td>Zimbabwean</td>\n",
       "      <td>1.0</td>\n",
       "      <td>BWA,MOZ,ZAF,ZMB</td>\n",
       "      <td>390757.0</td>\n",
       "      <td>🇿🇼</td>\n",
       "      <td>Zimbabwe</td>\n",
       "    </tr>\n",
       "    <tr>\n",
       "      <th>174998</th>\n",
       "      <td>Zimbabwe,Republic of Zimbabwe,Republic of Zimb...</td>\n",
       "      <td>.zw</td>\n",
       "      <td>ZW</td>\n",
       "      <td>716.0</td>\n",
       "      <td>ZWE</td>\n",
       "      <td>ZIM</td>\n",
       "      <td>1.0</td>\n",
       "      <td>officially-assigned</td>\n",
       "      <td>ZWL</td>\n",
       "      <td>263</td>\n",
       "      <td>...</td>\n",
       "      <td>Eastern Africa</td>\n",
       "      <td>Chibarwe,English,Kalanga,Khoisan,Ndau,Northern...</td>\n",
       "      <td>Zimbabwská republika,Zimbabwe,Republik Simbabw...</td>\n",
       "      <td>-20,30</td>\n",
       "      <td>Zimbabwean</td>\n",
       "      <td>1.0</td>\n",
       "      <td>BWA,MOZ,ZAF,ZMB</td>\n",
       "      <td>390757.0</td>\n",
       "      <td>🇿🇼</td>\n",
       "      <td>Zimbabwe</td>\n",
       "    </tr>\n",
       "    <tr>\n",
       "      <th>174999</th>\n",
       "      <td>Zimbabwe,Republic of Zimbabwe,Republic of Zimb...</td>\n",
       "      <td>.zw</td>\n",
       "      <td>ZW</td>\n",
       "      <td>716.0</td>\n",
       "      <td>ZWE</td>\n",
       "      <td>ZIM</td>\n",
       "      <td>1.0</td>\n",
       "      <td>officially-assigned</td>\n",
       "      <td>ZWL</td>\n",
       "      <td>263</td>\n",
       "      <td>...</td>\n",
       "      <td>Eastern Africa</td>\n",
       "      <td>Chibarwe,English,Kalanga,Khoisan,Ndau,Northern...</td>\n",
       "      <td>Zimbabwská republika,Zimbabwe,Republik Simbabw...</td>\n",
       "      <td>-20,30</td>\n",
       "      <td>Zimbabwean</td>\n",
       "      <td>1.0</td>\n",
       "      <td>BWA,MOZ,ZAF,ZMB</td>\n",
       "      <td>390757.0</td>\n",
       "      <td>🇿🇼</td>\n",
       "      <td>Zimbabwe</td>\n",
       "    </tr>\n",
       "  </tbody>\n",
       "</table>\n",
       "<p>175000 rows × 23 columns</p>\n",
       "</div>"
      ],
      "text/plain": [
       "                                                     name  tld cca2   ccn3  \\\n",
       "0                     Aruba,Aruba,Aruba,Aruba,Aruba,Aruba  .aw   AW  533.0   \n",
       "1                     Aruba,Aruba,Aruba,Aruba,Aruba,Aruba  .aw   AW  533.0   \n",
       "2                     Aruba,Aruba,Aruba,Aruba,Aruba,Aruba  .aw   AW  533.0   \n",
       "3                     Aruba,Aruba,Aruba,Aruba,Aruba,Aruba  .aw   AW  533.0   \n",
       "4                     Aruba,Aruba,Aruba,Aruba,Aruba,Aruba  .aw   AW  533.0   \n",
       "...                                                   ...  ...  ...    ...   \n",
       "174995  Zimbabwe,Republic of Zimbabwe,Republic of Zimb...  .zw   ZW  716.0   \n",
       "174996  Zimbabwe,Republic of Zimbabwe,Republic of Zimb...  .zw   ZW  716.0   \n",
       "174997  Zimbabwe,Republic of Zimbabwe,Republic of Zimb...  .zw   ZW  716.0   \n",
       "174998  Zimbabwe,Republic of Zimbabwe,Republic of Zimb...  .zw   ZW  716.0   \n",
       "174999  Zimbabwe,Republic of Zimbabwe,Republic of Zimb...  .zw   ZW  716.0   \n",
       "\n",
       "       cca3 cioc independent               status currency callingCode  ...  \\\n",
       "0       ABW  ARU         NaN  officially-assigned      AWG         297  ...   \n",
       "1       ABW  ARU         NaN  officially-assigned      AWG         297  ...   \n",
       "2       ABW  ARU         NaN  officially-assigned      AWG         297  ...   \n",
       "3       ABW  ARU         NaN  officially-assigned      AWG         297  ...   \n",
       "4       ABW  ARU         NaN  officially-assigned      AWG         297  ...   \n",
       "...     ...  ...         ...                  ...      ...         ...  ...   \n",
       "174995  ZWE  ZIM         1.0  officially-assigned      ZWL         263  ...   \n",
       "174996  ZWE  ZIM         1.0  officially-assigned      ZWL         263  ...   \n",
       "174997  ZWE  ZIM         1.0  officially-assigned      ZWL         263  ...   \n",
       "174998  ZWE  ZIM         1.0  officially-assigned      ZWL         263  ...   \n",
       "174999  ZWE  ZIM         1.0  officially-assigned      ZWL         263  ...   \n",
       "\n",
       "             subregion                                          languages  \\\n",
       "0            Caribbean                                   Dutch,Papiamento   \n",
       "1            Caribbean                                   Dutch,Papiamento   \n",
       "2            Caribbean                                   Dutch,Papiamento   \n",
       "3            Caribbean                                   Dutch,Papiamento   \n",
       "4            Caribbean                                   Dutch,Papiamento   \n",
       "...                ...                                                ...   \n",
       "174995  Eastern Africa  Chibarwe,English,Kalanga,Khoisan,Ndau,Northern...   \n",
       "174996  Eastern Africa  Chibarwe,English,Kalanga,Khoisan,Ndau,Northern...   \n",
       "174997  Eastern Africa  Chibarwe,English,Kalanga,Khoisan,Ndau,Northern...   \n",
       "174998  Eastern Africa  Chibarwe,English,Kalanga,Khoisan,Ndau,Northern...   \n",
       "174999  Eastern Africa  Chibarwe,English,Kalanga,Khoisan,Ndau,Northern...   \n",
       "\n",
       "                                             translations             latlng  \\\n",
       "0       Aruba,Aruba,Aruba,Aruba,Aruba,Aruba,Aruba,Arub...  12.5,-69.96666666   \n",
       "1       Aruba,Aruba,Aruba,Aruba,Aruba,Aruba,Aruba,Arub...  12.5,-69.96666666   \n",
       "2       Aruba,Aruba,Aruba,Aruba,Aruba,Aruba,Aruba,Arub...  12.5,-69.96666666   \n",
       "3       Aruba,Aruba,Aruba,Aruba,Aruba,Aruba,Aruba,Arub...  12.5,-69.96666666   \n",
       "4       Aruba,Aruba,Aruba,Aruba,Aruba,Aruba,Aruba,Arub...  12.5,-69.96666666   \n",
       "...                                                   ...                ...   \n",
       "174995  Zimbabwská republika,Zimbabwe,Republik Simbabw...             -20,30   \n",
       "174996  Zimbabwská republika,Zimbabwe,Republik Simbabw...             -20,30   \n",
       "174997  Zimbabwská republika,Zimbabwe,Republik Simbabw...             -20,30   \n",
       "174998  Zimbabwská republika,Zimbabwe,Republik Simbabw...             -20,30   \n",
       "174999  Zimbabwská republika,Zimbabwe,Republik Simbabw...             -20,30   \n",
       "\n",
       "           demonym landlocked          borders      area flag   Country  \n",
       "0           Aruban        NaN              NaN     180.0   🇦🇼     Aruba  \n",
       "1           Aruban        NaN              NaN     180.0   🇦🇼     Aruba  \n",
       "2           Aruban        NaN              NaN     180.0   🇦🇼     Aruba  \n",
       "3           Aruban        NaN              NaN     180.0   🇦🇼     Aruba  \n",
       "4           Aruban        NaN              NaN     180.0   🇦🇼     Aruba  \n",
       "...            ...        ...              ...       ...  ...       ...  \n",
       "174995  Zimbabwean        1.0  BWA,MOZ,ZAF,ZMB  390757.0   🇿🇼  Zimbabwe  \n",
       "174996  Zimbabwean        1.0  BWA,MOZ,ZAF,ZMB  390757.0   🇿🇼  Zimbabwe  \n",
       "174997  Zimbabwean        1.0  BWA,MOZ,ZAF,ZMB  390757.0   🇿🇼  Zimbabwe  \n",
       "174998  Zimbabwean        1.0  BWA,MOZ,ZAF,ZMB  390757.0   🇿🇼  Zimbabwe  \n",
       "174999  Zimbabwean        1.0  BWA,MOZ,ZAF,ZMB  390757.0   🇿🇼  Zimbabwe  \n",
       "\n",
       "[175000 rows x 23 columns]"
      ]
     },
     "metadata": {},
     "output_type": "display_data"
    }
   ],
   "source": [
    "countries"
   ]
  },
  {
   "cell_type": "code",
   "execution_count": 33,
   "id": "c31db455",
   "metadata": {},
   "outputs": [],
   "source": [
    "countries[\"landlocked\"] = countries[\"landlocked\"].fillna(\"False\").replace(1,\"True\")\n",
    "countries[\"NumOfficialLanguages\"]=countries.languages.str.count(\",\")+1\n",
    "countries[\"NumBorderingCountries\"]=countries.borders.str.count(\",\")+1\n",
    "countries[\"NumBorderingCountries\"]=countries[\"NumBorderingCountries\"].fillna(0)\n",
    "countries = countries[['Country','cca3', 'landlocked', \"NumOfficialLanguages\", \"NumBorderingCountries\",'area']]"
   ]
  },
  {
   "cell_type": "code",
   "execution_count": 34,
   "id": "05d964d3",
   "metadata": {
    "scrolled": true
   },
   "outputs": [
    {
     "name": "stdout",
     "output_type": "stream",
     "text": [
      "Total time: 6.9141387939453125e-06\n",
      "Total accesses: 68, VisList length: 0\n",
      "Hit rate: 0.6029411764705882\n",
      "Total time: 0.002032041549682617\n",
      "Total accesses: 68, VisList length: 1\n",
      "Hit rate: 0.6029411764705882\n",
      "Total time: 0.03382706642150879\n",
      "Total accesses: 68, VisList length: 4\n",
      "Hit rate: 0.6029411764705882\n",
      "Total time: 5.9604644775390625e-06\n",
      "Total accesses: 68, VisList length: 0\n",
      "Hit rate: 0.6029411764705882\n",
      "Total time: 0.007608175277709961\n",
      "Total accesses: 68, VisList length: 1\n",
      "Hit rate: 0.6029411764705882\n"
     ]
    },
    {
     "name": "stderr",
     "output_type": "stream",
     "text": [
      "/Users/rithvik/dev/cs262/lux/.venv/lib/python3.9/site-packages/altair/utils/core.py:317: FutureWarning:iteritems is deprecated and will be removed in a future version. Use .items instead.\n",
      "/Users/rithvik/dev/cs262/lux/.venv/lib/python3.9/site-packages/altair/utils/core.py:317: FutureWarning:iteritems is deprecated and will be removed in a future version. Use .items instead.\n",
      "/Users/rithvik/dev/cs262/lux/.venv/lib/python3.9/site-packages/altair/utils/core.py:317: FutureWarning:iteritems is deprecated and will be removed in a future version. Use .items instead.\n",
      "/Users/rithvik/dev/cs262/lux/.venv/lib/python3.9/site-packages/altair/utils/core.py:317: FutureWarning:iteritems is deprecated and will be removed in a future version. Use .items instead.\n",
      "/Users/rithvik/dev/cs262/lux/.venv/lib/python3.9/site-packages/altair/utils/core.py:317: FutureWarning:iteritems is deprecated and will be removed in a future version. Use .items instead.\n",
      "/Users/rithvik/dev/cs262/lux/.venv/lib/python3.9/site-packages/altair/utils/core.py:317: FutureWarning:iteritems is deprecated and will be removed in a future version. Use .items instead.\n"
     ]
    },
    {
     "data": {
      "application/vnd.jupyter.widget-view+json": {
       "model_id": "48ca706d737e4c899c48ae51a7a9f0e2",
       "version_major": 2,
       "version_minor": 0
      },
      "text/plain": [
       "Button(description='Toggle Pandas/Lux', layout=Layout(top='5px', width='140px'), style=ButtonStyle())"
      ]
     },
     "metadata": {},
     "output_type": "display_data"
    },
    {
     "data": {
      "application/vnd.jupyter.widget-view+json": {
       "model_id": "ba8f2d7c486f44b292cbafabbb7e65c1",
       "version_major": 2,
       "version_minor": 0
      },
      "text/plain": [
       "Output()"
      ]
     },
     "metadata": {},
     "output_type": "display_data"
    }
   ],
   "source": [
    "countries"
   ]
  },
  {
   "cell_type": "markdown",
   "id": "3d9ac8ef",
   "metadata": {},
   "source": [
    "# Raw vis lib testing"
   ]
  },
  {
   "cell_type": "code",
   "execution_count": 1,
   "id": "c5f1f026",
   "metadata": {},
   "outputs": [],
   "source": [
    "from lux.vis.Vis import Vis\n",
    "from lux.vis.VisList import VisList\n",
    "from lux.vis.Clause import Clause\n",
    "import lux\n",
    "import pandas as pd"
   ]
  },
  {
   "cell_type": "code",
   "execution_count": 2,
   "id": "eb6144a2",
   "metadata": {},
   "outputs": [],
   "source": [
    "# df = pd.read_csv(\"https://raw.githubusercontent.com/lux-org/lux-datasets/master/data/college.csv\")\n",
    "\n",
    "# df = pd.read_csv(\"/Users/rithvik/Downloads/college_with_geo.csv\")\n",
    "\n",
    "df = pd.read_csv(\"/Users/rithvik/Downloads/college_with_geo_small.csv\")\n"
   ]
  },
  {
   "cell_type": "code",
   "execution_count": 7,
   "id": "c081451a",
   "metadata": {},
   "outputs": [
    {
     "name": "stdout",
     "output_type": "stream",
     "text": [
      "<class 'list'>\n",
      "<class 'list'>\n"
     ]
    },
    {
     "name": "stderr",
     "output_type": "stream",
     "text": [
      "/Users/rithvik/dev/cs262/lux/.venv/lib/python3.9/site-packages/altair/utils/core.py:317: FutureWarning:iteritems is deprecated and will be removed in a future version. Use .items instead.\n"
     ]
    },
    {
     "data": {
      "application/vnd.jupyter.widget-view+json": {
       "model_id": "8c5d710bfff84c1d86d94b3baa948b84",
       "version_major": 2,
       "version_minor": 0
      },
      "text/plain": [
       "LuxWidget(recommendations=[{'action': 'Vis List', 'description': 'Shows a vis list defined by the intent', 'vs…"
      ]
     },
     "metadata": {},
     "output_type": "display_data"
    }
   ],
   "source": [
    "v1 = Vis([Clause(attribute=\"MedianEarnings\"), Clause(attribute=\"SATAverage\")], df)\n",
    "v1._mark = \"bar\"\n",
    "\n",
    "VisList([\n",
    "    v1\n",
    "], df)"
   ]
  },
  {
   "cell_type": "code",
   "execution_count": null,
   "id": "dab2dc91",
   "metadata": {},
   "outputs": [],
   "source": []
  }
 ],
 "metadata": {
  "kernelspec": {
   "display_name": ".venv",
   "language": "python",
   "name": ".venv"
  },
  "language_info": {
   "codemirror_mode": {
    "name": "ipython",
    "version": 3
   },
   "file_extension": ".py",
   "mimetype": "text/x-python",
   "name": "python",
   "nbconvert_exporter": "python",
   "pygments_lexer": "ipython3",
   "version": "3.9.13"
  }
 },
 "nbformat": 4,
 "nbformat_minor": 5
}
