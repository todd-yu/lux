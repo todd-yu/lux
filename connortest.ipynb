{
 "cells": [
  {
   "cell_type": "code",
   "execution_count": 1,
   "id": "2407f952",
   "metadata": {},
   "outputs": [],
   "source": [
    "import lux\n",
    "import pandas as pd\n",
    "import numpy as np"
   ]
  },
  {
   "cell_type": "code",
   "execution_count": 2,
   "id": "3705919b",
   "metadata": {},
   "outputs": [],
   "source": [
    "lux.config.sampling_cap = 1000000000\n",
    "lux.config.sampling_start = 10000000\n",
    "lux.config.sampling = False\n",
    "lux.config.topk = 50 # Important as otherwise pandas executor is bypassed\n",
    "\n",
    "# Lux has a lot of deprecation warnings\n",
    "import warnings\n",
    "# warnings.filterwarnings('ignore')"
   ]
  },
  {
   "cell_type": "code",
   "execution_count": 3,
   "id": "17c6982a",
   "metadata": {},
   "outputs": [],
   "source": [
    "def create_big_geo_dataset():\n",
    "    df = pd.read_csv(\"https://raw.githubusercontent.com/lux-org/lux-datasets/master/data/college.csv\")\n",
    "    df[\"state\"] = [np.random.choice([\"california\", \"new york\", \"new jersey\", \"georgia\", \"texas\", \"maine\", \"louisiana\",\"washington\", \"oregon\"]) for _ in range(len(df))]\n",
    "    df.to_csv(\"college_with_geo_small.csv\", index=False)\n",
    "    df = pd.read_csv(\"college_with_geo_small.csv\")\n",
    "\n",
    "    newdf = pd.DataFrame(np.repeat(df.values, 1000, axis=0))\n",
    "    newdf.columns = df.columns\n",
    "    df = newdf\n",
    "    df.to_csv(\"college_with_geo_small.csv\", index=False)"
   ]
  },
  {
   "cell_type": "code",
   "execution_count": 4,
   "id": "edcf51c3",
   "metadata": {},
   "outputs": [
    {
     "name": "stdout",
     "output_type": "stream",
     "text": [
      "1294000\n"
     ]
    }
   ],
   "source": [
    "df = pd.read_csv(\"college_with_geo_small.csv\")\n",
    "df.intent=[\"MedianEarnings\"]\n",
    "print(len(df))"
   ]
  },
  {
   "cell_type": "code",
   "execution_count": 5,
   "id": "e55eefc9",
   "metadata": {
    "scrolled": true
   },
   "outputs": [
    {
     "name": "stdout",
     "output_type": "stream",
     "text": [
      "Total time: 0.11775994300842285, VisList length: 1\n",
      "Total time: 2.99460506439209, VisList length: 16\n",
      "Total time: 0.32203006744384766, VisList length: 59\n",
      "Total time: 0.19053292274475098, VisList length: 59\n",
      "Total time: 0.09356093406677246, VisList length: 1\n",
      "Total time: 0.06300210952758789, VisList length: 1\n",
      "Total time: 0.059545040130615234, VisList length: 1\n",
      "Total time: 0.07158899307250977, VisList length: 1\n",
      "Total time: 0.06121182441711426, VisList length: 1\n",
      "Total time: 0.06423497200012207, VisList length: 1\n",
      "Total time: 0.06776309013366699, VisList length: 1\n",
      "Total time: 0.08322405815124512, VisList length: 1\n",
      "Total time: 0.08007407188415527, VisList length: 1\n",
      "Total time: 0.06477189064025879, VisList length: 1\n",
      "Total time: 0.07864999771118164, VisList length: 1\n",
      "Total time: 0.0780038833618164, VisList length: 1\n",
      "Total time: 0.07645416259765625, VisList length: 1\n",
      "Total time: 0.06784200668334961, VisList length: 1\n",
      "Total time: 0.0629737377166748, VisList length: 1\n",
      "Total time: 0.07965803146362305, VisList length: 1\n",
      "Total time: 0.06349682807922363, VisList length: 1\n",
      "Total time: 0.0766751766204834, VisList length: 1\n",
      "Total time: 0.06223487854003906, VisList length: 1\n",
      "Total time: 0.06564998626708984, VisList length: 1\n",
      "Total time: 0.07370686531066895, VisList length: 1\n",
      "Total time: 0.06222105026245117, VisList length: 1\n",
      "Total time: 0.06583809852600098, VisList length: 1\n",
      "Total time: 0.07183980941772461, VisList length: 1\n",
      "Total time: 0.0659189224243164, VisList length: 1\n",
      "Total time: 0.06892204284667969, VisList length: 1\n",
      "Total time: 0.06966996192932129, VisList length: 1\n",
      "Total time: 0.06863188743591309, VisList length: 1\n",
      "Total time: 0.06783294677734375, VisList length: 1\n",
      "Total time: 0.07214474678039551, VisList length: 1\n",
      "Total time: 0.07416319847106934, VisList length: 1\n",
      "Total time: 0.06824016571044922, VisList length: 1\n",
      "Total time: 0.07004785537719727, VisList length: 1\n",
      "Total time: 0.06467485427856445, VisList length: 1\n",
      "Total time: 0.06406092643737793, VisList length: 1\n",
      "Total time: 0.07135820388793945, VisList length: 1\n",
      "Total time: 0.07429075241088867, VisList length: 1\n",
      "Total time: 0.06835579872131348, VisList length: 1\n",
      "Total time: 0.06689000129699707, VisList length: 1\n",
      "Total time: 0.06798577308654785, VisList length: 1\n",
      "Total time: 0.07369279861450195, VisList length: 1\n",
      "Total time: 0.07745909690856934, VisList length: 1\n",
      "Total time: 0.08736777305603027, VisList length: 1\n",
      "Total time: 0.07298684120178223, VisList length: 1\n",
      "Total time: 0.07108402252197266, VisList length: 1\n",
      "Total time: 0.06721305847167969, VisList length: 1\n",
      "Total time: 0.06991100311279297, VisList length: 1\n",
      "Total time: 0.07641983032226562, VisList length: 1\n",
      "Total time: 0.08570599555969238, VisList length: 1\n",
      "Total time: 0.06505966186523438, VisList length: 1\n",
      "Total time: 0.07280302047729492, VisList length: 1\n",
      "Total time: 0.0659637451171875, VisList length: 1\n",
      "Total time: 0.07264590263366699, VisList length: 1\n",
      "Total time: 0.06287002563476562, VisList length: 1\n",
      "Total time: 0.06692314147949219, VisList length: 1\n",
      "Total time: 0.06514096260070801, VisList length: 1\n",
      "Total time: 0.0688011646270752, VisList length: 1\n",
      "Total time: 0.06735014915466309, VisList length: 1\n",
      "Total time: 0.06610417366027832, VisList length: 1\n",
      "Total time: 0.0582427978515625, VisList length: 1\n",
      "Total time: 0.18396401405334473, VisList length: 1\n",
      "Total time: 0.14664912223815918, VisList length: 1\n",
      "Total time: 0.11477398872375488, VisList length: 1\n",
      "Total time: 0.1265261173248291, VisList length: 1\n",
      "Total time: 0.11696505546569824, VisList length: 1\n",
      "Total time: 0.09178996086120605, VisList length: 1\n",
      "Total time: 0.03466081619262695, VisList length: 1\n",
      "Total time: 0.10366082191467285, VisList length: 1\n",
      "Total time: 0.09790706634521484, VisList length: 1\n",
      "Total time: 0.028171062469482422, VisList length: 1\n",
      "Total time: 0.09384012222290039, VisList length: 1\n",
      "Total time: 0.04211115837097168, VisList length: 1\n",
      "Total time: 0.09815812110900879, VisList length: 1\n",
      "Total time: 0.027172088623046875, VisList length: 1\n",
      "Total time: 0.09484195709228516, VisList length: 1\n",
      "Total time: 0.09786391258239746, VisList length: 1\n",
      "Total time: 0.08696198463439941, VisList length: 1\n",
      "Total time: 0.09444808959960938, VisList length: 1\n",
      "Total time: 0.08920812606811523, VisList length: 1\n",
      "Total time: 0.09754300117492676, VisList length: 1\n",
      "Total time: 0.021641969680786133, VisList length: 1\n",
      "Total time: 0.08197927474975586, VisList length: 1\n",
      "Total time: 0.4112231731414795, VisList length: 1\n",
      "Total time: 0.12951397895812988, VisList length: 1\n",
      "Total time: 0.11336803436279297, VisList length: 1\n",
      "Total time: 0.01691293716430664, VisList length: 1\n",
      "Total time: 0.0129852294921875, VisList length: 1\n",
      "Total time: 0.0646209716796875, VisList length: 1\n",
      "Total time: 0.06806230545043945, VisList length: 1\n",
      "Total time: 0.2830851078033447, VisList length: 1\n",
      "Total time: 0.07354116439819336, VisList length: 1\n",
      "Total time: 0.00984811782836914, VisList length: 1\n",
      "Total time: 0.4124302864074707, VisList length: 1\n",
      "Total time: 0.08802914619445801, VisList length: 1\n",
      "Total time: 0.06966304779052734, VisList length: 1\n",
      "Total time: 0.008907079696655273, VisList length: 1\n",
      "Total time: 0.11373186111450195, VisList length: 1\n",
      "Total time: 0.010706901550292969, VisList length: 1\n",
      "Total time: 0.1074681282043457, VisList length: 1\n",
      "Total time: 0.006195783615112305, VisList length: 1\n",
      "Total time: 0.028851747512817383, VisList length: 1\n",
      "Total time: 0.09165501594543457, VisList length: 1\n",
      "Total time: 0.09426593780517578, VisList length: 1\n",
      "Total time: 0.06050896644592285, VisList length: 1\n",
      "Total time: 0.06183195114135742, VisList length: 1\n",
      "Total time: 0.004685163497924805, VisList length: 1\n",
      "Total time: 0.004100799560546875, VisList length: 1\n",
      "Total time: 0.06131601333618164, VisList length: 1\n",
      "Total time: 0.058122873306274414, VisList length: 1\n",
      "Total time: 0.0042858123779296875, VisList length: 1\n"
     ]
    },
    {
     "data": {
      "application/vnd.jupyter.widget-view+json": {
       "model_id": "dd714bec2cc44db9836461fb393fcf68",
       "version_major": 2,
       "version_minor": 0
      },
      "text/plain": [
       "Button(description='Toggle Pandas/Lux', layout=Layout(top='5px', width='140px'), style=ButtonStyle())"
      ]
     },
     "metadata": {},
     "output_type": "display_data"
    },
    {
     "data": {
      "application/vnd.jupyter.widget-view+json": {
       "model_id": "44465a3e4c1d4d4b812ab16ea0e1e4e0",
       "version_major": 2,
       "version_minor": 0
      },
      "text/plain": [
       "Output()"
      ]
     },
     "metadata": {},
     "output_type": "display_data"
    }
   ],
   "source": [
    "df"
   ]
  },
  {
   "cell_type": "code",
   "execution_count": null,
   "id": "25fa0ac1",
   "metadata": {},
   "outputs": [],
   "source": []
  }
 ],
 "metadata": {
  "kernelspec": {
   "display_name": "Python 3 (ipykernel)",
   "language": "python",
   "name": "python3"
  },
  "language_info": {
   "codemirror_mode": {
    "name": "ipython",
    "version": 3
   },
   "file_extension": ".py",
   "mimetype": "text/x-python",
   "name": "python",
   "nbconvert_exporter": "python",
   "pygments_lexer": "ipython3",
   "version": "3.9.7"
  }
 },
 "nbformat": 4,
 "nbformat_minor": 5
}
