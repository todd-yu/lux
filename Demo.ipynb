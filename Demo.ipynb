{
 "cells": [
  {
   "cell_type": "code",
   "execution_count": 1,
   "id": "591d2638",
   "metadata": {},
   "outputs": [],
   "source": [
    "import lux\n",
    "import pandas as pd"
   ]
  },
  {
   "cell_type": "code",
   "execution_count": 2,
   "id": "69a2ab52",
   "metadata": {},
   "outputs": [],
   "source": [
    "df = pd.read_csv(\"./data/AB_NYC_2019.csv\")"
   ]
  },
  {
   "cell_type": "code",
   "execution_count": 3,
   "id": "18b332f1",
   "metadata": {},
   "outputs": [
    {
     "name": "stderr",
     "output_type": "stream",
     "text": [
      "/var/folders/47/pkbzfss913v9nfftvqr_bclw0000gn/T/ipykernel_41923/1565487532.py:1: FutureWarning:The frame.append method is deprecated and will be removed from pandas in a future version. Use pandas.concat instead.\n"
     ]
    }
   ],
   "source": [
    "new_df = df.append([df]*10, ignore_index=True)"
   ]
  },
  {
   "cell_type": "code",
   "execution_count": 4,
   "id": "7bc20bc2",
   "metadata": {},
   "outputs": [],
   "source": [
    "new_df.shape\n",
    "new_df.to_csv(\"data/500k.csv\")"
   ]
  },
  {
   "cell_type": "code",
   "execution_count": null,
   "id": "a2ee7ab9",
   "metadata": {},
   "outputs": [],
   "source": [
    "df.columns"
   ]
  },
  {
   "cell_type": "code",
   "execution_count": 3,
   "id": "39b36393",
   "metadata": {
    "scrolled": false
   },
   "outputs": [
    {
     "name": "stderr",
     "output_type": "stream",
     "text": [
      "/Users/toddyu/BerkeleyCS/research/lux/lux/executor/PandasExecutor.py:448: UserWarning:\n",
      "Lux detects that the attribute 'last_review' may be temporal.\n",
      "To display visualizations for these attributes accurately, please convert temporal attributes to Datetime objects.\n",
      "For example, you can convert a Year attribute (e.g., 1998, 1971, 1982) using pd.to_datetime by specifying the `format` as '%Y'.\n",
      "\n",
      "Here is a starter template that you can use for converting the temporal fields:\n",
      "\tdf['last_review'] = pd.to_datetime(df['last_review'], format='<replace-with-datetime-format>')\n",
      "\n",
      "See more at: https://pandas.pydata.org/pandas-docs/stable/reference/api/pandas.to_datetime.html\n",
      "If last_review is not a temporal attribute, please use override Lux's automatically detected type:\n",
      "\tdf.set_data_type({'last_review':'quantitative'})\n",
      "/Users/toddyu/BerkeleyCS/research/lux/.venv/lib/python3.10/site-packages/altair/utils/core.py:317: FutureWarning:iteritems is deprecated and will be removed in a future version. Use .items instead.\n",
      "/Users/toddyu/BerkeleyCS/research/lux/.venv/lib/python3.10/site-packages/altair/utils/core.py:317: FutureWarning:iteritems is deprecated and will be removed in a future version. Use .items instead.\n",
      "/Users/toddyu/BerkeleyCS/research/lux/.venv/lib/python3.10/site-packages/altair/utils/core.py:317: FutureWarning:iteritems is deprecated and will be removed in a future version. Use .items instead.\n",
      "/Users/toddyu/BerkeleyCS/research/lux/.venv/lib/python3.10/site-packages/altair/utils/core.py:317: FutureWarning:iteritems is deprecated and will be removed in a future version. Use .items instead.\n",
      "/Users/toddyu/BerkeleyCS/research/lux/.venv/lib/python3.10/site-packages/altair/utils/core.py:317: FutureWarning:iteritems is deprecated and will be removed in a future version. Use .items instead.\n",
      "/Users/toddyu/BerkeleyCS/research/lux/.venv/lib/python3.10/site-packages/altair/utils/core.py:317: FutureWarning:iteritems is deprecated and will be removed in a future version. Use .items instead.\n",
      "/Users/toddyu/BerkeleyCS/research/lux/.venv/lib/python3.10/site-packages/altair/utils/core.py:317: FutureWarning:iteritems is deprecated and will be removed in a future version. Use .items instead.\n",
      "/Users/toddyu/BerkeleyCS/research/lux/.venv/lib/python3.10/site-packages/altair/utils/core.py:317: FutureWarning:iteritems is deprecated and will be removed in a future version. Use .items instead.\n",
      "/Users/toddyu/BerkeleyCS/research/lux/.venv/lib/python3.10/site-packages/altair/utils/core.py:317: FutureWarning:iteritems is deprecated and will be removed in a future version. Use .items instead.\n",
      "/Users/toddyu/BerkeleyCS/research/lux/.venv/lib/python3.10/site-packages/altair/utils/core.py:317: FutureWarning:iteritems is deprecated and will be removed in a future version. Use .items instead.\n",
      "/Users/toddyu/BerkeleyCS/research/lux/.venv/lib/python3.10/site-packages/altair/utils/core.py:317: FutureWarning:iteritems is deprecated and will be removed in a future version. Use .items instead.\n",
      "/Users/toddyu/BerkeleyCS/research/lux/.venv/lib/python3.10/site-packages/altair/utils/core.py:317: FutureWarning:iteritems is deprecated and will be removed in a future version. Use .items instead.\n",
      "/Users/toddyu/BerkeleyCS/research/lux/.venv/lib/python3.10/site-packages/altair/utils/core.py:317: FutureWarning:iteritems is deprecated and will be removed in a future version. Use .items instead.\n",
      "/Users/toddyu/BerkeleyCS/research/lux/.venv/lib/python3.10/site-packages/altair/utils/core.py:317: FutureWarning:iteritems is deprecated and will be removed in a future version. Use .items instead.\n",
      "/Users/toddyu/BerkeleyCS/research/lux/.venv/lib/python3.10/site-packages/altair/utils/core.py:317: FutureWarning:iteritems is deprecated and will be removed in a future version. Use .items instead.\n",
      "/Users/toddyu/BerkeleyCS/research/lux/.venv/lib/python3.10/site-packages/altair/utils/core.py:317: FutureWarning:iteritems is deprecated and will be removed in a future version. Use .items instead.\n",
      "/Users/toddyu/BerkeleyCS/research/lux/.venv/lib/python3.10/site-packages/altair/utils/core.py:317: FutureWarning:iteritems is deprecated and will be removed in a future version. Use .items instead.\n",
      "/Users/toddyu/BerkeleyCS/research/lux/.venv/lib/python3.10/site-packages/altair/utils/core.py:317: FutureWarning:iteritems is deprecated and will be removed in a future version. Use .items instead.\n",
      "/Users/toddyu/BerkeleyCS/research/lux/.venv/lib/python3.10/site-packages/altair/utils/core.py:317: FutureWarning:iteritems is deprecated and will be removed in a future version. Use .items instead.\n",
      "/Users/toddyu/BerkeleyCS/research/lux/.venv/lib/python3.10/site-packages/altair/utils/core.py:317: FutureWarning:iteritems is deprecated and will be removed in a future version. Use .items instead.\n",
      "/Users/toddyu/BerkeleyCS/research/lux/.venv/lib/python3.10/site-packages/altair/utils/core.py:317: FutureWarning:iteritems is deprecated and will be removed in a future version. Use .items instead.\n",
      "/Users/toddyu/BerkeleyCS/research/lux/.venv/lib/python3.10/site-packages/altair/utils/core.py:317: FutureWarning:iteritems is deprecated and will be removed in a future version. Use .items instead.\n",
      "/Users/toddyu/BerkeleyCS/research/lux/.venv/lib/python3.10/site-packages/altair/utils/core.py:317: FutureWarning:iteritems is deprecated and will be removed in a future version. Use .items instead.\n",
      "/Users/toddyu/BerkeleyCS/research/lux/.venv/lib/python3.10/site-packages/altair/utils/core.py:317: FutureWarning:iteritems is deprecated and will be removed in a future version. Use .items instead.\n",
      "/Users/toddyu/BerkeleyCS/research/lux/.venv/lib/python3.10/site-packages/altair/utils/core.py:317: FutureWarning:iteritems is deprecated and will be removed in a future version. Use .items instead.\n",
      "/Users/toddyu/BerkeleyCS/research/lux/.venv/lib/python3.10/site-packages/altair/utils/core.py:317: FutureWarning:iteritems is deprecated and will be removed in a future version. Use .items instead.\n",
      "/Users/toddyu/BerkeleyCS/research/lux/.venv/lib/python3.10/site-packages/altair/utils/core.py:317: FutureWarning:iteritems is deprecated and will be removed in a future version. Use .items instead.\n",
      "/Users/toddyu/BerkeleyCS/research/lux/.venv/lib/python3.10/site-packages/altair/utils/core.py:317: FutureWarning:iteritems is deprecated and will be removed in a future version. Use .items instead.\n",
      "/Users/toddyu/BerkeleyCS/research/lux/.venv/lib/python3.10/site-packages/altair/utils/core.py:317: FutureWarning:iteritems is deprecated and will be removed in a future version. Use .items instead.\n",
      "/Users/toddyu/BerkeleyCS/research/lux/.venv/lib/python3.10/site-packages/altair/utils/core.py:317: FutureWarning:iteritems is deprecated and will be removed in a future version. Use .items instead.\n",
      "/Users/toddyu/BerkeleyCS/research/lux/.venv/lib/python3.10/site-packages/altair/utils/core.py:317: FutureWarning:iteritems is deprecated and will be removed in a future version. Use .items instead.\n",
      "/Users/toddyu/BerkeleyCS/research/lux/.venv/lib/python3.10/site-packages/altair/utils/core.py:317: FutureWarning:iteritems is deprecated and will be removed in a future version. Use .items instead.\n",
      "/Users/toddyu/BerkeleyCS/research/lux/.venv/lib/python3.10/site-packages/altair/utils/core.py:317: FutureWarning:iteritems is deprecated and will be removed in a future version. Use .items instead.\n",
      "/Users/toddyu/BerkeleyCS/research/lux/.venv/lib/python3.10/site-packages/altair/utils/core.py:317: FutureWarning:iteritems is deprecated and will be removed in a future version. Use .items instead.\n",
      "/Users/toddyu/BerkeleyCS/research/lux/.venv/lib/python3.10/site-packages/altair/utils/core.py:317: FutureWarning:iteritems is deprecated and will be removed in a future version. Use .items instead.\n"
     ]
    },
    {
     "data": {
      "application/vnd.jupyter.widget-view+json": {
       "model_id": "93ad9edd43974080a9a28bc00130256e",
       "version_major": 2,
       "version_minor": 0
      },
      "text/plain": [
       "Button(description='Toggle Pandas/Lux', layout=Layout(top='5px', width='140px'), style=ButtonStyle())"
      ]
     },
     "metadata": {},
     "output_type": "display_data"
    },
    {
     "data": {
      "application/vnd.jupyter.widget-view+json": {
       "model_id": "240b78ecd6f143f2824631219495b11f",
       "version_major": 2,
       "version_minor": 0
      },
      "text/plain": [
       "Output()"
      ]
     },
     "metadata": {},
     "output_type": "display_data"
    }
   ],
   "source": [
    "df"
   ]
  },
  {
   "cell_type": "code",
   "execution_count": null,
   "id": "dfd96b12",
   "metadata": {},
   "outputs": [],
   "source": [
    "df"
   ]
  },
  {
   "cell_type": "code",
   "execution_count": null,
   "id": "a379e6c9",
   "metadata": {},
   "outputs": [],
   "source": [
    "df.fillna(0) "
   ]
  },
  {
   "cell_type": "code",
   "execution_count": null,
   "id": "3512bc01",
   "metadata": {},
   "outputs": [],
   "source": [
    "df"
   ]
  },
  {
   "cell_type": "code",
   "execution_count": null,
   "id": "d8f16ab1",
   "metadata": {},
   "outputs": [],
   "source": [
    "df.drop(columns=[\"name\"], inplace=True)"
   ]
  },
  {
   "cell_type": "code",
   "execution_count": null,
   "id": "cef993e7",
   "metadata": {},
   "outputs": [],
   "source": [
    "df"
   ]
  },
  {
   "cell_type": "code",
   "execution_count": null,
   "id": "54fc561a",
   "metadata": {},
   "outputs": [],
   "source": [
    "df"
   ]
  },
  {
   "cell_type": "code",
   "execution_count": null,
   "id": "5f0d1273",
   "metadata": {},
   "outputs": [],
   "source": [
    "df[\"id\"] = df[\"id\"].apply(lambda x: x + 2)"
   ]
  },
  {
   "cell_type": "code",
   "execution_count": null,
   "id": "e676c635",
   "metadata": {},
   "outputs": [],
   "source": [
    "df"
   ]
  },
  {
   "cell_type": "code",
   "execution_count": null,
   "id": "ddd3682b",
   "metadata": {},
   "outputs": [],
   "source": [
    "df"
   ]
  },
  {
   "cell_type": "code",
   "execution_count": null,
   "id": "8127f657",
   "metadata": {},
   "outputs": [],
   "source": [
    "df[\"host_name\"] = df[\"host_name\"].str.strip()"
   ]
  },
  {
   "cell_type": "code",
   "execution_count": null,
   "id": "a6bae84c",
   "metadata": {},
   "outputs": [],
   "source": [
    "df"
   ]
  },
  {
   "cell_type": "code",
   "execution_count": null,
   "id": "fdb5079d",
   "metadata": {},
   "outputs": [],
   "source": [
    "df.drop(1, inplace=True)"
   ]
  },
  {
   "cell_type": "code",
   "execution_count": null,
   "id": "4728abd4",
   "metadata": {},
   "outputs": [],
   "source": [
    "df.at[0,\"price\"] = 400"
   ]
  },
  {
   "cell_type": "code",
   "execution_count": null,
   "id": "491f2259",
   "metadata": {},
   "outputs": [],
   "source": [
    "df"
   ]
  },
  {
   "cell_type": "code",
   "execution_count": null,
   "id": "7ad9f26c",
   "metadata": {},
   "outputs": [],
   "source": []
  }
 ],
 "metadata": {
  "kernelspec": {
   "display_name": "Python 3.10.2 ('.venv': venv)",
   "language": "python",
   "name": "python3"
  },
  "language_info": {
   "codemirror_mode": {
    "name": "ipython",
    "version": 3
   },
   "file_extension": ".py",
   "mimetype": "text/x-python",
   "name": "python",
   "nbconvert_exporter": "python",
   "pygments_lexer": "ipython3",
   "version": "3.10.2"
  },
  "vscode": {
   "interpreter": {
    "hash": "9abf464567954982e450a8057f2783f5d9aaaa1dee92366b63610895533426a1"
   }
  }
 },
 "nbformat": 4,
 "nbformat_minor": 5
}
