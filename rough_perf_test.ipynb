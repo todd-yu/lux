{
 "cells": [
  {
   "cell_type": "code",
   "execution_count": 1,
   "id": "23af8822",
   "metadata": {},
   "outputs": [],
   "source": [
    "import lux\n",
    "import pandas as pd\n",
    "import numpy as np\n",
    "import time"
   ]
  },
  {
   "cell_type": "code",
   "execution_count": 2,
   "id": "4c6e02c0",
   "metadata": {},
   "outputs": [],
   "source": [
    "lux.config.sampling_cap = 1000000000\n",
    "lux.config.sampling_start = 10000000\n",
    "lux.config.sampling = False\n",
    "lux.config.topk = 50 # Important as otherwise pandas executor is bypassed\n",
    "\n",
    "# Lux has a lot of deprecation warnings\n",
    "import warnings\n",
    "#warnings.filterwarnings('ignore')"
   ]
  },
  {
   "cell_type": "code",
   "execution_count": 3,
   "id": "1f707934",
   "metadata": {},
   "outputs": [],
   "source": [
    "df = pd.read_csv(\"/Users/rithvik/Downloads/500k.csv\")\n"
   ]
  },
  {
   "cell_type": "code",
   "execution_count": 4,
   "id": "c430fa43",
   "metadata": {
    "scrolled": true
   },
   "outputs": [
    {
     "name": "stderr",
     "output_type": "stream",
     "text": [
      "/Users/rithvik/dev/cs262/lux/lux/executor/PandasExecutor.py:561: UserWarning:\n",
      "Lux detects that the attribute 'last_review' may be temporal.\n",
      "To display visualizations for these attributes accurately, please convert temporal attributes to Datetime objects.\n",
      "For example, you can convert a Year attribute (e.g., 1998, 1971, 1982) using pd.to_datetime by specifying the `format` as '%Y'.\n",
      "\n",
      "Here is a starter template that you can use for converting the temporal fields:\n",
      "\tdf['last_review'] = pd.to_datetime(df['last_review'], format='<replace-with-datetime-format>')\n",
      "\n",
      "See more at: https://pandas.pydata.org/pandas-docs/stable/reference/api/pandas.to_datetime.html\n",
      "If last_review is not a temporal attribute, please use override Lux's automatically detected type:\n",
      "\tdf.set_data_type({'last_review':'quantitative'})\n",
      "/Users/rithvik/dev/cs262/lux/.venv_new/lib/python3.11/site-packages/altair/utils/core.py:317: FutureWarning:iteritems is deprecated and will be removed in a future version. Use .items instead.\n",
      "/Users/rithvik/dev/cs262/lux/.venv_new/lib/python3.11/site-packages/altair/utils/core.py:317: FutureWarning:iteritems is deprecated and will be removed in a future version. Use .items instead.\n",
      "/Users/rithvik/dev/cs262/lux/.venv_new/lib/python3.11/site-packages/altair/utils/core.py:317: FutureWarning:iteritems is deprecated and will be removed in a future version. Use .items instead.\n",
      "/Users/rithvik/dev/cs262/lux/.venv_new/lib/python3.11/site-packages/altair/utils/core.py:317: FutureWarning:iteritems is deprecated and will be removed in a future version. Use .items instead.\n",
      "/Users/rithvik/dev/cs262/lux/.venv_new/lib/python3.11/site-packages/altair/utils/core.py:317: FutureWarning:iteritems is deprecated and will be removed in a future version. Use .items instead.\n",
      "/Users/rithvik/dev/cs262/lux/.venv_new/lib/python3.11/site-packages/altair/utils/core.py:317: FutureWarning:iteritems is deprecated and will be removed in a future version. Use .items instead.\n",
      "/Users/rithvik/dev/cs262/lux/.venv_new/lib/python3.11/site-packages/altair/utils/core.py:317: FutureWarning:iteritems is deprecated and will be removed in a future version. Use .items instead.\n",
      "/Users/rithvik/dev/cs262/lux/.venv_new/lib/python3.11/site-packages/altair/utils/core.py:317: FutureWarning:iteritems is deprecated and will be removed in a future version. Use .items instead.\n",
      "/Users/rithvik/dev/cs262/lux/.venv_new/lib/python3.11/site-packages/altair/utils/core.py:317: FutureWarning:iteritems is deprecated and will be removed in a future version. Use .items instead.\n",
      "/Users/rithvik/dev/cs262/lux/.venv_new/lib/python3.11/site-packages/altair/utils/core.py:317: FutureWarning:iteritems is deprecated and will be removed in a future version. Use .items instead.\n",
      "/Users/rithvik/dev/cs262/lux/.venv_new/lib/python3.11/site-packages/altair/utils/core.py:317: FutureWarning:iteritems is deprecated and will be removed in a future version. Use .items instead.\n",
      "/Users/rithvik/dev/cs262/lux/.venv_new/lib/python3.11/site-packages/altair/utils/core.py:317: FutureWarning:iteritems is deprecated and will be removed in a future version. Use .items instead.\n",
      "/Users/rithvik/dev/cs262/lux/.venv_new/lib/python3.11/site-packages/altair/utils/core.py:317: FutureWarning:iteritems is deprecated and will be removed in a future version. Use .items instead.\n",
      "/Users/rithvik/dev/cs262/lux/.venv_new/lib/python3.11/site-packages/altair/utils/core.py:317: FutureWarning:iteritems is deprecated and will be removed in a future version. Use .items instead.\n",
      "/Users/rithvik/dev/cs262/lux/.venv_new/lib/python3.11/site-packages/altair/utils/core.py:317: FutureWarning:iteritems is deprecated and will be removed in a future version. Use .items instead.\n",
      "/Users/rithvik/dev/cs262/lux/.venv_new/lib/python3.11/site-packages/altair/utils/core.py:317: FutureWarning:iteritems is deprecated and will be removed in a future version. Use .items instead.\n",
      "/Users/rithvik/dev/cs262/lux/.venv_new/lib/python3.11/site-packages/altair/utils/core.py:317: FutureWarning:iteritems is deprecated and will be removed in a future version. Use .items instead.\n",
      "/Users/rithvik/dev/cs262/lux/.venv_new/lib/python3.11/site-packages/altair/utils/core.py:317: FutureWarning:iteritems is deprecated and will be removed in a future version. Use .items instead.\n",
      "/Users/rithvik/dev/cs262/lux/.venv_new/lib/python3.11/site-packages/altair/utils/core.py:317: FutureWarning:iteritems is deprecated and will be removed in a future version. Use .items instead.\n",
      "/Users/rithvik/dev/cs262/lux/.venv_new/lib/python3.11/site-packages/altair/utils/core.py:317: FutureWarning:iteritems is deprecated and will be removed in a future version. Use .items instead.\n",
      "/Users/rithvik/dev/cs262/lux/.venv_new/lib/python3.11/site-packages/altair/utils/core.py:317: FutureWarning:iteritems is deprecated and will be removed in a future version. Use .items instead.\n",
      "/Users/rithvik/dev/cs262/lux/.venv_new/lib/python3.11/site-packages/altair/utils/core.py:317: FutureWarning:iteritems is deprecated and will be removed in a future version. Use .items instead.\n",
      "/Users/rithvik/dev/cs262/lux/.venv_new/lib/python3.11/site-packages/altair/utils/core.py:317: FutureWarning:iteritems is deprecated and will be removed in a future version. Use .items instead.\n",
      "/Users/rithvik/dev/cs262/lux/.venv_new/lib/python3.11/site-packages/altair/utils/core.py:317: FutureWarning:iteritems is deprecated and will be removed in a future version. Use .items instead.\n",
      "/Users/rithvik/dev/cs262/lux/.venv_new/lib/python3.11/site-packages/altair/utils/core.py:317: FutureWarning:iteritems is deprecated and will be removed in a future version. Use .items instead.\n",
      "/Users/rithvik/dev/cs262/lux/.venv_new/lib/python3.11/site-packages/altair/utils/core.py:317: FutureWarning:iteritems is deprecated and will be removed in a future version. Use .items instead.\n",
      "/Users/rithvik/dev/cs262/lux/.venv_new/lib/python3.11/site-packages/altair/utils/core.py:317: FutureWarning:iteritems is deprecated and will be removed in a future version. Use .items instead.\n",
      "/Users/rithvik/dev/cs262/lux/.venv_new/lib/python3.11/site-packages/altair/utils/core.py:317: FutureWarning:iteritems is deprecated and will be removed in a future version. Use .items instead.\n",
      "/Users/rithvik/dev/cs262/lux/.venv_new/lib/python3.11/site-packages/altair/utils/core.py:317: FutureWarning:iteritems is deprecated and will be removed in a future version. Use .items instead.\n",
      "/Users/rithvik/dev/cs262/lux/.venv_new/lib/python3.11/site-packages/altair/utils/core.py:317: FutureWarning:iteritems is deprecated and will be removed in a future version. Use .items instead.\n",
      "/Users/rithvik/dev/cs262/lux/.venv_new/lib/python3.11/site-packages/altair/utils/core.py:317: FutureWarning:iteritems is deprecated and will be removed in a future version. Use .items instead.\n",
      "/Users/rithvik/dev/cs262/lux/.venv_new/lib/python3.11/site-packages/altair/utils/core.py:317: FutureWarning:iteritems is deprecated and will be removed in a future version. Use .items instead.\n",
      "/Users/rithvik/dev/cs262/lux/.venv_new/lib/python3.11/site-packages/altair/utils/core.py:317: FutureWarning:iteritems is deprecated and will be removed in a future version. Use .items instead.\n",
      "/Users/rithvik/dev/cs262/lux/.venv_new/lib/python3.11/site-packages/altair/utils/core.py:317: FutureWarning:iteritems is deprecated and will be removed in a future version. Use .items instead.\n",
      "/Users/rithvik/dev/cs262/lux/.venv_new/lib/python3.11/site-packages/altair/utils/core.py:317: FutureWarning:iteritems is deprecated and will be removed in a future version. Use .items instead.\n",
      "/Users/rithvik/dev/cs262/lux/.venv_new/lib/python3.11/site-packages/altair/utils/core.py:317: FutureWarning:iteritems is deprecated and will be removed in a future version. Use .items instead.\n",
      "/Users/rithvik/dev/cs262/lux/.venv_new/lib/python3.11/site-packages/altair/utils/core.py:317: FutureWarning:iteritems is deprecated and will be removed in a future version. Use .items instead.\n",
      "/Users/rithvik/dev/cs262/lux/.venv_new/lib/python3.11/site-packages/altair/utils/core.py:317: FutureWarning:iteritems is deprecated and will be removed in a future version. Use .items instead.\n",
      "/Users/rithvik/dev/cs262/lux/.venv_new/lib/python3.11/site-packages/altair/utils/core.py:317: FutureWarning:iteritems is deprecated and will be removed in a future version. Use .items instead.\n"
     ]
    },
    {
     "name": "stderr",
     "output_type": "stream",
     "text": [
      "/Users/rithvik/dev/cs262/lux/.venv_new/lib/python3.11/site-packages/altair/utils/core.py:317: FutureWarning:iteritems is deprecated and will be removed in a future version. Use .items instead.\n",
      "/Users/rithvik/dev/cs262/lux/.venv_new/lib/python3.11/site-packages/altair/utils/core.py:317: FutureWarning:iteritems is deprecated and will be removed in a future version. Use .items instead.\n",
      "/Users/rithvik/dev/cs262/lux/.venv_new/lib/python3.11/site-packages/altair/utils/core.py:317: FutureWarning:iteritems is deprecated and will be removed in a future version. Use .items instead.\n",
      "/Users/rithvik/dev/cs262/lux/.venv_new/lib/python3.11/site-packages/altair/utils/core.py:317: FutureWarning:iteritems is deprecated and will be removed in a future version. Use .items instead.\n",
      "/Users/rithvik/dev/cs262/lux/.venv_new/lib/python3.11/site-packages/altair/utils/core.py:317: FutureWarning:iteritems is deprecated and will be removed in a future version. Use .items instead.\n",
      "/Users/rithvik/dev/cs262/lux/.venv_new/lib/python3.11/site-packages/altair/utils/core.py:317: FutureWarning:iteritems is deprecated and will be removed in a future version. Use .items instead.\n",
      "/Users/rithvik/dev/cs262/lux/.venv_new/lib/python3.11/site-packages/altair/utils/core.py:317: FutureWarning:iteritems is deprecated and will be removed in a future version. Use .items instead.\n",
      "/Users/rithvik/dev/cs262/lux/.venv_new/lib/python3.11/site-packages/altair/utils/core.py:317: FutureWarning:iteritems is deprecated and will be removed in a future version. Use .items instead.\n",
      "/Users/rithvik/dev/cs262/lux/.venv_new/lib/python3.11/site-packages/altair/utils/core.py:317: FutureWarning:iteritems is deprecated and will be removed in a future version. Use .items instead.\n",
      "/Users/rithvik/dev/cs262/lux/.venv_new/lib/python3.11/site-packages/altair/utils/core.py:317: FutureWarning:iteritems is deprecated and will be removed in a future version. Use .items instead.\n",
      "/Users/rithvik/dev/cs262/lux/.venv_new/lib/python3.11/site-packages/altair/utils/core.py:317: FutureWarning:iteritems is deprecated and will be removed in a future version. Use .items instead.\n",
      "/Users/rithvik/dev/cs262/lux/.venv_new/lib/python3.11/site-packages/altair/utils/core.py:317: FutureWarning:iteritems is deprecated and will be removed in a future version. Use .items instead.\n",
      "/Users/rithvik/dev/cs262/lux/.venv_new/lib/python3.11/site-packages/altair/utils/core.py:317: FutureWarning:iteritems is deprecated and will be removed in a future version. Use .items instead.\n",
      "/Users/rithvik/dev/cs262/lux/.venv_new/lib/python3.11/site-packages/altair/utils/core.py:317: FutureWarning:iteritems is deprecated and will be removed in a future version. Use .items instead.\n",
      "/Users/rithvik/dev/cs262/lux/.venv_new/lib/python3.11/site-packages/altair/utils/core.py:317: FutureWarning:iteritems is deprecated and will be removed in a future version. Use .items instead.\n",
      "/Users/rithvik/dev/cs262/lux/.venv_new/lib/python3.11/site-packages/altair/utils/core.py:317: FutureWarning:iteritems is deprecated and will be removed in a future version. Use .items instead.\n",
      "/Users/rithvik/dev/cs262/lux/.venv_new/lib/python3.11/site-packages/altair/utils/core.py:317: FutureWarning:iteritems is deprecated and will be removed in a future version. Use .items instead.\n",
      "/Users/rithvik/dev/cs262/lux/.venv_new/lib/python3.11/site-packages/altair/utils/core.py:317: FutureWarning:iteritems is deprecated and will be removed in a future version. Use .items instead.\n",
      "/Users/rithvik/dev/cs262/lux/.venv_new/lib/python3.11/site-packages/altair/utils/core.py:317: FutureWarning:iteritems is deprecated and will be removed in a future version. Use .items instead.\n",
      "/Users/rithvik/dev/cs262/lux/.venv_new/lib/python3.11/site-packages/altair/utils/core.py:317: FutureWarning:iteritems is deprecated and will be removed in a future version. Use .items instead.\n",
      "/Users/rithvik/dev/cs262/lux/.venv_new/lib/python3.11/site-packages/altair/utils/core.py:317: FutureWarning:iteritems is deprecated and will be removed in a future version. Use .items instead.\n",
      "/Users/rithvik/dev/cs262/lux/.venv_new/lib/python3.11/site-packages/altair/utils/core.py:317: FutureWarning:iteritems is deprecated and will be removed in a future version. Use .items instead.\n",
      "/Users/rithvik/dev/cs262/lux/.venv_new/lib/python3.11/site-packages/altair/utils/core.py:317: FutureWarning:iteritems is deprecated and will be removed in a future version. Use .items instead.\n",
      "/Users/rithvik/dev/cs262/lux/.venv_new/lib/python3.11/site-packages/altair/utils/core.py:317: FutureWarning:iteritems is deprecated and will be removed in a future version. Use .items instead.\n",
      "/Users/rithvik/dev/cs262/lux/.venv_new/lib/python3.11/site-packages/altair/utils/core.py:317: FutureWarning:iteritems is deprecated and will be removed in a future version. Use .items instead.\n",
      "/Users/rithvik/dev/cs262/lux/.venv_new/lib/python3.11/site-packages/altair/utils/core.py:317: FutureWarning:iteritems is deprecated and will be removed in a future version. Use .items instead.\n",
      "/Users/rithvik/dev/cs262/lux/.venv_new/lib/python3.11/site-packages/altair/utils/core.py:317: FutureWarning:iteritems is deprecated and will be removed in a future version. Use .items instead.\n",
      "/Users/rithvik/dev/cs262/lux/.venv_new/lib/python3.11/site-packages/altair/utils/core.py:317: FutureWarning:iteritems is deprecated and will be removed in a future version. Use .items instead.\n",
      "/Users/rithvik/dev/cs262/lux/.venv_new/lib/python3.11/site-packages/altair/utils/core.py:317: FutureWarning:iteritems is deprecated and will be removed in a future version. Use .items instead.\n",
      "/Users/rithvik/dev/cs262/lux/.venv_new/lib/python3.11/site-packages/altair/utils/core.py:317: FutureWarning:iteritems is deprecated and will be removed in a future version. Use .items instead.\n",
      "/Users/rithvik/dev/cs262/lux/.venv_new/lib/python3.11/site-packages/altair/utils/core.py:317: FutureWarning:iteritems is deprecated and will be removed in a future version. Use .items instead.\n",
      "/Users/rithvik/dev/cs262/lux/.venv_new/lib/python3.11/site-packages/altair/utils/core.py:317: FutureWarning:iteritems is deprecated and will be removed in a future version. Use .items instead.\n",
      "/Users/rithvik/dev/cs262/lux/.venv_new/lib/python3.11/site-packages/altair/utils/core.py:317: FutureWarning:iteritems is deprecated and will be removed in a future version. Use .items instead.\n"
     ]
    },
    {
     "data": {
      "application/vnd.jupyter.widget-view+json": {
       "model_id": "9f21fc995c27487b8c46857c0a27e927",
       "version_major": 2,
       "version_minor": 0
      },
      "text/plain": [
       "Button(description='Toggle Pandas/Lux', layout=Layout(top='5px', width='140px'), style=ButtonStyle())"
      ]
     },
     "metadata": {},
     "output_type": "display_data"
    },
    {
     "data": {
      "application/vnd.jupyter.widget-view+json": {
       "model_id": "85ab4a68b4aa4dd1ba51141309f09f7e",
       "version_major": 2,
       "version_minor": 0
      },
      "text/plain": [
       "Output()"
      ]
     },
     "metadata": {},
     "output_type": "display_data"
    }
   ],
   "source": [
    "start_time = time.time()\n",
    "df"
   ]
  },
  {
   "cell_type": "code",
   "execution_count": 5,
   "id": "df71de7a",
   "metadata": {},
   "outputs": [
    {
     "name": "stdout",
     "output_type": "stream",
     "text": [
      "14.906798124313354\n"
     ]
    }
   ],
   "source": [
    "print(time.time() - start_time)\n",
    "df.expire_recs()\n",
    "df.expire_metadata()"
   ]
  },
  {
   "cell_type": "code",
   "execution_count": null,
   "id": "717cb059",
   "metadata": {
    "scrolled": true
   },
   "outputs": [
    {
     "name": "stderr",
     "output_type": "stream",
     "text": [
      "/Users/rithvik/dev/cs262/lux/lux/executor/PandasExecutor.py:561: UserWarning:\n",
      "Lux detects that the attribute 'last_review' may be temporal.\n",
      "To display visualizations for these attributes accurately, please convert temporal attributes to Datetime objects.\n",
      "For example, you can convert a Year attribute (e.g., 1998, 1971, 1982) using pd.to_datetime by specifying the `format` as '%Y'.\n",
      "\n",
      "Here is a starter template that you can use for converting the temporal fields:\n",
      "\tdf['last_review'] = pd.to_datetime(df['last_review'], format='<replace-with-datetime-format>')\n",
      "\n",
      "See more at: https://pandas.pydata.org/pandas-docs/stable/reference/api/pandas.to_datetime.html\n",
      "If last_review is not a temporal attribute, please use override Lux's automatically detected type:\n",
      "\tdf.set_data_type({'last_review':'quantitative'})\n",
      "/Users/rithvik/dev/cs262/lux/.venv_new/lib/python3.11/site-packages/altair/utils/core.py:317: FutureWarning:iteritems is deprecated and will be removed in a future version. Use .items instead.\n",
      "/Users/rithvik/dev/cs262/lux/.venv_new/lib/python3.11/site-packages/altair/utils/core.py:317: FutureWarning:iteritems is deprecated and will be removed in a future version. Use .items instead.\n",
      "/Users/rithvik/dev/cs262/lux/.venv_new/lib/python3.11/site-packages/altair/utils/core.py:317: FutureWarning:iteritems is deprecated and will be removed in a future version. Use .items instead.\n",
      "/Users/rithvik/dev/cs262/lux/.venv_new/lib/python3.11/site-packages/altair/utils/core.py:317: FutureWarning:iteritems is deprecated and will be removed in a future version. Use .items instead.\n",
      "/Users/rithvik/dev/cs262/lux/.venv_new/lib/python3.11/site-packages/altair/utils/core.py:317: FutureWarning:iteritems is deprecated and will be removed in a future version. Use .items instead.\n",
      "/Users/rithvik/dev/cs262/lux/.venv_new/lib/python3.11/site-packages/altair/utils/core.py:317: FutureWarning:iteritems is deprecated and will be removed in a future version. Use .items instead.\n",
      "/Users/rithvik/dev/cs262/lux/.venv_new/lib/python3.11/site-packages/altair/utils/core.py:317: FutureWarning:iteritems is deprecated and will be removed in a future version. Use .items instead.\n",
      "/Users/rithvik/dev/cs262/lux/.venv_new/lib/python3.11/site-packages/altair/utils/core.py:317: FutureWarning:iteritems is deprecated and will be removed in a future version. Use .items instead.\n",
      "/Users/rithvik/dev/cs262/lux/.venv_new/lib/python3.11/site-packages/altair/utils/core.py:317: FutureWarning:iteritems is deprecated and will be removed in a future version. Use .items instead.\n",
      "/Users/rithvik/dev/cs262/lux/.venv_new/lib/python3.11/site-packages/altair/utils/core.py:317: FutureWarning:iteritems is deprecated and will be removed in a future version. Use .items instead.\n",
      "/Users/rithvik/dev/cs262/lux/.venv_new/lib/python3.11/site-packages/altair/utils/core.py:317: FutureWarning:iteritems is deprecated and will be removed in a future version. Use .items instead.\n",
      "/Users/rithvik/dev/cs262/lux/.venv_new/lib/python3.11/site-packages/altair/utils/core.py:317: FutureWarning:iteritems is deprecated and will be removed in a future version. Use .items instead.\n",
      "/Users/rithvik/dev/cs262/lux/.venv_new/lib/python3.11/site-packages/altair/utils/core.py:317: FutureWarning:iteritems is deprecated and will be removed in a future version. Use .items instead.\n",
      "/Users/rithvik/dev/cs262/lux/.venv_new/lib/python3.11/site-packages/altair/utils/core.py:317: FutureWarning:iteritems is deprecated and will be removed in a future version. Use .items instead.\n",
      "/Users/rithvik/dev/cs262/lux/.venv_new/lib/python3.11/site-packages/altair/utils/core.py:317: FutureWarning:iteritems is deprecated and will be removed in a future version. Use .items instead.\n",
      "/Users/rithvik/dev/cs262/lux/.venv_new/lib/python3.11/site-packages/altair/utils/core.py:317: FutureWarning:iteritems is deprecated and will be removed in a future version. Use .items instead.\n",
      "/Users/rithvik/dev/cs262/lux/.venv_new/lib/python3.11/site-packages/altair/utils/core.py:317: FutureWarning:iteritems is deprecated and will be removed in a future version. Use .items instead.\n",
      "/Users/rithvik/dev/cs262/lux/.venv_new/lib/python3.11/site-packages/altair/utils/core.py:317: FutureWarning:iteritems is deprecated and will be removed in a future version. Use .items instead.\n",
      "/Users/rithvik/dev/cs262/lux/.venv_new/lib/python3.11/site-packages/altair/utils/core.py:317: FutureWarning:iteritems is deprecated and will be removed in a future version. Use .items instead.\n",
      "/Users/rithvik/dev/cs262/lux/.venv_new/lib/python3.11/site-packages/altair/utils/core.py:317: FutureWarning:iteritems is deprecated and will be removed in a future version. Use .items instead.\n",
      "/Users/rithvik/dev/cs262/lux/.venv_new/lib/python3.11/site-packages/altair/utils/core.py:317: FutureWarning:iteritems is deprecated and will be removed in a future version. Use .items instead.\n",
      "/Users/rithvik/dev/cs262/lux/.venv_new/lib/python3.11/site-packages/altair/utils/core.py:317: FutureWarning:iteritems is deprecated and will be removed in a future version. Use .items instead.\n",
      "/Users/rithvik/dev/cs262/lux/.venv_new/lib/python3.11/site-packages/altair/utils/core.py:317: FutureWarning:iteritems is deprecated and will be removed in a future version. Use .items instead.\n",
      "/Users/rithvik/dev/cs262/lux/.venv_new/lib/python3.11/site-packages/altair/utils/core.py:317: FutureWarning:iteritems is deprecated and will be removed in a future version. Use .items instead.\n",
      "/Users/rithvik/dev/cs262/lux/.venv_new/lib/python3.11/site-packages/altair/utils/core.py:317: FutureWarning:iteritems is deprecated and will be removed in a future version. Use .items instead.\n",
      "/Users/rithvik/dev/cs262/lux/.venv_new/lib/python3.11/site-packages/altair/utils/core.py:317: FutureWarning:iteritems is deprecated and will be removed in a future version. Use .items instead.\n",
      "/Users/rithvik/dev/cs262/lux/.venv_new/lib/python3.11/site-packages/altair/utils/core.py:317: FutureWarning:iteritems is deprecated and will be removed in a future version. Use .items instead.\n",
      "/Users/rithvik/dev/cs262/lux/.venv_new/lib/python3.11/site-packages/altair/utils/core.py:317: FutureWarning:iteritems is deprecated and will be removed in a future version. Use .items instead.\n",
      "/Users/rithvik/dev/cs262/lux/.venv_new/lib/python3.11/site-packages/altair/utils/core.py:317: FutureWarning:iteritems is deprecated and will be removed in a future version. Use .items instead.\n",
      "/Users/rithvik/dev/cs262/lux/.venv_new/lib/python3.11/site-packages/altair/utils/core.py:317: FutureWarning:iteritems is deprecated and will be removed in a future version. Use .items instead.\n",
      "/Users/rithvik/dev/cs262/lux/.venv_new/lib/python3.11/site-packages/altair/utils/core.py:317: FutureWarning:iteritems is deprecated and will be removed in a future version. Use .items instead.\n",
      "/Users/rithvik/dev/cs262/lux/.venv_new/lib/python3.11/site-packages/altair/utils/core.py:317: FutureWarning:iteritems is deprecated and will be removed in a future version. Use .items instead.\n",
      "/Users/rithvik/dev/cs262/lux/.venv_new/lib/python3.11/site-packages/altair/utils/core.py:317: FutureWarning:iteritems is deprecated and will be removed in a future version. Use .items instead.\n",
      "/Users/rithvik/dev/cs262/lux/.venv_new/lib/python3.11/site-packages/altair/utils/core.py:317: FutureWarning:iteritems is deprecated and will be removed in a future version. Use .items instead.\n",
      "/Users/rithvik/dev/cs262/lux/.venv_new/lib/python3.11/site-packages/altair/utils/core.py:317: FutureWarning:iteritems is deprecated and will be removed in a future version. Use .items instead.\n",
      "/Users/rithvik/dev/cs262/lux/.venv_new/lib/python3.11/site-packages/altair/utils/core.py:317: FutureWarning:iteritems is deprecated and will be removed in a future version. Use .items instead.\n",
      "/Users/rithvik/dev/cs262/lux/.venv_new/lib/python3.11/site-packages/altair/utils/core.py:317: FutureWarning:iteritems is deprecated and will be removed in a future version. Use .items instead.\n",
      "/Users/rithvik/dev/cs262/lux/.venv_new/lib/python3.11/site-packages/altair/utils/core.py:317: FutureWarning:iteritems is deprecated and will be removed in a future version. Use .items instead.\n",
      "/Users/rithvik/dev/cs262/lux/.venv_new/lib/python3.11/site-packages/altair/utils/core.py:317: FutureWarning:iteritems is deprecated and will be removed in a future version. Use .items instead.\n",
      "/Users/rithvik/dev/cs262/lux/.venv_new/lib/python3.11/site-packages/altair/utils/core.py:317: FutureWarning:iteritems is deprecated and will be removed in a future version. Use .items instead.\n",
      "/Users/rithvik/dev/cs262/lux/.venv_new/lib/python3.11/site-packages/altair/utils/core.py:317: FutureWarning:iteritems is deprecated and will be removed in a future version. Use .items instead.\n"
     ]
    }
   ],
   "source": [
    "start_time = time.time()\n",
    "df"
   ]
  },
  {
   "cell_type": "code",
   "execution_count": null,
   "id": "af3972bb",
   "metadata": {},
   "outputs": [],
   "source": [
    "print(time.time() - start_time)\n",
    "df.expire_recs()\n",
    "df.expire_metadata()"
   ]
  },
  {
   "cell_type": "code",
   "execution_count": null,
   "id": "4ac19ced",
   "metadata": {
    "scrolled": true
   },
   "outputs": [],
   "source": [
    "start_time = time.time()\n",
    "df"
   ]
  },
  {
   "cell_type": "code",
   "execution_count": null,
   "id": "fed7f924",
   "metadata": {},
   "outputs": [],
   "source": [
    "print(time.time() - start_time)"
   ]
  },
  {
   "cell_type": "code",
   "execution_count": 10,
   "id": "ffed7c41",
   "metadata": {},
   "outputs": [
    {
     "data": {
      "text/plain": [
       "(11.86, 11.7, 12.4)"
      ]
     },
     "execution_count": 10,
     "metadata": {},
     "output_type": "execute_result"
    }
   ],
   "source": [
    "11.86, 11.7, 12.4"
   ]
  }
 ],
 "metadata": {
  "kernelspec": {
   "display_name": "Python 3 (ipykernel)",
   "language": "python",
   "name": "python3"
  },
  "language_info": {
   "codemirror_mode": {
    "name": "ipython",
    "version": 3
   },
   "file_extension": ".py",
   "mimetype": "text/x-python",
   "name": "python",
   "nbconvert_exporter": "python",
   "pygments_lexer": "ipython3",
   "version": "3.11.0"
  }
 },
 "nbformat": 4,
 "nbformat_minor": 5
}
